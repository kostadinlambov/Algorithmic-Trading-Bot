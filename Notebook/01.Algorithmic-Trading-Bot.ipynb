{
 "cells": [
  {
   "cell_type": "code",
   "execution_count": 1,
   "id": "33c35995-2071-4b4f-85e5-90eeeca26fcc",
   "metadata": {
    "editable": true,
    "slideshow": {
     "slide_type": ""
    },
    "tags": []
   },
   "outputs": [],
   "source": [
    "import numpy as np\n",
    "import pandas as pd\n",
    "import matplotlib.pyplot as plt\n",
    "import seaborn as sns\n",
    "\n",
    "import time\n",
    "\n",
    "import pickle\n",
    "import mlflow\n",
    "import optuna\n",
    "\n",
    "from statsmodels.tsa.seasonal import STL, seasonal_decompose\n",
    "from statsmodels.tsa.stattools import pacf\n",
    "from statsmodels.graphics.tsaplots import plot_acf, plot_pacf\n",
    "\n",
    "from scipy.signal import periodogram\n",
    "\n",
    "from sklearn.model_selection import train_test_split, TimeSeriesSplit, GridSearchCV\n",
    "from sklearn.inspection import permutation_importance\n",
    "\n",
    "# Scalers\n",
    "from sklearn.preprocessing import StandardScaler, MinMaxScaler, label_binarize\n",
    "\n",
    "# Pipelines\n",
    "from sklearn.pipeline import Pipeline\n",
    "# from sklearn.compose import ColumnTransformer\n",
    "\n",
    "from imblearn.over_sampling import SMOTE\n",
    "\n",
    "# Metrics\n",
    "from sklearn.metrics import classification_report, roc_auc_score, roc_curve, auc, precision_score, accuracy_score, recall_score, f1_score, precision_recall_curve\n",
    "\n",
    "from sklearn.linear_model import LogisticRegression, SGDClassifier\n",
    "from sklearn.ensemble import RandomForestClassifier\n",
    "\n",
    "from xgboost import XGBClassifier"
   ]
  },
  {
   "cell_type": "markdown",
   "id": "8b9f4ecc-d30c-4388-935b-1552bb9c7465",
   "metadata": {},
   "source": [
    "# Algorithmic Trading Bot"
   ]
  },
  {
   "cell_type": "markdown",
   "id": "24a1d1df-dd75-4e7f-8db8-89c486bf0d94",
   "metadata": {},
   "source": [
    "## 1. Introduction"
   ]
  },
  {
   "cell_type": "markdown",
   "id": "cd3ce0fe-f66e-4639-aa7f-4e7b860403cc",
   "metadata": {},
   "source": [
    "Algorithmic trading employs automated strategies that execute trades based on predefined mathematical rules and models. These computer-driven approaches enable transactions at unprecedented speed and frequency, surpassing human capabilities. By systematically following precise guidelines around timing, price, and volume, algo-trading not only creates potential profit opportunities but also enhances market liquidity and reduces emotional decision-making in trading."
   ]
  },
  {
   "cell_type": "markdown",
   "id": "fed0bbcd-283f-4042-80be-c8c41286fdb0",
   "metadata": {},
   "source": [
    "## 2. Methodology and Research Design"
   ]
  },
  {
   "cell_type": "markdown",
   "id": "ea2d5221-0185-4bf4-99fd-be9c32c35f5d",
   "metadata": {},
   "source": [
    "The project aims to evaluate the predictive performance of different machine learning (ML) algorithms for Bitcoin trading..\n",
    "\n",
    "The proposed trading strategy integrates key technical indicators, including the **Relative Strength Index (RSI)**, **Simple and Exponential Moving Averages**, and the **Moving Average Convergence Divergence (MACD)**. \n",
    "\n",
    "Additionally, the analysis will account for market **seasonality** and underlying **trend patterns**.\n",
    "\n",
    "We will train **XGBoost**, **Random Forest**, and **LightGBM** models using historical Bitcoin price data, and then conduct a thorough evaluation of their predictive performance."
   ]
  },
  {
   "cell_type": "markdown",
   "id": "79176091-9602-4963-9564-c8269a7b3394",
   "metadata": {},
   "source": [
    "## 3. Data Acquisition"
   ]
  },
  {
   "cell_type": "markdown",
   "id": "720ea34c-6d7b-4e39-983c-bb7530395b6e",
   "metadata": {},
   "source": [
    "The historical Bitcoin price data were collected from the **Coinbase API** (**[bitcoin data download](03.Download-Bitcoin-Data.ipynb)**). \n",
    "\n",
    "The data contains the **hourly** values for the **opening**, **closing**, **high**, **low** price of Bitcoin as well as the **traiding volume**.\n",
    "\n",
    "The data period spans **1 year**, from **November 2023** to **October 2024**."
   ]
  },
  {
   "cell_type": "markdown",
   "id": "7c26fd16-4354-43af-9713-520a5c3ca6c9",
   "metadata": {},
   "source": [
    "## 4. Data Processing"
   ]
  },
  {
   "cell_type": "markdown",
   "id": "e32c21b3-92ae-47d5-9873-0c93986a73c5",
   "metadata": {},
   "source": [
    "### 4.1. Load historical Bitcoin price data"
   ]
  },
  {
   "cell_type": "markdown",
   "id": "c8be767d-9fb9-4947-a742-57a8a0f814b3",
   "metadata": {},
   "source": [
    "The historical Bitcoin price data were downloaded from the **Coinbase API**. The dataset contains the price data for **1 year**, from **November 2023** to **October 2024**."
   ]
  },
  {
   "cell_type": "code",
   "execution_count": 2,
   "id": "e51556e7-5ae4-4bd1-9f7e-8865cc91f828",
   "metadata": {},
   "outputs": [
    {
     "data": {
      "text/html": [
       "<div>\n",
       "<style scoped>\n",
       "    .dataframe tbody tr th:only-of-type {\n",
       "        vertical-align: middle;\n",
       "    }\n",
       "\n",
       "    .dataframe tbody tr th {\n",
       "        vertical-align: top;\n",
       "    }\n",
       "\n",
       "    .dataframe thead th {\n",
       "        text-align: right;\n",
       "    }\n",
       "</style>\n",
       "<table border=\"1\" class=\"dataframe\">\n",
       "  <thead>\n",
       "    <tr style=\"text-align: right;\">\n",
       "      <th></th>\n",
       "      <th>timestamp</th>\n",
       "      <th>open</th>\n",
       "      <th>high</th>\n",
       "      <th>low</th>\n",
       "      <th>close</th>\n",
       "      <th>volume</th>\n",
       "      <th>date</th>\n",
       "      <th>time</th>\n",
       "    </tr>\n",
       "  </thead>\n",
       "  <tbody>\n",
       "    <tr>\n",
       "      <th>0</th>\n",
       "      <td>2023-11-01 00:00:00</td>\n",
       "      <td>34618.86</td>\n",
       "      <td>34676.51</td>\n",
       "      <td>34656.38</td>\n",
       "      <td>34667.88</td>\n",
       "      <td>48.953000</td>\n",
       "      <td>2023-11-01</td>\n",
       "      <td>00:00:00</td>\n",
       "    </tr>\n",
       "    <tr>\n",
       "      <th>1</th>\n",
       "      <td>2023-11-01 00:01:00</td>\n",
       "      <td>34642.54</td>\n",
       "      <td>34687.53</td>\n",
       "      <td>34673.30</td>\n",
       "      <td>34642.82</td>\n",
       "      <td>16.178075</td>\n",
       "      <td>2023-11-01</td>\n",
       "      <td>00:01:00</td>\n",
       "    </tr>\n",
       "    <tr>\n",
       "      <th>2</th>\n",
       "      <td>2023-11-01 00:02:00</td>\n",
       "      <td>34637.97</td>\n",
       "      <td>34656.82</td>\n",
       "      <td>34642.53</td>\n",
       "      <td>34656.56</td>\n",
       "      <td>8.753120</td>\n",
       "      <td>2023-11-01</td>\n",
       "      <td>00:02:00</td>\n",
       "    </tr>\n",
       "    <tr>\n",
       "      <th>3</th>\n",
       "      <td>2023-11-01 00:03:00</td>\n",
       "      <td>34617.22</td>\n",
       "      <td>34656.56</td>\n",
       "      <td>34656.56</td>\n",
       "      <td>34629.34</td>\n",
       "      <td>11.308610</td>\n",
       "      <td>2023-11-01</td>\n",
       "      <td>00:03:00</td>\n",
       "    </tr>\n",
       "    <tr>\n",
       "      <th>4</th>\n",
       "      <td>2023-11-01 00:04:00</td>\n",
       "      <td>34597.99</td>\n",
       "      <td>34630.42</td>\n",
       "      <td>34629.41</td>\n",
       "      <td>34622.27</td>\n",
       "      <td>8.583808</td>\n",
       "      <td>2023-11-01</td>\n",
       "      <td>00:04:00</td>\n",
       "    </tr>\n",
       "    <tr>\n",
       "      <th>...</th>\n",
       "      <td>...</td>\n",
       "      <td>...</td>\n",
       "      <td>...</td>\n",
       "      <td>...</td>\n",
       "      <td>...</td>\n",
       "      <td>...</td>\n",
       "      <td>...</td>\n",
       "      <td>...</td>\n",
       "    </tr>\n",
       "    <tr>\n",
       "      <th>528627</th>\n",
       "      <td>2024-10-31 23:56:00</td>\n",
       "      <td>70238.76</td>\n",
       "      <td>70248.97</td>\n",
       "      <td>70248.97</td>\n",
       "      <td>70238.76</td>\n",
       "      <td>1.189134</td>\n",
       "      <td>2024-10-31</td>\n",
       "      <td>23:56:00</td>\n",
       "    </tr>\n",
       "    <tr>\n",
       "      <th>528628</th>\n",
       "      <td>2024-10-31 23:57:00</td>\n",
       "      <td>70218.00</td>\n",
       "      <td>70250.00</td>\n",
       "      <td>70238.77</td>\n",
       "      <td>70233.24</td>\n",
       "      <td>4.767082</td>\n",
       "      <td>2024-10-31</td>\n",
       "      <td>23:57:00</td>\n",
       "    </tr>\n",
       "    <tr>\n",
       "      <th>528629</th>\n",
       "      <td>2024-10-31 23:58:00</td>\n",
       "      <td>70193.97</td>\n",
       "      <td>70242.25</td>\n",
       "      <td>70232.55</td>\n",
       "      <td>70207.78</td>\n",
       "      <td>9.589688</td>\n",
       "      <td>2024-10-31</td>\n",
       "      <td>23:58:00</td>\n",
       "    </tr>\n",
       "    <tr>\n",
       "      <th>528630</th>\n",
       "      <td>2024-10-31 23:59:00</td>\n",
       "      <td>70175.16</td>\n",
       "      <td>70207.79</td>\n",
       "      <td>70207.79</td>\n",
       "      <td>70197.83</td>\n",
       "      <td>7.112237</td>\n",
       "      <td>2024-10-31</td>\n",
       "      <td>23:59:00</td>\n",
       "    </tr>\n",
       "    <tr>\n",
       "      <th>528631</th>\n",
       "      <td>2024-11-01 00:00:00</td>\n",
       "      <td>70162.00</td>\n",
       "      <td>70220.23</td>\n",
       "      <td>70198.02</td>\n",
       "      <td>70209.92</td>\n",
       "      <td>6.068436</td>\n",
       "      <td>2024-11-01</td>\n",
       "      <td>00:00:00</td>\n",
       "    </tr>\n",
       "  </tbody>\n",
       "</table>\n",
       "<p>528632 rows × 8 columns</p>\n",
       "</div>"
      ],
      "text/plain": [
       "                  timestamp      open      high       low     close  \\\n",
       "0       2023-11-01 00:00:00  34618.86  34676.51  34656.38  34667.88   \n",
       "1       2023-11-01 00:01:00  34642.54  34687.53  34673.30  34642.82   \n",
       "2       2023-11-01 00:02:00  34637.97  34656.82  34642.53  34656.56   \n",
       "3       2023-11-01 00:03:00  34617.22  34656.56  34656.56  34629.34   \n",
       "4       2023-11-01 00:04:00  34597.99  34630.42  34629.41  34622.27   \n",
       "...                     ...       ...       ...       ...       ...   \n",
       "528627  2024-10-31 23:56:00  70238.76  70248.97  70248.97  70238.76   \n",
       "528628  2024-10-31 23:57:00  70218.00  70250.00  70238.77  70233.24   \n",
       "528629  2024-10-31 23:58:00  70193.97  70242.25  70232.55  70207.78   \n",
       "528630  2024-10-31 23:59:00  70175.16  70207.79  70207.79  70197.83   \n",
       "528631  2024-11-01 00:00:00  70162.00  70220.23  70198.02  70209.92   \n",
       "\n",
       "           volume        date      time  \n",
       "0       48.953000  2023-11-01  00:00:00  \n",
       "1       16.178075  2023-11-01  00:01:00  \n",
       "2        8.753120  2023-11-01  00:02:00  \n",
       "3       11.308610  2023-11-01  00:03:00  \n",
       "4        8.583808  2023-11-01  00:04:00  \n",
       "...           ...         ...       ...  \n",
       "528627   1.189134  2024-10-31  23:56:00  \n",
       "528628   4.767082  2024-10-31  23:57:00  \n",
       "528629   9.589688  2024-10-31  23:58:00  \n",
       "528630   7.112237  2024-10-31  23:59:00  \n",
       "528631   6.068436  2024-11-01  00:00:00  \n",
       "\n",
       "[528632 rows x 8 columns]"
      ]
     },
     "execution_count": 2,
     "metadata": {},
     "output_type": "execute_result"
    }
   ],
   "source": [
    "btc_price_data_1_year = pd.read_csv(\"data/bitcoin_historical_data_1_year.csv\")\n",
    "btc_price_data_1_year"
   ]
  },
  {
   "cell_type": "code",
   "execution_count": 3,
   "id": "c2f16c28-8aea-4edd-a1a7-cf091fdc827f",
   "metadata": {},
   "outputs": [
    {
     "data": {
      "text/html": [
       "<div>\n",
       "<style scoped>\n",
       "    .dataframe tbody tr th:only-of-type {\n",
       "        vertical-align: middle;\n",
       "    }\n",
       "\n",
       "    .dataframe tbody tr th {\n",
       "        vertical-align: top;\n",
       "    }\n",
       "\n",
       "    .dataframe thead th {\n",
       "        text-align: right;\n",
       "    }\n",
       "</style>\n",
       "<table border=\"1\" class=\"dataframe\">\n",
       "  <thead>\n",
       "    <tr style=\"text-align: right;\">\n",
       "      <th></th>\n",
       "      <th>count</th>\n",
       "      <th>mean</th>\n",
       "      <th>std</th>\n",
       "      <th>min</th>\n",
       "      <th>25%</th>\n",
       "      <th>50%</th>\n",
       "      <th>75%</th>\n",
       "      <th>max</th>\n",
       "    </tr>\n",
       "  </thead>\n",
       "  <tbody>\n",
       "    <tr>\n",
       "      <th>open</th>\n",
       "      <td>528632.0</td>\n",
       "      <td>57052.764723</td>\n",
       "      <td>11061.821828</td>\n",
       "      <td>34079.460000</td>\n",
       "      <td>44083.780000</td>\n",
       "      <td>61015.800000</td>\n",
       "      <td>66127.655000</td>\n",
       "      <td>73718.320000</td>\n",
       "    </tr>\n",
       "    <tr>\n",
       "      <th>high</th>\n",
       "      <td>528632.0</td>\n",
       "      <td>57100.379874</td>\n",
       "      <td>11072.504219</td>\n",
       "      <td>34133.680000</td>\n",
       "      <td>44119.545000</td>\n",
       "      <td>61066.475000</td>\n",
       "      <td>66178.047500</td>\n",
       "      <td>73835.570000</td>\n",
       "    </tr>\n",
       "    <tr>\n",
       "      <th>low</th>\n",
       "      <td>528632.0</td>\n",
       "      <td>57076.624894</td>\n",
       "      <td>11067.091134</td>\n",
       "      <td>34113.930000</td>\n",
       "      <td>44103.265000</td>\n",
       "      <td>61041.025000</td>\n",
       "      <td>66153.502500</td>\n",
       "      <td>73815.030000</td>\n",
       "    </tr>\n",
       "    <tr>\n",
       "      <th>close</th>\n",
       "      <td>528632.0</td>\n",
       "      <td>57076.858348</td>\n",
       "      <td>11067.114019</td>\n",
       "      <td>34114.860000</td>\n",
       "      <td>44103.380000</td>\n",
       "      <td>61041.340000</td>\n",
       "      <td>66154.337500</td>\n",
       "      <td>73815.430000</td>\n",
       "    </tr>\n",
       "    <tr>\n",
       "      <th>volume</th>\n",
       "      <td>528632.0</td>\n",
       "      <td>8.915933</td>\n",
       "      <td>17.137792</td>\n",
       "      <td>0.001083</td>\n",
       "      <td>1.730652</td>\n",
       "      <td>4.020989</td>\n",
       "      <td>9.541108</td>\n",
       "      <td>1163.832604</td>\n",
       "    </tr>\n",
       "  </tbody>\n",
       "</table>\n",
       "</div>"
      ],
      "text/plain": [
       "           count          mean           std           min           25%  \\\n",
       "open    528632.0  57052.764723  11061.821828  34079.460000  44083.780000   \n",
       "high    528632.0  57100.379874  11072.504219  34133.680000  44119.545000   \n",
       "low     528632.0  57076.624894  11067.091134  34113.930000  44103.265000   \n",
       "close   528632.0  57076.858348  11067.114019  34114.860000  44103.380000   \n",
       "volume  528632.0      8.915933     17.137792      0.001083      1.730652   \n",
       "\n",
       "                 50%           75%           max  \n",
       "open    61015.800000  66127.655000  73718.320000  \n",
       "high    61066.475000  66178.047500  73835.570000  \n",
       "low     61041.025000  66153.502500  73815.030000  \n",
       "close   61041.340000  66154.337500  73815.430000  \n",
       "volume      4.020989      9.541108   1163.832604  "
      ]
     },
     "execution_count": 3,
     "metadata": {},
     "output_type": "execute_result"
    }
   ],
   "source": [
    "btc_price_data_1_year.describe().T"
   ]
  },
  {
   "cell_type": "code",
   "execution_count": 4,
   "id": "b87a2f88-a79a-4354-b5ca-75db5e58142b",
   "metadata": {},
   "outputs": [
    {
     "data": {
      "text/plain": [
       "timestamp     object\n",
       "open         float64\n",
       "high         float64\n",
       "low          float64\n",
       "close        float64\n",
       "volume       float64\n",
       "date          object\n",
       "time          object\n",
       "dtype: object"
      ]
     },
     "execution_count": 4,
     "metadata": {},
     "output_type": "execute_result"
    }
   ],
   "source": [
    "btc_price_data_1_year.dtypes"
   ]
  },
  {
   "cell_type": "code",
   "execution_count": 5,
   "id": "554c97e1-de11-4c6a-8381-0f1a18448cd7",
   "metadata": {},
   "outputs": [
    {
     "data": {
      "text/plain": [
       "timestamp    0\n",
       "open         0\n",
       "high         0\n",
       "low          0\n",
       "close        0\n",
       "volume       0\n",
       "date         0\n",
       "time         0\n",
       "dtype: int64"
      ]
     },
     "execution_count": 5,
     "metadata": {},
     "output_type": "execute_result"
    }
   ],
   "source": [
    "btc_price_data_1_year.isnull().sum()"
   ]
  },
  {
   "cell_type": "markdown",
   "id": "1501499f-aed6-4e67-83de-b538b3e3538b",
   "metadata": {},
   "source": [
    "### 4.2. Data Tidying and Cleaning"
   ]
  },
  {
   "cell_type": "markdown",
   "id": "cb5d74ab-1a94-4ba4-9dff-b0a846748d53",
   "metadata": {},
   "source": [
    "Convert the `timestamp` column from *object* type to *datetime64* type."
   ]
  },
  {
   "cell_type": "code",
   "execution_count": 6,
   "id": "6b9ce6e6-7674-4cdd-a92c-924d99b1a160",
   "metadata": {},
   "outputs": [],
   "source": [
    "btc_price_data_1_year.timestamp = pd.to_datetime(btc_price_data_1_year.timestamp)"
   ]
  },
  {
   "cell_type": "markdown",
   "id": "d54a7492-c926-4267-ab6b-ead64ab3fb7c",
   "metadata": {},
   "source": [
    "`date` and `time` columns are not needed. We will drop them."
   ]
  },
  {
   "cell_type": "code",
   "execution_count": 7,
   "id": "ae01d52c-08fa-43f8-8129-3d238c8da916",
   "metadata": {},
   "outputs": [],
   "source": [
    "btc_price_data_1_year = btc_price_data_1_year.drop(columns = [\"date\", \"time\"])"
   ]
  },
  {
   "cell_type": "code",
   "execution_count": 8,
   "id": "932ef77c-51cc-4cab-b56f-2d35ad083386",
   "metadata": {},
   "outputs": [
    {
     "data": {
      "text/plain": [
       "timestamp    datetime64[ns]\n",
       "open                float64\n",
       "high                float64\n",
       "low                 float64\n",
       "close               float64\n",
       "volume              float64\n",
       "dtype: object"
      ]
     },
     "execution_count": 8,
     "metadata": {},
     "output_type": "execute_result"
    }
   ],
   "source": [
    "btc_price_data_1_year.dtypes"
   ]
  },
  {
   "cell_type": "markdown",
   "id": "605bd060-484d-4847-aea1-6bb350acfd7c",
   "metadata": {},
   "source": [
    "Set `timestamp` as index."
   ]
  },
  {
   "cell_type": "code",
   "execution_count": 9,
   "id": "45f24cca-7c4f-45da-93d4-2faf28bf7bcd",
   "metadata": {},
   "outputs": [],
   "source": [
    "btc_price_data_1_year.set_index('timestamp', inplace=True, drop = True)"
   ]
  },
  {
   "cell_type": "code",
   "execution_count": 10,
   "id": "0430b508-6b97-4009-a0cf-d87a68467299",
   "metadata": {},
   "outputs": [],
   "source": [
    "# Ensure the data is sorted by time\n",
    "btc_price_data_1_year = btc_price_data_1_year.sort_index()"
   ]
  },
  {
   "cell_type": "markdown",
   "id": "4f1ec2dc-8e14-48a2-88b8-f07681e2cf2a",
   "metadata": {},
   "source": [
    "### 4.3. Plot Bitcoin Price"
   ]
  },
  {
   "cell_type": "code",
   "execution_count": 11,
   "id": "ec32cefc-051d-47a3-9f88-6bf46626b60b",
   "metadata": {},
   "outputs": [],
   "source": [
    "def plot_market_data(dates, prices, labels, title):\n",
    "    plt.figure(figsize=(14, 7))\n",
    "    \n",
    "    ax = plt.gca()\n",
    "    ax.set_facecolor('gainsboro')\n",
    "    ax.xaxis.grid(True, color='white')\n",
    "    ax.yaxis.grid(True, color='white')\n",
    "\n",
    "    x_lim_start = dates[0]\n",
    "    x_lim_end = dates[len(dates) - 1]\n",
    "    # plt.xlim(x_lim_start, x_lim_end)\n",
    "    ax.set_xlim(xmin=x_lim_start,xmax=x_lim_end)\n",
    "    \n",
    "    plt.plot(dates, prices)\n",
    "    \n",
    "    plt.xlabel(labels[0])\n",
    "    plt.ylabel(labels[1])\n",
    "\n",
    "    plt.title(title)\n",
    "    plt.show()"
   ]
  },
  {
   "cell_type": "code",
   "execution_count": 12,
   "id": "01ff75ff-ab7c-43cb-8137-201f1a470ef7",
   "metadata": {},
   "outputs": [
    {
     "data": {
      "image/png": "[encoded data removed]",
      "text/plain": [
       "<Figure size 1400x700 with 1 Axes>"
      ]
     },
     "metadata": {},
     "output_type": "display_data"
    }
   ],
   "source": [
    "dates = btc_price_data_1_year.index\n",
    "prices_close_btc = btc_price_data_1_year.close\n",
    "title_btc = 'Bitcoin Price (Nov 2023 - Nov 2024)'\n",
    "\n",
    "labels = ['Date', 'Price [USD]']\n",
    "\n",
    "plot_market_data(dates, prices_close_btc, labels, title_btc)"
   ]
  },
  {
   "cell_type": "markdown",
   "id": "2e1bdee6-4bc8-47ea-b462-b3a9f5827793",
   "metadata": {},
   "source": [
    "## 5. Feature Engineering"
   ]
  },
  {
   "cell_type": "markdown",
   "id": "bc087f71-4ea8-410c-a67a-3ab53bbf65d8",
   "metadata": {},
   "source": [
    "### 5.1. Seasonality and Trends"
   ]
  },
  {
   "cell_type": "markdown",
   "id": "272f0117-22c9-4f99-a1b2-18a545dc79f0",
   "metadata": {},
   "source": [
    "#### 5.1.1. Extract the components of the datetime"
   ]
  },
  {
   "cell_type": "markdown",
   "id": "2c40462e-ab7a-445c-813f-8d25bc04bdf9",
   "metadata": {},
   "source": [
    "We extract various components of the datetime, such as the **month**, **day**, **hour**, and **day of the week**. This can help the model capture seasonality and trends."
   ]
  },
  {
   "cell_type": "code",
   "execution_count": 13,
   "id": "b3bfafa5-3ded-4862-a579-3b4ee7ea5fc3",
   "metadata": {},
   "outputs": [],
   "source": [
    "btc_price_data_1_year['month'] = btc_price_data_1_year.index.month\n",
    "btc_price_data_1_year['day'] = btc_price_data_1_year.index.day\n",
    "btc_price_data_1_year['weekday'] = btc_price_data_1_year.index.weekday  # Monday=0, Sunday=6\n",
    "btc_price_data_1_year['hour'] = btc_price_data_1_year.index.hour"
   ]
  },
  {
   "cell_type": "markdown",
   "id": "54748057-6570-406e-bba4-6826f0ceeb51",
   "metadata": {},
   "source": [
    "For time-based features like **hour of day** and **day of the week**, we can use **cyclical encoding**. This ensures that values like 23:00 and 00:00 are considered \"close\" to each other, rather than being far apart numerically."
   ]
  },
  {
   "cell_type": "code",
   "execution_count": 14,
   "id": "6001c1ed-f917-4d23-8dff-6438dd23d3b9",
   "metadata": {},
   "outputs": [],
   "source": [
    "# Extract hour and weekday\n",
    "btc_price_data_1_year['hour_sin'] = np.sin(2 * np.pi * btc_price_data_1_year.index.hour / 24)  # Hour sin encoding\n",
    "btc_price_data_1_year['hour_cos'] = np.cos(2 * np.pi * btc_price_data_1_year.index.hour / 24)  # Hour cos encoding\n",
    "btc_price_data_1_year['weekday_sin'] = np.sin(2 * np.pi * btc_price_data_1_year.index.weekday / 7)  # Weekday sin encoding\n",
    "btc_price_data_1_year['weekday_cos'] = np.cos(2 * np.pi * btc_price_data_1_year.index.weekday / 7)  # Weekday cos encoding"
   ]
  },
  {
   "cell_type": "markdown",
   "id": "f7cc91d2-7d08-4d9d-a7a1-0ef2f26afccc",
   "metadata": {},
   "source": [
    "#### 5.1.2. STL (Seasonal-Trend decomposition using LOESS)"
   ]
  },
  {
   "cell_type": "markdown",
   "id": "cb883799-8419-40e2-b0b5-b1aeeb5a2346",
   "metadata": {},
   "source": [
    "**STL** stands for **Seasonal-Trend decomposition using LOESS**. It's a robust statistical method used to decompose a time series into three components:\n",
    "\n",
    "1. **Seasonal Component**: Represents the repeating pattern in the data over a fixed period (e.g., daily, weekly, monthly).\n",
    "2. **Trend Component**: Captures the long-term progression in the data, showing an overall increase, decrease, or stability over time.\n",
    "3. **Remainder/Residual Component**: Represents the part of the data that cannot be attributed to either seasonality or trend, often considered as noise.\n",
    "\n",
    "**Key Features of STL**\n",
    "- **Flexible**: Allows decomposition of time series with any type of seasonal pattern, not limited to a fixed frequency.\n",
    "- **Robust**: Resistant to outliers in the data.\n",
    "- **Local Regression (LOESS)**: Uses locally weighted regression to smooth the data during decomposition.\n",
    "\n",
    "**Applications**\n",
    "- **Forecasting**: By isolating the trend and seasonal components, forecasting models can be more accurate.\n",
    "- **Anomaly Detection**: The remainder component helps identify unusual spikes or dips.\n",
    "- **Visualization**: Simplifies understanding of the data by breaking it into interpretable parts."
   ]
  },
  {
   "cell_type": "code",
   "execution_count": 15,
   "id": "3231d999-9296-4037-8079-e3c798d6e4da",
   "metadata": {},
   "outputs": [],
   "source": [
    "# Apply STL decomposition\n",
    "stl = STL(btc_price_data_1_year['close'], robust=True, period = 24)  # period=24 for daily seasonality in hourly data\n",
    "result = stl.fit()"
   ]
  },
  {
   "cell_type": "code",
   "execution_count": 16,
   "id": "81eb9e51-dd3b-44c4-9d8c-40027368c35b",
   "metadata": {},
   "outputs": [
    {
     "data": {
      "image/png": "[encoded data removed]",
      "text/plain": [
       "<Figure size 640x480 with 4 Axes>"
      ]
     },
     "metadata": {},
     "output_type": "display_data"
    }
   ],
   "source": [
    "# Extract components\n",
    "btc_price_data_1_year['trend'] = result.trend\n",
    "btc_price_data_1_year['seasonal'] = result.seasonal\n",
    "btc_price_data_1_year['residual'] = result.resid\n",
    "\n",
    "# Plot the decomposition\n",
    "result.plot()\n",
    "plt.show()"
   ]
  },
  {
   "cell_type": "code",
   "execution_count": 17,
   "id": "220c64c5-9e0e-4038-a347-9d1ae0e17e67",
   "metadata": {},
   "outputs": [],
   "source": [
    "# 1.Lagged Features - Lagged values of the trend, seasonal, and residual\n",
    "for lag in range(1, 4):  # Use 1, 2, 3 hours as lags\n",
    "    btc_price_data_1_year[f'trend_lag_{lag}'] = btc_price_data_1_year['trend'].shift(lag)\n",
    "    btc_price_data_1_year[f'seasonal_lag_{lag}'] = btc_price_data_1_year['seasonal'].shift(lag)\n",
    "    btc_price_data_1_year[f'residual_lag_{lag}'] = btc_price_data_1_year['residual'].shift(lag)\n",
    "\n",
    "# 2.Rolling Statistics - Rolling mean and standard deviation of each component.\n",
    "btc_price_data_1_year['trend_rolling_mean'] = btc_price_data_1_year['trend'].rolling(window=24).mean()\n",
    "btc_price_data_1_year['residual_rolling_std'] = btc_price_data_1_year['residual'].rolling(window=24).std()\n",
    "\n",
    "# 3.Differences - Calculate the difference between close price and its trend or seasonality\n",
    "btc_price_data_1_year['close_trend_diff'] = btc_price_data_1_year['close'] - btc_price_data_1_year['trend']\n",
    "btc_price_data_1_year['close_seasonal_diff'] = btc_price_data_1_year['close'] - btc_price_data_1_year['seasonal']"
   ]
  },
  {
   "cell_type": "markdown",
   "id": "6cd0559f-4769-4fc6-b312-81a00307cd8f",
   "metadata": {},
   "source": [
    "### 5.2. Autocorrelation"
   ]
  },
  {
   "cell_type": "markdown",
   "id": "365cfa9f-73a4-4e3a-b9d8-fa5a4eceede0",
   "metadata": {},
   "source": [
    "Autocorrelation in time series refers to the correlation of a time series with a lagged version of itself. It measures how past values of the series influence current values. Understanding autocorrelation can help identify patterns, trends, and periodicity in time-series data.\n",
    "\n",
    "##### Why Autocorrelation Matters\n",
    "- **Pattern Detection**: Helps identify repeating patterns or seasonality.\n",
    "- **Modeling Assumptions**: Many models (like ARIMA) assume specific autocorrelation structures.\n",
    "- **Feature Engineering**: Insights from autocorrelation can guide the creation of lag-based features for machine learning models.\n",
    "\n",
    "##### Types of Autocorrelation\n",
    "1. **Positive Autocorrelation**: High values follow high values, and low values follow low values.\n",
    "2. **Negative Autocorrelation**: High values follow low values, and vice versa.\n",
    "3. **No Autocorrelation**: Values are independent of each other.\n",
    "\n",
    "##### How to Measure Autocorrelation\n",
    "The **autocorrelation function (ACF)** and the **partial autocorrelation function (PACF)** are two common tools:\n",
    "\n",
    "###### 1. **Autocorrelation Function (ACF)**\n",
    "- Measures the correlation between the time series and its lagged values.\n",
    "- Useful for identifying the overall pattern of dependence at different lags.\n",
    "\n",
    "###### 2. **Partial Autocorrelation Function (PACF)**\n",
    "- Measures the correlation between the time series and its lagged values after removing the influence of shorter lags.\n",
    "- Useful for determining the direct relationship between a value and a specific lag.\n"
   ]
  },
  {
   "cell_type": "markdown",
   "id": "cb0ced66-b7a5-41bd-8f8e-8dc3fc96c773",
   "metadata": {},
   "source": [
    "Set the count of the **lags** that will be considered during the Autocorrelation anylysis:"
   ]
  },
  {
   "cell_type": "code",
   "execution_count": 18,
   "id": "d8ef58af-cfed-47ca-9359-b4947e1dd7ff",
   "metadata": {},
   "outputs": [],
   "source": [
    "# We use the last 3 days (3 * 24 hours) for the autocorrelation analysis\n",
    "lags = 72"
   ]
  },
  {
   "cell_type": "markdown",
   "id": "f99251f8-00e7-4363-a1d0-560435e37de9",
   "metadata": {},
   "source": [
    "#### 5.2.1. Autocorrelation Function (ACF)"
   ]
  },
  {
   "cell_type": "code",
   "execution_count": 19,
   "id": "ebecffc3-f3df-46c1-8a6a-3fba4b316fd2",
   "metadata": {},
   "outputs": [
    {
     "data": {
      "image/png": "[encoded data removed]",
      "text/plain": [
       "<Figure size 640x480 with 1 Axes>"
      ]
     },
     "metadata": {},
     "output_type": "display_data"
    }
   ],
   "source": [
    "plot_acf(btc_price_data_1_year.close, lags = lags)\n",
    "plt.ylim(-1.2, 1.2)\n",
    "\n",
    "plt.xlabel('Lag')\n",
    "plt.ylabel('Autocorrelation')\n",
    "plt.title('ACF for \\'close\\' price')\n",
    "plt.show()"
   ]
  },
  {
   "cell_type": "code",
   "execution_count": 20,
   "id": "06ac3fff-9327-47aa-8a06-79d00ddc21b0",
   "metadata": {},
   "outputs": [
    {
     "data": {
      "image/png": "[encoded data removed]",
      "text/plain": [
       "<Figure size 640x480 with 2 Axes>"
      ]
     },
     "metadata": {},
     "output_type": "display_data"
    }
   ],
   "source": [
    "autocorr = [btc_price_data_1_year['close'].autocorr(lag) for lag in range(1, lags+1)]\n",
    "sns.heatmap(pd.DataFrame(autocorr, columns=[\"Autocorrelation\"]).T, annot=False, cmap=\"coolwarm\")\n",
    "plt.xlabel('Lag')\n",
    "plt.title('Heatmap of Autocorrelation for \\'close\\' price')\n",
    "plt.show()"
   ]
  },
  {
   "cell_type": "markdown",
   "id": "a4ebf571-a636-48a0-9e31-de8aa445be3d",
   "metadata": {},
   "source": [
    "Because the **autocorrelation** is very large we use **partial autocorrelation**."
   ]
  },
  {
   "cell_type": "markdown",
   "id": "d27d6d76-b75f-4295-932d-1eba10287556",
   "metadata": {},
   "source": [
    "#### 5.2.2. Partial Autocorrelation Function (PACF)"
   ]
  },
  {
   "cell_type": "markdown",
   "id": "13da0274-c2de-45aa-8ecd-e83386fc548a",
   "metadata": {},
   "source": [
    "The **Partial Autocorrelation Function (PACF)** measures the partial correlation of a stationary time series with its own lagged values, accounting for the influence of intermediate lags. Unlike the **Autocorrelation Function (ACF)**, which considers all previous lags, the PACF isolates the direct relationship between a variable and its lags."
   ]
  },
  {
   "cell_type": "code",
   "execution_count": 21,
   "id": "f68ea959-ca8f-403c-af69-3680e1159aa6",
   "metadata": {},
   "outputs": [
    {
     "data": {
      "image/png": "[encoded data removed]",
      "text/plain": [
       "<Figure size 640x480 with 1 Axes>"
      ]
     },
     "metadata": {},
     "output_type": "display_data"
    },
    {
     "name": "stdout",
     "output_type": "stream",
     "text": [
      "Significant Lags: [ 0  1  2  6  8  9 10 16 18 30 32 39 43 46 47 56]\n"
     ]
    }
   ],
   "source": [
    "# Calculate PACF\n",
    "pacf_values = pacf(btc_price_data_1_year['close'], nlags=lags)\n",
    "\n",
    "# Calculate the confidence interval\n",
    "conf_int = 1.96 / np.sqrt(len(btc_price_data_1_year['close']))  # The 95% confidence interval\n",
    "\n",
    "# Get significant lags (values outside the confidence interval)\n",
    "significant_lags = np.where(np.abs(pacf_values) > conf_int)[0]\n",
    "\n",
    "# Plot PACF with significant lags marked\n",
    "plt.stem(pacf_values)\n",
    "\n",
    "plt.axhline(y=conf_int, color='r', linestyle='--')\n",
    "plt.axhline(y=-conf_int, color='r', linestyle='--')\n",
    "plt.ylim(-0.010, 0.010)\n",
    "\n",
    "plt.grid()\n",
    "\n",
    "plt.xlabel('Lag')\n",
    "plt.ylabel('Partial autocorrelation coefficient(PACF)')\n",
    "plt.title(\"PACF with Significant Lags for \\'close\\' Price'\")\n",
    "plt.show()\n",
    "\n",
    "# Print the significant lags\n",
    "print(\"Significant Lags:\", significant_lags)"
   ]
  },
  {
   "cell_type": "markdown",
   "id": "b832d1d8-0f5c-4586-b767-23368e1c20c5",
   "metadata": {},
   "source": [
    "**Significant lags**: Spikes that are outside the area between the two red lines are **statistically significant** at the 95% confidence level.\n",
    "\n",
    "Correlation coefficients that are between the two red lines are **insignificant** for the model. In this area the **p-value** is too small. Correlations in this area may well be random."
   ]
  },
  {
   "cell_type": "code",
   "execution_count": 22,
   "id": "c3d9e0ac-e3aa-4699-8e8d-be31fe4790ca",
   "metadata": {},
   "outputs": [
    {
     "name": "stdout",
     "output_type": "stream",
     "text": [
      "Significant Lags: [ 1  2  6  8  9 10 16 18 30 32 39 43 46 47 56]\n"
     ]
    }
   ],
   "source": [
    "# Remove the autocorrelation with itself (the '0'-th lag)\n",
    "significant_lags = significant_lags[1:] if significant_lags[0] == 0 else significant_lags\n",
    "print(\"Significant Lags:\", significant_lags)"
   ]
  },
  {
   "cell_type": "code",
   "execution_count": 23,
   "id": "742c071d-ac05-45af-a2eb-51905c557050",
   "metadata": {},
   "outputs": [],
   "source": [
    "# Create lag features (past values as features)\n",
    "def create_lag_features(df, lags = []):\n",
    "    \"\"\"\n",
    "    Create lag features (past values as features)\n",
    "    \"\"\"\n",
    "    # Create a copy of the DataFrame\n",
    "    df_copy = df.copy(deep=True)\n",
    "    \n",
    "    for lag in lags:\n",
    "        df_copy[f'lag_{lag}'] = df_copy['close'].shift(lag)\n",
    "        \n",
    "    #df.dropna(inplace=True)\n",
    "    return df_copy"
   ]
  },
  {
   "cell_type": "code",
   "execution_count": 24,
   "id": "dbfe8104-985e-4997-bb32-808cd87de22f",
   "metadata": {},
   "outputs": [],
   "source": [
    "btc_price_data_1_year = create_lag_features(btc_price_data_1_year, significant_lags)"
   ]
  },
  {
   "cell_type": "markdown",
   "id": "b72b8e96-ac78-419c-94ec-25ed175c8908",
   "metadata": {},
   "source": [
    "### 5.3. Calculate Technical Indicators"
   ]
  },
  {
   "cell_type": "markdown",
   "id": "21b869fb-ea31-4ea5-bcda-1d8f217cb73a",
   "metadata": {},
   "source": [
    "Calculate the values and add new columns with calculated values for **RSI**, **MACD**, **Moving Averages** and other relevant indicators."
   ]
  },
  {
   "cell_type": "markdown",
   "id": "f0ef329b-7a94-41c4-9fa7-3869fa7d24aa",
   "metadata": {},
   "source": [
    "#### 5.3.1. Relative Strength Index (RSI)"
   ]
  },
  {
   "cell_type": "markdown",
   "id": "3aad3d9c-7176-477c-bcb2-425114080020",
   "metadata": {},
   "source": [
    "**RSI** is a momentum oscillator that measures the speed and change of recent price movements. It is used to identify overbought or oversold conditions in a stock's price, generally over a 14-day period.\n",
    "\n",
    "- **Formula**: The RSI is calculated as:\n",
    "  \n",
    "  $$\\text{RSI} = 100 - \\frac{100}{1 + RS}$$\n",
    "  \n",
    "  where $RS$ (Relative Strength) is the ratio of **average gains** to **average losses** over the lookback period (e.g., 14 days).\n",
    "\n",
    "- **Interpretation**:\n",
    "  - **Overbought Condition**: When RSI is above 70, the asset is often considered overbought, suggesting a potential for a pullback.\n",
    "  - **Oversold Condition**: When RSI is below 30, the asset is considered oversold, suggesting a potential for a rebound.\n",
    "\n",
    "- **Calculation**:\n",
    "  - Calculate the **change** in price from one day to the next.\n",
    "  - Separate the changes into **gains** (positive changes) and **losses** (negative changes).\n",
    "  - Compute the **average gain** and **average loss** over the 14-day period.\n",
    "  - Calculate \\( RS \\) as the ratio of average gain to average loss.\n",
    "  - Use the RSI formula to convert \\( RS \\) into an index between 0 and 100."
   ]
  },
  {
   "cell_type": "code",
   "execution_count": 25,
   "id": "c0832649-ecaf-4b37-8532-fcc40d01d466",
   "metadata": {},
   "outputs": [],
   "source": [
    "def calculate_rsi(data, window=14):\n",
    "    \"\"\"\n",
    "    RSI is a momentum oscillator that measures the speed and change of price movements, typically over a 14-period interval.\n",
    "    Assuming 'data' is a DataFrame with a 'close' price column\n",
    "\n",
    "    Parameters\n",
    "    ----------\n",
    "    data:   a DataFrame with the time series data. A column with the name 'close' must be present in the DataFrame! \n",
    "            This column is used to calculate the 'RSI' value.\n",
    "    window: the time period that is taken into account when calculating the 'RSI'\n",
    "    \"\"\"\n",
    "    delta = data['close'].diff(1)\n",
    "    gain = delta.where(delta > 0, 0)\n",
    "    loss = -delta.where(delta < 0, 0)\n",
    "    \n",
    "    avg_gain = gain.rolling(window=window, min_periods=1).mean()\n",
    "    avg_loss = loss.rolling(window=window, min_periods=1).mean()\n",
    "\n",
    "    rs = avg_gain / avg_loss\n",
    "    rsi = 100 - (100 / (1 + rs))\n",
    "    data['RSI'] = rsi\n",
    "    \n",
    "    return data"
   ]
  },
  {
   "cell_type": "code",
   "execution_count": 26,
   "id": "ca05fe04-0e47-4ae2-bd2b-b2b798bd1bce",
   "metadata": {},
   "outputs": [],
   "source": [
    "# Calculate RSI\n",
    "btc_price_data_1_year = calculate_rsi(btc_price_data_1_year)"
   ]
  },
  {
   "cell_type": "markdown",
   "id": "a2eacdb7-bafa-4b97-be46-08606e1d23e5",
   "metadata": {},
   "source": [
    "#### 5.3.2. Moving Average Convergence Divergence (MACD)"
   ]
  },
  {
   "cell_type": "markdown",
   "id": "67cbb391-d4f0-430a-bf94-bcc6559d63cc",
   "metadata": {},
   "source": [
    "**MACD** is a trend-following momentum indicator that shows the relationship between two moving averages of an asset’s price.\n",
    "\n",
    "- **Formula**:\n",
    "  - **MACD Line**: $\\text{MACD} = \\text{EMA}_{\\text{short}} - \\text{EMA}_{\\text{long}}$\n",
    "  - **Signal Line**: A **9-day EMA** of the MACD line.\n",
    "  - **MACD Histogram**: The difference between the MACD line and the Signal Line.\n",
    "\n",
    "  Here, EMA stands for Exponential Moving Average, which gives more weight to recent prices.\n",
    "\n",
    "- **Common Parameters**:\n",
    "  - **Short EMA**: Often set to a 12-day EMA.\n",
    "  - **Long EMA**: Often set to a 26-day EMA.\n",
    "  - **Signal Line EMA**: Often set to a 9-day EMA of the MACD line.\n",
    "\n",
    "- **Interpretation**:\n",
    "  - **MACD Line Crosses Above Signal Line**: This is a bullish signal, indicating a potential buy.\n",
    "  - **MACD Line Crosses Below Signal Line**: This is a bearish signal, indicating a potential sell.\n",
    "  - **MACD Divergence**: If the price and MACD are moving in opposite directions, it may signal a reversal.\n",
    "  - **Histogram**: The MACD histogram shows the distance between the MACD line and the Signal Line. When the histogram grows larger, it indicates a strengthening trend in that direction.\n",
    "\n",
    "- **Application**:\n",
    "  - The MACD helps traders see changes in momentum, trend direction, and possible reversal points by analyzing the difference between the short and long EMAs."
   ]
  },
  {
   "cell_type": "code",
   "execution_count": 27,
   "id": "62b348b6-49e5-4c76-bb7c-4276abf43e7b",
   "metadata": {},
   "outputs": [],
   "source": [
    "def calculate_macd(data, short_window=12, long_window=26, signal_window=9):\n",
    "    \"\"\"\n",
    "    Moving Average Convergence Divergence (MACD) is calculated using two exponential moving averages (EMA):\n",
    "    the 12-day EMA and the 26-day EMA, with a 9-day EMA as the signal line.\n",
    "    \"\"\"\n",
    "    data['EMA12'] = data['close'].ewm(span=short_window, adjust=False).mean()\n",
    "    data['EMA26'] = data['close'].ewm(span=long_window, adjust=False).mean()\n",
    "    \n",
    "    # MACD Line\n",
    "    data['MACD'] = data['EMA12'] - data['EMA26']\n",
    "    \n",
    "    # Signal Line\n",
    "    data['Signal_Line'] = data['MACD'].ewm(span=signal_window, adjust=False).mean()\n",
    "    \n",
    "    return data"
   ]
  },
  {
   "cell_type": "code",
   "execution_count": 28,
   "id": "91222473-d238-48a6-b95c-582f018b7704",
   "metadata": {},
   "outputs": [],
   "source": [
    "# Calculate MACD (Moving Average Convergence Divergence)\n",
    "btc_price_data_1_year = calculate_macd(btc_price_data_1_year)"
   ]
  },
  {
   "cell_type": "markdown",
   "id": "4622fc4d-d2c7-4195-9178-9e4db2144594",
   "metadata": {},
   "source": [
    "#### 5.3.3. Moving Averages (SMA and EMA)"
   ]
  },
  {
   "cell_type": "markdown",
   "id": "485d20a0-5700-4f6c-bf4a-6b890ed7ea55",
   "metadata": {},
   "source": [
    "Moving averages smooth out price data to help identify trends over specific time frames. They are often used to see the underlying trend of an asset’s price and are among the most widely used technical indicators.\n",
    "\n",
    "##### 2.2.3.1. Simple Moving Average (SMA)\n",
    "\n",
    "- **Definition**: The **SMA** is the average of the closing prices over a specific period. For example, a 10-day SMA is the average closing price over the last 10 days.\n",
    "  \n",
    "- **Formula**:\n",
    "  $$\\text{SMA} = \\frac{\\sum_{i=1}^{N} \\text{Price}_i}{N}$$\n",
    "  where $N$ is the period (e.g., 10 days).\n",
    "\n",
    "- **Interpretation**:\n",
    "  - **Trend Identification**: When prices are above the SMA, it suggests an upward trend; when below, it suggests a downward trend.\n",
    "  - **Crossovers**: When a short-term SMA crosses above a long-term SMA (e.g., 10-day SMA crosses above the 50-day SMA), it generates a bullish signal. The reverse crossover indicates a bearish signal.\n",
    "\n",
    "##### 2.2.3.2. Exponential Moving Average (EMA)\n",
    "\n",
    "- **Definition**: The **EMA** is a weighted moving average that gives more importance to recent prices, making it more responsive to new information than the SMA.\n",
    "  \n",
    "- **Formula**:\n",
    "  - EMA uses a multiplier:\n",
    "    $$\\text{EMA}_\\text{current} = \\left(\\frac{2}{N+1}\\right) \\times (\\text{Price}_\\text{current} - \\text{EMA}_\\text{previous}) + \\text{EMA}_\\text{previous}$$\n",
    "    where $N$ is the number of periods.\n",
    "\n",
    "- **Interpretation**:\n",
    "  - **More Sensitive to Price Changes**: Because the EMA responds more quickly to recent prices, it is useful in identifying potential reversals and shorter-term trends."
   ]
  },
  {
   "cell_type": "code",
   "execution_count": 29,
   "id": "fc0f5874-eb07-4ddb-bd50-378428d8e40d",
   "metadata": {},
   "outputs": [],
   "source": [
    "def calculate_moving_averages(data, sma_window=20, ema_window=20):\n",
    "    \"\"\"\n",
    "    Simple Moving Average (SMA) is the average price over a specified number of periods, \n",
    "    while Exponential Moving Average (EMA) gives more weight to recent prices.\n",
    "    \"\"\"\n",
    "    # Simple Moving Average\n",
    "    data['SMA'] = data['close'].rolling(window=sma_window).mean()\n",
    "    \n",
    "    # Exponential Moving Average\n",
    "    data['EMA'] = data['close'].ewm(span=ema_window, adjust=False).mean()\n",
    "    \n",
    "    return data"
   ]
  },
  {
   "cell_type": "code",
   "execution_count": 30,
   "id": "2f78934f-2716-4452-a614-434af4bab64e",
   "metadata": {},
   "outputs": [],
   "source": [
    "# Calculate moving averages\n",
    "btc_price_data_1_year = calculate_moving_averages(btc_price_data_1_year)"
   ]
  },
  {
   "cell_type": "markdown",
   "id": "4e72910f-a5fe-4eab-8e7e-384b1dd53a06",
   "metadata": {},
   "source": [
    "## 6. Calculate Target Variable"
   ]
  },
  {
   "cell_type": "markdown",
   "id": "1f271d79-0e2e-42d3-a367-1cde6616d62b",
   "metadata": {},
   "source": [
    "The **target** variable will be derived from the **technical indicators**. The values of this variable are used as **buy/sell signals** for the traiding strategy. \n",
    "\n",
    "There will be 3 target values:\n",
    "* 0 - do nothing\n",
    "* 1 - buy\n",
    "* 2 - sell"
   ]
  },
  {
   "cell_type": "code",
   "execution_count": 31,
   "id": "28adb54c-e8c2-4757-ba8b-38305e6ae254",
   "metadata": {},
   "outputs": [],
   "source": [
    "def create_target_variable_with_techn_indicators_hourly(data, price_threshold = 0.01):\n",
    "    \"\"\"\n",
    "    Computes and sets the 'target' variable from the input 'data' and 'threshold'.\n",
    "    Creates a 'target' column with the computed values in the 'data' DataFrame.\n",
    "\n",
    "    Parameters\n",
    "    ----------\n",
    "    data: a DataFrame with the time series data. There must be a column named 'close'! \n",
    "          This column will be used by the user to calculate the 'target' variable.\n",
    "    \n",
    "    threshold: threshold for the price change to classify as 'buy' or 'sell'. For instance, if you want a 1% increase to be a 'buy' signal,\n",
    "               the threshold will be 0.01. Adjust this threshold as per your strategy.\n",
    "    \"\"\"\n",
    "    # Create a copy of the DataFrame\n",
    "    data_copy = data.copy(deep=True)\n",
    "    \n",
    "    # Compute the percentage change between the current close price and the close price in the next period.\n",
    "    # This will help define whether there’s a significant increase or decrease.\n",
    "    data_copy['future_return'] = ((data_copy['close'].shift(-1) - data_copy['close']) / data_copy['close']) * 100\n",
    "    \n",
    "    # Use the technical indicators to add more conditions to the target:\n",
    "    # - RSI: A Relative Strength Index (RSI) value below 30 often indicates an oversold condition, which might suggest a buying opportunity.\n",
    "    # - MACD: A positive MACD value (i.e., MACD > Signal Line) can suggest an uptrend.\n",
    "    # - SMA/EMA: If the current price is above the SMA or EMA, it may indicate an upward trend.\n",
    "    #data_copy['buy_signal'] = (\n",
    "    conditions_buy  = (\n",
    "        (data_copy['future_return'] > price_threshold) &\n",
    "        #(data_copy['RSI'] < 30) &   # buy signal for RSI\n",
    "        (data_copy['RSI'] < 40) &    # buy signal for RSI\n",
    "        ((data_copy['MACD'] > data_copy['Signal_Line']) & (data_copy['MACD'].shift(1) <= data_copy['Signal_Line'].shift(1))) #& # buy signal for MACD\n",
    "        # ((data_copy['close'] > data_copy['SMA']) & (data_copy['close'].shift(1) <= data_copy['SMA'].shift(1))) # buy signal for SMA\n",
    "    ).astype(int)\n",
    "\n",
    "    conditions_sell  = (\n",
    "        (data_copy['future_return'] < - price_threshold) &\n",
    "        #(data_copy['RSI'] > 70) &    # sell signal for RSI \n",
    "        (data_copy['RSI'] > 60) &     # sell signal for RSI \n",
    "        (data_copy['MACD'] < data_copy['Signal_Line']) & (data_copy['MACD'].shift(1) >= data_copy['Signal_Line'].shift(1)) #& # sell signal for MACD \n",
    "        # (data_copy['close'] < data_copy['SMA']) & (data_copy['close'].shift(1) >= data_copy['SMA'].shift(1)) # sell signal for SMA \n",
    "    ).astype(int)\n",
    "\n",
    "    # Define the 'target' as 1 (buy), 0(do nothing) and -1(sell).\n",
    "    # Initialize the 'target' column with default value\n",
    "    data_copy['target'] = 0 # 'do nothing' signal\n",
    "    \n",
    "    # Fill the 'target' with the 'buy_signal' and 'sell_signal' conditions \n",
    "    data_copy.loc[(conditions_buy == 1) & (conditions_sell == 0), 'target'] = 1 # 'buy' signal\n",
    "    data_copy.loc[(conditions_sell == 1) & (conditions_buy == 0), 'target'] = 2 # 'sell' signal\n",
    "\n",
    "    # Generate signals\n",
    "    # data['signal'] = np.where(data['SMA_short'] > data['SMA_long'], 1, 0)\n",
    "    # data['signal'] = data['signal'].diff()  # 1 = Buy, 2 = Sell\n",
    "\n",
    "    # The last row in your dataset will have a NaN value for 'future_return' due to the shift operation. Drop this row to clean up the dataset.\n",
    "    # data_copy = data_copy.dropna()\n",
    "\n",
    "    # Print the balance of 1s, 0s and -1s in our 'target' variable to understand how many 'buy' and 'sell' signals we have.\n",
    "    print(data_copy['target'].value_counts())\n",
    "\n",
    "    return data_copy"
   ]
  },
  {
   "cell_type": "code",
   "execution_count": 32,
   "id": "3be9dcff-0674-4d4a-b44b-68fd48dd9fab",
   "metadata": {},
   "outputs": [
    {
     "name": "stdout",
     "output_type": "stream",
     "text": [
      "target\n",
      "0    525868\n",
      "2      1458\n",
      "1      1306\n",
      "Name: count, dtype: int64\n"
     ]
    }
   ],
   "source": [
    "# Define the threshold for the price change to classify as 'buy' or 'sell'. For instance, if we want a 1% increase to be a 'buy' signal,\n",
    "# the threshold will be 0.01.\n",
    "threshold = 0.01\n",
    "\n",
    "# Compute the 'target' variable\n",
    "btc_price_data_1_year = create_target_variable_with_techn_indicators_hourly(btc_price_data_1_year, threshold)"
   ]
  },
  {
   "cell_type": "markdown",
   "id": "57ecaa32-4176-400d-8435-fc241dfcc976",
   "metadata": {},
   "source": [
    "## 7. Clean up the Data"
   ]
  },
  {
   "cell_type": "code",
   "execution_count": 33,
   "id": "b5034c22-895f-4ff4-93bb-36467490be11",
   "metadata": {
    "scrolled": true
   },
   "outputs": [
    {
     "data": {
      "text/html": [
       "<div>\n",
       "<style scoped>\n",
       "    .dataframe tbody tr th:only-of-type {\n",
       "        vertical-align: middle;\n",
       "    }\n",
       "\n",
       "    .dataframe tbody tr th {\n",
       "        vertical-align: top;\n",
       "    }\n",
       "\n",
       "    .dataframe thead th {\n",
       "        text-align: right;\n",
       "    }\n",
       "</style>\n",
       "<table border=\"1\" class=\"dataframe\">\n",
       "  <thead>\n",
       "    <tr style=\"text-align: right;\">\n",
       "      <th></th>\n",
       "      <th>count</th>\n",
       "      <th>mean</th>\n",
       "      <th>std</th>\n",
       "      <th>min</th>\n",
       "      <th>25%</th>\n",
       "      <th>50%</th>\n",
       "      <th>75%</th>\n",
       "      <th>max</th>\n",
       "    </tr>\n",
       "  </thead>\n",
       "  <tbody>\n",
       "    <tr>\n",
       "      <th>open</th>\n",
       "      <td>528632.0</td>\n",
       "      <td>57052.764723</td>\n",
       "      <td>11061.821828</td>\n",
       "      <td>34079.460000</td>\n",
       "      <td>44083.780000</td>\n",
       "      <td>6.101580e+04</td>\n",
       "      <td>66127.655000</td>\n",
       "      <td>73718.320000</td>\n",
       "    </tr>\n",
       "    <tr>\n",
       "      <th>high</th>\n",
       "      <td>528632.0</td>\n",
       "      <td>57100.379874</td>\n",
       "      <td>11072.504219</td>\n",
       "      <td>34133.680000</td>\n",
       "      <td>44119.545000</td>\n",
       "      <td>6.106648e+04</td>\n",
       "      <td>66178.047500</td>\n",
       "      <td>73835.570000</td>\n",
       "    </tr>\n",
       "    <tr>\n",
       "      <th>low</th>\n",
       "      <td>528632.0</td>\n",
       "      <td>57076.624894</td>\n",
       "      <td>11067.091134</td>\n",
       "      <td>34113.930000</td>\n",
       "      <td>44103.265000</td>\n",
       "      <td>6.104102e+04</td>\n",
       "      <td>66153.502500</td>\n",
       "      <td>73815.030000</td>\n",
       "    </tr>\n",
       "    <tr>\n",
       "      <th>close</th>\n",
       "      <td>528632.0</td>\n",
       "      <td>57076.858348</td>\n",
       "      <td>11067.114019</td>\n",
       "      <td>34114.860000</td>\n",
       "      <td>44103.380000</td>\n",
       "      <td>6.104134e+04</td>\n",
       "      <td>66154.337500</td>\n",
       "      <td>73815.430000</td>\n",
       "    </tr>\n",
       "    <tr>\n",
       "      <th>volume</th>\n",
       "      <td>528632.0</td>\n",
       "      <td>8.915933</td>\n",
       "      <td>17.137792</td>\n",
       "      <td>0.001083</td>\n",
       "      <td>1.730652</td>\n",
       "      <td>4.020989e+00</td>\n",
       "      <td>9.541108</td>\n",
       "      <td>1163.832604</td>\n",
       "    </tr>\n",
       "    <tr>\n",
       "      <th>month</th>\n",
       "      <td>528632.0</td>\n",
       "      <td>6.513584</td>\n",
       "      <td>3.451354</td>\n",
       "      <td>1.000000</td>\n",
       "      <td>4.000000</td>\n",
       "      <td>7.000000e+00</td>\n",
       "      <td>10.000000</td>\n",
       "      <td>12.000000</td>\n",
       "    </tr>\n",
       "    <tr>\n",
       "      <th>day</th>\n",
       "      <td>528632.0</td>\n",
       "      <td>15.753742</td>\n",
       "      <td>8.810303</td>\n",
       "      <td>1.000000</td>\n",
       "      <td>8.000000</td>\n",
       "      <td>1.600000e+01</td>\n",
       "      <td>23.000000</td>\n",
       "      <td>31.000000</td>\n",
       "    </tr>\n",
       "    <tr>\n",
       "      <th>weekday</th>\n",
       "      <td>528632.0</td>\n",
       "      <td>2.996814</td>\n",
       "      <td>1.995341</td>\n",
       "      <td>0.000000</td>\n",
       "      <td>1.000000</td>\n",
       "      <td>3.000000e+00</td>\n",
       "      <td>5.000000</td>\n",
       "      <td>6.000000</td>\n",
       "    </tr>\n",
       "    <tr>\n",
       "      <th>hour</th>\n",
       "      <td>528632.0</td>\n",
       "      <td>11.497507</td>\n",
       "      <td>6.921663</td>\n",
       "      <td>0.000000</td>\n",
       "      <td>5.000000</td>\n",
       "      <td>1.100000e+01</td>\n",
       "      <td>17.000000</td>\n",
       "      <td>23.000000</td>\n",
       "    </tr>\n",
       "    <tr>\n",
       "      <th>hour_sin</th>\n",
       "      <td>528632.0</td>\n",
       "      <td>0.000209</td>\n",
       "      <td>0.707107</td>\n",
       "      <td>-1.000000</td>\n",
       "      <td>-0.707107</td>\n",
       "      <td>1.224647e-16</td>\n",
       "      <td>0.707107</td>\n",
       "      <td>1.000000</td>\n",
       "    </tr>\n",
       "    <tr>\n",
       "      <th>hour_cos</th>\n",
       "      <td>528632.0</td>\n",
       "      <td>-0.000087</td>\n",
       "      <td>0.707108</td>\n",
       "      <td>-1.000000</td>\n",
       "      <td>-0.707107</td>\n",
       "      <td>-1.836970e-16</td>\n",
       "      <td>0.707107</td>\n",
       "      <td>1.000000</td>\n",
       "    </tr>\n",
       "    <tr>\n",
       "      <th>weekday_sin</th>\n",
       "      <td>528632.0</td>\n",
       "      <td>0.004059</td>\n",
       "      <td>0.707357</td>\n",
       "      <td>-0.974928</td>\n",
       "      <td>-0.781831</td>\n",
       "      <td>0.000000e+00</td>\n",
       "      <td>0.781831</td>\n",
       "      <td>0.974928</td>\n",
       "    </tr>\n",
       "    <tr>\n",
       "      <th>weekday_cos</th>\n",
       "      <td>528632.0</td>\n",
       "      <td>-0.002884</td>\n",
       "      <td>0.706840</td>\n",
       "      <td>-0.900969</td>\n",
       "      <td>-0.900969</td>\n",
       "      <td>-2.225209e-01</td>\n",
       "      <td>0.623490</td>\n",
       "      <td>1.000000</td>\n",
       "    </tr>\n",
       "    <tr>\n",
       "      <th>trend</th>\n",
       "      <td>528632.0</td>\n",
       "      <td>57078.051812</td>\n",
       "      <td>11067.117292</td>\n",
       "      <td>34188.956317</td>\n",
       "      <td>44090.402078</td>\n",
       "      <td>6.104025e+04</td>\n",
       "      <td>66164.932302</td>\n",
       "      <td>73546.393771</td>\n",
       "    </tr>\n",
       "    <tr>\n",
       "      <th>seasonal</th>\n",
       "      <td>528632.0</td>\n",
       "      <td>-0.000091</td>\n",
       "      <td>37.044639</td>\n",
       "      <td>-1998.906735</td>\n",
       "      <td>-13.454738</td>\n",
       "      <td>3.022266e-02</td>\n",
       "      <td>13.655272</td>\n",
       "      <td>1351.598896</td>\n",
       "    </tr>\n",
       "    <tr>\n",
       "      <th>residual</th>\n",
       "      <td>528632.0</td>\n",
       "      <td>-1.193372</td>\n",
       "      <td>98.994353</td>\n",
       "      <td>-2779.327289</td>\n",
       "      <td>-18.300343</td>\n",
       "      <td>-1.117551e-01</td>\n",
       "      <td>17.924643</td>\n",
       "      <td>2575.612746</td>\n",
       "    </tr>\n",
       "    <tr>\n",
       "      <th>trend_lag_1</th>\n",
       "      <td>528631.0</td>\n",
       "      <td>57078.026474</td>\n",
       "      <td>11067.112427</td>\n",
       "      <td>34188.956317</td>\n",
       "      <td>44090.399482</td>\n",
       "      <td>6.104024e+04</td>\n",
       "      <td>66164.918594</td>\n",
       "      <td>73546.393771</td>\n",
       "    </tr>\n",
       "    <tr>\n",
       "      <th>seasonal_lag_1</th>\n",
       "      <td>528631.0</td>\n",
       "      <td>0.000051</td>\n",
       "      <td>37.044529</td>\n",
       "      <td>-1998.906735</td>\n",
       "      <td>-13.454654</td>\n",
       "      <td>3.043050e-02</td>\n",
       "      <td>13.655406</td>\n",
       "      <td>1351.598896</td>\n",
       "    </tr>\n",
       "    <tr>\n",
       "      <th>residual_lag_1</th>\n",
       "      <td>528631.0</td>\n",
       "      <td>-1.193020</td>\n",
       "      <td>98.994116</td>\n",
       "      <td>-2779.327289</td>\n",
       "      <td>-18.300144</td>\n",
       "      <td>-1.117408e-01</td>\n",
       "      <td>17.924698</td>\n",
       "      <td>2575.612746</td>\n",
       "    </tr>\n",
       "    <tr>\n",
       "      <th>trend_lag_2</th>\n",
       "      <td>528630.0</td>\n",
       "      <td>57078.001136</td>\n",
       "      <td>11067.107561</td>\n",
       "      <td>34188.956317</td>\n",
       "      <td>44090.396886</td>\n",
       "      <td>6.104020e+04</td>\n",
       "      <td>66164.909291</td>\n",
       "      <td>73546.393771</td>\n",
       "    </tr>\n",
       "    <tr>\n",
       "      <th>seasonal_lag_2</th>\n",
       "      <td>528630.0</td>\n",
       "      <td>-0.000035</td>\n",
       "      <td>37.044512</td>\n",
       "      <td>-1998.906735</td>\n",
       "      <td>-13.454693</td>\n",
       "      <td>3.022266e-02</td>\n",
       "      <td>13.655035</td>\n",
       "      <td>1351.598896</td>\n",
       "    </tr>\n",
       "    <tr>\n",
       "      <th>residual_lag_2</th>\n",
       "      <td>528630.0</td>\n",
       "      <td>-1.192417</td>\n",
       "      <td>98.993239</td>\n",
       "      <td>-2779.327289</td>\n",
       "      <td>-18.300092</td>\n",
       "      <td>-1.117206e-01</td>\n",
       "      <td>17.924754</td>\n",
       "      <td>2575.612746</td>\n",
       "    </tr>\n",
       "    <tr>\n",
       "      <th>trend_lag_3</th>\n",
       "      <td>528629.0</td>\n",
       "      <td>57077.975797</td>\n",
       "      <td>11067.102695</td>\n",
       "      <td>34188.956317</td>\n",
       "      <td>44090.394291</td>\n",
       "      <td>6.104015e+04</td>\n",
       "      <td>66164.902483</td>\n",
       "      <td>73546.393771</td>\n",
       "    </tr>\n",
       "    <tr>\n",
       "      <th>seasonal_lag_3</th>\n",
       "      <td>528629.0</td>\n",
       "      <td>0.000160</td>\n",
       "      <td>37.044278</td>\n",
       "      <td>-1998.906735</td>\n",
       "      <td>-13.454576</td>\n",
       "      <td>3.043050e-02</td>\n",
       "      <td>13.655139</td>\n",
       "      <td>1351.598896</td>\n",
       "    </tr>\n",
       "    <tr>\n",
       "      <th>residual_lag_3</th>\n",
       "      <td>528629.0</td>\n",
       "      <td>-1.192112</td>\n",
       "      <td>98.993085</td>\n",
       "      <td>-2779.327289</td>\n",
       "      <td>-18.300054</td>\n",
       "      <td>-1.117004e-01</td>\n",
       "      <td>17.924809</td>\n",
       "      <td>2575.612746</td>\n",
       "    </tr>\n",
       "    <tr>\n",
       "      <th>trend_rolling_mean</th>\n",
       "      <td>528609.0</td>\n",
       "      <td>57078.249283</td>\n",
       "      <td>11066.595004</td>\n",
       "      <td>34192.960471</td>\n",
       "      <td>44089.014830</td>\n",
       "      <td>6.104033e+04</td>\n",
       "      <td>66163.317392</td>\n",
       "      <td>73539.984355</td>\n",
       "    </tr>\n",
       "    <tr>\n",
       "      <th>residual_rolling_std</th>\n",
       "      <td>528609.0</td>\n",
       "      <td>51.570078</td>\n",
       "      <td>53.800833</td>\n",
       "      <td>1.759218</td>\n",
       "      <td>18.699424</td>\n",
       "      <td>3.265015e+01</td>\n",
       "      <td>66.642068</td>\n",
       "      <td>1284.488175</td>\n",
       "    </tr>\n",
       "    <tr>\n",
       "      <th>close_trend_diff</th>\n",
       "      <td>528632.0</td>\n",
       "      <td>-1.193463</td>\n",
       "      <td>97.228387</td>\n",
       "      <td>-2724.406325</td>\n",
       "      <td>-27.950042</td>\n",
       "      <td>-9.326150e-02</td>\n",
       "      <td>27.470497</td>\n",
       "      <td>2531.368561</td>\n",
       "    </tr>\n",
       "    <tr>\n",
       "      <th>close_seasonal_diff</th>\n",
       "      <td>528632.0</td>\n",
       "      <td>57076.858440</td>\n",
       "      <td>11067.129321</td>\n",
       "      <td>34125.049627</td>\n",
       "      <td>44101.763186</td>\n",
       "      <td>6.104072e+04</td>\n",
       "      <td>66154.027583</td>\n",
       "      <td>73802.908909</td>\n",
       "    </tr>\n",
       "    <tr>\n",
       "      <th>lag_1</th>\n",
       "      <td>528631.0</td>\n",
       "      <td>57076.833505</td>\n",
       "      <td>11067.109746</td>\n",
       "      <td>34114.860000</td>\n",
       "      <td>44103.350000</td>\n",
       "      <td>6.104132e+04</td>\n",
       "      <td>66154.315000</td>\n",
       "      <td>73815.430000</td>\n",
       "    </tr>\n",
       "    <tr>\n",
       "      <th>lag_2</th>\n",
       "      <td>528630.0</td>\n",
       "      <td>57076.808684</td>\n",
       "      <td>11067.105500</td>\n",
       "      <td>34114.860000</td>\n",
       "      <td>44103.320000</td>\n",
       "      <td>6.104132e+04</td>\n",
       "      <td>66154.287500</td>\n",
       "      <td>73815.430000</td>\n",
       "    </tr>\n",
       "    <tr>\n",
       "      <th>lag_6</th>\n",
       "      <td>528626.0</td>\n",
       "      <td>57076.709140</td>\n",
       "      <td>11067.088207</td>\n",
       "      <td>34114.860000</td>\n",
       "      <td>44103.282500</td>\n",
       "      <td>6.104122e+04</td>\n",
       "      <td>66154.127500</td>\n",
       "      <td>73815.430000</td>\n",
       "    </tr>\n",
       "    <tr>\n",
       "      <th>lag_8</th>\n",
       "      <td>528624.0</td>\n",
       "      <td>57076.659208</td>\n",
       "      <td>11067.079370</td>\n",
       "      <td>34114.860000</td>\n",
       "      <td>44103.242500</td>\n",
       "      <td>6.104120e+04</td>\n",
       "      <td>66154.052500</td>\n",
       "      <td>73815.430000</td>\n",
       "    </tr>\n",
       "    <tr>\n",
       "      <th>lag_9</th>\n",
       "      <td>528623.0</td>\n",
       "      <td>57076.634200</td>\n",
       "      <td>11067.074901</td>\n",
       "      <td>34114.860000</td>\n",
       "      <td>44103.205000</td>\n",
       "      <td>6.104120e+04</td>\n",
       "      <td>66154.030000</td>\n",
       "      <td>73815.430000</td>\n",
       "    </tr>\n",
       "    <tr>\n",
       "      <th>lag_10</th>\n",
       "      <td>528622.0</td>\n",
       "      <td>57076.609144</td>\n",
       "      <td>11067.070376</td>\n",
       "      <td>34114.860000</td>\n",
       "      <td>44103.167500</td>\n",
       "      <td>6.104117e+04</td>\n",
       "      <td>66154.017500</td>\n",
       "      <td>73815.430000</td>\n",
       "    </tr>\n",
       "    <tr>\n",
       "      <th>lag_16</th>\n",
       "      <td>528616.0</td>\n",
       "      <td>57076.458648</td>\n",
       "      <td>11067.043030</td>\n",
       "      <td>34114.860000</td>\n",
       "      <td>44103.087500</td>\n",
       "      <td>6.104110e+04</td>\n",
       "      <td>66153.885000</td>\n",
       "      <td>73815.430000</td>\n",
       "    </tr>\n",
       "    <tr>\n",
       "      <th>lag_18</th>\n",
       "      <td>528614.0</td>\n",
       "      <td>57076.408345</td>\n",
       "      <td>11067.033749</td>\n",
       "      <td>34114.860000</td>\n",
       "      <td>44103.082500</td>\n",
       "      <td>6.104107e+04</td>\n",
       "      <td>66153.840000</td>\n",
       "      <td>73815.430000</td>\n",
       "    </tr>\n",
       "    <tr>\n",
       "      <th>lag_30</th>\n",
       "      <td>528602.0</td>\n",
       "      <td>57076.104270</td>\n",
       "      <td>11066.975350</td>\n",
       "      <td>34114.860000</td>\n",
       "      <td>44102.877500</td>\n",
       "      <td>6.104080e+04</td>\n",
       "      <td>66153.540000</td>\n",
       "      <td>73815.430000</td>\n",
       "    </tr>\n",
       "    <tr>\n",
       "      <th>lag_32</th>\n",
       "      <td>528600.0</td>\n",
       "      <td>57076.053454</td>\n",
       "      <td>11066.965451</td>\n",
       "      <td>34114.860000</td>\n",
       "      <td>44102.837500</td>\n",
       "      <td>6.104076e+04</td>\n",
       "      <td>66153.457500</td>\n",
       "      <td>73815.430000</td>\n",
       "    </tr>\n",
       "    <tr>\n",
       "      <th>lag_39</th>\n",
       "      <td>528593.0</td>\n",
       "      <td>57075.876079</td>\n",
       "      <td>11066.931390</td>\n",
       "      <td>34114.860000</td>\n",
       "      <td>44102.790000</td>\n",
       "      <td>6.104070e+04</td>\n",
       "      <td>66153.180000</td>\n",
       "      <td>73815.430000</td>\n",
       "    </tr>\n",
       "    <tr>\n",
       "      <th>lag_43</th>\n",
       "      <td>528589.0</td>\n",
       "      <td>57075.774514</td>\n",
       "      <td>11066.911676</td>\n",
       "      <td>34114.860000</td>\n",
       "      <td>44102.700000</td>\n",
       "      <td>6.104068e+04</td>\n",
       "      <td>66152.880000</td>\n",
       "      <td>73815.430000</td>\n",
       "    </tr>\n",
       "    <tr>\n",
       "      <th>lag_46</th>\n",
       "      <td>528586.0</td>\n",
       "      <td>57075.698555</td>\n",
       "      <td>11066.897150</td>\n",
       "      <td>34114.860000</td>\n",
       "      <td>44102.535000</td>\n",
       "      <td>6.104065e+04</td>\n",
       "      <td>66152.842500</td>\n",
       "      <td>73815.430000</td>\n",
       "    </tr>\n",
       "    <tr>\n",
       "      <th>lag_47</th>\n",
       "      <td>528585.0</td>\n",
       "      <td>57075.673347</td>\n",
       "      <td>11066.892444</td>\n",
       "      <td>34114.860000</td>\n",
       "      <td>44102.480000</td>\n",
       "      <td>6.104062e+04</td>\n",
       "      <td>66152.790000</td>\n",
       "      <td>73815.430000</td>\n",
       "    </tr>\n",
       "    <tr>\n",
       "      <th>lag_56</th>\n",
       "      <td>528576.0</td>\n",
       "      <td>57075.447428</td>\n",
       "      <td>11066.851228</td>\n",
       "      <td>34114.860000</td>\n",
       "      <td>44102.262500</td>\n",
       "      <td>6.104041e+04</td>\n",
       "      <td>66152.482500</td>\n",
       "      <td>73815.430000</td>\n",
       "    </tr>\n",
       "    <tr>\n",
       "      <th>RSI</th>\n",
       "      <td>528631.0</td>\n",
       "      <td>50.311697</td>\n",
       "      <td>16.019952</td>\n",
       "      <td>0.000000</td>\n",
       "      <td>38.830722</td>\n",
       "      <td>5.019810e+01</td>\n",
       "      <td>61.711283</td>\n",
       "      <td>100.000000</td>\n",
       "    </tr>\n",
       "    <tr>\n",
       "      <th>EMA12</th>\n",
       "      <td>528632.0</td>\n",
       "      <td>57076.488053</td>\n",
       "      <td>11067.038888</td>\n",
       "      <td>34156.903172</td>\n",
       "      <td>44097.723581</td>\n",
       "      <td>6.104011e+04</td>\n",
       "      <td>66154.363493</td>\n",
       "      <td>73690.639132</td>\n",
       "    </tr>\n",
       "    <tr>\n",
       "      <th>EMA26</th>\n",
       "      <td>528632.0</td>\n",
       "      <td>57076.015397</td>\n",
       "      <td>11066.969693</td>\n",
       "      <td>34184.183880</td>\n",
       "      <td>44093.538520</td>\n",
       "      <td>6.104324e+04</td>\n",
       "      <td>66154.886177</td>\n",
       "      <td>73626.416403</td>\n",
       "    </tr>\n",
       "    <tr>\n",
       "      <th>MACD</th>\n",
       "      <td>528632.0</td>\n",
       "      <td>0.472656</td>\n",
       "      <td>46.395772</td>\n",
       "      <td>-1070.811076</td>\n",
       "      <td>-17.358079</td>\n",
       "      <td>5.074210e-01</td>\n",
       "      <td>18.848699</td>\n",
       "      <td>589.487071</td>\n",
       "    </tr>\n",
       "    <tr>\n",
       "      <th>Signal_Line</th>\n",
       "      <td>528632.0</td>\n",
       "      <td>0.473026</td>\n",
       "      <td>43.718736</td>\n",
       "      <td>-934.400748</td>\n",
       "      <td>-16.314993</td>\n",
       "      <td>4.605260e-01</td>\n",
       "      <td>17.770367</td>\n",
       "      <td>528.435842</td>\n",
       "    </tr>\n",
       "    <tr>\n",
       "      <th>SMA</th>\n",
       "      <td>528613.0</td>\n",
       "      <td>57077.024691</td>\n",
       "      <td>11066.506318</td>\n",
       "      <td>34178.347500</td>\n",
       "      <td>44097.239000</td>\n",
       "      <td>6.104155e+04</td>\n",
       "      <td>66153.426000</td>\n",
       "      <td>73643.070000</td>\n",
       "    </tr>\n",
       "    <tr>\n",
       "      <th>EMA</th>\n",
       "      <td>528632.0</td>\n",
       "      <td>57076.218073</td>\n",
       "      <td>11066.999141</td>\n",
       "      <td>34176.621624</td>\n",
       "      <td>44096.078318</td>\n",
       "      <td>6.104136e+04</td>\n",
       "      <td>66154.824336</td>\n",
       "      <td>73650.094348</td>\n",
       "    </tr>\n",
       "    <tr>\n",
       "      <th>future_return</th>\n",
       "      <td>528631.0</td>\n",
       "      <td>0.000160</td>\n",
       "      <td>0.072267</td>\n",
       "      <td>-2.990373</td>\n",
       "      <td>-0.030483</td>\n",
       "      <td>0.000000e+00</td>\n",
       "      <td>0.030841</td>\n",
       "      <td>2.799819</td>\n",
       "    </tr>\n",
       "    <tr>\n",
       "      <th>target</th>\n",
       "      <td>528632.0</td>\n",
       "      <td>0.007987</td>\n",
       "      <td>0.115927</td>\n",
       "      <td>0.000000</td>\n",
       "      <td>0.000000</td>\n",
       "      <td>0.000000e+00</td>\n",
       "      <td>0.000000</td>\n",
       "      <td>2.000000</td>\n",
       "    </tr>\n",
       "  </tbody>\n",
       "</table>\n",
       "</div>"
      ],
      "text/plain": [
       "                         count          mean           std           min  \\\n",
       "open                  528632.0  57052.764723  11061.821828  34079.460000   \n",
       "high                  528632.0  57100.379874  11072.504219  34133.680000   \n",
       "low                   528632.0  57076.624894  11067.091134  34113.930000   \n",
       "close                 528632.0  57076.858348  11067.114019  34114.860000   \n",
       "volume                528632.0      8.915933     17.137792      0.001083   \n",
       "month                 528632.0      6.513584      3.451354      1.000000   \n",
       "day                   528632.0     15.753742      8.810303      1.000000   \n",
       "weekday               528632.0      2.996814      1.995341      0.000000   \n",
       "hour                  528632.0     11.497507      6.921663      0.000000   \n",
       "hour_sin              528632.0      0.000209      0.707107     -1.000000   \n",
       "hour_cos              528632.0     -0.000087      0.707108     -1.000000   \n",
       "weekday_sin           528632.0      0.004059      0.707357     -0.974928   \n",
       "weekday_cos           528632.0     -0.002884      0.706840     -0.900969   \n",
       "trend                 528632.0  57078.051812  11067.117292  34188.956317   \n",
       "seasonal              528632.0     -0.000091     37.044639  -1998.906735   \n",
       "residual              528632.0     -1.193372     98.994353  -2779.327289   \n",
       "trend_lag_1           528631.0  57078.026474  11067.112427  34188.956317   \n",
       "seasonal_lag_1        528631.0      0.000051     37.044529  -1998.906735   \n",
       "residual_lag_1        528631.0     -1.193020     98.994116  -2779.327289   \n",
       "trend_lag_2           528630.0  57078.001136  11067.107561  34188.956317   \n",
       "seasonal_lag_2        528630.0     -0.000035     37.044512  -1998.906735   \n",
       "residual_lag_2        528630.0     -1.192417     98.993239  -2779.327289   \n",
       "trend_lag_3           528629.0  57077.975797  11067.102695  34188.956317   \n",
       "seasonal_lag_3        528629.0      0.000160     37.044278  -1998.906735   \n",
       "residual_lag_3        528629.0     -1.192112     98.993085  -2779.327289   \n",
       "trend_rolling_mean    528609.0  57078.249283  11066.595004  34192.960471   \n",
       "residual_rolling_std  528609.0     51.570078     53.800833      1.759218   \n",
       "close_trend_diff      528632.0     -1.193463     97.228387  -2724.406325   \n",
       "close_seasonal_diff   528632.0  57076.858440  11067.129321  34125.049627   \n",
       "lag_1                 528631.0  57076.833505  11067.109746  34114.860000   \n",
       "lag_2                 528630.0  57076.808684  11067.105500  34114.860000   \n",
       "lag_6                 528626.0  57076.709140  11067.088207  34114.860000   \n",
       "lag_8                 528624.0  57076.659208  11067.079370  34114.860000   \n",
       "lag_9                 528623.0  57076.634200  11067.074901  34114.860000   \n",
       "lag_10                528622.0  57076.609144  11067.070376  34114.860000   \n",
       "lag_16                528616.0  57076.458648  11067.043030  34114.860000   \n",
       "lag_18                528614.0  57076.408345  11067.033749  34114.860000   \n",
       "lag_30                528602.0  57076.104270  11066.975350  34114.860000   \n",
       "lag_32                528600.0  57076.053454  11066.965451  34114.860000   \n",
       "lag_39                528593.0  57075.876079  11066.931390  34114.860000   \n",
       "lag_43                528589.0  57075.774514  11066.911676  34114.860000   \n",
       "lag_46                528586.0  57075.698555  11066.897150  34114.860000   \n",
       "lag_47                528585.0  57075.673347  11066.892444  34114.860000   \n",
       "lag_56                528576.0  57075.447428  11066.851228  34114.860000   \n",
       "RSI                   528631.0     50.311697     16.019952      0.000000   \n",
       "EMA12                 528632.0  57076.488053  11067.038888  34156.903172   \n",
       "EMA26                 528632.0  57076.015397  11066.969693  34184.183880   \n",
       "MACD                  528632.0      0.472656     46.395772  -1070.811076   \n",
       "Signal_Line           528632.0      0.473026     43.718736   -934.400748   \n",
       "SMA                   528613.0  57077.024691  11066.506318  34178.347500   \n",
       "EMA                   528632.0  57076.218073  11066.999141  34176.621624   \n",
       "future_return         528631.0      0.000160      0.072267     -2.990373   \n",
       "target                528632.0      0.007987      0.115927      0.000000   \n",
       "\n",
       "                               25%           50%           75%           max  \n",
       "open                  44083.780000  6.101580e+04  66127.655000  73718.320000  \n",
       "high                  44119.545000  6.106648e+04  66178.047500  73835.570000  \n",
       "low                   44103.265000  6.104102e+04  66153.502500  73815.030000  \n",
       "close                 44103.380000  6.104134e+04  66154.337500  73815.430000  \n",
       "volume                    1.730652  4.020989e+00      9.541108   1163.832604  \n",
       "month                     4.000000  7.000000e+00     10.000000     12.000000  \n",
       "day                       8.000000  1.600000e+01     23.000000     31.000000  \n",
       "weekday                   1.000000  3.000000e+00      5.000000      6.000000  \n",
       "hour                      5.000000  1.100000e+01     17.000000     23.000000  \n",
       "hour_sin                 -0.707107  1.224647e-16      0.707107      1.000000  \n",
       "hour_cos                 -0.707107 -1.836970e-16      0.707107      1.000000  \n",
       "weekday_sin              -0.781831  0.000000e+00      0.781831      0.974928  \n",
       "weekday_cos              -0.900969 -2.225209e-01      0.623490      1.000000  \n",
       "trend                 44090.402078  6.104025e+04  66164.932302  73546.393771  \n",
       "seasonal                -13.454738  3.022266e-02     13.655272   1351.598896  \n",
       "residual                -18.300343 -1.117551e-01     17.924643   2575.612746  \n",
       "trend_lag_1           44090.399482  6.104024e+04  66164.918594  73546.393771  \n",
       "seasonal_lag_1          -13.454654  3.043050e-02     13.655406   1351.598896  \n",
       "residual_lag_1          -18.300144 -1.117408e-01     17.924698   2575.612746  \n",
       "trend_lag_2           44090.396886  6.104020e+04  66164.909291  73546.393771  \n",
       "seasonal_lag_2          -13.454693  3.022266e-02     13.655035   1351.598896  \n",
       "residual_lag_2          -18.300092 -1.117206e-01     17.924754   2575.612746  \n",
       "trend_lag_3           44090.394291  6.104015e+04  66164.902483  73546.393771  \n",
       "seasonal_lag_3          -13.454576  3.043050e-02     13.655139   1351.598896  \n",
       "residual_lag_3          -18.300054 -1.117004e-01     17.924809   2575.612746  \n",
       "trend_rolling_mean    44089.014830  6.104033e+04  66163.317392  73539.984355  \n",
       "residual_rolling_std     18.699424  3.265015e+01     66.642068   1284.488175  \n",
       "close_trend_diff        -27.950042 -9.326150e-02     27.470497   2531.368561  \n",
       "close_seasonal_diff   44101.763186  6.104072e+04  66154.027583  73802.908909  \n",
       "lag_1                 44103.350000  6.104132e+04  66154.315000  73815.430000  \n",
       "lag_2                 44103.320000  6.104132e+04  66154.287500  73815.430000  \n",
       "lag_6                 44103.282500  6.104122e+04  66154.127500  73815.430000  \n",
       "lag_8                 44103.242500  6.104120e+04  66154.052500  73815.430000  \n",
       "lag_9                 44103.205000  6.104120e+04  66154.030000  73815.430000  \n",
       "lag_10                44103.167500  6.104117e+04  66154.017500  73815.430000  \n",
       "lag_16                44103.087500  6.104110e+04  66153.885000  73815.430000  \n",
       "lag_18                44103.082500  6.104107e+04  66153.840000  73815.430000  \n",
       "lag_30                44102.877500  6.104080e+04  66153.540000  73815.430000  \n",
       "lag_32                44102.837500  6.104076e+04  66153.457500  73815.430000  \n",
       "lag_39                44102.790000  6.104070e+04  66153.180000  73815.430000  \n",
       "lag_43                44102.700000  6.104068e+04  66152.880000  73815.430000  \n",
       "lag_46                44102.535000  6.104065e+04  66152.842500  73815.430000  \n",
       "lag_47                44102.480000  6.104062e+04  66152.790000  73815.430000  \n",
       "lag_56                44102.262500  6.104041e+04  66152.482500  73815.430000  \n",
       "RSI                      38.830722  5.019810e+01     61.711283    100.000000  \n",
       "EMA12                 44097.723581  6.104011e+04  66154.363493  73690.639132  \n",
       "EMA26                 44093.538520  6.104324e+04  66154.886177  73626.416403  \n",
       "MACD                    -17.358079  5.074210e-01     18.848699    589.487071  \n",
       "Signal_Line             -16.314993  4.605260e-01     17.770367    528.435842  \n",
       "SMA                   44097.239000  6.104155e+04  66153.426000  73643.070000  \n",
       "EMA                   44096.078318  6.104136e+04  66154.824336  73650.094348  \n",
       "future_return            -0.030483  0.000000e+00      0.030841      2.799819  \n",
       "target                    0.000000  0.000000e+00      0.000000      2.000000  "
      ]
     },
     "execution_count": 33,
     "metadata": {},
     "output_type": "execute_result"
    }
   ],
   "source": [
    "btc_price_data_1_year.describe().T"
   ]
  },
  {
   "cell_type": "code",
   "execution_count": 34,
   "id": "9febc5fb-f791-447e-abc3-7223adfaa83b",
   "metadata": {
    "scrolled": true
   },
   "outputs": [
    {
     "data": {
      "text/plain": [
       "open                    float64\n",
       "high                    float64\n",
       "low                     float64\n",
       "close                   float64\n",
       "volume                  float64\n",
       "month                     int32\n",
       "day                       int32\n",
       "weekday                   int32\n",
       "hour                      int32\n",
       "hour_sin                float64\n",
       "hour_cos                float64\n",
       "weekday_sin             float64\n",
       "weekday_cos             float64\n",
       "trend                   float64\n",
       "seasonal                float64\n",
       "residual                float64\n",
       "trend_lag_1             float64\n",
       "seasonal_lag_1          float64\n",
       "residual_lag_1          float64\n",
       "trend_lag_2             float64\n",
       "seasonal_lag_2          float64\n",
       "residual_lag_2          float64\n",
       "trend_lag_3             float64\n",
       "seasonal_lag_3          float64\n",
       "residual_lag_3          float64\n",
       "trend_rolling_mean      float64\n",
       "residual_rolling_std    float64\n",
       "close_trend_diff        float64\n",
       "close_seasonal_diff     float64\n",
       "lag_1                   float64\n",
       "lag_2                   float64\n",
       "lag_6                   float64\n",
       "lag_8                   float64\n",
       "lag_9                   float64\n",
       "lag_10                  float64\n",
       "lag_16                  float64\n",
       "lag_18                  float64\n",
       "lag_30                  float64\n",
       "lag_32                  float64\n",
       "lag_39                  float64\n",
       "lag_43                  float64\n",
       "lag_46                  float64\n",
       "lag_47                  float64\n",
       "lag_56                  float64\n",
       "RSI                     float64\n",
       "EMA12                   float64\n",
       "EMA26                   float64\n",
       "MACD                    float64\n",
       "Signal_Line             float64\n",
       "SMA                     float64\n",
       "EMA                     float64\n",
       "future_return           float64\n",
       "target                    int64\n",
       "dtype: object"
      ]
     },
     "execution_count": 34,
     "metadata": {},
     "output_type": "execute_result"
    }
   ],
   "source": [
    "btc_price_data_1_year.dtypes"
   ]
  },
  {
   "cell_type": "code",
   "execution_count": 35,
   "id": "beb0cc63-2e5a-444d-a441-d668b3f898dd",
   "metadata": {},
   "outputs": [
    {
     "data": {
      "text/plain": [
       "(528632, 53)"
      ]
     },
     "execution_count": 35,
     "metadata": {},
     "output_type": "execute_result"
    }
   ],
   "source": [
    "btc_price_data_1_year.shape"
   ]
  },
  {
   "cell_type": "code",
   "execution_count": 36,
   "id": "00931905-f208-4921-a3e6-0a146b983a8a",
   "metadata": {
    "scrolled": true
   },
   "outputs": [
    {
     "data": {
      "text/plain": [
       "open                     0\n",
       "high                     0\n",
       "low                      0\n",
       "close                    0\n",
       "volume                   0\n",
       "month                    0\n",
       "day                      0\n",
       "weekday                  0\n",
       "hour                     0\n",
       "hour_sin                 0\n",
       "hour_cos                 0\n",
       "weekday_sin              0\n",
       "weekday_cos              0\n",
       "trend                    0\n",
       "seasonal                 0\n",
       "residual                 0\n",
       "trend_lag_1              1\n",
       "seasonal_lag_1           1\n",
       "residual_lag_1           1\n",
       "trend_lag_2              2\n",
       "seasonal_lag_2           2\n",
       "residual_lag_2           2\n",
       "trend_lag_3              3\n",
       "seasonal_lag_3           3\n",
       "residual_lag_3           3\n",
       "trend_rolling_mean      23\n",
       "residual_rolling_std    23\n",
       "close_trend_diff         0\n",
       "close_seasonal_diff      0\n",
       "lag_1                    1\n",
       "lag_2                    2\n",
       "lag_6                    6\n",
       "lag_8                    8\n",
       "lag_9                    9\n",
       "lag_10                  10\n",
       "lag_16                  16\n",
       "lag_18                  18\n",
       "lag_30                  30\n",
       "lag_32                  32\n",
       "lag_39                  39\n",
       "lag_43                  43\n",
       "lag_46                  46\n",
       "lag_47                  47\n",
       "lag_56                  56\n",
       "RSI                      1\n",
       "EMA12                    0\n",
       "EMA26                    0\n",
       "MACD                     0\n",
       "Signal_Line              0\n",
       "SMA                     19\n",
       "EMA                      0\n",
       "future_return            1\n",
       "target                   0\n",
       "dtype: int64"
      ]
     },
     "execution_count": 36,
     "metadata": {},
     "output_type": "execute_result"
    }
   ],
   "source": [
    "btc_price_data_1_year.isnull().sum()"
   ]
  },
  {
   "cell_type": "markdown",
   "id": "3fc59fd0-0dfb-4fb6-ab74-2ab1f48dfbeb",
   "metadata": {},
   "source": [
    "There are some rows in the dataset that have a `NaN` values (`future_return`, `RSI`, `SMA` and some `lag`-columns) due to the feature engineering process. We will delete these rows to clean up the dataset."
   ]
  },
  {
   "cell_type": "code",
   "execution_count": 37,
   "id": "d23508b9-ec8b-4b05-87d6-e222d9fda3fb",
   "metadata": {},
   "outputs": [],
   "source": [
    "btc_price_data_1_year = btc_price_data_1_year.dropna()"
   ]
  },
  {
   "cell_type": "code",
   "execution_count": 38,
   "id": "2a1a7dee-fb32-43bc-881b-42a2859d9a43",
   "metadata": {},
   "outputs": [
    {
     "data": {
      "text/plain": [
       "(528575, 53)"
      ]
     },
     "execution_count": 38,
     "metadata": {},
     "output_type": "execute_result"
    }
   ],
   "source": [
    "btc_price_data_1_year.shape"
   ]
  },
  {
   "cell_type": "code",
   "execution_count": 39,
   "id": "6f5923ed-b17a-4521-baf6-863d9cc6a23f",
   "metadata": {
    "scrolled": true
   },
   "outputs": [
    {
     "data": {
      "text/plain": [
       "open                    0\n",
       "high                    0\n",
       "low                     0\n",
       "close                   0\n",
       "volume                  0\n",
       "month                   0\n",
       "day                     0\n",
       "weekday                 0\n",
       "hour                    0\n",
       "hour_sin                0\n",
       "hour_cos                0\n",
       "weekday_sin             0\n",
       "weekday_cos             0\n",
       "trend                   0\n",
       "seasonal                0\n",
       "residual                0\n",
       "trend_lag_1             0\n",
       "seasonal_lag_1          0\n",
       "residual_lag_1          0\n",
       "trend_lag_2             0\n",
       "seasonal_lag_2          0\n",
       "residual_lag_2          0\n",
       "trend_lag_3             0\n",
       "seasonal_lag_3          0\n",
       "residual_lag_3          0\n",
       "trend_rolling_mean      0\n",
       "residual_rolling_std    0\n",
       "close_trend_diff        0\n",
       "close_seasonal_diff     0\n",
       "lag_1                   0\n",
       "lag_2                   0\n",
       "lag_6                   0\n",
       "lag_8                   0\n",
       "lag_9                   0\n",
       "lag_10                  0\n",
       "lag_16                  0\n",
       "lag_18                  0\n",
       "lag_30                  0\n",
       "lag_32                  0\n",
       "lag_39                  0\n",
       "lag_43                  0\n",
       "lag_46                  0\n",
       "lag_47                  0\n",
       "lag_56                  0\n",
       "RSI                     0\n",
       "EMA12                   0\n",
       "EMA26                   0\n",
       "MACD                    0\n",
       "Signal_Line             0\n",
       "SMA                     0\n",
       "EMA                     0\n",
       "future_return           0\n",
       "target                  0\n",
       "dtype: int64"
      ]
     },
     "execution_count": 39,
     "metadata": {},
     "output_type": "execute_result"
    }
   ],
   "source": [
    "btc_price_data_1_year.isnull().sum()"
   ]
  },
  {
   "cell_type": "code",
   "execution_count": 40,
   "id": "e17c7fdc-ecd7-4253-9755-d9a7adf4ec31",
   "metadata": {},
   "outputs": [
    {
     "data": {
      "text/plain": [
       "Index(['open', 'high', 'low', 'close', 'volume', 'month', 'day', 'weekday',\n",
       "       'hour', 'hour_sin', 'hour_cos', 'weekday_sin', 'weekday_cos', 'trend',\n",
       "       'seasonal', 'residual', 'trend_lag_1', 'seasonal_lag_1',\n",
       "       'residual_lag_1', 'trend_lag_2', 'seasonal_lag_2', 'residual_lag_2',\n",
       "       'trend_lag_3', 'seasonal_lag_3', 'residual_lag_3', 'trend_rolling_mean',\n",
       "       'residual_rolling_std', 'close_trend_diff', 'close_seasonal_diff',\n",
       "       'lag_1', 'lag_2', 'lag_6', 'lag_8', 'lag_9', 'lag_10', 'lag_16',\n",
       "       'lag_18', 'lag_30', 'lag_32', 'lag_39', 'lag_43', 'lag_46', 'lag_47',\n",
       "       'lag_56', 'RSI', 'EMA12', 'EMA26', 'MACD', 'Signal_Line', 'SMA', 'EMA',\n",
       "       'future_return', 'target'],\n",
       "      dtype='object')"
      ]
     },
     "execution_count": 40,
     "metadata": {},
     "output_type": "execute_result"
    }
   ],
   "source": [
    "btc_price_data_1_year.columns"
   ]
  },
  {
   "cell_type": "markdown",
   "id": "07121895-5f1e-4819-80b0-97f943b18ae6",
   "metadata": {},
   "source": [
    "## 8. Backtesting"
   ]
  },
  {
   "cell_type": "markdown",
   "id": "1d9772d6-19ae-40cc-b8cb-1fde0883b124",
   "metadata": {},
   "source": [
    "Backtesting a trading strategy involves simulating how it would have performed historically based on past data. This process helps to evaluate the effectiveness of the strategy before deploying it in real-time trading."
   ]
  },
  {
   "cell_type": "markdown",
   "id": "bc3f68b3-ab29-4742-8e1a-eccb2f32e739",
   "metadata": {},
   "source": [
    "We will follow these steps to backtest our trading strategy:\n",
    "\n",
    "1. **Implement the Strategy in Python**\n",
    "   - Calculate signals for Buy, Sell, or Hold based on the strategy logic.\n",
    "\n",
    "2. **Simulate Trades**\n",
    "   - Loop through the historical data and simulate trades by applying the defined rules.\n",
    "\n",
    "3. **Evaluate Performance**\n",
    "   - Calculate key metrics:\n",
    "     - **Total Return**: Overall profit or loss as a percentage of initial capital.\n",
    "\n",
    "4. **Plot equity curves and drawdown charts**\n"
   ]
  },
  {
   "cell_type": "code",
   "execution_count": 44,
   "id": "e947624d-0fa3-494e-b4f2-bbde98fe023e",
   "metadata": {},
   "outputs": [
    {
     "data": {
      "image/png": "[encoded data removed]",
      "text/plain": [
       "<Figure size 1200x600 with 1 Axes>"
      ]
     },
     "metadata": {},
     "output_type": "display_data"
    },
    {
     "name": "stdout",
     "output_type": "stream",
     "text": [
      "Initial Balance with 1h data: $1000.00\n",
      "Final Balance with 1h data: $2408.53\n",
      "Final Return with 1h data: 140.85[%]\n"
     ]
    }
   ],
   "source": [
    "# Backtest the strategy\n",
    "def backtest_with_plot(data, initial_balance=1000):\n",
    "    # print(f\"Initial Balance: ${initial_balance:.2f}\")\n",
    "    \n",
    "    balance = initial_balance\n",
    "    position = 0  # Number of Bitcoin held\n",
    "    balance_history = [initial_balance]  # Track balance over time\n",
    "    \n",
    "    for i in range(1, len(data)):\n",
    "        if data['target'].iloc[i] == 1 and balance > 0:  # Buy signal\n",
    "            position = balance / data['close'].iloc[i]\n",
    "            balance = 0\n",
    "        elif data['target'].iloc[i] == 2 and position > 0:  # Sell signal\n",
    "            balance = position * data['close'].iloc[i]\n",
    "            position = 0\n",
    "        # Record the current balance (including current position value)\n",
    "        current_balance = balance + (position * data['close'].iloc[i])\n",
    "        balance_history.append(current_balance)\n",
    "    \n",
    "    # Final portfolio value\n",
    "    final_balance = balance + (position * data['close'].iloc[-1])\n",
    "    # print(f\"Final Balance: ${final_balance:.2f}\")\n",
    "\n",
    "    # Plot the balance history\n",
    "    plt.figure(figsize=(12, 6))\n",
    "    plt.plot(balance_history, label=\"Balance Over Time\")\n",
    "    plt.title(\"Balance Movement\")\n",
    "    plt.xlabel(\"Time Step\")\n",
    "    plt.ylabel(\"Balance ($)\")\n",
    "    plt.legend()\n",
    "    plt.grid()\n",
    "    plt.show()\n",
    "\n",
    "    return final_balance\n",
    "\n",
    "timeframe = '1h'\n",
    "results = {}\n",
    "initial_balance = 1000\n",
    "final_balance = backtest_with_plot(btc_price_data_1_year, initial_balance)\n",
    "results[timeframe] = final_balance\n",
    "\n",
    "# Print results\n",
    "print(f\"Initial Balance with {timeframe} data: ${initial_balance:.2f}\")\n",
    "\n",
    "for timeframe, balance in results.items():\n",
    "    print(f\"Final Balance with {timeframe} data: ${balance:.2f}\")\n",
    "    final_return = ((balance - 1000) / 1000) * 100\n",
    "    print(f\"Final Return with {timeframe} data: {final_return:.2f}[%]\")"
   ]
  },
  {
   "cell_type": "code",
   "execution_count": 45,
   "id": "d09ce301-f6d3-4376-8d3c-d9ad5d979b5c",
   "metadata": {},
   "outputs": [
    {
     "data": {
      "text/plain": [
       "target\n",
       "0    525812\n",
       "2      1458\n",
       "1      1305\n",
       "Name: count, dtype: int64"
      ]
     },
     "execution_count": 45,
     "metadata": {},
     "output_type": "execute_result"
    }
   ],
   "source": [
    "btc_price_data_1_year.target.value_counts()"
   ]
  },
  {
   "cell_type": "markdown",
   "id": "1a88bdb0-5a66-46e1-a36b-225fcab7877a",
   "metadata": {},
   "source": [
    "**Interpretation of the Backtest**\n",
    "\n",
    "We have tested our trading strategy for the whole year with **1000** dollars initial capital. The **target** variable has **1305 buy signals** and **1458 sell signals**. The remaining **525.812** values are **0 (do nothing)**.\n",
    "\n",
    "We always invested everything when we got a buy signal and had money and sold everything when we got a sell signal and had Bitcoin.\n",
    "At the end of the backtest we had **\\$2408,53** or **\\$1408,53** (**140,85%**) profit."
   ]
  },
  {
   "cell_type": "markdown",
   "id": "b510a6fe-7bbb-48c6-b18d-82cbd73169b2",
   "metadata": {},
   "source": [
    "## 7. Data Preprocessing for the Predictive Model"
   ]
  },
  {
   "cell_type": "markdown",
   "id": "7c264d59-0768-4cab-ad0b-ed7837c9349d",
   "metadata": {},
   "source": [
    "### 7.1. Dataset Preparation"
   ]
  },
  {
   "cell_type": "markdown",
   "id": "56327205-74b1-43b4-a1c6-5232b9e341b8",
   "metadata": {},
   "source": [
    "The dataset has **528.575** records. The **target** variable has 3 possible values - **0**, **1** and **2**. The values are strongly imbalanced. "
   ]
  },
  {
   "cell_type": "markdown",
   "id": "e9310ee4-3e7e-40b1-8e78-ad2a0601f24f",
   "metadata": {},
   "source": [
    "| Class | Count     | Percentage | \n",
    "|-------|-----------|------------|\n",
    "|   0   | 525812    |  99,48 %   | \n",
    "|   1   | 1305      |  0,25 %    | \n",
    "|   2   | 1458      |  0,28 %    | "
   ]
  },
  {
   "cell_type": "markdown",
   "id": "60068054-78be-4c33-915d-8ee945cd5063",
   "metadata": {},
   "source": [
    "#### 7.1.1 Save Attributes and Target DataFrames"
   ]
  },
  {
   "cell_type": "code",
   "execution_count": 55,
   "id": "cfb29fa4-5ed0-4ee5-b3b3-5798794b6c28",
   "metadata": {},
   "outputs": [],
   "source": [
    "attributes = btc_price_data_1_year.drop(columns=['target'])  # Features\n",
    "target = btc_price_data_1_year['target']  # Target variable"
   ]
  },
  {
   "cell_type": "code",
   "execution_count": 56,
   "id": "67d2fedb-9edf-4e1b-8c8e-f798ac73a5ee",
   "metadata": {},
   "outputs": [
    {
     "data": {
      "text/plain": [
       "timestamp\n",
       "2023-11-01 00:56:00    0\n",
       "2023-11-01 00:57:00    0\n",
       "2023-11-01 00:58:00    0\n",
       "2023-11-01 00:59:00    0\n",
       "2023-11-01 01:00:00    0\n",
       "                      ..\n",
       "2024-10-31 23:55:00    0\n",
       "2024-10-31 23:56:00    0\n",
       "2024-10-31 23:57:00    0\n",
       "2024-10-31 23:58:00    0\n",
       "2024-10-31 23:59:00    0\n",
       "Name: target, Length: 528575, dtype: int64"
      ]
     },
     "execution_count": 56,
     "metadata": {},
     "output_type": "execute_result"
    }
   ],
   "source": [
    "target"
   ]
  },
  {
   "cell_type": "code",
   "execution_count": 57,
   "id": "6076e4ed-adbb-4f17-8e8b-58f958062e6b",
   "metadata": {},
   "outputs": [],
   "source": [
    "def save_data(df, filename='bitcoin_historical_data.csv'):\n",
    "    \"\"\"\n",
    "    Saves data with a backup file\n",
    "    \"\"\"\n",
    "    # Save file\n",
    "    # df.to_csv(filename, index=False)\n",
    "    df.to_csv(filename)\n",
    "    \n",
    "    print(f\"Data saved to {filename}\")"
   ]
  },
  {
   "cell_type": "code",
   "execution_count": 58,
   "id": "cfb6b5a9-c463-4352-83c7-0a8223e6f5bf",
   "metadata": {},
   "outputs": [
    {
     "name": "stdout",
     "output_type": "stream",
     "text": [
      "Data saved to data/btc_price_data_1_year_attributes.csv\n"
     ]
    }
   ],
   "source": [
    "# Save the features to a csv file\n",
    "save_data(attributes, filename = 'data/btc_price_data_1_year_attributes.csv')"
   ]
  },
  {
   "cell_type": "code",
   "execution_count": 59,
   "id": "bfd9d74a-aa74-439f-91e1-5f26a2f98459",
   "metadata": {},
   "outputs": [
    {
     "name": "stdout",
     "output_type": "stream",
     "text": [
      "Data saved to data/btc_price_data_1_year_target.csv\n"
     ]
    }
   ],
   "source": [
    "# Save the target variable to a csv file\n",
    "save_data(target, filename = 'data/btc_price_data_1_year_target.csv')"
   ]
  },
  {
   "cell_type": "markdown",
   "id": "06aefc21-5fee-4539-9266-6d0dae5abfd6",
   "metadata": {},
   "source": [
    "#### 7.1.1 Data Splitting"
   ]
  },
  {
   "cell_type": "code",
   "execution_count": 61,
   "id": "613ba2d6-d65b-49a6-ab12-ad233b2bc8d0",
   "metadata": {},
   "outputs": [],
   "source": [
    "attributes_train, attributes_test, target_train, target_test = train_test_split(\n",
    "    attributes, \n",
    "    target, \n",
    "    test_size=0.2, \n",
    "    shuffle = False,\n",
    "    random_state = 42\n",
    ")"
   ]
  },
  {
   "cell_type": "code",
   "execution_count": 62,
   "id": "c677e318-6785-4612-9566-3e7244f8afde",
   "metadata": {},
   "outputs": [
    {
     "data": {
      "text/plain": [
       "((422860, 52), (105715, 52))"
      ]
     },
     "execution_count": 62,
     "metadata": {},
     "output_type": "execute_result"
    }
   ],
   "source": [
    "attributes_train.shape, attributes_test.shape"
   ]
  },
  {
   "cell_type": "code",
   "execution_count": 63,
   "id": "87f39162-bad1-4962-92e3-3486fe67181d",
   "metadata": {},
   "outputs": [
    {
     "data": {
      "text/plain": [
       "((422860,), (105715,))"
      ]
     },
     "execution_count": 63,
     "metadata": {},
     "output_type": "execute_result"
    }
   ],
   "source": [
    "target_train.shape, target_test.shape"
   ]
  },
  {
   "cell_type": "markdown",
   "id": "b188c2a9-032d-4967-b538-fcff287a3e42",
   "metadata": {},
   "source": [
    "Plot the splitted data:"
   ]
  },
  {
   "cell_type": "code",
   "execution_count": 110,
   "id": "e0cf5b45-6797-4c95-bcc1-360b91beb9d9",
   "metadata": {},
   "outputs": [],
   "source": [
    "def plot_splitted_market_data(dates, prices, labels, title):\n",
    "    plt.figure(figsize=(14, 7))\n",
    "    \n",
    "    ax = plt.gca()\n",
    "    ax.set_facecolor('gainsboro')\n",
    "    ax.xaxis.grid(True, color='white')\n",
    "    ax.yaxis.grid(True, color='white')\n",
    "\n",
    "    # x_lim_start = dates[0][0]\n",
    "    # x_lim_end = dates[1][len(dates[1]) - 1]\n",
    "    # # x_lim_end = dates[len(dates[0]) + len(dates[1]) - 1]\n",
    "    # # plt.xlim(x_lim_start, x_lim_end)\n",
    "    # ax.set_xlim(xmin=x_lim_start,xmax=x_lim_end)\n",
    "    \n",
    "    # plt.plot(attributes_train.index, attributes_train.close)\n",
    "    # plt.plot(attributes_test.index, attributes_test.close)\n",
    "    plt.plot(dates[0], prices[0])\n",
    "    plt.plot(dates[1], prices[1])\n",
    "    \n",
    "    plt.xlabel(labels[0])\n",
    "    plt.ylabel(labels[1])\n",
    "\n",
    "    plt.title(title)\n",
    "    plt.show()"
   ]
  },
  {
   "cell_type": "code",
   "execution_count": 111,
   "id": "e4ab8549-e53f-4135-886d-730b58803586",
   "metadata": {},
   "outputs": [
    {
     "data": {
      "image/png": "[encoded data removed]",
      "text/plain": [
       "<Figure size 1400x700 with 1 Axes>"
      ]
     },
     "metadata": {},
     "output_type": "display_data"
    }
   ],
   "source": [
    "dates_train = attributes_train.index\n",
    "prices_close_train = attributes_train.close\n",
    "\n",
    "dates_test = attributes_test.index\n",
    "prices_close_test = attributes_test.close\n",
    "\n",
    "dates = [dates_train, dates_test]\n",
    "prices_close_btc = [prices_close_train, prices_close_test]\n",
    "\n",
    "title_btc = 'Training-Testing Data Split (Nov 2023 - Nov 2024)'\n",
    "\n",
    "labels = ['Date', 'Price [USD]']\n",
    "\n",
    "plot_splitted_market_data(dates, prices_close_btc, labels, title_btc)"
   ]
  },
  {
   "cell_type": "markdown",
   "id": "b66ceadb-4a04-4aed-85db-2d080448abeb",
   "metadata": {},
   "source": [
    "### 7.2. Oversampling - Address Class Imbalance"
   ]
  },
  {
   "cell_type": "markdown",
   "id": "f6beeedb-2aa1-4e27-a0c9-41fa589fb15e",
   "metadata": {},
   "source": [
    "Since the data set is very unbalanced, we will use oversampling to generate synthetic data for the minority classes."
   ]
  },
  {
   "cell_type": "markdown",
   "id": "8a5ee114-cede-46a7-80b8-9821bccd5b47",
   "metadata": {},
   "source": [
    "**SMOTE** (Synthetic Minority Oversampling Technique) and **ADASYN** (Adaptive Synthetic Sampling) are two popular oversampling techniques for addressing class imbalance in datasets. Both generate synthetic samples for the minority class to balance the dataset, but they differ in how they create these samples. Below is a detailed comparison to help you understand their strengths and use cases."
   ]
  },
  {
   "cell_type": "markdown",
   "id": "4c88f1c0-f6e1-4fd1-b827-6018fffc99ec",
   "metadata": {},
   "source": [
    "##### **Core Approach**\n",
    "\n",
    "###### **SMOTE**\n",
    "- **How it works**: \n",
    "  - For each minority class sample, SMOTE selects one or more nearest neighbors.\n",
    "  - It creates synthetic samples by interpolating between the sample and its neighbors.\n",
    "  - The interpolation is linear, producing samples along the line segments between the selected points.\n",
    "- **Focus**: Generates synthetic samples evenly across the minority class.\n",
    "\n",
    "###### **ADASYN**\n",
    "- **How it works**: \n",
    "  - ADASYN builds on SMOTE by focusing more on the minority class samples that are harder to classify.\n",
    "  - It identifies minority samples near the decision boundary (using k-nearest neighbors) and generates more synthetic samples in these regions.\n",
    "  - The number of synthetic samples per instance is proportional to the local difficulty (measured by the density of majority class samples nearby).\n",
    "- **Focus**: Creates samples adaptively, concentrating on areas where the minority class is harder to learn."
   ]
  },
  {
   "cell_type": "markdown",
   "id": "9ec98925-38d3-4e92-843e-992607ecd35a",
   "metadata": {},
   "source": [
    "##### **Key Differences**\n",
    "\n",
    "| Feature                     | **SMOTE**                                  | **ADASYN**                                      |\n",
    "|-----------------------------|---------------------------------------------|------------------------------------------------|\n",
    "| **Generation Strategy**     | Uniformly interpolates between samples.     | Focuses on generating samples near decision boundaries. |\n",
    "| **Focus**                   | Balances the dataset evenly.               | Adaptive oversampling based on instance difficulty.      |\n",
    "| **Synthetic Sample Location** | Can lead to over-generalization.           | More targeted and refined near complex regions. |\n",
    "| **Computational Complexity**| Relatively lower computational cost.        | Slightly higher due to the adaptive nature.     |\n",
    "| **Risk of Overfitting**     | Higher risk if the boundary is noisy.       | Reduced overfitting near decision boundaries.   |"
   ]
  },
  {
   "cell_type": "markdown",
   "id": "77423512-2fd3-4567-bbc1-e30912cb58ce",
   "metadata": {},
   "source": [
    "##### **Strengths**\n",
    "\n",
    "###### **SMOTE**\n",
    "- **Advantages**:\n",
    "  - Simple and effective for moderately imbalanced datasets.\n",
    "  - Maintains the distribution of the minority class.\n",
    "- **When to Use**:\n",
    "  - When the imbalance is not extreme.\n",
    "  - When you want a more uniform oversampling approach.\n",
    "\n",
    "###### **ADASYN**\n",
    "- **Advantages**:\n",
    "  - Focuses on challenging regions, improving the model's ability to classify difficult cases.\n",
    "  - Reduces the risk of overgeneralization by targeting specific areas.\n",
    "- **When to Use**:\n",
    "  - For highly imbalanced datasets.\n",
    "  - When the minority class has complex boundaries or is under-represented in critical regions."
   ]
  },
  {
   "cell_type": "markdown",
   "id": "abc1f2bb-f75a-4acc-848b-dd6e71fc40e0",
   "metadata": {},
   "source": [
    "##### **Limitations**\n",
    "\n",
    "###### **SMOTE**\n",
    "- Does not consider the difficulty of classification.\n",
    "- Can create synthetic samples in regions that are already well-represented, potentially leading to redundancy.\n",
    "- May cause overfitting in noisy datasets.\n",
    "\n",
    "###### **ADASYN**\n",
    "- Slightly more computationally expensive than SMOTE.\n",
    "- If the data is very noisy, it might generate samples in misleading or non-representative regions."
   ]
  },
  {
   "cell_type": "markdown",
   "id": "26a48d5d-5199-4f50-95be-4f785f7d11ba",
   "metadata": {},
   "source": [
    "#### 7.2.1. SMOTE (Synthetic Minority Oversampling Technique)"
   ]
  },
  {
   "cell_type": "code",
   "execution_count": 8,
   "id": "bf76a408-2def-410c-8c06-1a0abde733ce",
   "metadata": {},
   "outputs": [],
   "source": [
    "def create_oversampling_smote(attributes_train, target_train):\n",
    "    \"\"\"\n",
    "    Apply SMOTE(Synthetic Minority Oversampling Technique) to generate synthetic examples for minority classes\n",
    "    \"\"\"\n",
    "    smote = SMOTE(random_state=42)\n",
    "    attributes_train_smote, target_train_smote = smote.fit_resample(attributes_train, target_train)\n",
    "    \n",
    "    print(\"Original Class Distribution (SMOTE):\", np.bincount(target_train))\n",
    "    print(\"Balanced Class Distribution (SMOTE):\", np.bincount(target_train_smote))\n",
    "\n",
    "    return attributes_train_smote, target_train_smote"
   ]
  },
  {
   "cell_type": "markdown",
   "id": "2a771856-fd93-4127-ac8b-9e956205759c",
   "metadata": {},
   "source": [
    "#### 7.2.2. ADASYN (Adaptive Synthetic Sampling)"
   ]
  },
  {
   "cell_type": "code",
   "execution_count": 9,
   "id": "753bb0ae-ef28-4e01-b370-63e41f13cee5",
   "metadata": {},
   "outputs": [],
   "source": [
    "def create_oversampling_adasyn(attributes_train, target_train):\n",
    "    \"\"\"\n",
    "    Apply ADASYN(Adaptive Synthetic Sampling) to generate synthetic examples for minority classes\n",
    "    \"\"\"\n",
    "    adasyn = ADASYN(random_state=42)\n",
    "    attributes_train_adasyn, target_train_adasyn = adasyn.fit_resample(attributes_train, target_train)\n",
    "    \n",
    "    print(\"Original Class Distribution (ADASYN):\", np.bincount(target_train))\n",
    "    print(\"Balanced Class Distribution (ADASYN):\", np.bincount(target_train_adasyn))\n",
    "\n",
    "    return attributes_train_adasyn, target_train_adasyn"
   ]
  },
  {
   "cell_type": "markdown",
   "id": "2fa3efa1-2972-4c15-ba0d-c46652c08656",
   "metadata": {},
   "source": [
    "#### 7.2.3. Set Oversampling Type"
   ]
  },
  {
   "cell_type": "code",
   "execution_count": 10,
   "id": "4ca30ea2-53e5-4aaa-b158-210cb4b85598",
   "metadata": {},
   "outputs": [],
   "source": [
    "def create_oversampling(attributes_train, target_train, oversampling_type = None):\n",
    "    \"\"\"\n",
    "    Apply 'oversampling_type' to generate synthetic examples for minority classes\n",
    "    \"\"\"\n",
    "    if oversampling_type == 'smote':\n",
    "        return create_oversampling_smote(attributes_train, target_train)\n",
    "    elif oversampling_type == 'adasyn':\n",
    "        return create_oversampling_adasyn(attributes_train, target_train)\n",
    "    else:\n",
    "        print(f\"Invalid oversampling type: [{oversampling_type}]\")\n",
    "        return attributes_train, target_train"
   ]
  },
  {
   "cell_type": "markdown",
   "id": "baa72b6d-6293-4942-b65e-fb830390fc5a",
   "metadata": {},
   "source": [
    "### 7.3. Selecting Score Function"
   ]
  },
  {
   "cell_type": "markdown",
   "id": "da115e4a-f3d7-47e1-ad5c-1985bc83088a",
   "metadata": {},
   "source": [
    "Choosing the best scoring function for an imbalanced model depends on our specific goals, the nature of the imbalance, and how important it is to accurately identify minority classes. Below is an overview of the most suitable metrics for unbalanced datasets with multi-class classification:"
   ]
  },
  {
   "cell_type": "markdown",
   "id": "893d5d6a-5316-4b8b-a045-b7bd7893775a",
   "metadata": {
    "jp-MarkdownHeadingCollapsed": true
   },
   "source": [
    "1. **Macro F1 Score**\n",
    "    - **Description**: The F1 score is the harmonic mean of precision and recall. The macro version calculates the F1 score for each class independently and then averages them, giving equal weight to all classes, regardless of their size.\n",
    "    - **Best Use Case**: Use when all classes are equally important, and you want to evaluate the model's ability to perform well across all classes.\n",
    "2. **Balanced Accuracy**\n",
    "    - **Description**: Balanced accuracy is the average of recall obtained on each class. It accounts for class imbalance by giving equal weight to each class.\n",
    "    - **Best Use Case**: Use when the focus is on recall for all classes, ensuring minority classes are not overlooked.\n",
    "3. **Weighted F1 Score**\n",
    "    - **Description**: Similar to the macro F1 score, but the weighted version accounts for the number of samples in each class. Larger classes have more influence on the score.\n",
    "    - **Best Use Case**: Use when the performance on larger classes is also important, but you still want some recognition of minority classes.\n",
    "4. **Log Loss (Cross-Entropy Loss)**\n",
    "    - **Description**: Log loss evaluates the probabilistic predictions of the model rather than hard predictions. It penalizes confident but incorrect predictions more heavily.\n",
    "    - **Best Use Case**: Use when the quality of probability estimates is important (e.g., when the model's confidence in predictions is valuable).\n",
    "5. **Cohen's Kappa**\n",
    "    - **Description**: Cohen's Kappa measures the agreement between predicted and actual labels while accounting for the agreement occurring by chance. It's a robust metric for imbalanced datasets.\n",
    "    - **Best Use Case**: Use when you want to assess model performance relative to chance performance.\n",
    "6. **ROC AUC (One-vs-Rest or Macro)**\n",
    "    - **Description**: Measures the model's ability to distinguish between classes. For multiclass problems, you can calculate a macro-average or use the one-vs-rest (OvR) approach.\n",
    "    - **Best Use Case**: Use when evaluating the model’s ranking ability and when probabilistic predictions are available."
   ]
  },
  {
   "cell_type": "markdown",
   "id": "2cb4f784-0439-4d08-9cd7-e842f791eaed",
   "metadata": {},
   "source": [
    "##### Choosing the Best Metric\n",
    "1. **When All Classes Are Equally Important**:\n",
    "   - Use **Macro F1 Score** or **Balanced Accuracy**. These metrics give equal weight to all classes, ensuring fair evaluation of minority classes.\n",
    "\n",
    "2. **When Minority Classes Are Critical**:\n",
    "   - Use **Macro F1 Score** or **Cohen's Kappa**. These metrics are sensitive to performance on minority classes.\n",
    "\n",
    "3. **When Probabilistic Predictions Matter**:\n",
    "   - Use **Log Loss** or **ROC AUC**. These metrics evaluate the quality of the predicted probabilities.\n",
    "\n",
    "4. **When Class Proportions Matter**:\n",
    "   - Use **Weighted F1 Score**. It balances class importance based on their frequencies."
   ]
  },
  {
   "cell_type": "markdown",
   "id": "17090d32-c42a-4729-8a7a-bdbd99ffe2c8",
   "metadata": {},
   "source": [
    "Recommendation for our **highly imbalanced dataset** (Class 0: 526k, Class 1: 1,3k, Class 2: 1,5k):\n",
    "- Start with **Macro F1 Score**: This ensures that all classes, including the minority ones, are equally weighted during evaluation.\n",
    "- Combine it with **Balanced Accuracy**: To verify the recall for minority classes.\n",
    "- Optionally, calculate **Cohen's Kappa** to assess how much better the model is compared to chance."
   ]
  },
  {
   "cell_type": "markdown",
   "id": "3e0cc32f-6ea2-4b70-a715-84ac11426d79",
   "metadata": {},
   "source": [
    "##### Final Decision\n",
    "\n",
    "We will use the **Macro F1 Score**. This is typically the most interpretable and fair metric for imbalanced datasets, especially when minority class performance is critical."
   ]
  },
  {
   "cell_type": "markdown",
   "id": "36fc212d-f64f-44c3-88d5-91a646ecebc1",
   "metadata": {},
   "source": [
    "### 7.4. Classification Report"
   ]
  },
  {
   "cell_type": "markdown",
   "id": "c6fddc68-d996-44a8-90bb-2bc3d9b32d0e",
   "metadata": {},
   "source": [
    "A **classification report** is a performance evaluation metric used to summarize the results of a classification model. It provides insights into how well the model is performing for each class in terms of precision, recall, F1-score, and support. Here's an explanation of the key metrics:"
   ]
  },
  {
   "cell_type": "markdown",
   "id": "cec92b5e-27ee-4fda-92ff-de7d38e7cfda",
   "metadata": {},
   "source": [
    "1. **Precision**\n",
    "    - **Definition**: Precision measures the accuracy of positive predictions. It tells us what proportion of predicted positive instances are actually positive.\n",
    "    - **Interpretation**: High precision indicates that the model is making very few false positive errors.\n",
    "    - **Formula**: $$\\text{Precision} = \\frac{\\text{True Positives (TP)}}{\\text{True Positives (TP)} + \\text{False Positives (FP)}}$$\n",
    "\n",
    "2. **Recall (Sensitivity or True Positive Rate)**\n",
    "    - **Definition**: Recall measures the ability of the model to capture all positive instances. It tells us what proportion of actual positive instances were correctly identified.\n",
    "    - **Interpretation**: High recall indicates that the model captures most of the positive instances.\n",
    "    - **Formula**:  $$\\text{Recall} = \\frac{\\text{True Positives (TP)}}{\\text{True Positives (TP)} + \\text{False Negatives (FN)}}$$\n",
    "\n",
    "3. **F1-Score**\n",
    "    - **Definition**: The F1-score is the harmonic mean of precision and recall. It provides a single metric that balances the trade-off between precision and recall.\n",
    "    - **Interpretation**: A high F1-score indicates a good balance between precision and recall. It is particularly useful when the class distribution is imbalanced.\n",
    "    - **Formula**: $$\\text{F1-score} = 2 \\times \\frac{\\text{Precision} \\times \\text{Recall}}{\\text{Precision} + \\text{Recall}}$$\n",
    "\n",
    "4. **Support**\n",
    "    - **Definition**: Support is the number of actual occurrences of each class in the dataset. It indicates the size of the ground truth data for each class.\n",
    "    - **Interpretation**: While support is not a performance metric, it helps in understanding how many instances belong to each class, which is essential for analyzing model performance in the context of imbalanced datasets.\n",
    "\n"
   ]
  },
  {
   "cell_type": "markdown",
   "id": "9cdd9b24-6c38-4eae-8261-1b0f26ba3561",
   "metadata": {},
   "source": [
    "##### **Example of a Classification Report**\n",
    "Here’s a typical classification report:\n",
    "\n",
    "| Class      | Precision | Recall | F1-Score | Support |\n",
    "|------------|-----------|--------|----------|---------|\n",
    "| Class 0    | 0.95      | 0.98   | 0.96     | 200     |\n",
    "| Class 1    | 0.87      | 0.75   | 0.81     | 100     |\n",
    "| **Macro Avg** | 0.91      | 0.86   | 0.89     | 300     |\n",
    "| **Weighted Avg** | 0.93      | 0.93   | 0.93     | 300     |\n",
    "\n",
    "##### **Notes on Key Averages:**\n",
    "1. **Macro Average**:\n",
    "   - Arithmetic mean of the metrics across all classes (unweighted).\n",
    "   - Treats all classes equally regardless of support.\n",
    "2. **Weighted Average**:\n",
    "   - Weighted mean of the metrics, considering the support of each class.\n",
    "   - Reflects overall performance while accounting for class imbalance."
   ]
  },
  {
   "cell_type": "markdown",
   "id": "784333e4-5b88-48be-92c8-7e2ebc254235",
   "metadata": {},
   "source": [
    "## 8. Model Selection"
   ]
  },
  {
   "cell_type": "markdown",
   "id": "057a1a8d-56cf-43d5-bfcf-3bd9eba36a78",
   "metadata": {},
   "source": [
    "For our imbalanced dataset, an appropriate model needs to either inherently handle class imbalance or be complemented by techniques to mitigate the issue. We will focus on three models: **XGBoost**, **Random Forest**, and **LightGBM**."
   ]
  },
  {
   "cell_type": "markdown",
   "id": "2bdc3766-fd31-40ae-8a63-1a793513438b",
   "metadata": {},
   "source": [
    "##### 1. **Random Forest**:\n",
    "   - **Strengths**:\n",
    "     - Simple to implement and interpret, as it uses multiple decision trees.\n",
    "     - Can be adapted for imbalanced datasets using `class_weight` in Scikit-learn (`balanced` or `balanced_subsample`).\n",
    "     - Handles noisy data and large feature sets well.\n",
    "   - **Weaknesses**:\n",
    "     - May underperform on extremely imbalanced datasets if not carefully tuned or augmented with sampling techniques.\n",
    "     - Less flexible compared to gradient boosting models for fine-grained adjustments."
   ]
  },
  {
   "cell_type": "markdown",
   "id": "fc055cdf-d631-4431-93fa-d7e56bd2e8a4",
   "metadata": {},
   "source": [
    "##### 2. **XGBoost**:\n",
    "   - **Strengths**:\n",
    "     - Offers built-in functionality for handling imbalanced datasets via the `scale_pos_weight` parameter, which adjusts the weight for each class based on their frequencies.\n",
    "     - Performs well on tabular datasets and handles non-linear relationships effectively.\n",
    "     - Robust to overfitting due to regularization options (`lambda`, `alpha`).\n",
    "   - **Weaknesses**:\n",
    "     - Computationally expensive, especially for large datasets.\n",
    "     - Tuning the hyperparameters (e.g., learning rate, max depth) can be time-consuming."
   ]
  },
  {
   "cell_type": "markdown",
   "id": "9ffef6ac-2c3d-40bf-bef8-9f6e04e071c9",
   "metadata": {},
   "source": [
    "##### 3. **LightGBM**:\n",
    "   - **Strengths**:\n",
    "     - Specifically designed for speed and scalability, making it faster than XGBoost on large datasets.\n",
    "     - Like XGBoost, supports `scale_pos_weight` to handle imbalance.\n",
    "     - Optimized for sparse datasets and performs well with categorical features.\n",
    "     - Often achieves similar or better accuracy compared to XGBoost with fewer computational resources.\n",
    "   - **Weaknesses**:\n",
    "     - More sensitive to hyperparameter tuning compared to Random Forest.\n",
    "     - May require careful preprocessing of data to avoid overfitting."
   ]
  },
  {
   "cell_type": "markdown",
   "id": "6f7a3c21-3915-450f-ae78-670f8482e1e3",
   "metadata": {},
   "source": [
    "##### Comparison Table:\n",
    "\n",
    "| Model         | Handles Imbalance (Directly) | Speed/Scalability | Interpretability | Hyperparameter Sensitivity | Performance on Imbalance (Post-Tuning) |\n",
    "|---------------|-------------------------------|-------------------|------------------|----------------------------|-------------------------------|\n",
    "| Random Forest | Yes (`class_weight`)         | Moderate          | High             | Low                        | Good                           |\n",
    "| XGBoost       | Yes (`scale_pos_weight`)     | Medium            | Moderate         | High                       | Excellent                      |\n",
    "| LightGBM      | Yes (`scale_pos_weight`)     | High              | Moderate         | High                       | Excellent                      |"
   ]
  },
  {
   "cell_type": "markdown",
   "id": "fbbcae32-de46-437c-9244-d0507f9e7a30",
   "metadata": {},
   "source": [
    "#### 7.2.1. RandomForestClassifier"
   ]
  },
  {
   "cell_type": "markdown",
   "id": "c10df368-d6bf-4bc3-a25a-9781d4439bab",
   "metadata": {
    "jp-MarkdownHeadingCollapsed": true
   },
   "source": [
    "##### Recommendations:\n",
    "1. **LightGBM**: For large, imbalanced datasets, it is faster and often more accurate than XGBoost. It would be a strong alternative.\n",
    "2. **Imbalance Techniques**:\n",
    "   - Use **oversampling** (SMOTE, ADASYN) or **undersampling** to balance the dataset.\n",
    "   - Alternatively, apply **cost-sensitive learning** via weight adjustments in models.\n",
    "3. **Evaluation Metrics**:\n",
    "   - Use metrics like **F1-score**, **AUC-ROC**, or **balanced accuracy** to assess model performance, as accuracy is not meaningful for imbalanced data.\n",
    "4. **Ensemble Approaches**:\n",
    "   - Combine multiple models (e.g., stacking XGBoost, LightGBM, and Random Forest) for potentially better predictions."
   ]
  },
  {
   "cell_type": "code",
   "execution_count": null,
   "id": "8126ac6a-7688-45ec-b5b0-0e8542a27ab2",
   "metadata": {},
   "outputs": [],
   "source": []
  },
  {
   "cell_type": "markdown",
   "id": "626bb461-310f-48e5-ad4d-412850f32681",
   "metadata": {},
   "source": [
    "#### 7.2.1.2. feature_importances_"
   ]
  },
  {
   "cell_type": "code",
   "execution_count": 74,
   "id": "31abee8b-bd51-43d7-b359-8012abf42b47",
   "metadata": {},
   "outputs": [],
   "source": [
    "# Visualize feature importances\n",
    "def plot_feature_importances(model, scaler_name = 'StandardScaler'):\n",
    "    \n",
    "    # print(f\"Feature Importances for {scaler_name}:\")\n",
    "    importances = model.feature_importances_\n",
    "    sorted_indices = np.argsort(importances)[::-1]\n",
    "    \n",
    "    plt.figure(figsize=(10, 6))\n",
    "    plt.bar(range(attributes_train.shape[1]), importances[sorted_indices], align='center')\n",
    "    plt.xticks(range(attributes_train.shape[1]), attributes.columns[sorted_indices], rotation=90)\n",
    "    plt.title(f\"Feature Importances ({scaler_name})\")\n",
    "    plt.tight_layout()\n",
    "    plt.show()\n"
   ]
  },
  {
   "cell_type": "code",
   "execution_count": 75,
   "id": "1d060118-eb32-4b76-87ca-df239fd368f6",
   "metadata": {},
   "outputs": [],
   "source": [
    "#plot_feature_importances(model)"
   ]
  },
  {
   "cell_type": "code",
   "execution_count": 76,
   "id": "d58724d2-5113-4dca-8cf5-8b7f057ef900",
   "metadata": {},
   "outputs": [],
   "source": [
    "#model.feature_importances_.sum()"
   ]
  },
  {
   "cell_type": "code",
   "execution_count": 77,
   "id": "758e4333-cdeb-4374-a0a4-8efa16baf29f",
   "metadata": {
    "scrolled": true
   },
   "outputs": [],
   "source": [
    "#result_feat_imp = list(zip(btc_price_data_1_year.columns, np.round(model.feature_importances_, 3)))"
   ]
  },
  {
   "cell_type": "code",
   "execution_count": 78,
   "id": "422807c0-39bb-468e-b7ab-721be26e5fb4",
   "metadata": {
    "scrolled": true
   },
   "outputs": [],
   "source": [
    "#pd.DataFrame(result_feat_imp).sort_values(1, ascending = False)"
   ]
  },
  {
   "cell_type": "markdown",
   "id": "3fc1d93f-e1b4-4277-99c6-9a462fd6297e",
   "metadata": {},
   "source": [
    "#### 7.2.1.3 Hyperparameter Optimization (RandomForestClassifier)"
   ]
  },
  {
   "cell_type": "markdown",
   "id": "5de3ce35-9055-480d-a1b5-6ed282577fb9",
   "metadata": {},
   "source": [
    "#### 7.2.2. XGBoost"
   ]
  },
  {
   "cell_type": "markdown",
   "id": "275b3739-3d04-406c-9cbf-8e3a90e5a58b",
   "metadata": {},
   "source": [
    "#### 7.2.2.1. Train Model"
   ]
  },
  {
   "cell_type": "markdown",
   "id": "fda1013a-c5ce-49d8-b702-f1ce13d49bc9",
   "metadata": {},
   "source": [
    "Set time series-specific hyperparameters and tune them for your data:"
   ]
  },
  {
   "cell_type": "markdown",
   "id": "a4ab788b-d438-41f1-a4ab-0d77ef85cddd",
   "metadata": {},
   "source": [
    "#### 7.2.2.2. Evaluate the Model"
   ]
  },
  {
   "cell_type": "markdown",
   "id": "2c417b4e-91e4-49fe-be06-47dc071adf48",
   "metadata": {},
   "source": [
    "#### 7.3.1. Create a Pipeline for RandomForestClassifier"
   ]
  },
  {
   "cell_type": "code",
   "execution_count": null,
   "id": "6e704b19-7dab-41c5-8056-da12963a65db",
   "metadata": {},
   "outputs": [],
   "source": [
    "#model = RandomForestClassifier(n_estimators=10, random_state=42)"
   ]
  },
  {
   "cell_type": "code",
   "execution_count": null,
   "id": "ba38d159-82ca-4c27-a507-4eb88b626f44",
   "metadata": {},
   "outputs": [],
   "source": [
    "model_pipeline_randomforest = Pipeline(\n",
    "    [\n",
    "        (\"scaler\", MinMaxScaler()),\n",
    "        (\"forest\", RandomForestClassifier(\n",
    "            class_weight='balanced', n_estimators = 300, max_depth = 10, min_samples_split = 2, random_state=42, n_jobs = 9)),\n",
    "        # (\"forestClass\", RandomForestClassifier(n_estimators=10, min_samples_split= 50, random_state=42)),\n",
    "        # (\"scaler\", StandardScaler()),\n",
    "        # (\"svd\", TruncatedSVD(n_components = 20)),\n",
    "        # (\"nb\", SGDClassifier(loss = \"hinge\"))\n",
    "    ]\n",
    ")"
   ]
  },
  {
   "cell_type": "markdown",
   "id": "c4789b11-4222-4182-975b-440ada75c12c",
   "metadata": {},
   "source": [
    "### 3.4. Step 4: Model Evaluation"
   ]
  },
  {
   "cell_type": "markdown",
   "id": "1ee2aae8-2ab2-4ac8-9dcf-c5433871136b",
   "metadata": {},
   "source": [
    "1. **Making Predictions**:\n",
    "   - Use the model to make predictions on the test dataset."
   ]
  },
  {
   "cell_type": "code",
   "execution_count": null,
   "id": "ae9aa6fb-ce70-40dc-a739-06850a5c2e56",
   "metadata": {},
   "outputs": [],
   "source": [
    "predictions = model_pipeline.predict(attributes_test)\n",
    "print(predictions)"
   ]
  },
  {
   "cell_type": "code",
   "execution_count": null,
   "id": "1741fe93-e126-472b-bf03-ce3bf2a009cb",
   "metadata": {},
   "outputs": [],
   "source": [
    "print(\"Unique classes:\", np.unique(predictions))"
   ]
  },
  {
   "cell_type": "markdown",
   "id": "6840cb49-46d9-4c0a-ad56-97a0e96e446b",
   "metadata": {},
   "source": [
    "2. **Evaluating Performance**:\n",
    "   - Use metrics for binary model evaluation, such as accuracy, precision, recall, and F1-score."
   ]
  },
  {
   "cell_type": "code",
   "execution_count": null,
   "id": "c33b65f4-0a7e-4e82-854a-8cee7a35cdf2",
   "metadata": {},
   "outputs": [],
   "source": [
    "# Check with train data\n",
    "print(classification_report(target_train, model.predict(attributes_train)))"
   ]
  },
  {
   "cell_type": "code",
   "execution_count": null,
   "id": "4bc73e93-f2f7-40d2-8444-9aae275dc3a2",
   "metadata": {},
   "outputs": [],
   "source": [
    "print(classification_report(target_test, model.predict(attributes_test)))"
   ]
  },
  {
   "cell_type": "code",
   "execution_count": null,
   "id": "5f2de851-8fda-41a9-bf5e-5a21dcb53921",
   "metadata": {},
   "outputs": [],
   "source": [
    "target_test.value_counts()"
   ]
  },
  {
   "cell_type": "code",
   "execution_count": null,
   "id": "961e32d5-f551-448a-89de-c99101d4a11d",
   "metadata": {},
   "outputs": [],
   "source": [
    "accuracy = accuracy_score(target_test, predictions)\n",
    "precision = precision_score(target_test, predictions, average='macro')\n",
    "recall = recall_score(target_test, predictions, average='macro')\n",
    "f1 = f1_score(target_test, predictions, average='macro')\n",
    "   \n",
    "print(f'Accuracy: {accuracy:.2f}')\n",
    "print(f'Precision: {precision:.2f}')\n",
    "print(f'Recall: {recall:.2f}')\n",
    "print(f'F1 Score: {f1:.2f}')"
   ]
  },
  {
   "cell_type": "code",
   "execution_count": null,
   "id": "315b5b26-8033-4833-811c-26ab57e6ddf9",
   "metadata": {},
   "outputs": [],
   "source": []
  },
  {
   "cell_type": "markdown",
   "id": "0a14c1d4-817b-401b-b596-fbab488aca87",
   "metadata": {},
   "source": [
    "## 4. Step 4: Strategy Simulation (Backtesting)\n",
    "\n",
    "Before deploying the bot in a live environment, backtest it to assess its performance on historical data.\n",
    "\n",
    "1. **Use the Test Dataset**: Evaluate how the bot would perform if buy and sell decisions had been made based on historical data.\n",
    "2. **Evaluate the Strategy**: Calculate key metrics like:\n",
    "   - **Return**: Compare achieved profit relative to a baseline (e.g., buy-and-hold).\n",
    "   - **Maximum Drawdown**: Assess the largest losses during consecutive failed trades.\n",
    "   - **Risk/Reward Ratio**."
   ]
  },
  {
   "cell_type": "markdown",
   "id": "e4922255-0e90-4fa1-8513-122e40900183",
   "metadata": {},
   "source": [
    "Backtesting is the process of evaluating the performance of a predictive model or trading strategy using historical data. In your case, since you're working with a machine learning model (e.g., LightGBM), backtesting involves simulating how your model's predictions would have performed on unseen data, particularly in the context of time-series or trading applications.\n",
    "\n",
    "---\n",
    "\n",
    "### **Why Perform Backtesting?**\n",
    "1. **Assess Real-World Applicability:** Understand how well your model performs in scenarios resembling actual usage.\n",
    "2. **Avoid Data Leakage:** Ensure your model generalizes well without benefiting from information it wouldn't have in a live setting.\n",
    "3. **Evaluate Profitability or Utility:** If your model is used in trading or decision-making, backtesting helps measure potential gains or losses.\n",
    "\n",
    "---\n",
    "\n",
    "### **Key Steps in Backtesting**\n",
    "\n",
    "#### **1. Define the Backtesting Framework**\n",
    "- **Prediction Horizon:** Decide how far into the future the model is predicting (e.g., next minute, hour, or day).\n",
    "- **Evaluation Metrics:** Define metrics to measure performance, such as F1-score, precision, recall, or financial metrics like profit, Sharpe ratio, etc.\n",
    "\n",
    "#### **2. Split Data Appropriately**\n",
    "In time-series data, the order of the data matters. Use methods like:\n",
    "- **Rolling Window Validation:** Train on a rolling window of data and validate on the next segment.\n",
    "- **Walk-Forward Validation:** Incrementally extend the training data and predict on the next time step.\n",
    "  \n",
    "Example:\n",
    "- Train on `data[0:100]` and test on `data[101:110]`.\n",
    "- Train on `data[0:110]` and test on `data[111:120]`.\n",
    "\n",
    "#### **3. Simulate Predictions**\n",
    "- Use your trained model to predict the target values for the test set.\n",
    "- For trading, convert predictions into buy/sell/hold decisions.\n",
    "\n",
    "#### **4. Evaluate Performance**\n",
    "- Compare predictions with actual outcomes.\n",
    "- For trading strategies, compute:\n",
    "  - **Profit/Loss:** How much you would have gained or lost using the predictions.\n",
    "  - **Hit Rate:** Percentage of correct predictions.\n",
    "  - **Drawdown:** Maximum loss experienced during the strategy.\n",
    "  - **Sharpe Ratio:** Measure of risk-adjusted return.\n",
    "\n",
    "---\n",
    "\n",
    "### **Simple Backtesting Example**\n",
    "\n",
    "#### **Example Setup**\n",
    "Suppose your model predicts a trading signal:  \n",
    "- **Buy (1)**: Buy the asset.  \n",
    "- **Sell (-1)**: Sell the asset.  \n",
    "- **Hold (0)**: Do nothing.\n",
    "\n",
    "#### **Code for Backtesting**\n",
    "\n",
    "```python\n",
    "import numpy as np\n",
    "import pandas as pd\n",
    "\n",
    "# Example dataset with model predictions and actual prices\n",
    "data = pd.DataFrame({\n",
    "    'timestamp': pd.date_range(start='2023-01-01', periods=100, freq='D'),\n",
    "    'close_price': np.random.uniform(100, 200, 100),  # Simulated prices\n",
    "    'signal': np.random.choice([-1, 0, 1], 100),     # Model predictions\n",
    "})\n",
    "\n",
    "# Calculate daily returns\n",
    "data['returns'] = data['close_price'].pct_change()\n",
    "\n",
    "# Apply model signals to compute strategy returns\n",
    "data['strategy_returns'] = data['signal'].shift(1) * data['returns']\n",
    "\n",
    "# Calculate cumulative returns\n",
    "data['cumulative_strategy_returns'] = (1 + data['strategy_returns']).cumprod()\n",
    "data['cumulative_market_returns'] = (1 + data['returns']).cumprod()\n",
    "\n",
    "# Performance Metrics\n",
    "total_return = data['cumulative_strategy_returns'].iloc[-1] - 1\n",
    "sharpe_ratio = data['strategy_returns'].mean() / data['strategy_returns'].std()\n",
    "\n",
    "print(f\"Total Return: {total_return:.2%}\")\n",
    "print(f\"Sharpe Ratio: {sharpe_ratio:.2f}\")\n",
    "\n",
    "# Visualize the results\n",
    "import matplotlib.pyplot as plt\n",
    "\n",
    "plt.figure(figsize=(12, 6))\n",
    "plt.plot(data['timestamp'], data['cumulative_strategy_returns'], label='Strategy')\n",
    "plt.plot(data['timestamp'], data['cumulative_market_returns'], label='Market')\n",
    "plt.legend()\n",
    "plt.title(\"Cumulative Returns\")\n",
    "plt.xlabel(\"Date\")\n",
    "plt.ylabel(\"Cumulative Return\")\n",
    "plt.grid()\n",
    "plt.show()\n",
    "```\n",
    "\n",
    "---\n",
    "\n",
    "### **Best Practices**\n",
    "1. **Train/Test Separation:** Ensure your model predictions are truly out-of-sample by using proper time splits.\n",
    "2. **Transaction Costs:** Include costs like fees or slippage to reflect real-world conditions.\n",
    "3. **Robust Metrics:** Evaluate using multiple metrics (e.g., precision, recall, F1-score, financial metrics).\n",
    "4. **Multiple Scenarios:** Backtest across various market conditions (bullish, bearish, sideways).\n",
    "\n",
    "Would you like to adapt this code for your dataset or analyze specific aspects like transaction costs or trading metrics?"
   ]
  },
  {
   "cell_type": "code",
   "execution_count": 114,
   "id": "02d853b3-5652-4afa-8edc-ddebef8163a0",
   "metadata": {},
   "outputs": [
    {
     "name": "stdout",
     "output_type": "stream",
     "text": [
      "Total Return: -99.99%\n",
      "Sharpe Ratio: -0.11\n"
     ]
    },
    {
     "data": {
      "image/png": "[encoded data removed]",
      "text/plain": [
       "<Figure size 1200x600 with 1 Axes>"
      ]
     },
     "metadata": {},
     "output_type": "display_data"
    }
   ],
   "source": [
    "import numpy as np\n",
    "import pandas as pd\n",
    "\n",
    "# Example dataset with model predictions and actual prices\n",
    "data = pd.DataFrame({\n",
    "    'timestamp': pd.date_range(start='2023-01-01', periods=100, freq='D'),\n",
    "    'close_price': np.random.uniform(100, 200, 100),  # Simulated prices\n",
    "    'signal': np.random.choice([-1, 0, 1], 100),     # Model predictions\n",
    "})\n",
    "\n",
    "# Calculate daily returns\n",
    "data['returns'] = data['close_price'].pct_change()\n",
    "\n",
    "# Apply model signals to compute strategy returns\n",
    "data['strategy_returns'] = data['signal'].shift(1) * data['returns']\n",
    "\n",
    "# Calculate cumulative returns\n",
    "data['cumulative_strategy_returns'] = (1 + data['strategy_returns']).cumprod()\n",
    "data['cumulative_market_returns'] = (1 + data['returns']).cumprod()\n",
    "\n",
    "# Performance Metrics\n",
    "total_return = data['cumulative_strategy_returns'].iloc[-1] - 1\n",
    "sharpe_ratio = data['strategy_returns'].mean() / data['strategy_returns'].std()\n",
    "\n",
    "print(f\"Total Return: {total_return:.2%}\")\n",
    "print(f\"Sharpe Ratio: {sharpe_ratio:.2f}\")\n",
    "\n",
    "# Visualize the results\n",
    "import matplotlib.pyplot as plt\n",
    "\n",
    "plt.figure(figsize=(12, 6))\n",
    "plt.plot(data['timestamp'], data['cumulative_strategy_returns'], label='Strategy')\n",
    "plt.plot(data['timestamp'], data['cumulative_market_returns'], label='Market')\n",
    "plt.legend()\n",
    "plt.title(\"Cumulative Returns\")\n",
    "plt.xlabel(\"Date\")\n",
    "plt.ylabel(\"Cumulative Return\")\n",
    "plt.grid()\n",
    "plt.show()"
   ]
  },
  {
   "cell_type": "markdown",
   "id": "31ef9931-4f2a-45ac-99a9-da91d7037c53",
   "metadata": {},
   "source": [
    "## 9. Further improvements"
   ]
  },
  {
   "cell_type": "markdown",
   "id": "bb6661cb-a20d-4376-9397-0f917118778d",
   "metadata": {},
   "source": [
    "### 9.1. Focal Loss"
   ]
  },
  {
   "cell_type": "markdown",
   "id": "07c35381-0d2d-4311-b7f3-0d56f3a08f6e",
   "metadata": {},
   "source": [
    "Great! Let's proceed with implementing **focal loss** in LightGBM. Since LightGBM doesn’t natively support focal loss, we need to define it as a custom objective function. Below is a step-by-step guide:\n",
    "\n",
    "---\n",
    "\n",
    "### **Step-by-Step Focal Loss Implementation**\n",
    "\n",
    "#### **1. Define the Focal Loss Function**\n",
    "The focal loss focuses more on hard-to-classify samples by modulating the loss based on the prediction probability. \n",
    "\n",
    "Here’s the implementation:\n",
    "```python\n",
    "import numpy as np\n",
    "\n",
    "def focal_loss(alpha, gamma):\n",
    "    \"\"\"\n",
    "    Focal Loss for LightGBM\n",
    "\n",
    "    Parameters:\n",
    "    - alpha: Weighting factor for the minority class (0 < alpha <= 1).\n",
    "    - gamma: Focusing parameter to reduce the relative loss for well-classified samples (gamma >= 0).\n",
    "\n",
    "    Returns:\n",
    "    - Custom focal loss function compatible with LightGBM.\n",
    "    \"\"\"\n",
    "    def focal_loss_lgbm(y_true, y_pred):\n",
    "        # Convert predictions to probabilities\n",
    "        y_pred = y_pred.reshape(-1, len(np.unique(y_true)))  # Reshape to (num_samples, num_classes)\n",
    "        y_pred = np.clip(y_pred, 1e-7, 1 - 1e-7)  # Avoid division by zero\n",
    "        softmax = np.exp(y_pred) / np.sum(np.exp(y_pred), axis=1, keepdims=True)  # Softmax probabilities\n",
    "\n",
    "        # One-hot encode y_true\n",
    "        y_true = np.eye(len(np.unique(y_true)))[y_true.astype('int')]\n",
    "\n",
    "        # Compute focal loss components\n",
    "        pt = np.sum(softmax * y_true, axis=1)  # Probability of true class\n",
    "        grad = -alpha * (1 - pt) ** gamma * (y_true - softmax)\n",
    "        hess = alpha * gamma * (1 - pt) ** (gamma - 1) * softmax * (1 - softmax)\n",
    "\n",
    "        return grad.flatten(), hess.flatten()\n",
    "\n",
    "    return focal_loss_lgbm\n",
    "```\n",
    "\n",
    "---\n",
    "\n",
    "#### **2. Train the LightGBM Model with Focal Loss**\n",
    "You need to pass this custom loss function to LightGBM during training.\n",
    "\n",
    "```python\n",
    "from lightgbm import LGBMClassifier\n",
    "from sklearn.metrics import classification_report\n",
    "\n",
    "# Parameters for focal loss\n",
    "alpha = 0.25  # Balancing factor for the minority class\n",
    "gamma = 2.0   # Focusing parameter\n",
    "\n",
    "# Initialize LightGBM\n",
    "model = LGBMClassifier(boosting_type='gbdt',\n",
    "                       objective='multiclass',  # Keep the objective as multiclass\n",
    "                       num_class=3,             # Number of classes\n",
    "                       n_estimators=100,\n",
    "                       learning_rate=0.1,\n",
    "                       random_state=42)\n",
    "\n",
    "# Train the model with focal loss\n",
    "model.fit(X_train, y_train,\n",
    "          eval_set=[(X_val, y_val)],\n",
    "          eval_metric='multi_logloss',  # Log loss for validation\n",
    "          early_stopping_rounds=10,\n",
    "          fobj=focal_loss(alpha, gamma))  # Pass the custom focal loss\n",
    "```\n",
    "\n",
    "---\n",
    "\n",
    "#### **3. Evaluate the Model**\n",
    "Once trained, evaluate the model on your validation data:\n",
    "\n",
    "```python\n",
    "# Predict and evaluate\n",
    "y_pred = model.predict(X_val)\n",
    "print(classification_report(y_val, y_pred))\n",
    "```\n",
    "\n",
    "---\n",
    "\n",
    "#### **4. Tune Alpha and Gamma**\n",
    "- **Alpha:** Balances the importance of the minority classes relative to the majority class. Values between 0.25 and 0.75 are common.\n",
    "- **Gamma:** Focuses more on hard-to-classify samples. Start with 2.0 and adjust as needed. Higher values (>2) may lead to underperformance on easier samples.\n",
    "\n",
    "You can perform grid search or manual tuning to find the best combination of `alpha` and `gamma`.\n",
    "\n",
    "---\n",
    "\n",
    "### **Next Steps**\n",
    "- Implement the code above and check the performance using metrics like **macro F1-score** and **balanced accuracy**.\n",
    "- If needed, I can guide you through the hyperparameter tuning process.\n",
    "\n",
    "Would you like to discuss hyperparameter tuning strategies or how to validate the model’s performance?"
   ]
  },
  {
   "cell_type": "code",
   "execution_count": null,
   "id": "c9e33b0f-1c18-44cf-927d-8da6e6d73c16",
   "metadata": {},
   "outputs": [],
   "source": []
  },
  {
   "cell_type": "markdown",
   "id": "9b66b9a0-89a2-4929-9ec1-0a1255d2848c",
   "metadata": {},
   "source": [
    "## References"
   ]
  },
  {
   "cell_type": "markdown",
   "id": "f8c952de-bccc-421b-8ba9-9807afa5c1bb",
   "metadata": {},
   "source": [
    "[1] Mesri, A. (2024, January 21). My Algorithmic Trading Project - Alparslan Mesri - Medium. Medium. https://alpmesri.medium.com/my-algorithmic-trading-project-6d24db04683"
   ]
  },
  {
   "cell_type": "markdown",
   "id": "b32fea7f-e3e9-4da9-ad19-5865c4c1dbcf",
   "metadata": {},
   "source": [
    "[1] Ashford, K. (2024, May 21). What is bitcoin and how does it work? Forbes Advisor. https://www.forbes.com/advisor/investing/cryptocurrency/what-is-bitcoin/"
   ]
  },
  {
   "cell_type": "markdown",
   "id": "5cee9c3d-1638-4403-bec5-d31ed723804f",
   "metadata": {},
   "source": [
    "[2] Pedregosa, F., Varoquaux, Ga\"el, Gramfort, A., Michel, V., Thirion, B., Grisel, O., … others. (2011). Scikit-learn: Machine learning in Python. Journal of Machine Learning Research, 12(Oct), 2825–2830."
   ]
  },
  {
   "cell_type": "markdown",
   "id": "71c8e00f-ded1-45a0-b114-396440777476",
   "metadata": {},
   "source": [
    "[3] Chen, T., & Guestrin, C. (2016). XGBoost: A Scalable Tree Boosting System. In Proceedings of the 22nd ACM SIGKDD International Conference on Knowledge Discovery and Data Mining (pp. 785–794). New York, NY, USA: ACM. https://doi.org/10.1145/2939672.2939785"
   ]
  },
  {
   "cell_type": "markdown",
   "id": "bf76713a-8d90-4dd7-befb-e026c0e887e6",
   "metadata": {},
   "source": [
    "[4] XGBoost Documentation — xgboost 2.1.1 documentation. (n.d.). https://xgboost.readthedocs.io/en/stable/"
   ]
  },
  {
   "cell_type": "markdown",
   "id": "e7fbefdc-0039-4f81-b824-d4d4c84d03db",
   "metadata": {},
   "source": [
    "[5] Ke, G., Meng, Q., Finley, T., Wang, T., Chen, W., Ma, W., … Liu, T.-Y. (2017). Lightgbm: A highly efficient gradient boosting decision tree. Advances in Neural Information Processing Systems, 30, 3146–3154."
   ]
  },
  {
   "cell_type": "markdown",
   "id": "3d79e656-502f-43da-874d-926cd24cdeb3",
   "metadata": {},
   "source": [
    "[6] Ho, T. K. (1995). Random decision forests. In Proceedings of 3rd international conference on document analysis and recognition (Vol. 1, pp. 278–282)."
   ]
  },
  {
   "cell_type": "markdown",
   "id": "d52cac73-ae9a-46bd-b4cf-f34a44db91f1",
   "metadata": {},
   "source": [
    "[7] Kamtziridis, G. (2024, September 26). Time Series Forecasting with XGBoost and LightGBM: Predicting Energy Consumption. Medium. https://medium.com/geokam/time-series-forecasting-with-xgboost-and-lightgbm-predicting-energy-consumption-460b675a9cee"
   ]
  },
  {
   "cell_type": "markdown",
   "id": "06b29ab3-2146-4e52-b902-453eaa4c5c69",
   "metadata": {},
   "source": [
    "[8] Kamtziridis, G. (2024b, September 26). Time Series Forecasting with XGBoost and LightGBM: Predicting Energy Consumption with Lag Features. Medium. https://medium.com/geokam/time-series-forecasting-with-xgboost-and-lightgbm-predicting-energy-consumption-with-lag-features-dbf69970a90f"
   ]
  },
  {
   "cell_type": "markdown",
   "id": "b30c6c3d-766b-42c8-bdeb-24ee5a968721",
   "metadata": {},
   "source": [
    "[9] Kamtziridis, G. (2024c, November 16). Enhancing Time Series Forecasting with XGBoost: Incorporating Rolling Statistics and Moving Averages. Medium. https://medium.com/geokam/enhancing-time-series-forecasting-with-xgboost-incorporating-rolling-statistics-and-moving-c12d136ad0a9"
   ]
  },
  {
   "cell_type": "markdown",
   "id": "6693b4e9-d217-43b2-967b-bbbc65327f36",
   "metadata": {},
   "source": [
    "[10] Meir, U. (2022, September 2). D.A.R.T — your new weapon against overfitting in boosting models. Medium. https://medium.com/meir412_37692/d-a-r-t-your-new-weapon-against-overfitting-in-boosting-models-9ea4e6aa435b"
   ]
  },
  {
   "cell_type": "code",
   "execution_count": null,
   "id": "9f4e3c81-89b4-4691-9fbe-c1599b426fac",
   "metadata": {},
   "outputs": [],
   "source": []
  },
  {
   "cell_type": "markdown",
   "id": "a5956cd2-10ea-449f-a8f0-68d4e55033ac",
   "metadata": {},
   "source": [
    "[2] Optuna: A hyperparameter optimization framework — Optuna 4.1.0 documentation. (n.d.). https://optuna.readthedocs.io/en/stable/"
   ]
  },
  {
   "cell_type": "markdown",
   "id": "844ade37-4b9e-471b-9841-668e966d19c9",
   "metadata": {},
   "source": [
    "[3] MLFlow: a tool for managing the machine learning lifecycle. (n.d.). https://mlflow.org/docs/latest/index.html"
   ]
  },
  {
   "cell_type": "markdown",
   "id": "af421579-8ec9-43e8-9f3c-7d50df51050d",
   "metadata": {},
   "source": [
    "[1] Wikipedia contributors. (2024, October 2). Random forest. Wikipedia. https://en.wikipedia.org/wiki/Random_forest"
   ]
  },
  {
   "cell_type": "markdown",
   "id": "f4d86872-a8b9-42d3-9023-d48e17e36dad",
   "metadata": {},
   "source": [
    "[1] Wikipedia contributors. (2024b, November 3). LightGBM. Wikipedia. https://en.wikipedia.org/wiki/LightGBM"
   ]
  },
  {
   "cell_type": "code",
   "execution_count": null,
   "id": "2da1c10c-91c0-4e90-beb9-5be49132bfd4",
   "metadata": {},
   "outputs": [],
   "source": []
  }
 ],
 "metadata": {
  "kernelspec": {
   "display_name": "Python 3 (ipykernel)",
   "language": "python",
   "name": "python3"
  },
  "language_info": {
   "codemirror_mode": {
    "name": "ipython",
    "version": 3
   },
   "file_extension": ".py",
   "mimetype": "text/x-python",
   "name": "python",
   "nbconvert_exporter": "python",
   "pygments_lexer": "ipython3",
   "version": "3.11.9"
  }
 },
 "nbformat": 4,
 "nbformat_minor": 5
}
