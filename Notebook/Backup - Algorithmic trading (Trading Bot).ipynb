{
 "cells": [
  {
   "cell_type": "code",
   "execution_count": 2,
   "id": "19a7c9b4-aa66-4fe4-8384-ce88ec0f3e45",
   "metadata": {
    "editable": true,
    "slideshow": {
     "slide_type": ""
    },
    "tags": []
   },
   "outputs": [],
   "source": [
    "import numpy as np\n",
    "import pandas as pd\n",
    "# install pandas_ta - https://github.com/twopirllc/pandas-ta\n",
    "import pandas_ta as ta\n",
    "\n",
    "import matplotlib.pyplot as plt\n",
    "import seaborn as sns\n",
    "\n",
    "import pickle\n",
    "import mlflow\n",
    "import time\n",
    "\n",
    "import optuna\n",
    "\n",
    "from statsmodels.tsa.seasonal import STL, seasonal_decompose\n",
    "from statsmodels.tsa.stattools import pacf\n",
    "from statsmodels.graphics.tsaplots import plot_acf, plot_pacf\n",
    "\n",
    "from scipy.signal import periodogram\n",
    "\n",
    "from sklearn.model_selection import train_test_split, TimeSeriesSplit, GridSearchCV\n",
    "from sklearn.inspection import permutation_importance\n",
    "\n",
    "# Scalers\n",
    "from sklearn.preprocessing import StandardScaler, MinMaxScaler, label_binarize\n",
    "\n",
    "# Pipelines\n",
    "from sklearn.pipeline import Pipeline\n",
    "# from sklearn.compose import ColumnTransformer\n",
    "\n",
    "from imblearn.over_sampling import SMOTE\n",
    "\n",
    "# Metrics\n",
    "from sklearn.metrics import classification_report, roc_auc_score, roc_curve, auc, precision_score, accuracy_score, recall_score, f1_score, precision_recall_curve\n",
    "\n",
    "from sklearn.linear_model import LogisticRegression, SGDClassifier\n",
    "from sklearn.ensemble import RandomForestClassifier\n",
    "\n",
    "from xgboost import XGBClassifier\n"
   ]
  },
  {
   "cell_type": "markdown",
   "id": "c3fa6c9f-6b04-4c5e-bb67-9818ac98ea3b",
   "metadata": {},
   "source": [
    "# Algorithmic Trading Bot"
   ]
  },
  {
   "cell_type": "markdown",
   "id": "e4f1fb53-dae0-4478-beb7-fbed608df0cc",
   "metadata": {},
   "source": [
    "## TODO: 1. Introduction"
   ]
  },
  {
   "cell_type": "code",
   "execution_count": null,
   "id": "d1a56aa2-4c0c-45b8-941b-969e831a0966",
   "metadata": {},
   "outputs": [],
   "source": []
  },
  {
   "cell_type": "markdown",
   "id": "e87989c7-124b-4937-9e4a-aafecd891ef3",
   "metadata": {},
   "source": [
    "## 2. Methodology and Research Design"
   ]
  },
  {
   "cell_type": "code",
   "execution_count": null,
   "id": "bffe33d9-913f-4c08-ab75-bedf62a94757",
   "metadata": {},
   "outputs": [],
   "source": []
  },
  {
   "cell_type": "markdown",
   "id": "f0a9dd9a-4c9b-4970-9b83-85f410ab5c9a",
   "metadata": {},
   "source": [
    "## 3. Data Acquisition"
   ]
  },
  {
   "cell_type": "code",
   "execution_count": null,
   "id": "8fa6c85d-ac80-484f-8ff0-340a1d1adac8",
   "metadata": {},
   "outputs": [],
   "source": []
  },
  {
   "cell_type": "markdown",
   "id": "6423a7c1-3097-4213-8fdb-899f493e0eba",
   "metadata": {},
   "source": [
    "## 4. Data Processing"
   ]
  },
  {
   "cell_type": "markdown",
   "id": "5fc8571a-b8fb-4198-a78b-2da6e86a558f",
   "metadata": {},
   "source": [
    "First, gather historical Bitcoin price data, which will be used for model training. Ideally, this data should include:\n",
    "\n",
    "1. **Price Data**: Open, close, high, and low prices over specific time intervals (e.g., daily, hourly).\n",
    "2. **Trading Volumes**: The amount of Bitcoin traded during the respective time intervals.\n",
    "3. **Technical Indicators**: Calculate indicators like RSI, MACD, Moving Averages, etc., commonly used for trading decisions.\n",
    "\n",
    "You can use APIs from **Binance**, **Coinbase Pro**, or **Yahoo Finance** to download this data."
   ]
  },
  {
   "cell_type": "markdown",
   "id": "2402c733-f0ac-4e28-8e49-218add3434e7",
   "metadata": {},
   "source": [
    "### 1.1. Gather historical Bitcoin price data"
   ]
  },
  {
   "cell_type": "markdown",
   "id": "2106b113-6933-4da7-b646-8531d0498fe9",
   "metadata": {},
   "source": [
    "**Price Data**: Gathered the open, close, high, and low prices over specific time intervals (every minute)"
   ]
  },
  {
   "cell_type": "code",
   "execution_count": 3,
   "id": "c51834dc-1ca7-4d60-a0b9-75f674b76247",
   "metadata": {},
   "outputs": [
    {
     "data": {
      "text/html": [
       "<div>\n",
       "<style scoped>\n",
       "    .dataframe tbody tr th:only-of-type {\n",
       "        vertical-align: middle;\n",
       "    }\n",
       "\n",
       "    .dataframe tbody tr th {\n",
       "        vertical-align: top;\n",
       "    }\n",
       "\n",
       "    .dataframe thead th {\n",
       "        text-align: right;\n",
       "    }\n",
       "</style>\n",
       "<table border=\"1\" class=\"dataframe\">\n",
       "  <thead>\n",
       "    <tr style=\"text-align: right;\">\n",
       "      <th></th>\n",
       "      <th>timestamp</th>\n",
       "      <th>open</th>\n",
       "      <th>high</th>\n",
       "      <th>low</th>\n",
       "      <th>close</th>\n",
       "      <th>volume</th>\n",
       "      <th>date</th>\n",
       "      <th>time</th>\n",
       "    </tr>\n",
       "  </thead>\n",
       "  <tbody>\n",
       "    <tr>\n",
       "      <th>0</th>\n",
       "      <td>2023-11-01 00:00:00</td>\n",
       "      <td>34618.86</td>\n",
       "      <td>34676.51</td>\n",
       "      <td>34656.38</td>\n",
       "      <td>34667.88</td>\n",
       "      <td>48.953000</td>\n",
       "      <td>2023-11-01</td>\n",
       "      <td>00:00:00</td>\n",
       "    </tr>\n",
       "    <tr>\n",
       "      <th>1</th>\n",
       "      <td>2023-11-01 00:01:00</td>\n",
       "      <td>34642.54</td>\n",
       "      <td>34687.53</td>\n",
       "      <td>34673.30</td>\n",
       "      <td>34642.82</td>\n",
       "      <td>16.178075</td>\n",
       "      <td>2023-11-01</td>\n",
       "      <td>00:01:00</td>\n",
       "    </tr>\n",
       "    <tr>\n",
       "      <th>2</th>\n",
       "      <td>2023-11-01 00:02:00</td>\n",
       "      <td>34637.97</td>\n",
       "      <td>34656.82</td>\n",
       "      <td>34642.53</td>\n",
       "      <td>34656.56</td>\n",
       "      <td>8.753120</td>\n",
       "      <td>2023-11-01</td>\n",
       "      <td>00:02:00</td>\n",
       "    </tr>\n",
       "    <tr>\n",
       "      <th>3</th>\n",
       "      <td>2023-11-01 00:03:00</td>\n",
       "      <td>34617.22</td>\n",
       "      <td>34656.56</td>\n",
       "      <td>34656.56</td>\n",
       "      <td>34629.34</td>\n",
       "      <td>11.308610</td>\n",
       "      <td>2023-11-01</td>\n",
       "      <td>00:03:00</td>\n",
       "    </tr>\n",
       "    <tr>\n",
       "      <th>4</th>\n",
       "      <td>2023-11-01 00:04:00</td>\n",
       "      <td>34597.99</td>\n",
       "      <td>34630.42</td>\n",
       "      <td>34629.41</td>\n",
       "      <td>34622.27</td>\n",
       "      <td>8.583808</td>\n",
       "      <td>2023-11-01</td>\n",
       "      <td>00:04:00</td>\n",
       "    </tr>\n",
       "    <tr>\n",
       "      <th>...</th>\n",
       "      <td>...</td>\n",
       "      <td>...</td>\n",
       "      <td>...</td>\n",
       "      <td>...</td>\n",
       "      <td>...</td>\n",
       "      <td>...</td>\n",
       "      <td>...</td>\n",
       "      <td>...</td>\n",
       "    </tr>\n",
       "    <tr>\n",
       "      <th>528627</th>\n",
       "      <td>2024-10-31 23:56:00</td>\n",
       "      <td>70238.76</td>\n",
       "      <td>70248.97</td>\n",
       "      <td>70248.97</td>\n",
       "      <td>70238.76</td>\n",
       "      <td>1.189134</td>\n",
       "      <td>2024-10-31</td>\n",
       "      <td>23:56:00</td>\n",
       "    </tr>\n",
       "    <tr>\n",
       "      <th>528628</th>\n",
       "      <td>2024-10-31 23:57:00</td>\n",
       "      <td>70218.00</td>\n",
       "      <td>70250.00</td>\n",
       "      <td>70238.77</td>\n",
       "      <td>70233.24</td>\n",
       "      <td>4.767082</td>\n",
       "      <td>2024-10-31</td>\n",
       "      <td>23:57:00</td>\n",
       "    </tr>\n",
       "    <tr>\n",
       "      <th>528629</th>\n",
       "      <td>2024-10-31 23:58:00</td>\n",
       "      <td>70193.97</td>\n",
       "      <td>70242.25</td>\n",
       "      <td>70232.55</td>\n",
       "      <td>70207.78</td>\n",
       "      <td>9.589688</td>\n",
       "      <td>2024-10-31</td>\n",
       "      <td>23:58:00</td>\n",
       "    </tr>\n",
       "    <tr>\n",
       "      <th>528630</th>\n",
       "      <td>2024-10-31 23:59:00</td>\n",
       "      <td>70175.16</td>\n",
       "      <td>70207.79</td>\n",
       "      <td>70207.79</td>\n",
       "      <td>70197.83</td>\n",
       "      <td>7.112237</td>\n",
       "      <td>2024-10-31</td>\n",
       "      <td>23:59:00</td>\n",
       "    </tr>\n",
       "    <tr>\n",
       "      <th>528631</th>\n",
       "      <td>2024-11-01 00:00:00</td>\n",
       "      <td>70162.00</td>\n",
       "      <td>70220.23</td>\n",
       "      <td>70198.02</td>\n",
       "      <td>70209.92</td>\n",
       "      <td>6.068436</td>\n",
       "      <td>2024-11-01</td>\n",
       "      <td>00:00:00</td>\n",
       "    </tr>\n",
       "  </tbody>\n",
       "</table>\n",
       "<p>528632 rows × 8 columns</p>\n",
       "</div>"
      ],
      "text/plain": [
       "                  timestamp      open      high       low     close  \\\n",
       "0       2023-11-01 00:00:00  34618.86  34676.51  34656.38  34667.88   \n",
       "1       2023-11-01 00:01:00  34642.54  34687.53  34673.30  34642.82   \n",
       "2       2023-11-01 00:02:00  34637.97  34656.82  34642.53  34656.56   \n",
       "3       2023-11-01 00:03:00  34617.22  34656.56  34656.56  34629.34   \n",
       "4       2023-11-01 00:04:00  34597.99  34630.42  34629.41  34622.27   \n",
       "...                     ...       ...       ...       ...       ...   \n",
       "528627  2024-10-31 23:56:00  70238.76  70248.97  70248.97  70238.76   \n",
       "528628  2024-10-31 23:57:00  70218.00  70250.00  70238.77  70233.24   \n",
       "528629  2024-10-31 23:58:00  70193.97  70242.25  70232.55  70207.78   \n",
       "528630  2024-10-31 23:59:00  70175.16  70207.79  70207.79  70197.83   \n",
       "528631  2024-11-01 00:00:00  70162.00  70220.23  70198.02  70209.92   \n",
       "\n",
       "           volume        date      time  \n",
       "0       48.953000  2023-11-01  00:00:00  \n",
       "1       16.178075  2023-11-01  00:01:00  \n",
       "2        8.753120  2023-11-01  00:02:00  \n",
       "3       11.308610  2023-11-01  00:03:00  \n",
       "4        8.583808  2023-11-01  00:04:00  \n",
       "...           ...         ...       ...  \n",
       "528627   1.189134  2024-10-31  23:56:00  \n",
       "528628   4.767082  2024-10-31  23:57:00  \n",
       "528629   9.589688  2024-10-31  23:58:00  \n",
       "528630   7.112237  2024-10-31  23:59:00  \n",
       "528631   6.068436  2024-11-01  00:00:00  \n",
       "\n",
       "[528632 rows x 8 columns]"
      ]
     },
     "execution_count": 3,
     "metadata": {},
     "output_type": "execute_result"
    }
   ],
   "source": [
    "btc_price_data_1_year = pd.read_csv(\"data/bitcoin_historical_data_1_year.csv\")\n",
    "btc_price_data_1_year"
   ]
  },
  {
   "cell_type": "code",
   "execution_count": 4,
   "id": "0f5c52eb-0765-4b8d-a280-b9423554052f",
   "metadata": {},
   "outputs": [
    {
     "data": {
      "text/html": [
       "<div>\n",
       "<style scoped>\n",
       "    .dataframe tbody tr th:only-of-type {\n",
       "        vertical-align: middle;\n",
       "    }\n",
       "\n",
       "    .dataframe tbody tr th {\n",
       "        vertical-align: top;\n",
       "    }\n",
       "\n",
       "    .dataframe thead th {\n",
       "        text-align: right;\n",
       "    }\n",
       "</style>\n",
       "<table border=\"1\" class=\"dataframe\">\n",
       "  <thead>\n",
       "    <tr style=\"text-align: right;\">\n",
       "      <th></th>\n",
       "      <th>count</th>\n",
       "      <th>mean</th>\n",
       "      <th>std</th>\n",
       "      <th>min</th>\n",
       "      <th>25%</th>\n",
       "      <th>50%</th>\n",
       "      <th>75%</th>\n",
       "      <th>max</th>\n",
       "    </tr>\n",
       "  </thead>\n",
       "  <tbody>\n",
       "    <tr>\n",
       "      <th>open</th>\n",
       "      <td>528632.0</td>\n",
       "      <td>57052.764723</td>\n",
       "      <td>11061.821828</td>\n",
       "      <td>34079.460000</td>\n",
       "      <td>44083.780000</td>\n",
       "      <td>61015.800000</td>\n",
       "      <td>66127.655000</td>\n",
       "      <td>73718.320000</td>\n",
       "    </tr>\n",
       "    <tr>\n",
       "      <th>high</th>\n",
       "      <td>528632.0</td>\n",
       "      <td>57100.379874</td>\n",
       "      <td>11072.504219</td>\n",
       "      <td>34133.680000</td>\n",
       "      <td>44119.545000</td>\n",
       "      <td>61066.475000</td>\n",
       "      <td>66178.047500</td>\n",
       "      <td>73835.570000</td>\n",
       "    </tr>\n",
       "    <tr>\n",
       "      <th>low</th>\n",
       "      <td>528632.0</td>\n",
       "      <td>57076.624894</td>\n",
       "      <td>11067.091134</td>\n",
       "      <td>34113.930000</td>\n",
       "      <td>44103.265000</td>\n",
       "      <td>61041.025000</td>\n",
       "      <td>66153.502500</td>\n",
       "      <td>73815.030000</td>\n",
       "    </tr>\n",
       "    <tr>\n",
       "      <th>close</th>\n",
       "      <td>528632.0</td>\n",
       "      <td>57076.858348</td>\n",
       "      <td>11067.114019</td>\n",
       "      <td>34114.860000</td>\n",
       "      <td>44103.380000</td>\n",
       "      <td>61041.340000</td>\n",
       "      <td>66154.337500</td>\n",
       "      <td>73815.430000</td>\n",
       "    </tr>\n",
       "    <tr>\n",
       "      <th>volume</th>\n",
       "      <td>528632.0</td>\n",
       "      <td>8.915933</td>\n",
       "      <td>17.137792</td>\n",
       "      <td>0.001083</td>\n",
       "      <td>1.730652</td>\n",
       "      <td>4.020989</td>\n",
       "      <td>9.541108</td>\n",
       "      <td>1163.832604</td>\n",
       "    </tr>\n",
       "  </tbody>\n",
       "</table>\n",
       "</div>"
      ],
      "text/plain": [
       "           count          mean           std           min           25%  \\\n",
       "open    528632.0  57052.764723  11061.821828  34079.460000  44083.780000   \n",
       "high    528632.0  57100.379874  11072.504219  34133.680000  44119.545000   \n",
       "low     528632.0  57076.624894  11067.091134  34113.930000  44103.265000   \n",
       "close   528632.0  57076.858348  11067.114019  34114.860000  44103.380000   \n",
       "volume  528632.0      8.915933     17.137792      0.001083      1.730652   \n",
       "\n",
       "                 50%           75%           max  \n",
       "open    61015.800000  66127.655000  73718.320000  \n",
       "high    61066.475000  66178.047500  73835.570000  \n",
       "low     61041.025000  66153.502500  73815.030000  \n",
       "close   61041.340000  66154.337500  73815.430000  \n",
       "volume      4.020989      9.541108   1163.832604  "
      ]
     },
     "execution_count": 4,
     "metadata": {},
     "output_type": "execute_result"
    }
   ],
   "source": [
    "btc_price_data_1_year.describe().T"
   ]
  },
  {
   "cell_type": "code",
   "execution_count": 5,
   "id": "5c755bb2-6e19-4f5d-9da2-9169f2c1d6f0",
   "metadata": {},
   "outputs": [
    {
     "data": {
      "text/plain": [
       "timestamp     object\n",
       "open         float64\n",
       "high         float64\n",
       "low          float64\n",
       "close        float64\n",
       "volume       float64\n",
       "date          object\n",
       "time          object\n",
       "dtype: object"
      ]
     },
     "execution_count": 5,
     "metadata": {},
     "output_type": "execute_result"
    }
   ],
   "source": [
    "btc_price_data_1_year.dtypes"
   ]
  },
  {
   "cell_type": "code",
   "execution_count": 6,
   "id": "6f03d0e7-9683-4716-abe0-268e8746dc9a",
   "metadata": {},
   "outputs": [
    {
     "data": {
      "text/plain": [
       "timestamp    0\n",
       "open         0\n",
       "high         0\n",
       "low          0\n",
       "close        0\n",
       "volume       0\n",
       "date         0\n",
       "time         0\n",
       "dtype: int64"
      ]
     },
     "execution_count": 6,
     "metadata": {},
     "output_type": "execute_result"
    }
   ],
   "source": [
    "btc_price_data_1_year.isnull().sum()"
   ]
  },
  {
   "cell_type": "markdown",
   "id": "928f2690-bfa6-4ad7-9cfd-c741a57a6233",
   "metadata": {},
   "source": [
    "## 2. Data Preparation"
   ]
  },
  {
   "cell_type": "markdown",
   "id": "3e643507-1c07-4d76-997e-0e1e8eb61198",
   "metadata": {},
   "source": [
    "### 2.1. Data Tidying and Cleaning"
   ]
  },
  {
   "cell_type": "markdown",
   "id": "e55e6075-b697-45bd-994d-69e23f2ca978",
   "metadata": {},
   "source": [
    "Convert the `timestamp` column from *object* type to *datetime64* type."
   ]
  },
  {
   "cell_type": "code",
   "execution_count": 7,
   "id": "3d911855-2a58-4878-917d-cf552eb39c04",
   "metadata": {},
   "outputs": [],
   "source": [
    "btc_price_data_1_year.timestamp = pd.to_datetime(btc_price_data_1_year.timestamp)"
   ]
  },
  {
   "cell_type": "markdown",
   "id": "9a94af34-37b7-44ab-a46f-0b8e43548cf7",
   "metadata": {},
   "source": [
    "`date` and `time` columns are not needed. We will drop them."
   ]
  },
  {
   "cell_type": "code",
   "execution_count": 8,
   "id": "80349fba-3411-4706-8f7a-135f8577ae84",
   "metadata": {},
   "outputs": [],
   "source": [
    "btc_price_data_1_year = btc_price_data_1_year.drop(columns = [\"date\", \"time\"])"
   ]
  },
  {
   "cell_type": "code",
   "execution_count": 9,
   "id": "359b5725-2530-4f29-9dfd-0e87cab87f00",
   "metadata": {},
   "outputs": [
    {
     "data": {
      "text/plain": [
       "timestamp    datetime64[ns]\n",
       "open                float64\n",
       "high                float64\n",
       "low                 float64\n",
       "close               float64\n",
       "volume              float64\n",
       "dtype: object"
      ]
     },
     "execution_count": 9,
     "metadata": {},
     "output_type": "execute_result"
    }
   ],
   "source": [
    "btc_price_data_1_year.dtypes"
   ]
  },
  {
   "cell_type": "markdown",
   "id": "d3f94eb2-483b-43e8-85c5-d474eeeb3aa3",
   "metadata": {},
   "source": [
    "Set `timestamp` as index."
   ]
  },
  {
   "cell_type": "code",
   "execution_count": 10,
   "id": "ce750005-bf2a-41d2-a6de-cf7479bd7e0a",
   "metadata": {},
   "outputs": [],
   "source": [
    "btc_price_data_1_year.set_index('timestamp', inplace=True, drop = True)"
   ]
  },
  {
   "cell_type": "code",
   "execution_count": 11,
   "id": "814dac72-10b2-42de-8465-7735ef0f8ff8",
   "metadata": {},
   "outputs": [],
   "source": [
    "# Ensure the data is sorted by time\n",
    "btc_price_data_1_year = btc_price_data_1_year.sort_index()"
   ]
  },
  {
   "cell_type": "markdown",
   "id": "58910aee-b71f-4030-8606-f0b920ce1938",
   "metadata": {},
   "source": [
    "### 2.2. Plot Bitcoin Price"
   ]
  },
  {
   "cell_type": "code",
   "execution_count": 12,
   "id": "d76305ef-af7e-458a-8f32-94d5fb96559c",
   "metadata": {},
   "outputs": [],
   "source": [
    "def plot_market_data(dates, prices, labels, title):\n",
    "    plt.figure(figsize=(14, 7))\n",
    "    \n",
    "    ax = plt.gca()\n",
    "    ax.set_facecolor('gainsboro')\n",
    "    ax.xaxis.grid(True, color='white')\n",
    "    ax.yaxis.grid(True, color='white')\n",
    "\n",
    "    x_lim_start = dates[0]\n",
    "    x_lim_end = dates[len(dates) - 1]\n",
    "    # plt.xlim(x_lim_start, x_lim_end)\n",
    "    ax.set_xlim(xmin=x_lim_start,xmax=x_lim_end)\n",
    "    \n",
    "    plt.plot(dates, prices)\n",
    "    \n",
    "    plt.xlabel(labels[0])\n",
    "    plt.ylabel(labels[1])\n",
    "\n",
    "    plt.title(title)\n",
    "    plt.show()"
   ]
  },
  {
   "cell_type": "markdown",
   "id": "43168ead-27f2-40cb-847e-e0d247cba43f",
   "metadata": {},
   "source": [
    "### 2.2.1. Plot Bitcoin Price for 1 Year"
   ]
  },
  {
   "cell_type": "code",
   "execution_count": 13,
   "id": "8162ac73-f85e-4851-af29-c37fc0e5b793",
   "metadata": {},
   "outputs": [
    {
     "data": {
      "image/png": "[encoded data removed]",
      "text/plain": [
       "<Figure size 1400x700 with 1 Axes>"
      ]
     },
     "metadata": {},
     "output_type": "display_data"
    }
   ],
   "source": [
    "dates = btc_price_data_1_year.index\n",
    "prices_close_btc = btc_price_data_1_year.close\n",
    "title_btc = 'Bitcoin Price (Nov 2023 - Nov 2024)'\n",
    "\n",
    "labels = ['Date', 'Price [USD]']\n",
    "\n",
    "plot_market_data(dates, prices_close_btc, labels, title_btc)"
   ]
  },
  {
   "cell_type": "markdown",
   "id": "3972794e-5e49-4e1c-9fdb-e3a05d418d0a",
   "metadata": {},
   "source": [
    "### 2.2.2 Plot Bitcoin Price for 1 Month"
   ]
  },
  {
   "cell_type": "code",
   "execution_count": 14,
   "id": "d709a855-a9bd-4db9-8d9c-6a00d64fe5da",
   "metadata": {},
   "outputs": [
    {
     "data": {
      "image/png": "[encoded data removed]",
      "text/plain": [
       "<Figure size 1400x700 with 1 Axes>"
      ]
     },
     "metadata": {},
     "output_type": "display_data"
    }
   ],
   "source": [
    "dates = btc_price_data_1_year.index[(btc_price_data_1_year.index > '2024-10-01') & (btc_price_data_1_year.index < '2024-11-01')]\n",
    "prices_close_btc = btc_price_data_1_year.close[(btc_price_data_1_year.index > '2024-10-01') & (btc_price_data_1_year.index < '2024-11-01')]\n",
    "title_btc = 'Bitcoin Price (Oct 2024)'\n",
    "\n",
    "labels = ['Date', 'Price [USD]']\n",
    "\n",
    "plot_market_data(dates, prices_close_btc, labels, title_btc)"
   ]
  },
  {
   "cell_type": "markdown",
   "id": "39fad063-dcd2-43d2-9e25-16f042872eb9",
   "metadata": {},
   "source": [
    "## 3. Feature Engineering"
   ]
  },
  {
   "cell_type": "markdown",
   "id": "4e3165a3-2332-496a-a148-82921fcf98ea",
   "metadata": {},
   "source": [
    "### 3.1. Seasonality and Trends"
   ]
  },
  {
   "cell_type": "markdown",
   "id": "2b6f7071-dbf1-4375-97c8-4ba99ccecc04",
   "metadata": {},
   "source": [
    "#### 3.1.1. Extract the components of the datetime"
   ]
  },
  {
   "cell_type": "markdown",
   "id": "5f344c36-477f-4eec-a175-74bc49c6d930",
   "metadata": {},
   "source": [
    "We extract various components of the datetime, such as the year, month, day, hour, and day of the week. This can help the model capture seasonality and trends."
   ]
  },
  {
   "cell_type": "code",
   "execution_count": 15,
   "id": "7584fe13-3594-4d03-950c-bbf45c9098c2",
   "metadata": {},
   "outputs": [],
   "source": [
    "btc_price_data_1_year['month'] = btc_price_data_1_year.index.month\n",
    "btc_price_data_1_year['day'] = btc_price_data_1_year.index.day\n",
    "btc_price_data_1_year['weekday'] = btc_price_data_1_year.index.weekday  # Monday=0, Sunday=6\n",
    "btc_price_data_1_year['hour'] = btc_price_data_1_year.index.hour"
   ]
  },
  {
   "cell_type": "markdown",
   "id": "bf39e639-1a2c-4fb9-9d89-4ec5fdf9b2a5",
   "metadata": {},
   "source": [
    "For time-based features like hour of day, day of the week, and month, we can use cyclical encoding. This ensures that values like 23:00 and 00:00 are considered \"close\" to each other, rather than being far apart numerically."
   ]
  },
  {
   "cell_type": "code",
   "execution_count": 16,
   "id": "a0d5bf1e-47c2-43c1-ba15-9b88708557ec",
   "metadata": {},
   "outputs": [],
   "source": [
    "# Extract hour and weekday\n",
    "btc_price_data_1_year['hour_sin'] = np.sin(2 * np.pi * btc_price_data_1_year.index.hour / 24)  # Hour sin encoding\n",
    "btc_price_data_1_year['hour_cos'] = np.cos(2 * np.pi * btc_price_data_1_year.index.hour / 24)  # Hour cos encoding\n",
    "btc_price_data_1_year['weekday_sin'] = np.sin(2 * np.pi * btc_price_data_1_year.index.weekday / 7)  # Weekday sin encoding\n",
    "btc_price_data_1_year['weekday_cos'] = np.cos(2 * np.pi * btc_price_data_1_year.index.weekday / 7)  # Weekday cos encoding"
   ]
  },
  {
   "cell_type": "code",
   "execution_count": 17,
   "id": "80b652c9-adbc-4840-b830-e1238fd0c5a1",
   "metadata": {},
   "outputs": [
    {
     "data": {
      "text/plain": [
       "Index(['open', 'high', 'low', 'close', 'volume', 'month', 'day', 'weekday',\n",
       "       'hour', 'hour_sin', 'hour_cos', 'weekday_sin', 'weekday_cos'],\n",
       "      dtype='object')"
      ]
     },
     "execution_count": 17,
     "metadata": {},
     "output_type": "execute_result"
    }
   ],
   "source": [
    "btc_price_data_1_year.columns"
   ]
  },
  {
   "cell_type": "code",
   "execution_count": 18,
   "id": "0da0c47d-4d97-48fd-8376-5ebe7375bbc0",
   "metadata": {},
   "outputs": [
    {
     "data": {
      "text/plain": [
       "open           float64\n",
       "high           float64\n",
       "low            float64\n",
       "close          float64\n",
       "volume         float64\n",
       "month            int32\n",
       "day              int32\n",
       "weekday          int32\n",
       "hour             int32\n",
       "hour_sin       float64\n",
       "hour_cos       float64\n",
       "weekday_sin    float64\n",
       "weekday_cos    float64\n",
       "dtype: object"
      ]
     },
     "execution_count": 18,
     "metadata": {},
     "output_type": "execute_result"
    }
   ],
   "source": [
    "btc_price_data_1_year.dtypes"
   ]
  },
  {
   "cell_type": "markdown",
   "id": "d02ec384-d23b-4431-b363-17422b6911af",
   "metadata": {},
   "source": [
    "#### 3.1.2. STL (Seasonal-Trend decomposition using LOESS)"
   ]
  },
  {
   "cell_type": "markdown",
   "id": "4ba78ee6-d15a-4757-8ecd-e80a027dd424",
   "metadata": {},
   "source": [
    "**STL** stands for **Seasonal-Trend decomposition using LOESS**. It's a robust statistical method used to decompose a time series into three components:\n",
    "\n",
    "1. **Seasonal Component**: Represents the repeating pattern in the data over a fixed period (e.g., daily, weekly, monthly).\n",
    "2. **Trend Component**: Captures the long-term progression in the data, showing an overall increase, decrease, or stability over time.\n",
    "3. **Remainder/Residual Component**: Represents the part of the data that cannot be attributed to either seasonality or trend, often considered as noise.\n",
    "\n",
    "**Key Features of STL**\n",
    "- **Flexible**: Allows decomposition of time series with any type of seasonal pattern, not limited to a fixed frequency.\n",
    "- **Robust**: Resistant to outliers in the data.\n",
    "- **Local Regression (LOESS)**: Uses locally weighted regression to smooth the data during decomposition.\n",
    "\n",
    "**Applications**\n",
    "- **Forecasting**: By isolating the trend and seasonal components, forecasting models can be more accurate.\n",
    "- **Anomaly Detection**: The remainder component helps identify unusual spikes or dips.\n",
    "- **Visualization**: Simplifies understanding of the data by breaking it into interpretable parts."
   ]
  },
  {
   "cell_type": "code",
   "execution_count": 19,
   "id": "a5f9a6ff-a1d5-4c8f-a6c1-372227e1567a",
   "metadata": {},
   "outputs": [],
   "source": [
    "# Apply STL decomposition\n",
    "stl = STL(btc_price_data_1_year['close'], robust=True, period = 24)  # period=24 for daily seasonality in hourly data\n",
    "result = stl.fit()"
   ]
  },
  {
   "cell_type": "code",
   "execution_count": 20,
   "id": "7789b65d-c3ac-4de6-b73d-e0e0be93c5de",
   "metadata": {},
   "outputs": [
    {
     "data": {
      "image/png": "[encoded data removed]",
      "text/plain": [
       "<Figure size 640x480 with 4 Axes>"
      ]
     },
     "metadata": {},
     "output_type": "display_data"
    }
   ],
   "source": [
    "# Extract components\n",
    "btc_price_data_1_year['trend'] = result.trend\n",
    "btc_price_data_1_year['seasonal'] = result.seasonal\n",
    "btc_price_data_1_year['residual'] = result.resid\n",
    "\n",
    "# Plot the decomposition\n",
    "result.plot()\n",
    "plt.show()"
   ]
  },
  {
   "cell_type": "code",
   "execution_count": 21,
   "id": "08f51d34-3549-4c82-8677-c5063616945c",
   "metadata": {},
   "outputs": [],
   "source": [
    "# 1.Lagged Features - Lagged values of the trend, seasonal, and residual\n",
    "for lag in range(1, 4):  # Use 1, 2, 3 hours as lags\n",
    "    btc_price_data_1_year[f'trend_lag_{lag}'] = btc_price_data_1_year['trend'].shift(lag)\n",
    "    btc_price_data_1_year[f'seasonal_lag_{lag}'] = btc_price_data_1_year['seasonal'].shift(lag)\n",
    "    btc_price_data_1_year[f'residual_lag_{lag}'] = btc_price_data_1_year['residual'].shift(lag)\n",
    "\n",
    "# 2.Rolling Statistics - Rolling mean and standard deviation of each component.\n",
    "btc_price_data_1_year['trend_rolling_mean'] = btc_price_data_1_year['trend'].rolling(window=24).mean()\n",
    "btc_price_data_1_year['residual_rolling_std'] = btc_price_data_1_year['residual'].rolling(window=24).std()\n",
    "\n",
    "# 3.Differences - Calculate the difference between close price and its trend or seasonality\n",
    "btc_price_data_1_year['close_trend_diff'] = btc_price_data_1_year['close'] - btc_price_data_1_year['trend']\n",
    "btc_price_data_1_year['close_seasonal_diff'] = btc_price_data_1_year['close'] - btc_price_data_1_year['seasonal']"
   ]
  },
  {
   "cell_type": "code",
   "execution_count": 22,
   "id": "1cc499f1-a1f5-4026-8a8f-7117897e2e5c",
   "metadata": {},
   "outputs": [
    {
     "data": {
      "text/plain": [
       "(528632, 29)"
      ]
     },
     "execution_count": 22,
     "metadata": {},
     "output_type": "execute_result"
    }
   ],
   "source": [
    "btc_price_data_1_year.shape"
   ]
  },
  {
   "cell_type": "code",
   "execution_count": 23,
   "id": "6ee6d2cf-320c-4025-a996-c588b216cf3b",
   "metadata": {},
   "outputs": [
    {
     "data": {
      "text/plain": [
       "Index(['open', 'high', 'low', 'close', 'volume', 'month', 'day', 'weekday',\n",
       "       'hour', 'hour_sin', 'hour_cos', 'weekday_sin', 'weekday_cos', 'trend',\n",
       "       'seasonal', 'residual', 'trend_lag_1', 'seasonal_lag_1',\n",
       "       'residual_lag_1', 'trend_lag_2', 'seasonal_lag_2', 'residual_lag_2',\n",
       "       'trend_lag_3', 'seasonal_lag_3', 'residual_lag_3', 'trend_rolling_mean',\n",
       "       'residual_rolling_std', 'close_trend_diff', 'close_seasonal_diff'],\n",
       "      dtype='object')"
      ]
     },
     "execution_count": 23,
     "metadata": {},
     "output_type": "execute_result"
    }
   ],
   "source": [
    "btc_price_data_1_year.columns"
   ]
  },
  {
   "cell_type": "markdown",
   "id": "3f529c07-1600-4ae1-a538-43cf7888eded",
   "metadata": {},
   "source": [
    "### 3.2. Autocorrelation"
   ]
  },
  {
   "cell_type": "markdown",
   "id": "edaf70ed-5cef-4752-865e-e2494304d677",
   "metadata": {},
   "source": [
    "Autocorrelation in time series refers to the correlation of a time series with a lagged version of itself. It measures how past values of the series influence current values. Understanding autocorrelation can help identify patterns, trends, and periodicity in time-series data.\n",
    "\n",
    "##### Why Autocorrelation Matters\n",
    "- **Pattern Detection**: Helps identify repeating patterns or seasonality.\n",
    "- **Modeling Assumptions**: Many models (like ARIMA) assume specific autocorrelation structures.\n",
    "- **Feature Engineering**: Insights from autocorrelation can guide the creation of lag-based features for machine learning models.\n",
    "\n",
    "##### Types of Autocorrelation\n",
    "1. **Positive Autocorrelation**: High values follow high values, and low values follow low values.\n",
    "2. **Negative Autocorrelation**: High values follow low values, and vice versa.\n",
    "3. **No Autocorrelation**: Values are independent of each other.\n",
    "\n",
    "##### How to Measure Autocorrelation\n",
    "The **autocorrelation function (ACF)** and the **partial autocorrelation function (PACF)** are two common tools:\n",
    "\n",
    "###### 1. **Autocorrelation Function (ACF)**\n",
    "- Measures the correlation between the time series and its lagged values.\n",
    "- Useful for identifying the overall pattern of dependence at different lags.\n",
    "\n",
    "###### 2. **Partial Autocorrelation Function (PACF)**\n",
    "- Measures the correlation between the time series and its lagged values after removing the influence of shorter lags.\n",
    "- Useful for determining the direct relationship between a value and a specific lag.\n"
   ]
  },
  {
   "cell_type": "markdown",
   "id": "b8f9b00d-be0d-4745-9add-718e8a92b2a2",
   "metadata": {},
   "source": [
    "Set the count of the **lags** that will be considered during the Autocorrelation anylysis:"
   ]
  },
  {
   "cell_type": "code",
   "execution_count": 24,
   "id": "2a75aede-613c-41be-b0c3-4c26062b8f79",
   "metadata": {},
   "outputs": [],
   "source": [
    "# We use the last 3 days (3 * 24 hours) for the autocorrelation analysis\n",
    "lags = 72"
   ]
  },
  {
   "cell_type": "markdown",
   "id": "a1969671-3543-4854-b459-ce332b3e16bf",
   "metadata": {},
   "source": [
    "#### 3.2.1. Autocorrelation Function (ACF)"
   ]
  },
  {
   "cell_type": "code",
   "execution_count": 25,
   "id": "cbc4a825-09a7-4c70-aa87-5692b387c6e2",
   "metadata": {},
   "outputs": [
    {
     "data": {
      "image/png": "[encoded data removed]",
      "text/plain": [
       "<Figure size 640x480 with 1 Axes>"
      ]
     },
     "metadata": {},
     "output_type": "display_data"
    }
   ],
   "source": [
    "plot_acf(btc_price_data_1_year.close, lags = lags)\n",
    "plt.ylim(-1.2, 1.2)\n",
    "\n",
    "plt.xlabel('Lag')\n",
    "plt.ylabel('Autocorrelation')\n",
    "plt.title('ACF for \\'close\\' price')\n",
    "plt.show()"
   ]
  },
  {
   "cell_type": "code",
   "execution_count": 26,
   "id": "16ac2e85-0a3f-4bee-8f4f-a0b67aeb38c7",
   "metadata": {},
   "outputs": [
    {
     "data": {
      "image/png": "[encoded data removed]",
      "text/plain": [
       "<Figure size 640x480 with 2 Axes>"
      ]
     },
     "metadata": {},
     "output_type": "display_data"
    }
   ],
   "source": [
    "autocorr = [btc_price_data_1_year['close'].autocorr(lag) for lag in range(1, lags+1)]\n",
    "sns.heatmap(pd.DataFrame(autocorr, columns=[\"Autocorrelation\"]).T, annot=False, cmap=\"coolwarm\")\n",
    "plt.xlabel('Lag')\n",
    "plt.title('Heatmap of Autocorrelation for \\'close\\' price')\n",
    "plt.show()"
   ]
  },
  {
   "cell_type": "markdown",
   "id": "b70b5db9-b833-465d-a104-df3cbab954b7",
   "metadata": {},
   "source": [
    "If the autocorrelation is very large we use partial autocorrelation."
   ]
  },
  {
   "cell_type": "markdown",
   "id": "227a6c35-9620-4f02-a058-7a2eb8a2c69c",
   "metadata": {},
   "source": [
    "#### 3.2.2. Partial Autocorrelation Function (PACF)"
   ]
  },
  {
   "cell_type": "code",
   "execution_count": 28,
   "id": "4eda14f4-1958-4836-9122-85dd0491516b",
   "metadata": {},
   "outputs": [
    {
     "data": {
      "image/png": "[encoded data removed]",
      "text/plain": [
       "<Figure size 640x480 with 1 Axes>"
      ]
     },
     "metadata": {},
     "output_type": "display_data"
    },
    {
     "name": "stdout",
     "output_type": "stream",
     "text": [
      "Significant Lags: [ 0  1  2  6  8  9 10 16 18 30 32 39 43 46 47 56]\n"
     ]
    }
   ],
   "source": [
    "# Calculate PACF\n",
    "pacf_values = pacf(btc_price_data_1_year['close'], nlags=lags)\n",
    "\n",
    "# Calculate the confidence interval\n",
    "conf_int = 1.96 / np.sqrt(len(btc_price_data_1_year['close']))  # The 95% confidence interval\n",
    "\n",
    "# Get significant lags (values outside the confidence interval)\n",
    "significant_lags = np.where(np.abs(pacf_values) > conf_int)[0]\n",
    "\n",
    "# Plot PACF with significant lags marked\n",
    "plt.stem(pacf_values)\n",
    "\n",
    "plt.axhline(y=conf_int, color='r', linestyle='--')\n",
    "plt.axhline(y=-conf_int, color='r', linestyle='--')\n",
    "plt.ylim(-0.010, 0.010)\n",
    "\n",
    "plt.grid()\n",
    "\n",
    "plt.xlabel('Lag')\n",
    "plt.ylabel('Partial autocorrelation coefficient(PACF)')\n",
    "plt.title(\"PACF with Significant Lags for \\'close\\' Price'\")\n",
    "plt.show()\n",
    "\n",
    "# Print the significant lags\n",
    "print(\"Significant Lags:\", significant_lags)"
   ]
  },
  {
   "cell_type": "markdown",
   "id": "add6a92e-b581-46ce-b021-9d62192db9a4",
   "metadata": {},
   "source": [
    "**Significant lags**: Spikes that are outside the area between the two red lines are **statistically significant** at the 95% confidence level.\n",
    "\n",
    "Correlation coefficients that are between the two red lines are **insignificant** for the model. In this area the **p-value** is too small. Correlations in this area may well be random."
   ]
  },
  {
   "cell_type": "code",
   "execution_count": 29,
   "id": "4995809a-5f74-43dd-b71d-08baa88b4d69",
   "metadata": {},
   "outputs": [
    {
     "name": "stdout",
     "output_type": "stream",
     "text": [
      "Significant Lags: [ 1  2  6  8  9 10 16 18 30 32 39 43 46 47 56]\n"
     ]
    }
   ],
   "source": [
    "# Remove the autocorrelation with itself (the '0'-th lag)\n",
    "significant_lags = significant_lags[1:] if significant_lags[0] == 0 else significant_lags\n",
    "print(\"Significant Lags:\", significant_lags)"
   ]
  },
  {
   "cell_type": "code",
   "execution_count": 30,
   "id": "626ed03a-3c51-4650-aa61-9e1791799b8e",
   "metadata": {},
   "outputs": [],
   "source": [
    "# Create lag features (past values as features)\n",
    "def create_lag_features(df, lags = []):\n",
    "    \"\"\"\n",
    "    Create lag features (past values as features)\n",
    "    \"\"\"\n",
    "    # Create a copy of the DataFrame\n",
    "    df_copy = df.copy(deep=True)\n",
    "    \n",
    "    for lag in lags:\n",
    "        df_copy[f'lag_{lag}'] = df_copy['close'].shift(lag)\n",
    "        \n",
    "    #df.dropna(inplace=True)\n",
    "    return df_copy"
   ]
  },
  {
   "cell_type": "code",
   "execution_count": 31,
   "id": "3b4cd039-a298-413d-ad05-569577b2456a",
   "metadata": {},
   "outputs": [],
   "source": [
    "btc_price_data_1_year = create_lag_features(btc_price_data_1_year, significant_lags)"
   ]
  },
  {
   "cell_type": "code",
   "execution_count": 32,
   "id": "cf1280cf-8b18-4aba-8149-87626a4021a3",
   "metadata": {},
   "outputs": [
    {
     "data": {
      "text/plain": [
       "(528632, 44)"
      ]
     },
     "execution_count": 32,
     "metadata": {},
     "output_type": "execute_result"
    }
   ],
   "source": [
    "btc_price_data_1_year.shape"
   ]
  },
  {
   "cell_type": "code",
   "execution_count": 33,
   "id": "71ad6103-a2e3-492d-801a-14761961e726",
   "metadata": {
    "scrolled": true
   },
   "outputs": [
    {
     "data": {
      "text/plain": [
       "Index(['open', 'high', 'low', 'close', 'volume', 'month', 'day', 'weekday',\n",
       "       'hour', 'hour_sin', 'hour_cos', 'weekday_sin', 'weekday_cos', 'trend',\n",
       "       'seasonal', 'residual', 'trend_lag_1', 'seasonal_lag_1',\n",
       "       'residual_lag_1', 'trend_lag_2', 'seasonal_lag_2', 'residual_lag_2',\n",
       "       'trend_lag_3', 'seasonal_lag_3', 'residual_lag_3', 'trend_rolling_mean',\n",
       "       'residual_rolling_std', 'close_trend_diff', 'close_seasonal_diff',\n",
       "       'lag_1', 'lag_2', 'lag_6', 'lag_8', 'lag_9', 'lag_10', 'lag_16',\n",
       "       'lag_18', 'lag_30', 'lag_32', 'lag_39', 'lag_43', 'lag_46', 'lag_47',\n",
       "       'lag_56'],\n",
       "      dtype='object')"
      ]
     },
     "execution_count": 33,
     "metadata": {},
     "output_type": "execute_result"
    }
   ],
   "source": [
    "btc_price_data_1_year.columns"
   ]
  },
  {
   "cell_type": "markdown",
   "id": "c213fbe7-9625-4ff1-9812-3b429abbfe33",
   "metadata": {},
   "source": [
    "### 3.3. Calculate Technical Indicators"
   ]
  },
  {
   "cell_type": "markdown",
   "id": "4212222a-6d40-469f-934f-659311d5420e",
   "metadata": {},
   "source": [
    "Calculate the values and add new columns with calculated values for **RSI**, **MACD**, **Moving Averages** and other relevant indicators."
   ]
  },
  {
   "cell_type": "markdown",
   "id": "0e46c94e-82b8-4fbb-80f9-9c3effe9a2e9",
   "metadata": {},
   "source": [
    "#### 3.3.1. Relative Strength Index (RSI)"
   ]
  },
  {
   "cell_type": "markdown",
   "id": "a4b40ec6-00d6-48c4-ba1e-a376c804ac69",
   "metadata": {},
   "source": [
    "**RSI** is a momentum oscillator that measures the speed and change of recent price movements. It is used to identify overbought or oversold conditions in a stock's price, generally over a 14-day period.\n",
    "\n",
    "- **Formula**: The RSI is calculated as:\n",
    "  \n",
    "  $$\\text{RSI} = 100 - \\frac{100}{1 + RS}$$\n",
    "  \n",
    "  where $RS$ (Relative Strength) is the ratio of **average gains** to **average losses** over the lookback period (e.g., 14 days).\n",
    "\n",
    "- **Interpretation**:\n",
    "  - **Overbought Condition**: When RSI is above 70, the asset is often considered overbought, suggesting a potential for a pullback.\n",
    "  - **Oversold Condition**: When RSI is below 30, the asset is considered oversold, suggesting a potential for a rebound.\n",
    "\n",
    "- **Calculation**:\n",
    "  - Calculate the **change** in price from one day to the next.\n",
    "  - Separate the changes into **gains** (positive changes) and **losses** (negative changes).\n",
    "  - Compute the **average gain** and **average loss** over the 14-day period.\n",
    "  - Calculate \\( RS \\) as the ratio of average gain to average loss.\n",
    "  - Use the RSI formula to convert \\( RS \\) into an index between 0 and 100."
   ]
  },
  {
   "cell_type": "code",
   "execution_count": 34,
   "id": "dab64d1a-021c-4a5e-8bcf-c5ec4f3e239f",
   "metadata": {},
   "outputs": [],
   "source": [
    "def calculate_rsi(data, window=14):\n",
    "    \"\"\"\n",
    "    RSI is a momentum oscillator that measures the speed and change of price movements, typically over a 14-period interval.\n",
    "    Assuming 'data' is a DataFrame with a 'close' price column\n",
    "\n",
    "    Parameters\n",
    "    ----------\n",
    "    data:   a DataFrame with the time series data. A column with the name 'close' must be present in the DataFrame! \n",
    "            This column is used to calculate the 'RSI' value.\n",
    "    window: the time period that is taken into account when calculating the 'RSI'\n",
    "    \"\"\"\n",
    "    delta = data['close'].diff(1)\n",
    "    gain = delta.where(delta > 0, 0)\n",
    "    loss = -delta.where(delta < 0, 0)\n",
    "    \n",
    "    avg_gain = gain.rolling(window=window, min_periods=1).mean()\n",
    "    avg_loss = loss.rolling(window=window, min_periods=1).mean()\n",
    "\n",
    "    rs = avg_gain / avg_loss\n",
    "    rsi = 100 - (100 / (1 + rs))\n",
    "    data['RSI'] = rsi\n",
    "    \n",
    "    return data"
   ]
  },
  {
   "cell_type": "code",
   "execution_count": 35,
   "id": "e446f96c-0a2b-47d6-8c9e-df3f6b23a0ba",
   "metadata": {},
   "outputs": [],
   "source": [
    "# Calculate RSI\n",
    "btc_price_data_1_year = calculate_rsi(btc_price_data_1_year)"
   ]
  },
  {
   "cell_type": "markdown",
   "id": "9a24dac0-4f7e-45e2-bdd9-0006a8da123d",
   "metadata": {},
   "source": [
    "#### 3.3.2. Moving Average Convergence Divergence (MACD)"
   ]
  },
  {
   "cell_type": "markdown",
   "id": "f028c5bd-8672-498f-bbae-badd04799cc3",
   "metadata": {},
   "source": [
    "**MACD** is a trend-following momentum indicator that shows the relationship between two moving averages of an asset’s price.\n",
    "\n",
    "- **Formula**:\n",
    "  - **MACD Line**: $\\text{MACD} = \\text{EMA}_{\\text{short}} - \\text{EMA}_{\\text{long}}$\n",
    "  - **Signal Line**: A **9-day EMA** of the MACD line.\n",
    "  - **MACD Histogram**: The difference between the MACD line and the Signal Line.\n",
    "\n",
    "  Here, EMA stands for Exponential Moving Average, which gives more weight to recent prices.\n",
    "\n",
    "- **Common Parameters**:\n",
    "  - **Short EMA**: Often set to a 12-day EMA.\n",
    "  - **Long EMA**: Often set to a 26-day EMA.\n",
    "  - **Signal Line EMA**: Often set to a 9-day EMA of the MACD line.\n",
    "\n",
    "- **Interpretation**:\n",
    "  - **MACD Line Crosses Above Signal Line**: This is a bullish signal, indicating a potential buy.\n",
    "  - **MACD Line Crosses Below Signal Line**: This is a bearish signal, indicating a potential sell.\n",
    "  - **MACD Divergence**: If the price and MACD are moving in opposite directions, it may signal a reversal.\n",
    "  - **Histogram**: The MACD histogram shows the distance between the MACD line and the Signal Line. When the histogram grows larger, it indicates a strengthening trend in that direction.\n",
    "\n",
    "- **Application**:\n",
    "  - The MACD helps traders see changes in momentum, trend direction, and possible reversal points by analyzing the difference between the short and long EMAs."
   ]
  },
  {
   "cell_type": "code",
   "execution_count": 36,
   "id": "1859ea5f-3a34-4397-88f4-e7c30c2e9d23",
   "metadata": {},
   "outputs": [],
   "source": [
    "def calculate_macd(data, short_window=12, long_window=26, signal_window=9):\n",
    "    \"\"\"\n",
    "    Moving Average Convergence Divergence (MACD) is calculated using two exponential moving averages (EMA):\n",
    "    the 12-day EMA and the 26-day EMA, with a 9-day EMA as the signal line.\n",
    "    \"\"\"\n",
    "    data['EMA12'] = data['close'].ewm(span=short_window, adjust=False).mean()\n",
    "    data['EMA26'] = data['close'].ewm(span=long_window, adjust=False).mean()\n",
    "    \n",
    "    # MACD Line\n",
    "    data['MACD'] = data['EMA12'] - data['EMA26']\n",
    "    \n",
    "    # Signal Line\n",
    "    data['Signal_Line'] = data['MACD'].ewm(span=signal_window, adjust=False).mean()\n",
    "    \n",
    "    return data"
   ]
  },
  {
   "cell_type": "code",
   "execution_count": 37,
   "id": "6fcd592c-7db1-4af7-98e0-21aaf644c1d6",
   "metadata": {},
   "outputs": [],
   "source": [
    "# Calculate MACD (Moving Average Convergence Divergence)\n",
    "btc_price_data_1_year = calculate_macd(btc_price_data_1_year)"
   ]
  },
  {
   "cell_type": "markdown",
   "id": "8f1a9abb-ac78-4b41-b6fc-1bc15bf76327",
   "metadata": {},
   "source": [
    "#### 3.3.3. Moving Averages (SMA and EMA)"
   ]
  },
  {
   "cell_type": "markdown",
   "id": "1181ef70-7607-4c6b-b8ce-19cf09014e0b",
   "metadata": {},
   "source": [
    "Moving averages smooth out price data to help identify trends over specific time frames. They are often used to see the underlying trend of an asset’s price and are among the most widely used technical indicators.\n",
    "\n",
    "##### 2.2.3.1. Simple Moving Average (SMA)\n",
    "\n",
    "- **Definition**: The **SMA** is the average of the closing prices over a specific period. For example, a 10-day SMA is the average closing price over the last 10 days.\n",
    "  \n",
    "- **Formula**:\n",
    "  $$\\text{SMA} = \\frac{\\sum_{i=1}^{N} \\text{Price}_i}{N}$$\n",
    "  where $N$ is the period (e.g., 10 days).\n",
    "\n",
    "- **Interpretation**:\n",
    "  - **Trend Identification**: When prices are above the SMA, it suggests an upward trend; when below, it suggests a downward trend.\n",
    "  - **Crossovers**: When a short-term SMA crosses above a long-term SMA (e.g., 10-day SMA crosses above the 50-day SMA), it generates a bullish signal. The reverse crossover indicates a bearish signal.\n",
    "\n",
    "##### 2.2.3.2. Exponential Moving Average (EMA)\n",
    "\n",
    "- **Definition**: The **EMA** is a weighted moving average that gives more importance to recent prices, making it more responsive to new information than the SMA.\n",
    "  \n",
    "- **Formula**:\n",
    "  - EMA uses a multiplier:\n",
    "    $$\\text{EMA}_\\text{current} = \\left(\\frac{2}{N+1}\\right) \\times (\\text{Price}_\\text{current} - \\text{EMA}_\\text{previous}) + \\text{EMA}_\\text{previous}$$\n",
    "    where $N$ is the number of periods.\n",
    "\n",
    "- **Interpretation**:\n",
    "  - **More Sensitive to Price Changes**: Because the EMA responds more quickly to recent prices, it is useful in identifying potential reversals and shorter-term trends."
   ]
  },
  {
   "cell_type": "code",
   "execution_count": 38,
   "id": "7303b8da-da5d-4e8c-b07b-4c4c03ce6679",
   "metadata": {},
   "outputs": [],
   "source": [
    "def calculate_moving_averages(data, sma_window=20, ema_window=20):\n",
    "    \"\"\"\n",
    "    Simple Moving Average (SMA) is the average price over a specified number of periods, \n",
    "    while Exponential Moving Average (EMA) gives more weight to recent prices.\n",
    "    \"\"\"\n",
    "    # Simple Moving Average\n",
    "    data['SMA'] = data['close'].rolling(window=sma_window).mean()\n",
    "    \n",
    "    # Exponential Moving Average\n",
    "    data['EMA'] = data['close'].ewm(span=ema_window, adjust=False).mean()\n",
    "    \n",
    "    return data"
   ]
  },
  {
   "cell_type": "code",
   "execution_count": 39,
   "id": "c32a7f04-6433-4dac-9d00-1d8d33761791",
   "metadata": {},
   "outputs": [],
   "source": [
    "# Calculate moving averages\n",
    "btc_price_data_1_year = calculate_moving_averages(btc_price_data_1_year)"
   ]
  },
  {
   "cell_type": "markdown",
   "id": "1e1a3996-fe49-4015-8896-9e100c580ff8",
   "metadata": {},
   "source": [
    "## 4. Calculate Target Variable"
   ]
  },
  {
   "cell_type": "code",
   "execution_count": 40,
   "id": "fa23c808-8ea0-435a-9752-7e5ed82977ee",
   "metadata": {},
   "outputs": [],
   "source": [
    "def create_target_variable(data, threshold = 0.01):\n",
    "    \"\"\"\n",
    "    Computes and sets the 'target' variable from the input 'data' and 'threshold'.\n",
    "    Creates a 'target' column with the computed values in the 'data' DataFrame.\n",
    "\n",
    "    Parameters\n",
    "    ----------\n",
    "    data: a DataFrame with the time series data. There must be a column named 'close'! \n",
    "          This column will be used by the user to calculate the 'target' variable.\n",
    "    \n",
    "    threshold: threshold for the price change to classify as 'buy' or 'sell'. For instance, if you want a 1% increase to be a 'buy' signal,\n",
    "               the threshold will be 0.01. Adjust this threshold as per your strategy.\n",
    "    \"\"\"\n",
    "    # Create a copy of the DataFrame\n",
    "    data_copy = data.copy(deep=True)\n",
    "    \n",
    "    # Compute the percentage change between the current close price and the close price in the next period.\n",
    "    # This will help define whether there’s a significant increase or decrease.\n",
    "    data_copy['future_return'] = ((data_copy['close'].shift(-1) - data_copy['close']) / data_copy['close']) * 100\n",
    "\n",
    "    # Define the target as 1 (buy) if the future return is above the threshold, and 0 (sell) if it is below or equal to the threshold.\n",
    "    data_copy['target'] = (data_copy['future_return'] > threshold).astype(float)\n",
    "\n",
    "    # The last row in your dataset will have a NaN value for 'future_return' due to the shift operation. Drop this row to clean up the dataset.\n",
    "    #data_copy = data_copy.dropna()\n",
    "\n",
    "    # Check the balance of 1s and 0s in our target variable to understand how many “buy” and “sell” signals we have.\n",
    "    print(data_copy['target'].value_counts())\n",
    "\n",
    "    return data_copy"
   ]
  },
  {
   "cell_type": "code",
   "execution_count": 41,
   "id": "fdc7c25e-ca61-4d43-ab6a-cdeb23b6e790",
   "metadata": {},
   "outputs": [],
   "source": [
    "def create_target_variable_with_techn_indicators(data, price_threshold = 0.01):\n",
    "    \"\"\"\n",
    "    Computes and sets the 'target' variable from the input 'data' and 'threshold'.\n",
    "    Creates a 'target' column with the computed values in the 'data' DataFrame.\n",
    "\n",
    "    Parameters\n",
    "    ----------\n",
    "    data: a DataFrame with the time series data. There must be a column named 'close'! \n",
    "          This column will be used by the user to calculate the 'target' variable.\n",
    "    \n",
    "    threshold: threshold for the price change to classify as 'buy' or 'sell'. For instance, if you want a 1% increase to be a 'buy' signal,\n",
    "               the threshold will be 0.01. Adjust this threshold as per your strategy.\n",
    "    \"\"\"\n",
    "    # Create a copy of the DataFrame\n",
    "    data_copy = data.copy(deep=True)\n",
    "    \n",
    "    # Compute the percentage change between the current close price and the close price in the next period.\n",
    "    # This will help define whether there’s a significant increase or decrease.\n",
    "    data_copy['future_return'] = ((data_copy['close'].shift(-1) - data_copy['close']) / data_copy['close']) * 100\n",
    "    \n",
    "    # Use the technical indicators to add more conditions to the target:\n",
    "    # - RSI: A Relative Strength Index (RSI) value below 30 often indicates an oversold condition, which might suggest a buying opportunity.\n",
    "    # - MACD: A positive MACD value (i.e., MACD > Signal Line) can suggest an uptrend.\n",
    "    # - SMA/EMA: If the current price is above the SMA or EMA, it may indicate an upward trend.\n",
    "    #data_copy['buy_signal'] = (\n",
    "    conditions_buy  = (\n",
    "        (data_copy['future_return'] > price_threshold) &\n",
    "        # (data_copy['RSI'] < 30) &   # buy signal for RSI\n",
    "        (data_copy['RSI'] < 40) &    # buy signal for RSI\n",
    "        ((data_copy['MACD'] > data_copy['Signal_Line']) & (data_copy['MACD'].shift(1) <= data_copy['Signal_Line'].shift(1))) & # buy signal for MACD\n",
    "        ((data_copy['close'] > data_copy['SMA']) & (data_copy['close'].shift(1) <= data_copy['SMA'].shift(1))) # buy signal for SMA\n",
    "    ).astype(int)\n",
    "\n",
    "    conditions_sell  = (\n",
    "        (data_copy['future_return'] < - price_threshold) &\n",
    "        #(data_copy['RSI'] > 70) &    # sell signal for RSI \n",
    "        (data_copy['RSI'] > 60) &     # sell signal for RSI \n",
    "        (data_copy['MACD'] < data_copy['Signal_Line']) & (data_copy['MACD'].shift(1) >= data_copy['Signal_Line'].shift(1)) & # sell signal for MACD \n",
    "        (data_copy['close'] < data_copy['SMA']) & (data_copy['close'].shift(1) >= data_copy['SMA'].shift(1)) # sell signal for SMA \n",
    "    ).astype(int)\n",
    "\n",
    "    # Define the 'target' as 1 (buy), 0(do nothing) and -1(sell).\n",
    "    # Initialize the 'target' column with default value\n",
    "    data_copy['target'] = 0 # 'do nothing' signal\n",
    "    \n",
    "    # Fill the 'target' with the 'buy_signal' and 'sell_signal' conditions \n",
    "    data_copy.loc[(conditions_buy == 1) & (conditions_sell == 0), 'target'] = 1 # 'buy' signal\n",
    "    data_copy.loc[(conditions_sell == 1) & (conditions_buy == 0), 'target'] = 2 # 'sell' signal\n",
    "\n",
    "    # Generate signals\n",
    "    # data['signal'] = np.where(data['SMA_short'] > data['SMA_long'], 1, 0)\n",
    "    # data['signal'] = data['signal'].diff()  # 1 = Buy, -1 = Sell\n",
    "\n",
    "    # The last row in your dataset will have a NaN value for 'future_return' due to the shift operation. Drop this row to clean up the dataset.\n",
    "    # data_copy = data_copy.dropna()\n",
    "\n",
    "    # Print the balance of 1s, 0s and -1s in our 'target' variable to understand how many 'buy' and 'sell' signals we have.\n",
    "    print(data_copy['target'].value_counts())\n",
    "\n",
    "    return data_copy"
   ]
  },
  {
   "cell_type": "code",
   "execution_count": 42,
   "id": "a36692ac-7485-4fce-b032-6cc3c5e82a8e",
   "metadata": {},
   "outputs": [],
   "source": [
    "def create_target_variable_with_techn_indicators_hourly(data, price_threshold = 0.01):\n",
    "    \"\"\"\n",
    "    Computes and sets the 'target' variable from the input 'data' and 'threshold'.\n",
    "    Creates a 'target' column with the computed values in the 'data' DataFrame.\n",
    "\n",
    "    Parameters\n",
    "    ----------\n",
    "    data: a DataFrame with the time series data. There must be a column named 'close'! \n",
    "          This column will be used by the user to calculate the 'target' variable.\n",
    "    \n",
    "    threshold: threshold for the price change to classify as 'buy' or 'sell'. For instance, if you want a 1% increase to be a 'buy' signal,\n",
    "               the threshold will be 0.01. Adjust this threshold as per your strategy.\n",
    "    \"\"\"\n",
    "    # Create a copy of the DataFrame\n",
    "    data_copy = data.copy(deep=True)\n",
    "    \n",
    "    # Compute the percentage change between the current close price and the close price in the next period.\n",
    "    # This will help define whether there’s a significant increase or decrease.\n",
    "    data_copy['future_return'] = ((data_copy['close'].shift(-1) - data_copy['close']) / data_copy['close']) * 100\n",
    "    \n",
    "    # Use the technical indicators to add more conditions to the target:\n",
    "    # - RSI: A Relative Strength Index (RSI) value below 30 often indicates an oversold condition, which might suggest a buying opportunity.\n",
    "    # - MACD: A positive MACD value (i.e., MACD > Signal Line) can suggest an uptrend.\n",
    "    # - SMA/EMA: If the current price is above the SMA or EMA, it may indicate an upward trend.\n",
    "    #data_copy['buy_signal'] = (\n",
    "    conditions_buy  = (\n",
    "        (data_copy['future_return'] > price_threshold) &\n",
    "        #(data_copy['RSI'] < 30) &   # buy signal for RSI\n",
    "        (data_copy['RSI'] < 40) &    # buy signal for RSI\n",
    "        ((data_copy['MACD'] > data_copy['Signal_Line']) & (data_copy['MACD'].shift(1) <= data_copy['Signal_Line'].shift(1))) #& # buy signal for MACD\n",
    "        # ((data_copy['close'] > data_copy['SMA']) & (data_copy['close'].shift(1) <= data_copy['SMA'].shift(1))) # buy signal for SMA\n",
    "    ).astype(int)\n",
    "\n",
    "    conditions_sell  = (\n",
    "        (data_copy['future_return'] < - price_threshold) &\n",
    "        #(data_copy['RSI'] > 70) &    # sell signal for RSI \n",
    "        (data_copy['RSI'] > 60) &     # sell signal for RSI \n",
    "        (data_copy['MACD'] < data_copy['Signal_Line']) & (data_copy['MACD'].shift(1) >= data_copy['Signal_Line'].shift(1)) #& # sell signal for MACD \n",
    "        # (data_copy['close'] < data_copy['SMA']) & (data_copy['close'].shift(1) >= data_copy['SMA'].shift(1)) # sell signal for SMA \n",
    "    ).astype(int)\n",
    "\n",
    "    # Define the 'target' as 1 (buy), 0(do nothing) and -1(sell).\n",
    "    # Initialize the 'target' column with default value\n",
    "    data_copy['target'] = 0 # 'do nothing' signal\n",
    "    \n",
    "    # Fill the 'target' with the 'buy_signal' and 'sell_signal' conditions \n",
    "    data_copy.loc[(conditions_buy == 1) & (conditions_sell == 0), 'target'] = 1 # 'buy' signal\n",
    "    data_copy.loc[(conditions_sell == 1) & (conditions_buy == 0), 'target'] = 2 # 'sell' signal\n",
    "\n",
    "    # Generate signals\n",
    "    # data['signal'] = np.where(data['SMA_short'] > data['SMA_long'], 1, 0)\n",
    "    # data['signal'] = data['signal'].diff()  # 1 = Buy, -1 = Sell\n",
    "\n",
    "    # The last row in your dataset will have a NaN value for 'future_return' due to the shift operation. Drop this row to clean up the dataset.\n",
    "    # data_copy = data_copy.dropna()\n",
    "\n",
    "    # Print the balance of 1s, 0s and -1s in our 'target' variable to understand how many 'buy' and 'sell' signals we have.\n",
    "    print(data_copy['target'].value_counts())\n",
    "\n",
    "    return data_copy"
   ]
  },
  {
   "cell_type": "code",
   "execution_count": 43,
   "id": "4debf4a7-d20e-4589-9cd6-17322132d08e",
   "metadata": {},
   "outputs": [
    {
     "name": "stdout",
     "output_type": "stream",
     "text": [
      "target\n",
      "0    525868\n",
      "2      1458\n",
      "1      1306\n",
      "Name: count, dtype: int64\n"
     ]
    }
   ],
   "source": [
    "# Define the threshold for the price change to classify as 'buy' or 'sell'. For instance, if we want a 1% increase to be a 'buy' signal,\n",
    "# the threshold will be 0.01.\n",
    "threshold = 0.01\n",
    "\n",
    "# Compute the 'target' variable\n",
    "btc_price_data_1_year = create_target_variable_with_techn_indicators_hourly(btc_price_data_1_year, threshold)"
   ]
  },
  {
   "cell_type": "markdown",
   "id": "55c565f7-7d81-4c1a-9508-189104581e90",
   "metadata": {},
   "source": [
    "## 5. Clean up the Data"
   ]
  },
  {
   "cell_type": "code",
   "execution_count": 44,
   "id": "900df4b3-9b3b-40c2-8821-10585d9514f8",
   "metadata": {
    "scrolled": true
   },
   "outputs": [
    {
     "data": {
      "text/html": [
       "<div>\n",
       "<style scoped>\n",
       "    .dataframe tbody tr th:only-of-type {\n",
       "        vertical-align: middle;\n",
       "    }\n",
       "\n",
       "    .dataframe tbody tr th {\n",
       "        vertical-align: top;\n",
       "    }\n",
       "\n",
       "    .dataframe thead th {\n",
       "        text-align: right;\n",
       "    }\n",
       "</style>\n",
       "<table border=\"1\" class=\"dataframe\">\n",
       "  <thead>\n",
       "    <tr style=\"text-align: right;\">\n",
       "      <th></th>\n",
       "      <th>count</th>\n",
       "      <th>mean</th>\n",
       "      <th>std</th>\n",
       "      <th>min</th>\n",
       "      <th>25%</th>\n",
       "      <th>50%</th>\n",
       "      <th>75%</th>\n",
       "      <th>max</th>\n",
       "    </tr>\n",
       "  </thead>\n",
       "  <tbody>\n",
       "    <tr>\n",
       "      <th>open</th>\n",
       "      <td>528632.0</td>\n",
       "      <td>57052.764723</td>\n",
       "      <td>11061.821828</td>\n",
       "      <td>34079.460000</td>\n",
       "      <td>44083.780000</td>\n",
       "      <td>6.101580e+04</td>\n",
       "      <td>66127.655000</td>\n",
       "      <td>73718.320000</td>\n",
       "    </tr>\n",
       "    <tr>\n",
       "      <th>high</th>\n",
       "      <td>528632.0</td>\n",
       "      <td>57100.379874</td>\n",
       "      <td>11072.504219</td>\n",
       "      <td>34133.680000</td>\n",
       "      <td>44119.545000</td>\n",
       "      <td>6.106648e+04</td>\n",
       "      <td>66178.047500</td>\n",
       "      <td>73835.570000</td>\n",
       "    </tr>\n",
       "    <tr>\n",
       "      <th>low</th>\n",
       "      <td>528632.0</td>\n",
       "      <td>57076.624894</td>\n",
       "      <td>11067.091134</td>\n",
       "      <td>34113.930000</td>\n",
       "      <td>44103.265000</td>\n",
       "      <td>6.104102e+04</td>\n",
       "      <td>66153.502500</td>\n",
       "      <td>73815.030000</td>\n",
       "    </tr>\n",
       "    <tr>\n",
       "      <th>close</th>\n",
       "      <td>528632.0</td>\n",
       "      <td>57076.858348</td>\n",
       "      <td>11067.114019</td>\n",
       "      <td>34114.860000</td>\n",
       "      <td>44103.380000</td>\n",
       "      <td>6.104134e+04</td>\n",
       "      <td>66154.337500</td>\n",
       "      <td>73815.430000</td>\n",
       "    </tr>\n",
       "    <tr>\n",
       "      <th>volume</th>\n",
       "      <td>528632.0</td>\n",
       "      <td>8.915933</td>\n",
       "      <td>17.137792</td>\n",
       "      <td>0.001083</td>\n",
       "      <td>1.730652</td>\n",
       "      <td>4.020989e+00</td>\n",
       "      <td>9.541108</td>\n",
       "      <td>1163.832604</td>\n",
       "    </tr>\n",
       "    <tr>\n",
       "      <th>month</th>\n",
       "      <td>528632.0</td>\n",
       "      <td>6.513584</td>\n",
       "      <td>3.451354</td>\n",
       "      <td>1.000000</td>\n",
       "      <td>4.000000</td>\n",
       "      <td>7.000000e+00</td>\n",
       "      <td>10.000000</td>\n",
       "      <td>12.000000</td>\n",
       "    </tr>\n",
       "    <tr>\n",
       "      <th>day</th>\n",
       "      <td>528632.0</td>\n",
       "      <td>15.753742</td>\n",
       "      <td>8.810303</td>\n",
       "      <td>1.000000</td>\n",
       "      <td>8.000000</td>\n",
       "      <td>1.600000e+01</td>\n",
       "      <td>23.000000</td>\n",
       "      <td>31.000000</td>\n",
       "    </tr>\n",
       "    <tr>\n",
       "      <th>weekday</th>\n",
       "      <td>528632.0</td>\n",
       "      <td>2.996814</td>\n",
       "      <td>1.995341</td>\n",
       "      <td>0.000000</td>\n",
       "      <td>1.000000</td>\n",
       "      <td>3.000000e+00</td>\n",
       "      <td>5.000000</td>\n",
       "      <td>6.000000</td>\n",
       "    </tr>\n",
       "    <tr>\n",
       "      <th>hour</th>\n",
       "      <td>528632.0</td>\n",
       "      <td>11.497507</td>\n",
       "      <td>6.921663</td>\n",
       "      <td>0.000000</td>\n",
       "      <td>5.000000</td>\n",
       "      <td>1.100000e+01</td>\n",
       "      <td>17.000000</td>\n",
       "      <td>23.000000</td>\n",
       "    </tr>\n",
       "    <tr>\n",
       "      <th>hour_sin</th>\n",
       "      <td>528632.0</td>\n",
       "      <td>0.000209</td>\n",
       "      <td>0.707107</td>\n",
       "      <td>-1.000000</td>\n",
       "      <td>-0.707107</td>\n",
       "      <td>1.224647e-16</td>\n",
       "      <td>0.707107</td>\n",
       "      <td>1.000000</td>\n",
       "    </tr>\n",
       "    <tr>\n",
       "      <th>hour_cos</th>\n",
       "      <td>528632.0</td>\n",
       "      <td>-0.000087</td>\n",
       "      <td>0.707108</td>\n",
       "      <td>-1.000000</td>\n",
       "      <td>-0.707107</td>\n",
       "      <td>-1.836970e-16</td>\n",
       "      <td>0.707107</td>\n",
       "      <td>1.000000</td>\n",
       "    </tr>\n",
       "    <tr>\n",
       "      <th>weekday_sin</th>\n",
       "      <td>528632.0</td>\n",
       "      <td>0.004059</td>\n",
       "      <td>0.707357</td>\n",
       "      <td>-0.974928</td>\n",
       "      <td>-0.781831</td>\n",
       "      <td>0.000000e+00</td>\n",
       "      <td>0.781831</td>\n",
       "      <td>0.974928</td>\n",
       "    </tr>\n",
       "    <tr>\n",
       "      <th>weekday_cos</th>\n",
       "      <td>528632.0</td>\n",
       "      <td>-0.002884</td>\n",
       "      <td>0.706840</td>\n",
       "      <td>-0.900969</td>\n",
       "      <td>-0.900969</td>\n",
       "      <td>-2.225209e-01</td>\n",
       "      <td>0.623490</td>\n",
       "      <td>1.000000</td>\n",
       "    </tr>\n",
       "    <tr>\n",
       "      <th>trend</th>\n",
       "      <td>528632.0</td>\n",
       "      <td>57078.051812</td>\n",
       "      <td>11067.117292</td>\n",
       "      <td>34188.956317</td>\n",
       "      <td>44090.402078</td>\n",
       "      <td>6.104025e+04</td>\n",
       "      <td>66164.932302</td>\n",
       "      <td>73546.393771</td>\n",
       "    </tr>\n",
       "    <tr>\n",
       "      <th>seasonal</th>\n",
       "      <td>528632.0</td>\n",
       "      <td>-0.000091</td>\n",
       "      <td>37.044639</td>\n",
       "      <td>-1998.906735</td>\n",
       "      <td>-13.454738</td>\n",
       "      <td>3.022266e-02</td>\n",
       "      <td>13.655272</td>\n",
       "      <td>1351.598896</td>\n",
       "    </tr>\n",
       "    <tr>\n",
       "      <th>residual</th>\n",
       "      <td>528632.0</td>\n",
       "      <td>-1.193372</td>\n",
       "      <td>98.994353</td>\n",
       "      <td>-2779.327289</td>\n",
       "      <td>-18.300343</td>\n",
       "      <td>-1.117551e-01</td>\n",
       "      <td>17.924643</td>\n",
       "      <td>2575.612746</td>\n",
       "    </tr>\n",
       "    <tr>\n",
       "      <th>trend_lag_1</th>\n",
       "      <td>528631.0</td>\n",
       "      <td>57078.026474</td>\n",
       "      <td>11067.112427</td>\n",
       "      <td>34188.956317</td>\n",
       "      <td>44090.399482</td>\n",
       "      <td>6.104024e+04</td>\n",
       "      <td>66164.918594</td>\n",
       "      <td>73546.393771</td>\n",
       "    </tr>\n",
       "    <tr>\n",
       "      <th>seasonal_lag_1</th>\n",
       "      <td>528631.0</td>\n",
       "      <td>0.000051</td>\n",
       "      <td>37.044529</td>\n",
       "      <td>-1998.906735</td>\n",
       "      <td>-13.454654</td>\n",
       "      <td>3.043050e-02</td>\n",
       "      <td>13.655406</td>\n",
       "      <td>1351.598896</td>\n",
       "    </tr>\n",
       "    <tr>\n",
       "      <th>residual_lag_1</th>\n",
       "      <td>528631.0</td>\n",
       "      <td>-1.193020</td>\n",
       "      <td>98.994116</td>\n",
       "      <td>-2779.327289</td>\n",
       "      <td>-18.300144</td>\n",
       "      <td>-1.117408e-01</td>\n",
       "      <td>17.924698</td>\n",
       "      <td>2575.612746</td>\n",
       "    </tr>\n",
       "    <tr>\n",
       "      <th>trend_lag_2</th>\n",
       "      <td>528630.0</td>\n",
       "      <td>57078.001136</td>\n",
       "      <td>11067.107561</td>\n",
       "      <td>34188.956317</td>\n",
       "      <td>44090.396886</td>\n",
       "      <td>6.104020e+04</td>\n",
       "      <td>66164.909291</td>\n",
       "      <td>73546.393771</td>\n",
       "    </tr>\n",
       "    <tr>\n",
       "      <th>seasonal_lag_2</th>\n",
       "      <td>528630.0</td>\n",
       "      <td>-0.000035</td>\n",
       "      <td>37.044512</td>\n",
       "      <td>-1998.906735</td>\n",
       "      <td>-13.454693</td>\n",
       "      <td>3.022266e-02</td>\n",
       "      <td>13.655035</td>\n",
       "      <td>1351.598896</td>\n",
       "    </tr>\n",
       "    <tr>\n",
       "      <th>residual_lag_2</th>\n",
       "      <td>528630.0</td>\n",
       "      <td>-1.192417</td>\n",
       "      <td>98.993239</td>\n",
       "      <td>-2779.327289</td>\n",
       "      <td>-18.300092</td>\n",
       "      <td>-1.117206e-01</td>\n",
       "      <td>17.924754</td>\n",
       "      <td>2575.612746</td>\n",
       "    </tr>\n",
       "    <tr>\n",
       "      <th>trend_lag_3</th>\n",
       "      <td>528629.0</td>\n",
       "      <td>57077.975797</td>\n",
       "      <td>11067.102695</td>\n",
       "      <td>34188.956317</td>\n",
       "      <td>44090.394291</td>\n",
       "      <td>6.104015e+04</td>\n",
       "      <td>66164.902483</td>\n",
       "      <td>73546.393771</td>\n",
       "    </tr>\n",
       "    <tr>\n",
       "      <th>seasonal_lag_3</th>\n",
       "      <td>528629.0</td>\n",
       "      <td>0.000160</td>\n",
       "      <td>37.044278</td>\n",
       "      <td>-1998.906735</td>\n",
       "      <td>-13.454576</td>\n",
       "      <td>3.043050e-02</td>\n",
       "      <td>13.655139</td>\n",
       "      <td>1351.598896</td>\n",
       "    </tr>\n",
       "    <tr>\n",
       "      <th>residual_lag_3</th>\n",
       "      <td>528629.0</td>\n",
       "      <td>-1.192112</td>\n",
       "      <td>98.993085</td>\n",
       "      <td>-2779.327289</td>\n",
       "      <td>-18.300054</td>\n",
       "      <td>-1.117004e-01</td>\n",
       "      <td>17.924809</td>\n",
       "      <td>2575.612746</td>\n",
       "    </tr>\n",
       "    <tr>\n",
       "      <th>trend_rolling_mean</th>\n",
       "      <td>528609.0</td>\n",
       "      <td>57078.249283</td>\n",
       "      <td>11066.595004</td>\n",
       "      <td>34192.960471</td>\n",
       "      <td>44089.014830</td>\n",
       "      <td>6.104033e+04</td>\n",
       "      <td>66163.317392</td>\n",
       "      <td>73539.984355</td>\n",
       "    </tr>\n",
       "    <tr>\n",
       "      <th>residual_rolling_std</th>\n",
       "      <td>528609.0</td>\n",
       "      <td>51.570078</td>\n",
       "      <td>53.800833</td>\n",
       "      <td>1.759218</td>\n",
       "      <td>18.699424</td>\n",
       "      <td>3.265015e+01</td>\n",
       "      <td>66.642068</td>\n",
       "      <td>1284.488175</td>\n",
       "    </tr>\n",
       "    <tr>\n",
       "      <th>close_trend_diff</th>\n",
       "      <td>528632.0</td>\n",
       "      <td>-1.193463</td>\n",
       "      <td>97.228387</td>\n",
       "      <td>-2724.406325</td>\n",
       "      <td>-27.950042</td>\n",
       "      <td>-9.326150e-02</td>\n",
       "      <td>27.470497</td>\n",
       "      <td>2531.368561</td>\n",
       "    </tr>\n",
       "    <tr>\n",
       "      <th>close_seasonal_diff</th>\n",
       "      <td>528632.0</td>\n",
       "      <td>57076.858440</td>\n",
       "      <td>11067.129321</td>\n",
       "      <td>34125.049627</td>\n",
       "      <td>44101.763186</td>\n",
       "      <td>6.104072e+04</td>\n",
       "      <td>66154.027583</td>\n",
       "      <td>73802.908909</td>\n",
       "    </tr>\n",
       "    <tr>\n",
       "      <th>lag_1</th>\n",
       "      <td>528631.0</td>\n",
       "      <td>57076.833505</td>\n",
       "      <td>11067.109746</td>\n",
       "      <td>34114.860000</td>\n",
       "      <td>44103.350000</td>\n",
       "      <td>6.104132e+04</td>\n",
       "      <td>66154.315000</td>\n",
       "      <td>73815.430000</td>\n",
       "    </tr>\n",
       "    <tr>\n",
       "      <th>lag_2</th>\n",
       "      <td>528630.0</td>\n",
       "      <td>57076.808684</td>\n",
       "      <td>11067.105500</td>\n",
       "      <td>34114.860000</td>\n",
       "      <td>44103.320000</td>\n",
       "      <td>6.104132e+04</td>\n",
       "      <td>66154.287500</td>\n",
       "      <td>73815.430000</td>\n",
       "    </tr>\n",
       "    <tr>\n",
       "      <th>lag_6</th>\n",
       "      <td>528626.0</td>\n",
       "      <td>57076.709140</td>\n",
       "      <td>11067.088207</td>\n",
       "      <td>34114.860000</td>\n",
       "      <td>44103.282500</td>\n",
       "      <td>6.104122e+04</td>\n",
       "      <td>66154.127500</td>\n",
       "      <td>73815.430000</td>\n",
       "    </tr>\n",
       "    <tr>\n",
       "      <th>lag_8</th>\n",
       "      <td>528624.0</td>\n",
       "      <td>57076.659208</td>\n",
       "      <td>11067.079370</td>\n",
       "      <td>34114.860000</td>\n",
       "      <td>44103.242500</td>\n",
       "      <td>6.104120e+04</td>\n",
       "      <td>66154.052500</td>\n",
       "      <td>73815.430000</td>\n",
       "    </tr>\n",
       "    <tr>\n",
       "      <th>lag_9</th>\n",
       "      <td>528623.0</td>\n",
       "      <td>57076.634200</td>\n",
       "      <td>11067.074901</td>\n",
       "      <td>34114.860000</td>\n",
       "      <td>44103.205000</td>\n",
       "      <td>6.104120e+04</td>\n",
       "      <td>66154.030000</td>\n",
       "      <td>73815.430000</td>\n",
       "    </tr>\n",
       "    <tr>\n",
       "      <th>lag_10</th>\n",
       "      <td>528622.0</td>\n",
       "      <td>57076.609144</td>\n",
       "      <td>11067.070376</td>\n",
       "      <td>34114.860000</td>\n",
       "      <td>44103.167500</td>\n",
       "      <td>6.104117e+04</td>\n",
       "      <td>66154.017500</td>\n",
       "      <td>73815.430000</td>\n",
       "    </tr>\n",
       "    <tr>\n",
       "      <th>lag_16</th>\n",
       "      <td>528616.0</td>\n",
       "      <td>57076.458648</td>\n",
       "      <td>11067.043030</td>\n",
       "      <td>34114.860000</td>\n",
       "      <td>44103.087500</td>\n",
       "      <td>6.104110e+04</td>\n",
       "      <td>66153.885000</td>\n",
       "      <td>73815.430000</td>\n",
       "    </tr>\n",
       "    <tr>\n",
       "      <th>lag_18</th>\n",
       "      <td>528614.0</td>\n",
       "      <td>57076.408345</td>\n",
       "      <td>11067.033749</td>\n",
       "      <td>34114.860000</td>\n",
       "      <td>44103.082500</td>\n",
       "      <td>6.104107e+04</td>\n",
       "      <td>66153.840000</td>\n",
       "      <td>73815.430000</td>\n",
       "    </tr>\n",
       "    <tr>\n",
       "      <th>lag_30</th>\n",
       "      <td>528602.0</td>\n",
       "      <td>57076.104270</td>\n",
       "      <td>11066.975350</td>\n",
       "      <td>34114.860000</td>\n",
       "      <td>44102.877500</td>\n",
       "      <td>6.104080e+04</td>\n",
       "      <td>66153.540000</td>\n",
       "      <td>73815.430000</td>\n",
       "    </tr>\n",
       "    <tr>\n",
       "      <th>lag_32</th>\n",
       "      <td>528600.0</td>\n",
       "      <td>57076.053454</td>\n",
       "      <td>11066.965451</td>\n",
       "      <td>34114.860000</td>\n",
       "      <td>44102.837500</td>\n",
       "      <td>6.104076e+04</td>\n",
       "      <td>66153.457500</td>\n",
       "      <td>73815.430000</td>\n",
       "    </tr>\n",
       "    <tr>\n",
       "      <th>lag_39</th>\n",
       "      <td>528593.0</td>\n",
       "      <td>57075.876079</td>\n",
       "      <td>11066.931390</td>\n",
       "      <td>34114.860000</td>\n",
       "      <td>44102.790000</td>\n",
       "      <td>6.104070e+04</td>\n",
       "      <td>66153.180000</td>\n",
       "      <td>73815.430000</td>\n",
       "    </tr>\n",
       "    <tr>\n",
       "      <th>lag_43</th>\n",
       "      <td>528589.0</td>\n",
       "      <td>57075.774514</td>\n",
       "      <td>11066.911676</td>\n",
       "      <td>34114.860000</td>\n",
       "      <td>44102.700000</td>\n",
       "      <td>6.104068e+04</td>\n",
       "      <td>66152.880000</td>\n",
       "      <td>73815.430000</td>\n",
       "    </tr>\n",
       "    <tr>\n",
       "      <th>lag_46</th>\n",
       "      <td>528586.0</td>\n",
       "      <td>57075.698555</td>\n",
       "      <td>11066.897150</td>\n",
       "      <td>34114.860000</td>\n",
       "      <td>44102.535000</td>\n",
       "      <td>6.104065e+04</td>\n",
       "      <td>66152.842500</td>\n",
       "      <td>73815.430000</td>\n",
       "    </tr>\n",
       "    <tr>\n",
       "      <th>lag_47</th>\n",
       "      <td>528585.0</td>\n",
       "      <td>57075.673347</td>\n",
       "      <td>11066.892444</td>\n",
       "      <td>34114.860000</td>\n",
       "      <td>44102.480000</td>\n",
       "      <td>6.104062e+04</td>\n",
       "      <td>66152.790000</td>\n",
       "      <td>73815.430000</td>\n",
       "    </tr>\n",
       "    <tr>\n",
       "      <th>lag_56</th>\n",
       "      <td>528576.0</td>\n",
       "      <td>57075.447428</td>\n",
       "      <td>11066.851228</td>\n",
       "      <td>34114.860000</td>\n",
       "      <td>44102.262500</td>\n",
       "      <td>6.104041e+04</td>\n",
       "      <td>66152.482500</td>\n",
       "      <td>73815.430000</td>\n",
       "    </tr>\n",
       "    <tr>\n",
       "      <th>RSI</th>\n",
       "      <td>528631.0</td>\n",
       "      <td>50.311697</td>\n",
       "      <td>16.019952</td>\n",
       "      <td>0.000000</td>\n",
       "      <td>38.830722</td>\n",
       "      <td>5.019810e+01</td>\n",
       "      <td>61.711283</td>\n",
       "      <td>100.000000</td>\n",
       "    </tr>\n",
       "    <tr>\n",
       "      <th>EMA12</th>\n",
       "      <td>528632.0</td>\n",
       "      <td>57076.488053</td>\n",
       "      <td>11067.038888</td>\n",
       "      <td>34156.903172</td>\n",
       "      <td>44097.723581</td>\n",
       "      <td>6.104011e+04</td>\n",
       "      <td>66154.363493</td>\n",
       "      <td>73690.639132</td>\n",
       "    </tr>\n",
       "    <tr>\n",
       "      <th>EMA26</th>\n",
       "      <td>528632.0</td>\n",
       "      <td>57076.015397</td>\n",
       "      <td>11066.969693</td>\n",
       "      <td>34184.183880</td>\n",
       "      <td>44093.538520</td>\n",
       "      <td>6.104324e+04</td>\n",
       "      <td>66154.886177</td>\n",
       "      <td>73626.416403</td>\n",
       "    </tr>\n",
       "    <tr>\n",
       "      <th>MACD</th>\n",
       "      <td>528632.0</td>\n",
       "      <td>0.472656</td>\n",
       "      <td>46.395772</td>\n",
       "      <td>-1070.811076</td>\n",
       "      <td>-17.358079</td>\n",
       "      <td>5.074210e-01</td>\n",
       "      <td>18.848699</td>\n",
       "      <td>589.487071</td>\n",
       "    </tr>\n",
       "    <tr>\n",
       "      <th>Signal_Line</th>\n",
       "      <td>528632.0</td>\n",
       "      <td>0.473026</td>\n",
       "      <td>43.718736</td>\n",
       "      <td>-934.400748</td>\n",
       "      <td>-16.314993</td>\n",
       "      <td>4.605260e-01</td>\n",
       "      <td>17.770367</td>\n",
       "      <td>528.435842</td>\n",
       "    </tr>\n",
       "    <tr>\n",
       "      <th>SMA</th>\n",
       "      <td>528613.0</td>\n",
       "      <td>57077.024691</td>\n",
       "      <td>11066.506318</td>\n",
       "      <td>34178.347500</td>\n",
       "      <td>44097.239000</td>\n",
       "      <td>6.104155e+04</td>\n",
       "      <td>66153.426000</td>\n",
       "      <td>73643.070000</td>\n",
       "    </tr>\n",
       "    <tr>\n",
       "      <th>EMA</th>\n",
       "      <td>528632.0</td>\n",
       "      <td>57076.218073</td>\n",
       "      <td>11066.999141</td>\n",
       "      <td>34176.621624</td>\n",
       "      <td>44096.078318</td>\n",
       "      <td>6.104136e+04</td>\n",
       "      <td>66154.824336</td>\n",
       "      <td>73650.094348</td>\n",
       "    </tr>\n",
       "    <tr>\n",
       "      <th>future_return</th>\n",
       "      <td>528631.0</td>\n",
       "      <td>0.000160</td>\n",
       "      <td>0.072267</td>\n",
       "      <td>-2.990373</td>\n",
       "      <td>-0.030483</td>\n",
       "      <td>0.000000e+00</td>\n",
       "      <td>0.030841</td>\n",
       "      <td>2.799819</td>\n",
       "    </tr>\n",
       "    <tr>\n",
       "      <th>target</th>\n",
       "      <td>528632.0</td>\n",
       "      <td>0.007987</td>\n",
       "      <td>0.115927</td>\n",
       "      <td>0.000000</td>\n",
       "      <td>0.000000</td>\n",
       "      <td>0.000000e+00</td>\n",
       "      <td>0.000000</td>\n",
       "      <td>2.000000</td>\n",
       "    </tr>\n",
       "  </tbody>\n",
       "</table>\n",
       "</div>"
      ],
      "text/plain": [
       "                         count          mean           std           min  \\\n",
       "open                  528632.0  57052.764723  11061.821828  34079.460000   \n",
       "high                  528632.0  57100.379874  11072.504219  34133.680000   \n",
       "low                   528632.0  57076.624894  11067.091134  34113.930000   \n",
       "close                 528632.0  57076.858348  11067.114019  34114.860000   \n",
       "volume                528632.0      8.915933     17.137792      0.001083   \n",
       "month                 528632.0      6.513584      3.451354      1.000000   \n",
       "day                   528632.0     15.753742      8.810303      1.000000   \n",
       "weekday               528632.0      2.996814      1.995341      0.000000   \n",
       "hour                  528632.0     11.497507      6.921663      0.000000   \n",
       "hour_sin              528632.0      0.000209      0.707107     -1.000000   \n",
       "hour_cos              528632.0     -0.000087      0.707108     -1.000000   \n",
       "weekday_sin           528632.0      0.004059      0.707357     -0.974928   \n",
       "weekday_cos           528632.0     -0.002884      0.706840     -0.900969   \n",
       "trend                 528632.0  57078.051812  11067.117292  34188.956317   \n",
       "seasonal              528632.0     -0.000091     37.044639  -1998.906735   \n",
       "residual              528632.0     -1.193372     98.994353  -2779.327289   \n",
       "trend_lag_1           528631.0  57078.026474  11067.112427  34188.956317   \n",
       "seasonal_lag_1        528631.0      0.000051     37.044529  -1998.906735   \n",
       "residual_lag_1        528631.0     -1.193020     98.994116  -2779.327289   \n",
       "trend_lag_2           528630.0  57078.001136  11067.107561  34188.956317   \n",
       "seasonal_lag_2        528630.0     -0.000035     37.044512  -1998.906735   \n",
       "residual_lag_2        528630.0     -1.192417     98.993239  -2779.327289   \n",
       "trend_lag_3           528629.0  57077.975797  11067.102695  34188.956317   \n",
       "seasonal_lag_3        528629.0      0.000160     37.044278  -1998.906735   \n",
       "residual_lag_3        528629.0     -1.192112     98.993085  -2779.327289   \n",
       "trend_rolling_mean    528609.0  57078.249283  11066.595004  34192.960471   \n",
       "residual_rolling_std  528609.0     51.570078     53.800833      1.759218   \n",
       "close_trend_diff      528632.0     -1.193463     97.228387  -2724.406325   \n",
       "close_seasonal_diff   528632.0  57076.858440  11067.129321  34125.049627   \n",
       "lag_1                 528631.0  57076.833505  11067.109746  34114.860000   \n",
       "lag_2                 528630.0  57076.808684  11067.105500  34114.860000   \n",
       "lag_6                 528626.0  57076.709140  11067.088207  34114.860000   \n",
       "lag_8                 528624.0  57076.659208  11067.079370  34114.860000   \n",
       "lag_9                 528623.0  57076.634200  11067.074901  34114.860000   \n",
       "lag_10                528622.0  57076.609144  11067.070376  34114.860000   \n",
       "lag_16                528616.0  57076.458648  11067.043030  34114.860000   \n",
       "lag_18                528614.0  57076.408345  11067.033749  34114.860000   \n",
       "lag_30                528602.0  57076.104270  11066.975350  34114.860000   \n",
       "lag_32                528600.0  57076.053454  11066.965451  34114.860000   \n",
       "lag_39                528593.0  57075.876079  11066.931390  34114.860000   \n",
       "lag_43                528589.0  57075.774514  11066.911676  34114.860000   \n",
       "lag_46                528586.0  57075.698555  11066.897150  34114.860000   \n",
       "lag_47                528585.0  57075.673347  11066.892444  34114.860000   \n",
       "lag_56                528576.0  57075.447428  11066.851228  34114.860000   \n",
       "RSI                   528631.0     50.311697     16.019952      0.000000   \n",
       "EMA12                 528632.0  57076.488053  11067.038888  34156.903172   \n",
       "EMA26                 528632.0  57076.015397  11066.969693  34184.183880   \n",
       "MACD                  528632.0      0.472656     46.395772  -1070.811076   \n",
       "Signal_Line           528632.0      0.473026     43.718736   -934.400748   \n",
       "SMA                   528613.0  57077.024691  11066.506318  34178.347500   \n",
       "EMA                   528632.0  57076.218073  11066.999141  34176.621624   \n",
       "future_return         528631.0      0.000160      0.072267     -2.990373   \n",
       "target                528632.0      0.007987      0.115927      0.000000   \n",
       "\n",
       "                               25%           50%           75%           max  \n",
       "open                  44083.780000  6.101580e+04  66127.655000  73718.320000  \n",
       "high                  44119.545000  6.106648e+04  66178.047500  73835.570000  \n",
       "low                   44103.265000  6.104102e+04  66153.502500  73815.030000  \n",
       "close                 44103.380000  6.104134e+04  66154.337500  73815.430000  \n",
       "volume                    1.730652  4.020989e+00      9.541108   1163.832604  \n",
       "month                     4.000000  7.000000e+00     10.000000     12.000000  \n",
       "day                       8.000000  1.600000e+01     23.000000     31.000000  \n",
       "weekday                   1.000000  3.000000e+00      5.000000      6.000000  \n",
       "hour                      5.000000  1.100000e+01     17.000000     23.000000  \n",
       "hour_sin                 -0.707107  1.224647e-16      0.707107      1.000000  \n",
       "hour_cos                 -0.707107 -1.836970e-16      0.707107      1.000000  \n",
       "weekday_sin              -0.781831  0.000000e+00      0.781831      0.974928  \n",
       "weekday_cos              -0.900969 -2.225209e-01      0.623490      1.000000  \n",
       "trend                 44090.402078  6.104025e+04  66164.932302  73546.393771  \n",
       "seasonal                -13.454738  3.022266e-02     13.655272   1351.598896  \n",
       "residual                -18.300343 -1.117551e-01     17.924643   2575.612746  \n",
       "trend_lag_1           44090.399482  6.104024e+04  66164.918594  73546.393771  \n",
       "seasonal_lag_1          -13.454654  3.043050e-02     13.655406   1351.598896  \n",
       "residual_lag_1          -18.300144 -1.117408e-01     17.924698   2575.612746  \n",
       "trend_lag_2           44090.396886  6.104020e+04  66164.909291  73546.393771  \n",
       "seasonal_lag_2          -13.454693  3.022266e-02     13.655035   1351.598896  \n",
       "residual_lag_2          -18.300092 -1.117206e-01     17.924754   2575.612746  \n",
       "trend_lag_3           44090.394291  6.104015e+04  66164.902483  73546.393771  \n",
       "seasonal_lag_3          -13.454576  3.043050e-02     13.655139   1351.598896  \n",
       "residual_lag_3          -18.300054 -1.117004e-01     17.924809   2575.612746  \n",
       "trend_rolling_mean    44089.014830  6.104033e+04  66163.317392  73539.984355  \n",
       "residual_rolling_std     18.699424  3.265015e+01     66.642068   1284.488175  \n",
       "close_trend_diff        -27.950042 -9.326150e-02     27.470497   2531.368561  \n",
       "close_seasonal_diff   44101.763186  6.104072e+04  66154.027583  73802.908909  \n",
       "lag_1                 44103.350000  6.104132e+04  66154.315000  73815.430000  \n",
       "lag_2                 44103.320000  6.104132e+04  66154.287500  73815.430000  \n",
       "lag_6                 44103.282500  6.104122e+04  66154.127500  73815.430000  \n",
       "lag_8                 44103.242500  6.104120e+04  66154.052500  73815.430000  \n",
       "lag_9                 44103.205000  6.104120e+04  66154.030000  73815.430000  \n",
       "lag_10                44103.167500  6.104117e+04  66154.017500  73815.430000  \n",
       "lag_16                44103.087500  6.104110e+04  66153.885000  73815.430000  \n",
       "lag_18                44103.082500  6.104107e+04  66153.840000  73815.430000  \n",
       "lag_30                44102.877500  6.104080e+04  66153.540000  73815.430000  \n",
       "lag_32                44102.837500  6.104076e+04  66153.457500  73815.430000  \n",
       "lag_39                44102.790000  6.104070e+04  66153.180000  73815.430000  \n",
       "lag_43                44102.700000  6.104068e+04  66152.880000  73815.430000  \n",
       "lag_46                44102.535000  6.104065e+04  66152.842500  73815.430000  \n",
       "lag_47                44102.480000  6.104062e+04  66152.790000  73815.430000  \n",
       "lag_56                44102.262500  6.104041e+04  66152.482500  73815.430000  \n",
       "RSI                      38.830722  5.019810e+01     61.711283    100.000000  \n",
       "EMA12                 44097.723581  6.104011e+04  66154.363493  73690.639132  \n",
       "EMA26                 44093.538520  6.104324e+04  66154.886177  73626.416403  \n",
       "MACD                    -17.358079  5.074210e-01     18.848699    589.487071  \n",
       "Signal_Line             -16.314993  4.605260e-01     17.770367    528.435842  \n",
       "SMA                   44097.239000  6.104155e+04  66153.426000  73643.070000  \n",
       "EMA                   44096.078318  6.104136e+04  66154.824336  73650.094348  \n",
       "future_return            -0.030483  0.000000e+00      0.030841      2.799819  \n",
       "target                    0.000000  0.000000e+00      0.000000      2.000000  "
      ]
     },
     "execution_count": 44,
     "metadata": {},
     "output_type": "execute_result"
    }
   ],
   "source": [
    "btc_price_data_1_year.describe().T"
   ]
  },
  {
   "cell_type": "code",
   "execution_count": 45,
   "id": "8faceb26-8cc7-4b52-a354-98bff0015371",
   "metadata": {
    "scrolled": true
   },
   "outputs": [
    {
     "data": {
      "text/plain": [
       "open                    float64\n",
       "high                    float64\n",
       "low                     float64\n",
       "close                   float64\n",
       "volume                  float64\n",
       "month                     int32\n",
       "day                       int32\n",
       "weekday                   int32\n",
       "hour                      int32\n",
       "hour_sin                float64\n",
       "hour_cos                float64\n",
       "weekday_sin             float64\n",
       "weekday_cos             float64\n",
       "trend                   float64\n",
       "seasonal                float64\n",
       "residual                float64\n",
       "trend_lag_1             float64\n",
       "seasonal_lag_1          float64\n",
       "residual_lag_1          float64\n",
       "trend_lag_2             float64\n",
       "seasonal_lag_2          float64\n",
       "residual_lag_2          float64\n",
       "trend_lag_3             float64\n",
       "seasonal_lag_3          float64\n",
       "residual_lag_3          float64\n",
       "trend_rolling_mean      float64\n",
       "residual_rolling_std    float64\n",
       "close_trend_diff        float64\n",
       "close_seasonal_diff     float64\n",
       "lag_1                   float64\n",
       "lag_2                   float64\n",
       "lag_6                   float64\n",
       "lag_8                   float64\n",
       "lag_9                   float64\n",
       "lag_10                  float64\n",
       "lag_16                  float64\n",
       "lag_18                  float64\n",
       "lag_30                  float64\n",
       "lag_32                  float64\n",
       "lag_39                  float64\n",
       "lag_43                  float64\n",
       "lag_46                  float64\n",
       "lag_47                  float64\n",
       "lag_56                  float64\n",
       "RSI                     float64\n",
       "EMA12                   float64\n",
       "EMA26                   float64\n",
       "MACD                    float64\n",
       "Signal_Line             float64\n",
       "SMA                     float64\n",
       "EMA                     float64\n",
       "future_return           float64\n",
       "target                    int64\n",
       "dtype: object"
      ]
     },
     "execution_count": 45,
     "metadata": {},
     "output_type": "execute_result"
    }
   ],
   "source": [
    "btc_price_data_1_year.dtypes"
   ]
  },
  {
   "cell_type": "code",
   "execution_count": 46,
   "id": "08ea2566-b6f1-4cb6-b663-758dc8291d11",
   "metadata": {},
   "outputs": [
    {
     "data": {
      "text/plain": [
       "(528632, 53)"
      ]
     },
     "execution_count": 46,
     "metadata": {},
     "output_type": "execute_result"
    }
   ],
   "source": [
    "btc_price_data_1_year.shape"
   ]
  },
  {
   "cell_type": "code",
   "execution_count": 47,
   "id": "41fe5276-9d57-4dad-a643-6b326d2ad49b",
   "metadata": {
    "scrolled": true
   },
   "outputs": [
    {
     "data": {
      "text/plain": [
       "open                     0\n",
       "high                     0\n",
       "low                      0\n",
       "close                    0\n",
       "volume                   0\n",
       "month                    0\n",
       "day                      0\n",
       "weekday                  0\n",
       "hour                     0\n",
       "hour_sin                 0\n",
       "hour_cos                 0\n",
       "weekday_sin              0\n",
       "weekday_cos              0\n",
       "trend                    0\n",
       "seasonal                 0\n",
       "residual                 0\n",
       "trend_lag_1              1\n",
       "seasonal_lag_1           1\n",
       "residual_lag_1           1\n",
       "trend_lag_2              2\n",
       "seasonal_lag_2           2\n",
       "residual_lag_2           2\n",
       "trend_lag_3              3\n",
       "seasonal_lag_3           3\n",
       "residual_lag_3           3\n",
       "trend_rolling_mean      23\n",
       "residual_rolling_std    23\n",
       "close_trend_diff         0\n",
       "close_seasonal_diff      0\n",
       "lag_1                    1\n",
       "lag_2                    2\n",
       "lag_6                    6\n",
       "lag_8                    8\n",
       "lag_9                    9\n",
       "lag_10                  10\n",
       "lag_16                  16\n",
       "lag_18                  18\n",
       "lag_30                  30\n",
       "lag_32                  32\n",
       "lag_39                  39\n",
       "lag_43                  43\n",
       "lag_46                  46\n",
       "lag_47                  47\n",
       "lag_56                  56\n",
       "RSI                      1\n",
       "EMA12                    0\n",
       "EMA26                    0\n",
       "MACD                     0\n",
       "Signal_Line              0\n",
       "SMA                     19\n",
       "EMA                      0\n",
       "future_return            1\n",
       "target                   0\n",
       "dtype: int64"
      ]
     },
     "execution_count": 47,
     "metadata": {},
     "output_type": "execute_result"
    }
   ],
   "source": [
    "btc_price_data_1_year.isnull().sum()"
   ]
  },
  {
   "cell_type": "markdown",
   "id": "957e3d06-79dd-4f81-8158-e70d99133932",
   "metadata": {},
   "source": [
    "There are some rows in the dataset that have a `NaN` values (`future_return`, `RSI`, `SMA` and some `lag`-columns) due to the feature engineering process. We will delete these rows to clean up the dataset."
   ]
  },
  {
   "cell_type": "code",
   "execution_count": 48,
   "id": "918ff0f3-82b4-4b7a-b4f3-3e6d181b6ce5",
   "metadata": {},
   "outputs": [],
   "source": [
    "btc_price_data_1_year = btc_price_data_1_year.dropna()"
   ]
  },
  {
   "cell_type": "code",
   "execution_count": 49,
   "id": "afe7bb1f-9025-4db3-9528-d9ca5534dc60",
   "metadata": {},
   "outputs": [
    {
     "data": {
      "text/plain": [
       "(528575, 53)"
      ]
     },
     "execution_count": 49,
     "metadata": {},
     "output_type": "execute_result"
    }
   ],
   "source": [
    "btc_price_data_1_year.shape"
   ]
  },
  {
   "cell_type": "code",
   "execution_count": 50,
   "id": "9655d00d-45ff-45a9-9f8f-804ef4319a5b",
   "metadata": {
    "scrolled": true
   },
   "outputs": [
    {
     "data": {
      "text/plain": [
       "open                    0\n",
       "high                    0\n",
       "low                     0\n",
       "close                   0\n",
       "volume                  0\n",
       "month                   0\n",
       "day                     0\n",
       "weekday                 0\n",
       "hour                    0\n",
       "hour_sin                0\n",
       "hour_cos                0\n",
       "weekday_sin             0\n",
       "weekday_cos             0\n",
       "trend                   0\n",
       "seasonal                0\n",
       "residual                0\n",
       "trend_lag_1             0\n",
       "seasonal_lag_1          0\n",
       "residual_lag_1          0\n",
       "trend_lag_2             0\n",
       "seasonal_lag_2          0\n",
       "residual_lag_2          0\n",
       "trend_lag_3             0\n",
       "seasonal_lag_3          0\n",
       "residual_lag_3          0\n",
       "trend_rolling_mean      0\n",
       "residual_rolling_std    0\n",
       "close_trend_diff        0\n",
       "close_seasonal_diff     0\n",
       "lag_1                   0\n",
       "lag_2                   0\n",
       "lag_6                   0\n",
       "lag_8                   0\n",
       "lag_9                   0\n",
       "lag_10                  0\n",
       "lag_16                  0\n",
       "lag_18                  0\n",
       "lag_30                  0\n",
       "lag_32                  0\n",
       "lag_39                  0\n",
       "lag_43                  0\n",
       "lag_46                  0\n",
       "lag_47                  0\n",
       "lag_56                  0\n",
       "RSI                     0\n",
       "EMA12                   0\n",
       "EMA26                   0\n",
       "MACD                    0\n",
       "Signal_Line             0\n",
       "SMA                     0\n",
       "EMA                     0\n",
       "future_return           0\n",
       "target                  0\n",
       "dtype: int64"
      ]
     },
     "execution_count": 50,
     "metadata": {},
     "output_type": "execute_result"
    }
   ],
   "source": [
    "btc_price_data_1_year.isnull().sum()"
   ]
  },
  {
   "cell_type": "code",
   "execution_count": 51,
   "id": "7668965b-7d70-4343-ad9f-c1f3d1b740c9",
   "metadata": {},
   "outputs": [
    {
     "data": {
      "text/plain": [
       "Index(['open', 'high', 'low', 'close', 'volume', 'month', 'day', 'weekday',\n",
       "       'hour', 'hour_sin', 'hour_cos', 'weekday_sin', 'weekday_cos', 'trend',\n",
       "       'seasonal', 'residual', 'trend_lag_1', 'seasonal_lag_1',\n",
       "       'residual_lag_1', 'trend_lag_2', 'seasonal_lag_2', 'residual_lag_2',\n",
       "       'trend_lag_3', 'seasonal_lag_3', 'residual_lag_3', 'trend_rolling_mean',\n",
       "       'residual_rolling_std', 'close_trend_diff', 'close_seasonal_diff',\n",
       "       'lag_1', 'lag_2', 'lag_6', 'lag_8', 'lag_9', 'lag_10', 'lag_16',\n",
       "       'lag_18', 'lag_30', 'lag_32', 'lag_39', 'lag_43', 'lag_46', 'lag_47',\n",
       "       'lag_56', 'RSI', 'EMA12', 'EMA26', 'MACD', 'Signal_Line', 'SMA', 'EMA',\n",
       "       'future_return', 'target'],\n",
       "      dtype='object')"
      ]
     },
     "execution_count": 51,
     "metadata": {},
     "output_type": "execute_result"
    }
   ],
   "source": [
    "btc_price_data_1_year.columns"
   ]
  },
  {
   "cell_type": "markdown",
   "id": "9d37edf7-eb8d-4993-86ab-4fbf94c9bc37",
   "metadata": {},
   "source": [
    "## 6. Backtesting"
   ]
  },
  {
   "cell_type": "code",
   "execution_count": 52,
   "id": "435bfda2-cbb1-475a-860f-f773358aaec8",
   "metadata": {},
   "outputs": [
    {
     "data": {
      "text/plain": [
       "(528575, 53)"
      ]
     },
     "execution_count": 52,
     "metadata": {},
     "output_type": "execute_result"
    }
   ],
   "source": [
    "btc_price_data_1_year.shape"
   ]
  },
  {
   "cell_type": "code",
   "execution_count": 53,
   "id": "420c06b3-f1cf-41a9-b6fc-cecd50b70f3f",
   "metadata": {},
   "outputs": [
    {
     "data": {
      "text/plain": [
       "target\n",
       "0    525812\n",
       "2      1458\n",
       "1      1305\n",
       "Name: count, dtype: int64"
      ]
     },
     "execution_count": 53,
     "metadata": {},
     "output_type": "execute_result"
    }
   ],
   "source": [
    "btc_price_data_1_year.target.value_counts()"
   ]
  },
  {
   "cell_type": "code",
   "execution_count": 54,
   "id": "60be09a9-d618-4c02-9ab5-1e54c7a297e8",
   "metadata": {
    "scrolled": true
   },
   "outputs": [
    {
     "name": "stdout",
     "output_type": "stream",
     "text": [
      "final_balance after: 2408.5268377132434\n",
      "Final Balance with 1h data: $2408.53\n",
      "Final Return with 1h data: $140.85[%]\n"
     ]
    },
    {
     "data": {
      "image/png": "[encoded data removed]",
      "text/plain": [
       "<Figure size 1200x600 with 1 Axes>"
      ]
     },
     "metadata": {},
     "output_type": "display_data"
    }
   ],
   "source": [
    "# import pandas as pd\n",
    "# import numpy as np\n",
    "# import matplotlib.pyplot as plt\n",
    "\n",
    "# Load your Bitcoin dataset (assume columns: 'timestamp', 'close', 'high', 'low', 'volume')\n",
    "# df = pd.read_csv('bitcoin_price.csv')\n",
    "# df['timestamp'] = pd.to_datetime(df['timestamp'])\n",
    "# df.set_index('timestamp', inplace=True)\n",
    "\n",
    "df = btc_price_data_1_year\n",
    "\n",
    "# # Resample the data to different timeframes\n",
    "# def resample_data(data, timeframe='15T'):\n",
    "#     return data.resample(timeframe).mean()\n",
    "\n",
    "    # return data.resample(timeframe).agg({\n",
    "    #     'close': 'last', \n",
    "    #     'high': 'max', \n",
    "    #     'low': 'min', \n",
    "    #     'volume': 'sum'\n",
    "    # }).dropna()\n",
    "\n",
    "# # Apply a simple moving average crossover strategy\n",
    "# def sma_crossover_strategy(data, short_window=10, long_window=50):\n",
    "#     data['SMA_short'] = data['close'].rolling(window=short_window).mean()\n",
    "#     data['SMA_long'] = data['close'].rolling(window=long_window).mean()\n",
    "    \n",
    "#     # Generate signals\n",
    "#     data['signal'] = np.where(data['SMA_short'] > data['SMA_long'], 1, 0)\n",
    "#     data['signal'] = data['signal'].diff()  # 1 = Buy, -1 = Sell\n",
    "#     return data\n",
    "\n",
    "# Backtest the strategy\n",
    "def backtest(data, initial_balance=1000):\n",
    "    print(f\"Initial Balance Balance: ${initial_balance:.2f}\")\n",
    "    \n",
    "    balance = initial_balance\n",
    "    position = 0  # Number of Bitcoin held\n",
    "    count = 0\n",
    "    for i in range(1, len(data)):\n",
    "        # print(\"target: \", data.target)\n",
    "        if data['target'].iloc[i] == 1 and balance > 0:  # Buy signal\n",
    "            count = count + 1\n",
    "            #print(\"count buy:\", count)\n",
    "            \n",
    "           # print(\"Buy signal balance:\", balance)\n",
    "            position = balance / data['close'].iloc[i]\n",
    "           # print(\"Buy signal position:\", position)\n",
    "           # print(\"--------------------------------\")\n",
    "            balance = 0\n",
    "        elif data['target'].iloc[i] == 2 and position > 0:  # Sell signal\n",
    "            count = count + 1\n",
    "           # print(\"count sell:\", count)\n",
    "            \n",
    "           # print(\"Sell signal position:\", position)\n",
    "            balance = position * data['close'].iloc[i]\n",
    "          #  print(\"Sell signal balance:\", balance)\n",
    "          #  print(\"--------------------------------\")\n",
    "            position = 0\n",
    "    # Final portfolio value\n",
    "    final_balance = balance + (position * data['close'].iloc[-1])\n",
    "    #print(\"final_balance after:\", final_balance)\n",
    "    return final_balance\n",
    "\n",
    "# Test on multiple timeframes\n",
    "timeframes = [ '1h']\n",
    "# timeframes = ['1min', '5min', '15min', '1h', '4h', '1D']\n",
    "results = {}\n",
    "\n",
    "for timeframe in timeframes:\n",
    "    # df_resampled = resample_data(df, timeframe)\n",
    "    # df_strategy = sma_crossover_strategy(df_resampled)\n",
    "    # final_balance = backtest(df_strategy)\n",
    "    # print(df_resampled.shape)\n",
    "    # Compute the 'target' variable\n",
    "    # df_strategy = create_target_variable_with_techn_indicators(df_resampled, threshold)\n",
    "    final_balance = backtest(df)\n",
    "    results[timeframe] = final_balance\n",
    "\n",
    "# Print results\n",
    "for timeframe, balance in results.items():\n",
    "    print(f\"Final Balance with {timeframe} data: ${balance:.2f}\")\n",
    "    final_return = ((balance - 1000) / 1000) * 100\n",
    "    print(f\"Final Return with {timeframe} data: {final_return:.2f}[%]\")\n",
    "\n",
    "# Visualize a selected timeframe (e.g., 15-minute data)\n",
    "# df_strategy = sma_crossover_strategy(resample_data(df, '15T'))\n",
    "# df_strategy = resample_data(df, '1h')\n",
    "plt.figure(figsize=(12, 6))\n",
    "# plt.plot(df_strategy['close'], label='Close Price')\n",
    "plt.plot(df['MACD'][:500], label='MACD', linestyle='-')\n",
    "plt.plot(df['Signal_Line'][:500], label='Signal_Line', linestyle='--')\n",
    "plt.legend()\n",
    "plt.title('SMA Crossover Strategy on 1-Minute Data (last 500 records)')\n",
    "plt.show()"
   ]
  },
  {
   "cell_type": "markdown",
   "id": "0961481a-dc5b-4638-8431-48dbf24bc2ea",
   "metadata": {},
   "source": [
    "## 7. Building the Predictive Model\n",
    "\n",
    "1. **Model Selection**:\n",
    "   - Use supervised learning models like **Random Forest**, **XGBoost**, or **SVM** to classify moments as \"buy\" or \"sell.\"\n",
    "\n",
    "2. **Training the Model**:\n",
    "   - Split the data into training and testing sets.\n",
    "   - Train the model on the training data and tune hyperparameters for optimal performance.\n",
    "\n",
    "3. **Model Evaluation**:\n",
    "   - Use metrics like **accuracy**, **F1 score**, **Precision**, and **Recall** to assess how well the model predicts \"buy\" and \"sell\" signals.\n",
    "\n"
   ]
  },
  {
   "cell_type": "markdown",
   "id": "c83c417b-eec9-40b8-8464-c48c84718a43",
   "metadata": {},
   "source": [
    "### 7.1. Data Preparation"
   ]
  },
  {
   "cell_type": "markdown",
   "id": "dc7a95da-5503-4446-b3bf-b24d787938aa",
   "metadata": {},
   "source": [
    "#### 7.1.1 Save Attributes and Target DataFrames"
   ]
  },
  {
   "cell_type": "code",
   "execution_count": 55,
   "id": "65bd9159-ec78-47f1-a996-cca6f17b2ec4",
   "metadata": {},
   "outputs": [],
   "source": [
    "attributes = btc_price_data_1_year.drop(columns=['target'])  # Features\n",
    "target = btc_price_data_1_year['target']  # Target variable"
   ]
  },
  {
   "cell_type": "code",
   "execution_count": 56,
   "id": "eadd11a4-3829-4ed0-897d-38ea260df8ae",
   "metadata": {},
   "outputs": [
    {
     "data": {
      "text/plain": [
       "timestamp\n",
       "2023-11-01 00:56:00    0\n",
       "2023-11-01 00:57:00    0\n",
       "2023-11-01 00:58:00    0\n",
       "2023-11-01 00:59:00    0\n",
       "2023-11-01 01:00:00    0\n",
       "                      ..\n",
       "2024-10-31 23:55:00    0\n",
       "2024-10-31 23:56:00    0\n",
       "2024-10-31 23:57:00    0\n",
       "2024-10-31 23:58:00    0\n",
       "2024-10-31 23:59:00    0\n",
       "Name: target, Length: 528575, dtype: int64"
      ]
     },
     "execution_count": 56,
     "metadata": {},
     "output_type": "execute_result"
    }
   ],
   "source": [
    "target"
   ]
  },
  {
   "cell_type": "code",
   "execution_count": 57,
   "id": "7c39ab7d-4287-4bc9-aea0-93e7c35799ef",
   "metadata": {},
   "outputs": [],
   "source": [
    "def save_data(df, filename='bitcoin_historical_data.csv'):\n",
    "    \"\"\"\n",
    "    Saves data with a backup file\n",
    "    \"\"\"\n",
    "    # Save main file\n",
    "    # df.to_csv(filename, index=False)\n",
    "    df.to_csv(filename)\n",
    "    \n",
    "    # Create backup file with timestamp\n",
    "    # backup_filename = f\"backup_{datetime.now().strftime('%Y%m%d_%H%M%S')}_{filename}\"\n",
    "    # df.to_csv(backup_filename, index=False)\n",
    "    \n",
    "    print(f\"Data saved to {filename}\")\n",
    "    # print(f\"Backup created at {backup_filename}\")"
   ]
  },
  {
   "cell_type": "code",
   "execution_count": 58,
   "id": "02d3dc2f-2368-40bc-966b-aaa26d9a87da",
   "metadata": {},
   "outputs": [
    {
     "name": "stdout",
     "output_type": "stream",
     "text": [
      "Data saved to data/btc_price_data_1_year_attributes.csv\n"
     ]
    }
   ],
   "source": [
    "# Save the features to a csv file\n",
    "save_data(attributes, filename = 'data/btc_price_data_1_year_attributes.csv')"
   ]
  },
  {
   "cell_type": "code",
   "execution_count": 59,
   "id": "982898f4-f47a-4c13-bde5-e972b07d76e8",
   "metadata": {},
   "outputs": [
    {
     "name": "stdout",
     "output_type": "stream",
     "text": [
      "Data saved to data/btc_price_data_1_year_target.csv\n"
     ]
    }
   ],
   "source": [
    "# Save the target variable to a csv file\n",
    "save_data(target, filename = 'data/btc_price_data_1_year_target.csv')"
   ]
  },
  {
   "cell_type": "code",
   "execution_count": 60,
   "id": "bf7dcb21-a756-4b8d-8f69-18a785a877bc",
   "metadata": {},
   "outputs": [
    {
     "data": {
      "text/plain": [
       "Index(['open', 'high', 'low', 'close', 'volume', 'month', 'day', 'weekday',\n",
       "       'hour', 'hour_sin', 'hour_cos', 'weekday_sin', 'weekday_cos', 'trend',\n",
       "       'seasonal', 'residual', 'trend_lag_1', 'seasonal_lag_1',\n",
       "       'residual_lag_1', 'trend_lag_2', 'seasonal_lag_2', 'residual_lag_2',\n",
       "       'trend_lag_3', 'seasonal_lag_3', 'residual_lag_3', 'trend_rolling_mean',\n",
       "       'residual_rolling_std', 'close_trend_diff', 'close_seasonal_diff',\n",
       "       'lag_1', 'lag_2', 'lag_6', 'lag_8', 'lag_9', 'lag_10', 'lag_16',\n",
       "       'lag_18', 'lag_30', 'lag_32', 'lag_39', 'lag_43', 'lag_46', 'lag_47',\n",
       "       'lag_56', 'RSI', 'EMA12', 'EMA26', 'MACD', 'Signal_Line', 'SMA', 'EMA',\n",
       "       'future_return'],\n",
       "      dtype='object')"
      ]
     },
     "execution_count": 60,
     "metadata": {},
     "output_type": "execute_result"
    }
   ],
   "source": [
    "attributes.columns"
   ]
  },
  {
   "cell_type": "markdown",
   "id": "8d1bd8e5-4cf7-4321-82e6-8396de65228b",
   "metadata": {},
   "source": [
    "**Model with Best parameters**: {‘rf__max_depth’: 10, ‘rf__min_samples_split’: 2, ‘rf__n_estimators’: 300, ‘scaler’: MinMaxScaler()}"
   ]
  },
  {
   "cell_type": "markdown",
   "id": "b4ca549b-58f7-4d19-af9a-8712d20facb3",
   "metadata": {},
   "source": [
    "#### 7.1.1 Data Splitting"
   ]
  },
  {
   "cell_type": "code",
   "execution_count": 61,
   "id": "6888aa5e-7377-4209-a20f-6b88e81fe227",
   "metadata": {},
   "outputs": [],
   "source": [
    "# attributes = btc_price_data_1_year.drop(columns=['target'])  # Features\n",
    "# target = btc_price_data_1_year['target']  # Target variable\n",
    "attributes_train, attributes_test, target_train, target_test = train_test_split(\n",
    "    attributes, \n",
    "    target, \n",
    "    test_size=0.2, \n",
    "    shuffle = False,\n",
    "    random_state = 42\n",
    ")"
   ]
  },
  {
   "cell_type": "code",
   "execution_count": 62,
   "id": "cae14764-e8bf-4669-bd35-9c1e2c43314f",
   "metadata": {},
   "outputs": [
    {
     "data": {
      "text/plain": [
       "((422860, 52), (105715, 52))"
      ]
     },
     "execution_count": 62,
     "metadata": {},
     "output_type": "execute_result"
    }
   ],
   "source": [
    "attributes_train.shape, attributes_test.shape"
   ]
  },
  {
   "cell_type": "code",
   "execution_count": 63,
   "id": "5d35be01-20f5-4673-9636-f019b09b0b16",
   "metadata": {},
   "outputs": [
    {
     "data": {
      "text/plain": [
       "((422860,), (105715,))"
      ]
     },
     "execution_count": 63,
     "metadata": {},
     "output_type": "execute_result"
    }
   ],
   "source": [
    "target_train.shape, target_test.shape"
   ]
  },
  {
   "cell_type": "markdown",
   "id": "fee16102-3a3e-4518-9210-99cdf05366bf",
   "metadata": {},
   "source": [
    "Plot the splitted data:"
   ]
  },
  {
   "cell_type": "code",
   "execution_count": 110,
   "id": "49194ef6-9829-43c0-ade9-e4e434de50c4",
   "metadata": {},
   "outputs": [],
   "source": [
    "def plot_splitted_market_data(dates, prices, labels, title):\n",
    "    plt.figure(figsize=(14, 7))\n",
    "    \n",
    "    ax = plt.gca()\n",
    "    ax.set_facecolor('gainsboro')\n",
    "    ax.xaxis.grid(True, color='white')\n",
    "    ax.yaxis.grid(True, color='white')\n",
    "\n",
    "    # x_lim_start = dates[0][0]\n",
    "    # x_lim_end = dates[1][len(dates[1]) - 1]\n",
    "    # # x_lim_end = dates[len(dates[0]) + len(dates[1]) - 1]\n",
    "    # # plt.xlim(x_lim_start, x_lim_end)\n",
    "    # ax.set_xlim(xmin=x_lim_start,xmax=x_lim_end)\n",
    "    \n",
    "    # plt.plot(attributes_train.index, attributes_train.close)\n",
    "    # plt.plot(attributes_test.index, attributes_test.close)\n",
    "    plt.plot(dates[0], prices[0])\n",
    "    plt.plot(dates[1], prices[1])\n",
    "    \n",
    "    plt.xlabel(labels[0])\n",
    "    plt.ylabel(labels[1])\n",
    "\n",
    "    plt.title(title)\n",
    "    plt.show()"
   ]
  },
  {
   "cell_type": "code",
   "execution_count": 111,
   "id": "5d04f8e2-8c0d-4f43-a4e6-0637747c618a",
   "metadata": {},
   "outputs": [
    {
     "data": {
      "image/png": "[encoded data removed]",
      "text/plain": [
       "<Figure size 1400x700 with 1 Axes>"
      ]
     },
     "metadata": {},
     "output_type": "display_data"
    }
   ],
   "source": [
    "dates_train = attributes_train.index\n",
    "prices_close_train = attributes_train.close\n",
    "\n",
    "dates_test = attributes_test.index\n",
    "prices_close_test = attributes_test.close\n",
    "\n",
    "dates = [dates_train, dates_test]\n",
    "prices_close_btc = [prices_close_train, prices_close_test]\n",
    "\n",
    "title_btc = 'Training-Testing Data Split (Nov 2023 - Nov 2024)'\n",
    "\n",
    "labels = ['Date', 'Price [USD]']\n",
    "\n",
    "plot_splitted_market_data(dates, prices_close_btc, labels, title_btc)"
   ]
  },
  {
   "cell_type": "markdown",
   "id": "3736ce74-780f-4ccd-93bf-b1feaba57324",
   "metadata": {},
   "source": [
    "#### 7.1.2. SMOTE - Address Class Imbalance with SMOTE"
   ]
  },
  {
   "cell_type": "code",
   "execution_count": 63,
   "id": "7b85bfe7-baa7-4bb3-9cf8-dc4dfe6d9b98",
   "metadata": {},
   "outputs": [
    {
     "name": "stdout",
     "output_type": "stream",
     "text": [
      "Original Class Distribution: [420626   1040   1194]\n",
      "Balanced Class Distribution: [420626 420626 420626]\n"
     ]
    }
   ],
   "source": [
    "# Apply SMOTE to generate synthetic examples for minority classes\n",
    "smote = SMOTE(random_state=42)\n",
    "attributes_train_smote, target_train_smote = smote.fit_resample(attributes_train, target_train)\n",
    "\n",
    "print(\"Original Class Distribution:\", np.bincount(target_train))\n",
    "print(\"Balanced Class Distribution:\", np.bincount(target_train_smote))"
   ]
  },
  {
   "cell_type": "markdown",
   "id": "9fa070d9-22b8-495d-a8ef-bd4f928f5748",
   "metadata": {},
   "source": [
    "#### 7.1.3 Data Scaling"
   ]
  },
  {
   "cell_type": "markdown",
   "id": "ba9f61d4-cf19-4f63-ba01-b8dfec7ad2b1",
   "metadata": {},
   "source": [
    "Scale feature values to a range of 0 to 1 or -1 to 1 with `StandardScaler` or `MinMaxScaler` from `scikit-learn`."
   ]
  },
  {
   "cell_type": "markdown",
   "id": "e72cffea-2a61-4f7f-939e-5d165b9e9a32",
   "metadata": {},
   "source": [
    "##### MinMaxScaler"
   ]
  },
  {
   "cell_type": "markdown",
   "id": "04ed4c92-7fdf-46e9-bcbc-06bfc236d2f7",
   "metadata": {},
   "source": [
    "#btc_price_data_1_year[attributes.columns] = scaler.fit_transform(btc_price_data_1_year[attributes.columns])"
   ]
  },
  {
   "cell_type": "code",
   "execution_count": 65,
   "id": "c5cdfe90-4105-496e-bb45-237f9fb47520",
   "metadata": {},
   "outputs": [],
   "source": [
    "# from sklearn.preprocessing import MinMaxScaler\n",
    "\n",
    "# scaler = MinMaxScaler()\n",
    "# # features = ['trend', 'seasonal', 'residual', 'trend_rolling_mean', 'residual_rolling_std']\n",
    "# btc_price_data_1_year[features.columns] = scaler.fit_transform(btc_price_data_1_year[features.columns])"
   ]
  },
  {
   "cell_type": "code",
   "execution_count": 66,
   "id": "7fecd9b4-e0c3-4173-a870-132dd7ec8f99",
   "metadata": {},
   "outputs": [],
   "source": [
    "# from sklearn.preprocessing import StandardScaler\n",
    "\n",
    "# scaler = StandardScaler()\n",
    "# # features = ['trend', 'seasonal', 'residual', 'trend_rolling_mean', 'residual_rolling_std']\n",
    "# btc_price_data_1_year[attributes.columns] = scaler.fit_transform(btc_price_data_1_year[attributes.columns])"
   ]
  },
  {
   "cell_type": "markdown",
   "id": "4e565668-49c9-4ca7-8033-8b691bf38fd0",
   "metadata": {},
   "source": [
    "### 7.2. Selecting Score Function"
   ]
  },
  {
   "cell_type": "markdown",
   "id": "5dde8cef-9cdf-4dda-941c-1f250db394f9",
   "metadata": {},
   "source": [
    "Selecting the best score function for an imbalanced model depends on your specific goals, the nature of the imbalance, and how critical it is to identify minority classes accurately. Here's an overview of the most suitable metrics for imbalanced datasets with multiclass classification:\n",
    "\n",
    "---\n",
    "\n",
    "#### 1. Macro F1 Score\n",
    "- **Description**: The F1 score is the harmonic mean of precision and recall. The macro version calculates the F1 score for each class independently and then averages them, giving equal weight to all classes, regardless of their size.\n",
    "- **Best Use Case**: Use when all classes are equally important, and you want to evaluate the model's ability to perform well across all classes.\n",
    "- **Implementation**:\n",
    "  ```python\n",
    "  from sklearn.metrics import f1_score\n",
    "  f1_macro = f1_score(y_test, y_pred, average=\"macro\")\n",
    "  ```\n",
    "\n",
    "---\n",
    "\n",
    "#### 2. Balanced Accuracy\n",
    "- **Description**: Balanced accuracy is the average of recall obtained on each class. It accounts for class imbalance by giving equal weight to each class.\n",
    "- **Best Use Case**: Use when the focus is on recall for all classes, ensuring minority classes are not overlooked.\n",
    "- **Implementation**:\n",
    "  ```python\n",
    "  from sklearn.metrics import balanced_accuracy_score\n",
    "  balanced_acc = balanced_accuracy_score(y_test, y_pred)\n",
    "  ```\n",
    "\n",
    "---\n",
    "\n",
    "#### 3. Weighted F1 Score\n",
    "- **Description**: Similar to the macro F1 score, but the weighted version accounts for the number of samples in each class. Larger classes have more influence on the score.\n",
    "- **Best Use Case**: Use when the performance on larger classes is also important, but you still want some recognition of minority classes.\n",
    "- **Implementation**:\n",
    "  ```python\n",
    "  f1_weighted = f1_score(y_test, y_pred, average=\"weighted\")\n",
    "  ```\n",
    "\n",
    "---\n",
    "\n",
    "#### 4. Log Loss (Cross-Entropy Loss)\n",
    "- **Description**: Log loss evaluates the probabilistic predictions of the model rather than hard predictions. It penalizes confident but incorrect predictions more heavily.\n",
    "- **Best Use Case**: Use when the quality of probability estimates is important (e.g., when the model's confidence in predictions is valuable).\n",
    "- **Implementation**:\n",
    "  ```python\n",
    "  from sklearn.metrics import log_loss\n",
    "  logloss = log_loss(y_test, y_pred_proba)\n",
    "  ```\n",
    "\n",
    "---\n",
    "\n",
    "#### 5. Cohen's Kappa\n",
    "- **Description**: Cohen's Kappa measures the agreement between predicted and actual labels while accounting for the agreement occurring by chance. It's a robust metric for imbalanced datasets.\n",
    "- **Best Use Case**: Use when you want to assess model performance relative to chance performance.\n",
    "- **Implementation**:\n",
    "  ```python\n",
    "  from sklearn.metrics import cohen_kappa_score\n",
    "  kappa = cohen_kappa_score(y_test, y_pred)\n",
    "  ```\n",
    "\n",
    "---\n",
    "\n",
    "#### 6. ROC AUC (One-vs-Rest or Macro)\n",
    "- **Description**: Measures the model's ability to distinguish between classes. For multiclass problems, you can calculate a macro-average or use the one-vs-rest (OvR) approach.\n",
    "- **Best Use Case**: Use when evaluating the model’s ranking ability and when probabilistic predictions are available.\n",
    "- **Implementation**:\n",
    "  ```python\n",
    "  from sklearn.metrics import roc_auc_score\n",
    "  roc_auc = roc_auc_score(y_test, y_pred_proba, multi_class=\"ovr\", average=\"macro\")\n",
    "  ```\n",
    "\n",
    "---\n",
    "\n",
    "#### Choosing the Best Metric\n",
    "Here’s a guide based on priorities:\n",
    "1. **When All Classes Are Equally Important**:\n",
    "   - Use **Macro F1 Score** or **Balanced Accuracy**. These metrics give equal weight to all classes, ensuring fair evaluation of minority classes.\n",
    "\n",
    "2. **When Minority Classes Are Critical**:\n",
    "   - Use **Macro F1 Score** or **Cohen's Kappa**. These metrics are sensitive to performance on minority classes.\n",
    "\n",
    "3. **When Probabilistic Predictions Matter**:\n",
    "   - Use **Log Loss** or **ROC AUC**. These metrics evaluate the quality of the predicted probabilities.\n",
    "\n",
    "4. **When Class Proportions Matter**:\n",
    "   - Use **Weighted F1 Score**. It balances class importance based on their frequencies.\n",
    "\n",
    "---\n",
    "\n",
    "#### Suggested Approach for Your Dataset\n",
    "Given your **highly imbalanced dataset** (Class 0: 490k, Class 1: 6k, Class 2: 4k):\n",
    "- Start with **Macro F1 Score**: This ensures that all classes, including the minority ones, are equally weighted during evaluation.\n",
    "- Combine it with **Balanced Accuracy**: To verify the recall for minority classes.\n",
    "- Optionally, calculate **Cohen's Kappa** to assess how much better the model is compared to chance.\n",
    "\n",
    "Example Code:\n",
    "```python\n",
    "from sklearn.metrics import f1_score, balanced_accuracy_score, cohen_kappa_score\n",
    "\n",
    "# Predictions\n",
    "y_pred = rf_model.predict(X_test)\n",
    "y_pred_proba = rf_model.predict_proba(X_test)\n",
    "\n",
    "# Macro F1 Score\n",
    "f1_macro = f1_score(y_test, y_pred, average=\"macro\")\n",
    "print(f\"Macro F1 Score: {f1_macro:.4f}\")\n",
    "\n",
    "# Balanced Accuracy\n",
    "balanced_acc = balanced_accuracy_score(y_test, y_pred)\n",
    "print(f\"Balanced Accuracy: {balanced_acc:.4f}\")\n",
    "\n",
    "# Cohen's Kappa\n",
    "kappa = cohen_kappa_score(y_test, y_pred)\n",
    "print(f\"Cohen's Kappa: {kappa:.4f}\")\n",
    "```\n",
    "\n",
    "---\n",
    "\n",
    "#### Final Recommendation\n",
    "If you need to select one metric:\n",
    "- **Macro F1 Score**: This is typically the most interpretable and fair metric for imbalanced datasets, especially when minority class performance is critical."
   ]
  },
  {
   "cell_type": "markdown",
   "id": "3641f0d6-400c-4132-bd47-6143594d2251",
   "metadata": {},
   "source": [
    "A **classification report** is a performance evaluation metric used to summarize the results of a classification model. It provides insights into how well the model is performing for each class in terms of precision, recall, F1-score, and support. Here's an explanation of the key metrics:\n",
    "\n",
    "### **1. Precision**\n",
    "- **Definition**: Precision measures the accuracy of positive predictions. It tells us what proportion of predicted positive instances are actually positive.\n",
    "- **Formula**:  \n",
    "  $$\\text{Precision} = \\frac{\\text{True Positives (TP)}}{\\text{True Positives (TP)} + \\text{False Positives (FP)}}$$\n",
    "- **Interpretation**: High precision indicates that the model is making very few false positive errors.\n",
    "\n",
    "---\n",
    "\n",
    "### **2. Recall (Sensitivity or True Positive Rate)**\n",
    "- **Definition**: Recall measures the ability of the model to capture all positive instances. It tells us what proportion of actual positive instances were correctly identified.\n",
    "- **Formula**:  \n",
    "  $$\\text{Recall} = \\frac{\\text{True Positives (TP)}}{\\text{True Positives (TP)} + \\text{False Negatives (FN)}}$$\n",
    "- **Interpretation**: High recall indicates that the model captures most of the positive instances.\n",
    "\n",
    "---\n",
    "\n",
    "### **3. F1-Score**\n",
    "- **Definition**: The F1-score is the harmonic mean of precision and recall. It provides a single metric that balances the trade-off between precision and recall.\n",
    "- **Formula**:  \n",
    "  $$\\text{F1-score} = 2 \\times \\frac{\\text{Precision} \\times \\text{Recall}}{\\text{Precision} + \\text{Recall}}$$\n",
    "- **Interpretation**: A high F1-score indicates a good balance between precision and recall. It is particularly useful when the class distribution is imbalanced.\n",
    "\n",
    "---\n",
    "\n",
    "### **4. Support**\n",
    "- **Definition**: Support is the number of actual occurrences of each class in the dataset. It indicates the size of the ground truth data for each class.\n",
    "- **Interpretation**: While support is not a performance metric, it helps in understanding how many instances belong to each class, which is essential for analyzing model performance in the context of imbalanced datasets.\n",
    "\n",
    "---\n",
    "\n",
    "### **Example of a Classification Report**\n",
    "Here’s a typical classification report:\n",
    "\n",
    "| Class      | Precision | Recall | F1-Score | Support |\n",
    "|------------|-----------|--------|----------|---------|\n",
    "| Class 0    | 0.95      | 0.98   | 0.96     | 200     |\n",
    "| Class 1    | 0.87      | 0.75   | 0.81     | 100     |\n",
    "| **Macro Avg** | 0.91      | 0.86   | 0.89     | 300     |\n",
    "| **Weighted Avg** | 0.93      | 0.93   | 0.93     | 300     |\n",
    "\n",
    "### **Notes on Key Averages:**\n",
    "1. **Macro Average**:\n",
    "   - Arithmetic mean of the metrics across all classes (unweighted).\n",
    "   - Treats all classes equally regardless of support.\n",
    "2. **Weighted Average**:\n",
    "   - Weighted mean of the metrics, considering the support of each class.\n",
    "   - Reflects overall performance while accounting for class imbalance.\n",
    "\n",
    "### **Why is this Important?**\n",
    "Understanding these metrics allows you to:\n",
    "- Evaluate how well your model is performing for each class.\n",
    "- Decide which metric (precision, recall, F1-score) is most important based on your problem (e.g., high recall for medical diagnosis).\n",
    "- Diagnose problems with your model, especially in the context of imbalanced datasets."
   ]
  },
  {
   "cell_type": "markdown",
   "id": "97cd7490-cda0-4063-9787-f97d6374bfe3",
   "metadata": {},
   "source": [
    "### 7.2. Model Selection"
   ]
  },
  {
   "cell_type": "markdown",
   "id": "eeac15e1-87d0-42ac-8dbd-ced70376c901",
   "metadata": {},
   "source": [
    "For our imbalanced dataset, an appropriate model needs to either inherently handle class imbalance or be complemented by techniques to mitigate the issue. Here's a comparative analysis of three models: **XGBoost**, **Random Forest**, and **LightGBM**."
   ]
  },
  {
   "cell_type": "markdown",
   "id": "f896fcb4-d8e8-483b-9c06-f1578e85644d",
   "metadata": {},
   "source": [
    "##### 1. **XGBoost**:\n",
    "   - **Strengths**:\n",
    "     - Offers built-in functionality for handling imbalanced datasets via the `scale_pos_weight` parameter, which adjusts the weight for each class based on their frequencies.\n",
    "     - Performs well on tabular datasets and handles non-linear relationships effectively.\n",
    "     - Robust to overfitting due to regularization options (`lambda`, `alpha`).\n",
    "   - **Weaknesses**:\n",
    "     - Computationally expensive, especially for large datasets.\n",
    "     - Tuning the hyperparameters (e.g., learning rate, max depth) can be time-consuming."
   ]
  },
  {
   "cell_type": "markdown",
   "id": "9c48eae6-890a-407b-8984-3e484fa87e33",
   "metadata": {},
   "source": [
    "##### 2. **Random Forest**:\n",
    "   - **Strengths**:\n",
    "     - Simple to implement and interpret, as it uses multiple decision trees.\n",
    "     - Can be adapted for imbalanced datasets using `class_weight` in Scikit-learn (`balanced` or `balanced_subsample`).\n",
    "     - Handles noisy data and large feature sets well.\n",
    "   - **Weaknesses**:\n",
    "     - May underperform on extremely imbalanced datasets if not carefully tuned or augmented with sampling techniques.\n",
    "     - Less flexible compared to gradient boosting models for fine-grained adjustments."
   ]
  },
  {
   "cell_type": "markdown",
   "id": "2c3f7902-1669-4d06-aaa1-a1ec28986595",
   "metadata": {},
   "source": [
    "##### 3. **LightGBM**:\n",
    "   - **Strengths**:\n",
    "     - Specifically designed for speed and scalability, making it faster than XGBoost on large datasets.\n",
    "     - Like XGBoost, supports `scale_pos_weight` to handle imbalance.\n",
    "     - Optimized for sparse datasets and performs well with categorical features.\n",
    "     - Often achieves similar or better accuracy compared to XGBoost with fewer computational resources.\n",
    "   - **Weaknesses**:\n",
    "     - More sensitive to hyperparameter tuning compared to Random Forest.\n",
    "     - May require careful preprocessing of data to avoid overfitting."
   ]
  },
  {
   "cell_type": "markdown",
   "id": "dd80a74e-bd50-4932-944e-ef4ac7897736",
   "metadata": {},
   "source": [
    "##### Comparison Table:\n",
    "\n",
    "| Model         | Handles Imbalance (Directly) | Speed/Scalability | Interpretability | Hyperparameter Sensitivity | Performance on Imbalance (Post-Tuning) |\n",
    "|---------------|-------------------------------|-------------------|------------------|----------------------------|-----------------------------------------|\n",
    "| XGBoost       | Yes (`scale_pos_weight`)     | Medium            | Moderate         | High                       | Excellent                               |\n",
    "| Random Forest | Yes (`class_weight`)         | Moderate          | High             | Low                        | Good                                    |\n",
    "| LightGBM      | Yes (`scale_pos_weight`)     | High              | Moderate         | High                       | Excellent                               |"
   ]
  },
  {
   "cell_type": "markdown",
   "id": "aea2bdf2-d4d5-40fc-b063-b247b0e42604",
   "metadata": {},
   "source": [
    "##### Recommendations:\n",
    "1. **LightGBM**: For large, imbalanced datasets, it is faster and often more accurate than XGBoost. It would be a strong alternative.\n",
    "2. **Imbalance Techniques**:\n",
    "   - Use **oversampling** (SMOTE, ADASYN) or **undersampling** to balance the dataset.\n",
    "   - Alternatively, apply **cost-sensitive learning** via weight adjustments in models.\n",
    "3. **Evaluation Metrics**:\n",
    "   - Use metrics like **F1-score**, **AUC-ROC**, or **balanced accuracy** to assess model performance, as accuracy is not meaningful for imbalanced data.\n",
    "4. **Ensemble Approaches**:\n",
    "   - Combine multiple models (e.g., stacking XGBoost, LightGBM, and Random Forest) for potentially better predictions."
   ]
  },
  {
   "cell_type": "markdown",
   "id": "6e00b13d-33f2-4aab-a9b4-755b3ba3a1bd",
   "metadata": {},
   "source": [
    "#### 7.2.1. RandomForestClassifier"
   ]
  },
  {
   "cell_type": "markdown",
   "id": "446a33dd-e148-4f6e-be3a-224b4f5ca19a",
   "metadata": {},
   "source": [
    "#### 7.2.1.2. feature_importances_"
   ]
  },
  {
   "cell_type": "code",
   "execution_count": 74,
   "id": "7b0bdfa7-dcea-49d5-930f-56525acb1578",
   "metadata": {},
   "outputs": [],
   "source": [
    "# Visualize feature importances\n",
    "def plot_feature_importances(model, scaler_name = 'StandardScaler'):\n",
    "    \n",
    "    # print(f\"Feature Importances for {scaler_name}:\")\n",
    "    importances = model.feature_importances_\n",
    "    sorted_indices = np.argsort(importances)[::-1]\n",
    "    \n",
    "    plt.figure(figsize=(10, 6))\n",
    "    plt.bar(range(attributes_train.shape[1]), importances[sorted_indices], align='center')\n",
    "    plt.xticks(range(attributes_train.shape[1]), attributes.columns[sorted_indices], rotation=90)\n",
    "    plt.title(f\"Feature Importances ({scaler_name})\")\n",
    "    plt.tight_layout()\n",
    "    plt.show()\n"
   ]
  },
  {
   "cell_type": "code",
   "execution_count": 75,
   "id": "eed14532-fff2-4f85-a7c3-07ccd20c765f",
   "metadata": {},
   "outputs": [],
   "source": [
    "#plot_feature_importances(model)"
   ]
  },
  {
   "cell_type": "code",
   "execution_count": 76,
   "id": "a5fd1169-055c-4826-ae64-d6d7c9a2831d",
   "metadata": {},
   "outputs": [],
   "source": [
    "#model.feature_importances_.sum()"
   ]
  },
  {
   "cell_type": "code",
   "execution_count": 77,
   "id": "7622da94-22af-4249-8517-41685a4efd71",
   "metadata": {
    "scrolled": true
   },
   "outputs": [],
   "source": [
    "#result_feat_imp = list(zip(btc_price_data_1_year.columns, np.round(model.feature_importances_, 3)))"
   ]
  },
  {
   "cell_type": "code",
   "execution_count": 78,
   "id": "a760e058-5a86-4eee-85e1-ae590253996d",
   "metadata": {
    "scrolled": true
   },
   "outputs": [],
   "source": [
    "#pd.DataFrame(result_feat_imp).sort_values(1, ascending = False)"
   ]
  },
  {
   "cell_type": "markdown",
   "id": "79ea17bb-13d2-486a-b5fd-8e653aa8ae2a",
   "metadata": {},
   "source": [
    "#### 7.2.1.3 Hyperparameter Optimization (RandomForestClassifier)"
   ]
  },
  {
   "cell_type": "markdown",
   "id": "ad1a5d92-2da4-43ee-8c77-b659e0779d14",
   "metadata": {},
   "source": [
    "#### 7.2.2. XGBoost"
   ]
  },
  {
   "cell_type": "markdown",
   "id": "452a1a34-8e20-425f-9b39-b9a66be7587a",
   "metadata": {},
   "source": [
    "#### 7.2.2.1. Train Model"
   ]
  },
  {
   "cell_type": "markdown",
   "id": "f3d988f8-50e8-4042-b1ab-67b922807e0e",
   "metadata": {},
   "source": [
    "Set time series-specific hyperparameters and tune them for your data:"
   ]
  },
  {
   "cell_type": "markdown",
   "id": "2f2f25bc-4ee5-4ee9-b48c-b030ccb44753",
   "metadata": {},
   "source": [
    "#### 7.2.2.2. Evaluate the Model"
   ]
  },
  {
   "cell_type": "markdown",
   "id": "fe0253b3-8424-4c6b-a950-0a0c285a15fc",
   "metadata": {},
   "source": [
    "#### 7.3.1. Create a Pipeline for RandomForestClassifier"
   ]
  },
  {
   "cell_type": "code",
   "execution_count": null,
   "id": "058bae42-75a9-43c6-8436-d8bd2ff473cf",
   "metadata": {},
   "outputs": [],
   "source": [
    "#model = RandomForestClassifier(n_estimators=10, random_state=42)"
   ]
  },
  {
   "cell_type": "code",
   "execution_count": null,
   "id": "a2667735-e025-45e9-ae9a-f914099d8883",
   "metadata": {},
   "outputs": [],
   "source": [
    "model_pipeline_randomforest = Pipeline(\n",
    "    [\n",
    "        (\"scaler\", MinMaxScaler()),\n",
    "        (\"forest\", RandomForestClassifier(\n",
    "            class_weight='balanced', n_estimators = 300, max_depth = 10, min_samples_split = 2, random_state=42, n_jobs = 9)),\n",
    "        # (\"forestClass\", RandomForestClassifier(n_estimators=10, min_samples_split= 50, random_state=42)),\n",
    "        # (\"scaler\", StandardScaler()),\n",
    "        # (\"svd\", TruncatedSVD(n_components = 20)),\n",
    "        # (\"nb\", SGDClassifier(loss = \"hinge\"))\n",
    "    ]\n",
    ")"
   ]
  },
  {
   "cell_type": "markdown",
   "id": "0b248adb-dbdd-47a0-9e9e-f363c1d9c4af",
   "metadata": {},
   "source": [
    "### 3.4. Step 4: Model Evaluation"
   ]
  },
  {
   "cell_type": "markdown",
   "id": "dd4d4056-27b4-46bc-9ebc-7086d7252db2",
   "metadata": {},
   "source": [
    "1. **Making Predictions**:\n",
    "   - Use the model to make predictions on the test dataset."
   ]
  },
  {
   "cell_type": "code",
   "execution_count": null,
   "id": "021d7086-dd3b-4054-82cc-765eaae36de2",
   "metadata": {},
   "outputs": [],
   "source": [
    "predictions = model_pipeline.predict(attributes_test)\n",
    "print(predictions)"
   ]
  },
  {
   "cell_type": "code",
   "execution_count": null,
   "id": "3b9a9a89-92d2-4771-b8ff-a963f8df8122",
   "metadata": {},
   "outputs": [],
   "source": [
    "print(\"Unique classes:\", np.unique(predictions))"
   ]
  },
  {
   "cell_type": "markdown",
   "id": "57b7aeea-e44c-4924-afbd-57ac92eb53fa",
   "metadata": {},
   "source": [
    "2. **Evaluating Performance**:\n",
    "   - Use metrics for binary model evaluation, such as accuracy, precision, recall, and F1-score."
   ]
  },
  {
   "cell_type": "code",
   "execution_count": null,
   "id": "83266b6e-2fd8-4397-96e5-47a8df655e5c",
   "metadata": {},
   "outputs": [],
   "source": [
    "# Check with train data\n",
    "print(classification_report(target_train, model.predict(attributes_train)))"
   ]
  },
  {
   "cell_type": "code",
   "execution_count": null,
   "id": "aa4216b3-02cd-4d16-bdf5-d0f1d4f17316",
   "metadata": {},
   "outputs": [],
   "source": [
    "print(classification_report(target_test, model.predict(attributes_test)))"
   ]
  },
  {
   "cell_type": "code",
   "execution_count": null,
   "id": "0f8c42e5-8133-413d-bfc2-f6dd39a54df8",
   "metadata": {},
   "outputs": [],
   "source": [
    "target_test.value_counts()"
   ]
  },
  {
   "cell_type": "code",
   "execution_count": null,
   "id": "260e7aad-f210-49cc-96b4-2e308caa6981",
   "metadata": {},
   "outputs": [],
   "source": [
    "accuracy = accuracy_score(target_test, predictions)\n",
    "precision = precision_score(target_test, predictions, average='macro')\n",
    "recall = recall_score(target_test, predictions, average='macro')\n",
    "f1 = f1_score(target_test, predictions, average='macro')\n",
    "   \n",
    "print(f'Accuracy: {accuracy:.2f}')\n",
    "print(f'Precision: {precision:.2f}')\n",
    "print(f'Recall: {recall:.2f}')\n",
    "print(f'F1 Score: {f1:.2f}')"
   ]
  },
  {
   "cell_type": "code",
   "execution_count": null,
   "id": "e24eaf0b-5850-4e12-ba04-e2636209b16a",
   "metadata": {},
   "outputs": [],
   "source": []
  },
  {
   "cell_type": "markdown",
   "id": "1c841670-1a00-4781-8e26-500a7c9a3164",
   "metadata": {},
   "source": [
    "## 4. Step 4: Strategy Simulation (Backtesting)\n",
    "\n",
    "Before deploying the bot in a live environment, backtest it to assess its performance on historical data.\n",
    "\n",
    "1. **Use the Test Dataset**: Evaluate how the bot would perform if buy and sell decisions had been made based on historical data.\n",
    "2. **Evaluate the Strategy**: Calculate key metrics like:\n",
    "   - **Return**: Compare achieved profit relative to a baseline (e.g., buy-and-hold).\n",
    "   - **Maximum Drawdown**: Assess the largest losses during consecutive failed trades.\n",
    "   - **Risk/Reward Ratio**."
   ]
  },
  {
   "cell_type": "code",
   "execution_count": null,
   "id": "c8076b93-d210-4954-bb59-6073ddfb279e",
   "metadata": {},
   "outputs": [],
   "source": []
  },
  {
   "cell_type": "markdown",
   "id": "0b7e30b7-4b84-4c99-94b4-d9b96e90b78c",
   "metadata": {},
   "source": [
    "## References"
   ]
  },
  {
   "cell_type": "markdown",
   "id": "7e7de346-4bf2-4ed9-a8c0-3462961085f5",
   "metadata": {},
   "source": [
    "[1] Ashford, K. (2024, May 21). What is bitcoin and how does it work? Forbes Advisor. https://www.forbes.com/advisor/investing/cryptocurrency/what-is-bitcoin/"
   ]
  },
  {
   "cell_type": "markdown",
   "id": "27097e57-e6e9-4a27-a873-7612a42c68fd",
   "metadata": {},
   "source": [
    "[2] Pedregosa, F., Varoquaux, Ga\"el, Gramfort, A., Michel, V., Thirion, B., Grisel, O., … others. (2011). Scikit-learn: Machine learning in Python. Journal of Machine Learning Research, 12(Oct), 2825–2830."
   ]
  },
  {
   "cell_type": "markdown",
   "id": "79c6a659-e212-45f3-9fd6-b21c4192453a",
   "metadata": {},
   "source": [
    "[3] Chen, T., & Guestrin, C. (2016). XGBoost: A Scalable Tree Boosting System. In Proceedings of the 22nd ACM SIGKDD International Conference on Knowledge Discovery and Data Mining (pp. 785–794). New York, NY, USA: ACM. https://doi.org/10.1145/2939672.2939785"
   ]
  },
  {
   "cell_type": "markdown",
   "id": "1cba640d-9294-4ed9-8c48-66400e00aadb",
   "metadata": {},
   "source": [
    "[4] Ke, G., Meng, Q., Finley, T., Wang, T., Chen, W., Ma, W., … Liu, T.-Y. (2017). Lightgbm: A highly efficient gradient boosting decision tree. Advances in Neural Information Processing Systems, 30, 3146–3154."
   ]
  },
  {
   "cell_type": "markdown",
   "id": "5051bc2c-ba70-4824-ad1d-6d409db404d2",
   "metadata": {},
   "source": [
    "[5] Ho, T. K. (1995). Random decision forests. In Proceedings of 3rd international conference on document analysis and recognition (Vol. 1, pp. 278–282)."
   ]
  },
  {
   "cell_type": "markdown",
   "id": "06bc180a-136e-49d4-9af2-1dcec02e51ab",
   "metadata": {},
   "source": [
    "[6] Kamtziridis, G. (2024, September 26). Time Series Forecasting with XGBoost and LightGBM: Predicting Energy Consumption. Medium. https://medium.com/geokam/time-series-forecasting-with-xgboost-and-lightgbm-predicting-energy-consumption-460b675a9cee"
   ]
  },
  {
   "cell_type": "markdown",
   "id": "4aa896f4-0858-4c23-8080-2cedb48c943e",
   "metadata": {},
   "source": [
    "[7] Kamtziridis, G. (2024b, September 26). Time Series Forecasting with XGBoost and LightGBM: Predicting Energy Consumption with Lag Features. Medium. https://medium.com/geokam/time-series-forecasting-with-xgboost-and-lightgbm-predicting-energy-consumption-with-lag-features-dbf69970a90f"
   ]
  },
  {
   "cell_type": "markdown",
   "id": "dc2e05a7-35f5-40d5-b26f-3b852fd9c8ea",
   "metadata": {},
   "source": [
    "[8] Kamtziridis, G. (2024c, November 16). Enhancing Time Series Forecasting with XGBoost: Incorporating Rolling Statistics and Moving Averages. Medium. https://medium.com/geokam/enhancing-time-series-forecasting-with-xgboost-incorporating-rolling-statistics-and-moving-c12d136ad0a9"
   ]
  },
  {
   "cell_type": "markdown",
   "id": "8f99adaa-fe68-46cc-ba7e-d1689b7b77d5",
   "metadata": {},
   "source": [
    "[9] Meir, U. (2022, September 2). D.A.R.T — your new weapon against overfitting in boosting models. Medium. https://medium.com/meir412_37692/d-a-r-t-your-new-weapon-against-overfitting-in-boosting-models-9ea4e6aa435b"
   ]
  }
 ],
 "metadata": {
  "kernelspec": {
   "display_name": "Python 3 (ipykernel)",
   "language": "python",
   "name": "python3"
  },
  "language_info": {
   "codemirror_mode": {
    "name": "ipython",
    "version": 3
   },
   "file_extension": ".py",
   "mimetype": "text/x-python",
   "name": "python",
   "nbconvert_exporter": "python",
   "pygments_lexer": "ipython3",
   "version": "3.11.9"
  }
 },
 "nbformat": 4,
 "nbformat_minor": 5
}
