{
 "cells": [
  {
   "cell_type": "code",
   "execution_count": 2,
   "id": "7b700869-59d9-4b9a-825c-24868118bb90",
   "metadata": {},
   "outputs": [],
   "source": [
    "import numpy as np\n",
    "import pandas as pd\n",
    "import matplotlib.pyplot as plt"
   ]
  },
  {
   "cell_type": "markdown",
   "id": "82784c33-e0af-46de-a726-200af78be196",
   "metadata": {},
   "source": [
    "# Step 4: Strategy Simulation (Backtesting)"
   ]
  },
  {
   "cell_type": "code",
   "execution_count": 3,
   "id": "d94be59b-2055-49d3-bfd3-3c6319222ed3",
   "metadata": {},
   "outputs": [
    {
     "name": "stdout",
     "output_type": "stream",
     "text": [
      "             timestamp  close  target   result\n",
      "0  2024-11-01 12:00:00     10       1  10000.0\n",
      "1  2024-11-01 12:01:00     20      -1    500.0\n",
      "2  2024-11-01 12:02:00     30       1  15000.0\n"
     ]
    }
   ],
   "source": [
    "def apply_trading_strategy(df, start_money):\n",
    "    \"\"\"\n",
    "    Изчислява резултатите на база trading стратегия.\n",
    "    \n",
    "    Параметри:\n",
    "        df (pd.DataFrame): DataFrame със следните колони: ['timestamp', 'close', 'target'].\n",
    "        start_money (float): Начална сума.\n",
    "    \n",
    "    Резултат:\n",
    "        pd.DataFrame: Оригиналният DataFrame с нова колона 'result'.\n",
    "    \"\"\"\n",
    "    # Копираме стартовата сума в променлива\n",
    "    current_money = start_money\n",
    "    \n",
    "    # Функция, която се прилага върху всеки ред\n",
    "    def calculate_result(row):\n",
    "        nonlocal current_money  # Позволява използване на променливата от външния обхват\n",
    "        if row['target'] == 1:\n",
    "            current_money *= row['close']\n",
    "        elif row['target'] == -1:\n",
    "            current_money /= row['close']\n",
    "        return current_money\n",
    "\n",
    "    # Прилагаме функцията върху всеки ред и създаваме нова колона 'result'\n",
    "    df['result'] = df.apply(calculate_result, axis=1)\n",
    "    return df\n",
    "\n",
    "# Примерен DataFrame\n",
    "data = {\n",
    "    'timestamp': ['2024-11-01 12:00:00', '2024-11-01 12:01:00', '2024-11-01 12:02:00'],\n",
    "    'close': [10, 20, 30],\n",
    "    'target': [1, -1, 1]\n",
    "}\n",
    "df = pd.DataFrame(data)\n",
    "\n",
    "# Начална стойност\n",
    "start_money = 1000\n",
    "\n",
    "# Приложение на функцията\n",
    "df = apply_trading_strategy(df, start_money)\n",
    "\n",
    "print(df)\n"
   ]
  },
  {
   "cell_type": "code",
   "execution_count": null,
   "id": "15692fd6-7d8f-4a4a-804f-ebe8222fac43",
   "metadata": {},
   "outputs": [],
   "source": []
  }
 ],
 "metadata": {
  "kernelspec": {
   "display_name": "Python 3 (ipykernel)",
   "language": "python",
   "name": "python3"
  },
  "language_info": {
   "codemirror_mode": {
    "name": "ipython",
    "version": 3
   },
   "file_extension": ".py",
   "mimetype": "text/x-python",
   "name": "python",
   "nbconvert_exporter": "python",
   "pygments_lexer": "ipython3",
   "version": "3.11.9"
  }
 },
 "nbformat": 4,
 "nbformat_minor": 5
}
