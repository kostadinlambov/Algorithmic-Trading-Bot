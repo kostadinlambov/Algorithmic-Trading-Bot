{
 "cells": [
  {
   "cell_type": "code",
   "execution_count": 69,
   "id": "2d3ef0e3-843c-4851-836b-1f76dfe110b3",
   "metadata": {},
   "outputs": [],
   "source": [
    "import numpy as np\n",
    "import pandas as pd\n",
    "import matplotlib.pyplot as plt\n",
    "import seaborn as sns\n",
    "\n",
    "import pickle\n",
    "import mlflow\n",
    "import time\n",
    "\n",
    "import optuna\n",
    "import optuna.visualization as vis\n",
    "\n",
    "from sklearn.model_selection import train_test_split, TimeSeriesSplit, GridSearchCV\n",
    "\n",
    "# Scalers\n",
    "from sklearn.preprocessing import label_binarize\n",
    "\n",
    "from imblearn.over_sampling import SMOTE\n",
    "\n",
    "# Metrics\n",
    "from sklearn.metrics import classification_report, roc_auc_score, auc, roc_curve, precision_recall_curve, f1_score\n",
    "\n",
    "# Model\n",
    "from xgboost import XGBClassifier"
   ]
  },
  {
   "cell_type": "markdown",
   "id": "5f03641b-703a-4397-9350-4ec09e180f76",
   "metadata": {},
   "source": [
    "# Model Selection - XGBoost"
   ]
  },
  {
   "cell_type": "markdown",
   "id": "b79693b5-a71b-4662-be6c-cda6a2c12cc4",
   "metadata": {},
   "source": [
    "## 1. Load Data"
   ]
  },
  {
   "cell_type": "code",
   "execution_count": 34,
   "id": "f3753790-2770-4c89-90bd-5e4e74139b91",
   "metadata": {},
   "outputs": [
    {
     "data": {
      "text/html": [
       "<div>\n",
       "<style scoped>\n",
       "    .dataframe tbody tr th:only-of-type {\n",
       "        vertical-align: middle;\n",
       "    }\n",
       "\n",
       "    .dataframe tbody tr th {\n",
       "        vertical-align: top;\n",
       "    }\n",
       "\n",
       "    .dataframe thead th {\n",
       "        text-align: right;\n",
       "    }\n",
       "</style>\n",
       "<table border=\"1\" class=\"dataframe\">\n",
       "  <thead>\n",
       "    <tr style=\"text-align: right;\">\n",
       "      <th></th>\n",
       "      <th>open</th>\n",
       "      <th>high</th>\n",
       "      <th>low</th>\n",
       "      <th>close</th>\n",
       "      <th>volume</th>\n",
       "      <th>month</th>\n",
       "      <th>day</th>\n",
       "      <th>weekday</th>\n",
       "      <th>hour</th>\n",
       "      <th>hour_sin</th>\n",
       "      <th>...</th>\n",
       "      <th>lag_47</th>\n",
       "      <th>lag_56</th>\n",
       "      <th>RSI</th>\n",
       "      <th>EMA12</th>\n",
       "      <th>EMA26</th>\n",
       "      <th>MACD</th>\n",
       "      <th>Signal_Line</th>\n",
       "      <th>SMA</th>\n",
       "      <th>EMA</th>\n",
       "      <th>future_return</th>\n",
       "    </tr>\n",
       "    <tr>\n",
       "      <th>timestamp</th>\n",
       "      <th></th>\n",
       "      <th></th>\n",
       "      <th></th>\n",
       "      <th></th>\n",
       "      <th></th>\n",
       "      <th></th>\n",
       "      <th></th>\n",
       "      <th></th>\n",
       "      <th></th>\n",
       "      <th></th>\n",
       "      <th></th>\n",
       "      <th></th>\n",
       "      <th></th>\n",
       "      <th></th>\n",
       "      <th></th>\n",
       "      <th></th>\n",
       "      <th></th>\n",
       "      <th></th>\n",
       "      <th></th>\n",
       "      <th></th>\n",
       "      <th></th>\n",
       "    </tr>\n",
       "  </thead>\n",
       "  <tbody>\n",
       "    <tr>\n",
       "      <th>2023-11-01 00:56:00</th>\n",
       "      <td>34524.12</td>\n",
       "      <td>34549.26</td>\n",
       "      <td>34541.45</td>\n",
       "      <td>34524.49</td>\n",
       "      <td>31.117144</td>\n",
       "      <td>11</td>\n",
       "      <td>1</td>\n",
       "      <td>2</td>\n",
       "      <td>0</td>\n",
       "      <td>0.000000</td>\n",
       "      <td>...</td>\n",
       "      <td>34619.47</td>\n",
       "      <td>34667.88</td>\n",
       "      <td>47.431310</td>\n",
       "      <td>34542.664324</td>\n",
       "      <td>34556.581568</td>\n",
       "      <td>-13.917244</td>\n",
       "      <td>-12.759288</td>\n",
       "      <td>34553.5310</td>\n",
       "      <td>34550.874620</td>\n",
       "      <td>0.000377</td>\n",
       "    </tr>\n",
       "    <tr>\n",
       "      <th>2023-11-01 00:57:00</th>\n",
       "      <td>34524.13</td>\n",
       "      <td>34537.66</td>\n",
       "      <td>34524.52</td>\n",
       "      <td>34524.62</td>\n",
       "      <td>7.349951</td>\n",
       "      <td>11</td>\n",
       "      <td>1</td>\n",
       "      <td>2</td>\n",
       "      <td>0</td>\n",
       "      <td>0.000000</td>\n",
       "      <td>...</td>\n",
       "      <td>34603.20</td>\n",
       "      <td>34642.82</td>\n",
       "      <td>48.755135</td>\n",
       "      <td>34539.888274</td>\n",
       "      <td>34554.214045</td>\n",
       "      <td>-14.325771</td>\n",
       "      <td>-13.072585</td>\n",
       "      <td>34549.4505</td>\n",
       "      <td>34548.374180</td>\n",
       "      <td>-0.005330</td>\n",
       "    </tr>\n",
       "    <tr>\n",
       "      <th>2023-11-01 00:58:00</th>\n",
       "      <td>34519.85</td>\n",
       "      <td>34531.41</td>\n",
       "      <td>34527.81</td>\n",
       "      <td>34522.78</td>\n",
       "      <td>5.134526</td>\n",
       "      <td>11</td>\n",
       "      <td>1</td>\n",
       "      <td>2</td>\n",
       "      <td>0</td>\n",
       "      <td>0.000000</td>\n",
       "      <td>...</td>\n",
       "      <td>34602.26</td>\n",
       "      <td>34656.56</td>\n",
       "      <td>48.265451</td>\n",
       "      <td>34537.256232</td>\n",
       "      <td>34551.885597</td>\n",
       "      <td>-14.629365</td>\n",
       "      <td>-13.383941</td>\n",
       "      <td>34545.2715</td>\n",
       "      <td>34545.936639</td>\n",
       "      <td>0.025461</td>\n",
       "    </tr>\n",
       "    <tr>\n",
       "      <th>2023-11-01 00:59:00</th>\n",
       "      <td>34521.42</td>\n",
       "      <td>34531.98</td>\n",
       "      <td>34521.42</td>\n",
       "      <td>34531.57</td>\n",
       "      <td>4.310564</td>\n",
       "      <td>11</td>\n",
       "      <td>1</td>\n",
       "      <td>2</td>\n",
       "      <td>0</td>\n",
       "      <td>0.000000</td>\n",
       "      <td>...</td>\n",
       "      <td>34623.10</td>\n",
       "      <td>34629.34</td>\n",
       "      <td>41.702541</td>\n",
       "      <td>34536.381427</td>\n",
       "      <td>34550.380738</td>\n",
       "      <td>-13.999311</td>\n",
       "      <td>-13.507015</td>\n",
       "      <td>34542.0065</td>\n",
       "      <td>34544.568387</td>\n",
       "      <td>0.021053</td>\n",
       "    </tr>\n",
       "    <tr>\n",
       "      <th>2023-11-01 01:00:00</th>\n",
       "      <td>34531.46</td>\n",
       "      <td>34547.87</td>\n",
       "      <td>34532.22</td>\n",
       "      <td>34538.84</td>\n",
       "      <td>1.327905</td>\n",
       "      <td>11</td>\n",
       "      <td>1</td>\n",
       "      <td>2</td>\n",
       "      <td>1</td>\n",
       "      <td>0.258819</td>\n",
       "      <td>...</td>\n",
       "      <td>34611.54</td>\n",
       "      <td>34622.27</td>\n",
       "      <td>48.144440</td>\n",
       "      <td>34536.759669</td>\n",
       "      <td>34549.525868</td>\n",
       "      <td>-12.766199</td>\n",
       "      <td>-13.358852</td>\n",
       "      <td>34540.4225</td>\n",
       "      <td>34544.022827</td>\n",
       "      <td>0.011263</td>\n",
       "    </tr>\n",
       "    <tr>\n",
       "      <th>...</th>\n",
       "      <td>...</td>\n",
       "      <td>...</td>\n",
       "      <td>...</td>\n",
       "      <td>...</td>\n",
       "      <td>...</td>\n",
       "      <td>...</td>\n",
       "      <td>...</td>\n",
       "      <td>...</td>\n",
       "      <td>...</td>\n",
       "      <td>...</td>\n",
       "      <td>...</td>\n",
       "      <td>...</td>\n",
       "      <td>...</td>\n",
       "      <td>...</td>\n",
       "      <td>...</td>\n",
       "      <td>...</td>\n",
       "      <td>...</td>\n",
       "      <td>...</td>\n",
       "      <td>...</td>\n",
       "      <td>...</td>\n",
       "      <td>...</td>\n",
       "    </tr>\n",
       "    <tr>\n",
       "      <th>2024-10-31 23:55:00</th>\n",
       "      <td>70248.97</td>\n",
       "      <td>70264.97</td>\n",
       "      <td>70248.98</td>\n",
       "      <td>70248.97</td>\n",
       "      <td>1.604753</td>\n",
       "      <td>10</td>\n",
       "      <td>31</td>\n",
       "      <td>3</td>\n",
       "      <td>23</td>\n",
       "      <td>-0.258819</td>\n",
       "      <td>...</td>\n",
       "      <td>70345.60</td>\n",
       "      <td>70383.13</td>\n",
       "      <td>15.731750</td>\n",
       "      <td>70316.514762</td>\n",
       "      <td>70363.992465</td>\n",
       "      <td>-47.477702</td>\n",
       "      <td>-35.505422</td>\n",
       "      <td>70367.7305</td>\n",
       "      <td>70348.638181</td>\n",
       "      <td>-0.014534</td>\n",
       "    </tr>\n",
       "    <tr>\n",
       "      <th>2024-10-31 23:56:00</th>\n",
       "      <td>70238.76</td>\n",
       "      <td>70248.97</td>\n",
       "      <td>70248.97</td>\n",
       "      <td>70238.76</td>\n",
       "      <td>1.189134</td>\n",
       "      <td>10</td>\n",
       "      <td>31</td>\n",
       "      <td>3</td>\n",
       "      <td>23</td>\n",
       "      <td>-0.258819</td>\n",
       "      <td>...</td>\n",
       "      <td>70329.38</td>\n",
       "      <td>70461.07</td>\n",
       "      <td>20.028025</td>\n",
       "      <td>70304.552491</td>\n",
       "      <td>70354.715986</td>\n",
       "      <td>-50.163495</td>\n",
       "      <td>-38.437037</td>\n",
       "      <td>70352.5490</td>\n",
       "      <td>70338.173592</td>\n",
       "      <td>-0.007859</td>\n",
       "    </tr>\n",
       "    <tr>\n",
       "      <th>2024-10-31 23:57:00</th>\n",
       "      <td>70218.00</td>\n",
       "      <td>70250.00</td>\n",
       "      <td>70238.77</td>\n",
       "      <td>70233.24</td>\n",
       "      <td>4.767082</td>\n",
       "      <td>10</td>\n",
       "      <td>31</td>\n",
       "      <td>3</td>\n",
       "      <td>23</td>\n",
       "      <td>-0.258819</td>\n",
       "      <td>...</td>\n",
       "      <td>70317.72</td>\n",
       "      <td>70470.15</td>\n",
       "      <td>14.761536</td>\n",
       "      <td>70293.581339</td>\n",
       "      <td>70345.717765</td>\n",
       "      <td>-52.136426</td>\n",
       "      <td>-41.176915</td>\n",
       "      <td>70338.1685</td>\n",
       "      <td>70328.179916</td>\n",
       "      <td>-0.036251</td>\n",
       "    </tr>\n",
       "    <tr>\n",
       "      <th>2024-10-31 23:58:00</th>\n",
       "      <td>70193.97</td>\n",
       "      <td>70242.25</td>\n",
       "      <td>70232.55</td>\n",
       "      <td>70207.78</td>\n",
       "      <td>9.589688</td>\n",
       "      <td>10</td>\n",
       "      <td>31</td>\n",
       "      <td>3</td>\n",
       "      <td>23</td>\n",
       "      <td>-0.258819</td>\n",
       "      <td>...</td>\n",
       "      <td>70316.81</td>\n",
       "      <td>70457.38</td>\n",
       "      <td>11.458672</td>\n",
       "      <td>70280.381133</td>\n",
       "      <td>70335.500152</td>\n",
       "      <td>-55.119020</td>\n",
       "      <td>-43.965336</td>\n",
       "      <td>70325.1425</td>\n",
       "      <td>70316.713258</td>\n",
       "      <td>-0.014172</td>\n",
       "    </tr>\n",
       "    <tr>\n",
       "      <th>2024-10-31 23:59:00</th>\n",
       "      <td>70175.16</td>\n",
       "      <td>70207.79</td>\n",
       "      <td>70207.79</td>\n",
       "      <td>70197.83</td>\n",
       "      <td>7.112237</td>\n",
       "      <td>10</td>\n",
       "      <td>31</td>\n",
       "      <td>3</td>\n",
       "      <td>23</td>\n",
       "      <td>-0.258819</td>\n",
       "      <td>...</td>\n",
       "      <td>70366.28</td>\n",
       "      <td>70421.64</td>\n",
       "      <td>11.677624</td>\n",
       "      <td>70267.680958</td>\n",
       "      <td>70325.302363</td>\n",
       "      <td>-57.621405</td>\n",
       "      <td>-46.696549</td>\n",
       "      <td>70313.8910</td>\n",
       "      <td>70305.391043</td>\n",
       "      <td>0.017223</td>\n",
       "    </tr>\n",
       "  </tbody>\n",
       "</table>\n",
       "<p>528575 rows × 52 columns</p>\n",
       "</div>"
      ],
      "text/plain": [
       "                         open      high       low     close     volume  month  \\\n",
       "timestamp                                                                       \n",
       "2023-11-01 00:56:00  34524.12  34549.26  34541.45  34524.49  31.117144     11   \n",
       "2023-11-01 00:57:00  34524.13  34537.66  34524.52  34524.62   7.349951     11   \n",
       "2023-11-01 00:58:00  34519.85  34531.41  34527.81  34522.78   5.134526     11   \n",
       "2023-11-01 00:59:00  34521.42  34531.98  34521.42  34531.57   4.310564     11   \n",
       "2023-11-01 01:00:00  34531.46  34547.87  34532.22  34538.84   1.327905     11   \n",
       "...                       ...       ...       ...       ...        ...    ...   \n",
       "2024-10-31 23:55:00  70248.97  70264.97  70248.98  70248.97   1.604753     10   \n",
       "2024-10-31 23:56:00  70238.76  70248.97  70248.97  70238.76   1.189134     10   \n",
       "2024-10-31 23:57:00  70218.00  70250.00  70238.77  70233.24   4.767082     10   \n",
       "2024-10-31 23:58:00  70193.97  70242.25  70232.55  70207.78   9.589688     10   \n",
       "2024-10-31 23:59:00  70175.16  70207.79  70207.79  70197.83   7.112237     10   \n",
       "\n",
       "                     day  weekday  hour  hour_sin  ...    lag_47    lag_56  \\\n",
       "timestamp                                          ...                       \n",
       "2023-11-01 00:56:00    1        2     0  0.000000  ...  34619.47  34667.88   \n",
       "2023-11-01 00:57:00    1        2     0  0.000000  ...  34603.20  34642.82   \n",
       "2023-11-01 00:58:00    1        2     0  0.000000  ...  34602.26  34656.56   \n",
       "2023-11-01 00:59:00    1        2     0  0.000000  ...  34623.10  34629.34   \n",
       "2023-11-01 01:00:00    1        2     1  0.258819  ...  34611.54  34622.27   \n",
       "...                  ...      ...   ...       ...  ...       ...       ...   \n",
       "2024-10-31 23:55:00   31        3    23 -0.258819  ...  70345.60  70383.13   \n",
       "2024-10-31 23:56:00   31        3    23 -0.258819  ...  70329.38  70461.07   \n",
       "2024-10-31 23:57:00   31        3    23 -0.258819  ...  70317.72  70470.15   \n",
       "2024-10-31 23:58:00   31        3    23 -0.258819  ...  70316.81  70457.38   \n",
       "2024-10-31 23:59:00   31        3    23 -0.258819  ...  70366.28  70421.64   \n",
       "\n",
       "                           RSI         EMA12         EMA26       MACD  \\\n",
       "timestamp                                                               \n",
       "2023-11-01 00:56:00  47.431310  34542.664324  34556.581568 -13.917244   \n",
       "2023-11-01 00:57:00  48.755135  34539.888274  34554.214045 -14.325771   \n",
       "2023-11-01 00:58:00  48.265451  34537.256232  34551.885597 -14.629365   \n",
       "2023-11-01 00:59:00  41.702541  34536.381427  34550.380738 -13.999311   \n",
       "2023-11-01 01:00:00  48.144440  34536.759669  34549.525868 -12.766199   \n",
       "...                        ...           ...           ...        ...   \n",
       "2024-10-31 23:55:00  15.731750  70316.514762  70363.992465 -47.477702   \n",
       "2024-10-31 23:56:00  20.028025  70304.552491  70354.715986 -50.163495   \n",
       "2024-10-31 23:57:00  14.761536  70293.581339  70345.717765 -52.136426   \n",
       "2024-10-31 23:58:00  11.458672  70280.381133  70335.500152 -55.119020   \n",
       "2024-10-31 23:59:00  11.677624  70267.680958  70325.302363 -57.621405   \n",
       "\n",
       "                     Signal_Line         SMA           EMA  future_return  \n",
       "timestamp                                                                  \n",
       "2023-11-01 00:56:00   -12.759288  34553.5310  34550.874620       0.000377  \n",
       "2023-11-01 00:57:00   -13.072585  34549.4505  34548.374180      -0.005330  \n",
       "2023-11-01 00:58:00   -13.383941  34545.2715  34545.936639       0.025461  \n",
       "2023-11-01 00:59:00   -13.507015  34542.0065  34544.568387       0.021053  \n",
       "2023-11-01 01:00:00   -13.358852  34540.4225  34544.022827       0.011263  \n",
       "...                          ...         ...           ...            ...  \n",
       "2024-10-31 23:55:00   -35.505422  70367.7305  70348.638181      -0.014534  \n",
       "2024-10-31 23:56:00   -38.437037  70352.5490  70338.173592      -0.007859  \n",
       "2024-10-31 23:57:00   -41.176915  70338.1685  70328.179916      -0.036251  \n",
       "2024-10-31 23:58:00   -43.965336  70325.1425  70316.713258      -0.014172  \n",
       "2024-10-31 23:59:00   -46.696549  70313.8910  70305.391043       0.017223  \n",
       "\n",
       "[528575 rows x 52 columns]"
      ]
     },
     "execution_count": 34,
     "metadata": {},
     "output_type": "execute_result"
    }
   ],
   "source": [
    "attributes = pd.read_csv(\"data/btc_price_data_1_year_attributes.csv\")\n",
    "attributes.set_index('timestamp', inplace=True, drop = True)\n",
    "attributes"
   ]
  },
  {
   "cell_type": "code",
   "execution_count": 35,
   "id": "01151ac9-54ff-4694-aa05-a9f7f2ad4fce",
   "metadata": {},
   "outputs": [
    {
     "data": {
      "text/plain": [
       "timestamp\n",
       "2023-11-01 00:56:00    0\n",
       "2023-11-01 00:57:00    0\n",
       "2023-11-01 00:58:00    0\n",
       "2023-11-01 00:59:00    0\n",
       "2023-11-01 01:00:00    0\n",
       "                      ..\n",
       "2024-10-31 23:55:00    0\n",
       "2024-10-31 23:56:00    0\n",
       "2024-10-31 23:57:00    0\n",
       "2024-10-31 23:58:00    0\n",
       "2024-10-31 23:59:00    0\n",
       "Name: target, Length: 528575, dtype: int64"
      ]
     },
     "execution_count": 35,
     "metadata": {},
     "output_type": "execute_result"
    }
   ],
   "source": [
    "target_data = pd.read_csv(\"data/btc_price_data_1_year_target.csv\")\n",
    "target_data.set_index('timestamp', inplace=True, drop = True)\n",
    "target = target_data['target']\n",
    "target"
   ]
  },
  {
   "cell_type": "markdown",
   "id": "8f8c62e8-a88b-4e56-955d-6a9396dbd9b4",
   "metadata": {},
   "source": [
    "## 2. Data Splitting"
   ]
  },
  {
   "cell_type": "code",
   "execution_count": 36,
   "id": "c66f4436-8f6c-4dca-989b-029b60f66642",
   "metadata": {},
   "outputs": [],
   "source": [
    "attributes_train, attributes_test, target_train, target_test = train_test_split(\n",
    "    attributes, \n",
    "    target, \n",
    "    test_size=0.2, \n",
    "    shuffle = False,\n",
    "    random_state = 42\n",
    ")"
   ]
  },
  {
   "cell_type": "code",
   "execution_count": 37,
   "id": "52a1b1e0-81b8-4098-a774-6ce0cb500eab",
   "metadata": {},
   "outputs": [
    {
     "data": {
      "text/plain": [
       "((422860, 52), (105715, 52))"
      ]
     },
     "execution_count": 37,
     "metadata": {},
     "output_type": "execute_result"
    }
   ],
   "source": [
    "attributes_train.shape, attributes_test.shape"
   ]
  },
  {
   "cell_type": "code",
   "execution_count": 38,
   "id": "f57d9821-db1e-4d8a-b94e-c6788e29af73",
   "metadata": {},
   "outputs": [
    {
     "data": {
      "text/plain": [
       "((422860,), (105715,))"
      ]
     },
     "execution_count": 38,
     "metadata": {},
     "output_type": "execute_result"
    }
   ],
   "source": [
    "target_train.shape, target_test.shape"
   ]
  },
  {
   "cell_type": "markdown",
   "id": "fb34902b-20e0-409b-ab6f-c2bd89197ca1",
   "metadata": {},
   "source": [
    "## 3. SMOTE - Address Class Imbalance with SMOTE"
   ]
  },
  {
   "cell_type": "code",
   "execution_count": 39,
   "id": "6a4cede1-e001-452d-a292-2f21edea048d",
   "metadata": {},
   "outputs": [
    {
     "name": "stdout",
     "output_type": "stream",
     "text": [
      "Original Class Distribution: [420626   1040   1194]\n",
      "Balanced Class Distribution: [420626 420626 420626]\n"
     ]
    }
   ],
   "source": [
    "# Apply SMOTE to generate synthetic examples for minority classes\n",
    "smote = SMOTE(random_state=42)\n",
    "attributes_train_smote, target_train_smote = smote.fit_resample(attributes_train, target_train)\n",
    "\n",
    "print(\"Original Class Distribution:\", np.bincount(target_train))\n",
    "print(\"Balanced Class Distribution:\", np.bincount(target_train_smote))"
   ]
  },
  {
   "cell_type": "markdown",
   "id": "c573f2b7-059c-4fb7-9eba-79dd0a04ae42",
   "metadata": {},
   "source": [
    "## 4. Train Model"
   ]
  },
  {
   "cell_type": "markdown",
   "id": "70c1ca2a-6dda-4bd7-8191-946881fe3257",
   "metadata": {},
   "source": [
    "Set time series-specific hyperparameters and tune them for your data:"
   ]
  },
  {
   "cell_type": "code",
   "execution_count": 8,
   "id": "2e808692-ba0a-4a13-aa72-994dcdf7eaac",
   "metadata": {},
   "outputs": [],
   "source": [
    "# Initial XGBoost model with recommended parameters\n",
    "model_xgb = XGBClassifier(\n",
    "    objective='multi:softmax',  # Multiclass classification\n",
    "    num_class=3,                # Number of target classes\n",
    "    eval_metric='mlogloss',\n",
    "    max_depth=6,                # Controls model complexity\n",
    "    learning_rate=0.1,          # Step size for weight updates\n",
    "    n_estimators=300,           # Number of boosting rounds\n",
    "    subsample=0.8,              # Fraction of data used for training\n",
    "    colsample_bytree=0.8,       # Fraction of features used\n",
    "    scale_pos_weight=1,         # Placeholder for class imbalance\n",
    "    random_state=42,\n",
    "    verbosity = 3,\n",
    "    n_jobs = 9\n",
    ")"
   ]
  },
  {
   "cell_type": "code",
   "execution_count": 9,
   "id": "5306987e-0071-4730-81fa-99b38c138473",
   "metadata": {
    "scrolled": true
   },
   "outputs": [
    {
     "name": "stdout",
     "output_type": "stream",
     "text": [
      "[10:57:47] ======== Monitor (0): HostSketchContainer ========\n",
      "[10:57:47] AllReduce: 0.028985s, 1 calls @ 28985us\n",
      "\n",
      "[10:57:47] MakeCuts: 0.029343s, 1 calls @ 29343us\n",
      "\n",
      "[10:57:47] DEBUG: D:\\bld\\xgboost-split_1732150467793\\work\\src\\gbm\\gbtree.cc:130: Using tree method: 0\n"
     ]
    },
    {
     "name": "stderr",
     "output_type": "stream",
     "text": [
      "C:\\ProgramData\\anaconda3\\Lib\\site-packages\\xgboost\\core.py:158: UserWarning: [10:57:47] WARNING: D:\\bld\\xgboost-split_1732150467793\\work\\src\\learner.cc:740: \n",
      "Parameters: { \"scale_pos_weight\" } are not used.\n",
      "\n",
      "  warnings.warn(smsg, UserWarning)\n"
     ]
    },
    {
     "name": "stdout",
     "output_type": "stream",
     "text": [
      "[10:59:13] ======== Monitor (0): Learner ========\n",
      "[10:59:13] Configure: 0.002369s, 1 calls @ 2369us\n",
      "\n",
      "[10:59:13] EvalOneIter: 0.003589s, 300 calls @ 3589us\n",
      "\n",
      "[10:59:13] GetGradient: 7.79653s, 300 calls @ 7796530us\n",
      "\n",
      "[10:59:13] PredictRaw: 0.004877s, 300 calls @ 4877us\n",
      "\n",
      "[10:59:13] UpdateOneIter: 85.7416s, 300 calls @ 85741576us\n",
      "\n",
      "[10:59:13] ======== Monitor (0): GBTree ========\n",
      "[10:59:13] BoostNewTrees: 77.9342s, 300 calls @ 77934227us\n",
      "\n",
      "[10:59:13] CommitModel: 0.000418s, 300 calls @ 418us\n",
      "\n",
      "[10:59:13] ======== Monitor (0): HistUpdater ========\n",
      "[10:59:13] BuildHistogram: 21.212s, 4500 calls @ 21211994us\n",
      "\n",
      "[10:59:13] EvaluateSplits: 2.49352s, 5400 calls @ 2493520us\n",
      "\n",
      "[10:59:13] InitData: 3.65117s, 900 calls @ 3651167us\n",
      "\n",
      "[10:59:13] InitRoot: 22.3737s, 900 calls @ 22373666us\n",
      "\n",
      "[10:59:13] LeafPartition: 0.000234s, 900 calls @ 234us\n",
      "\n",
      "[10:59:13] UpdatePosition: 9.57417s, 5400 calls @ 9574170us\n",
      "\n",
      "[10:59:13] UpdatePredictionCache: 2.06756s, 900 calls @ 2067556us\n",
      "\n",
      "[10:59:13] UpdateTree: 59.2881s, 900 calls @ 59288054us\n",
      "\n",
      "Fit time :  87.59600877761841\n"
     ]
    }
   ],
   "source": [
    "# Train the model\n",
    "start_time = time.time()\n",
    "model_xgb.fit(attributes_train_smote, target_train_smote)\n",
    "print('Fit time : ', time.time() - start_time)"
   ]
  },
  {
   "cell_type": "markdown",
   "id": "5bacf601-ceb9-42d7-a3c6-3f471bd9598a",
   "metadata": {},
   "source": [
    "## 5. Evaluate the Model"
   ]
  },
  {
   "cell_type": "code",
   "execution_count": 10,
   "id": "1bcf5287-55e3-4c9a-8fee-7859221eaef7",
   "metadata": {},
   "outputs": [
    {
     "name": "stdout",
     "output_type": "stream",
     "text": [
      "[10:59:13] DEBUG: D:\\bld\\xgboost-split_1732150467793\\work\\src\\gbm\\gbtree.cc:130: Using tree method: 0\n",
      "              precision    recall  f1-score   support\n",
      "\n",
      "           0       1.00      1.00      1.00    105186\n",
      "           1       0.43      0.11      0.17       265\n",
      "           2       0.35      0.12      0.18       264\n",
      "\n",
      "    accuracy                           0.99    105715\n",
      "   macro avg       0.59      0.41      0.45    105715\n",
      "weighted avg       0.99      0.99      0.99    105715\n",
      "\n",
      "ROC-AUC Score: 0.9928168753366418\n"
     ]
    }
   ],
   "source": [
    "# Predictions\n",
    "y_pred = model_xgb.predict(attributes_test)\n",
    "# y_pred = model.predict(X_test)\n",
    "\n",
    "# Classification Report\n",
    "print(classification_report(target_test, y_pred))\n",
    "# print(classification_report(y_test, y_pred))\n",
    "\n",
    "# ROC-AUC for multiclass\n",
    "y_prob = model_xgb.predict_proba(attributes_test)\n",
    "roc_auc = roc_auc_score(target_test, y_prob, multi_class='ovr')\n",
    "print(f\"ROC-AUC Score: {roc_auc}\")\n",
    "\n",
    "# y_prob = model.predict_proba(X_test)\n",
    "# roc_auc = roc_auc_score(y_test, y_prob, multi_class='ovr')\n"
   ]
  },
  {
   "cell_type": "markdown",
   "id": "5a442608-17f9-4ef5-894b-581a93d1fc01",
   "metadata": {},
   "source": [
    "##### ROC-AUC score"
   ]
  },
  {
   "cell_type": "markdown",
   "id": "e080e91b-1271-40ad-ae90-1e0f6788f6f1",
   "metadata": {},
   "source": [
    "Calculate the ROC-AUC score for each class individually to understand how well the model performs for the minority classes (1 and 2):"
   ]
  },
  {
   "cell_type": "code",
   "execution_count": 11,
   "id": "432ad8c1-929a-47d7-87bf-e5c747ac9d81",
   "metadata": {},
   "outputs": [
    {
     "name": "stdout",
     "output_type": "stream",
     "text": [
      "ROC-AUC per class [0, 1, 2]: [0.98920849 0.99495166 0.99429047]\n"
     ]
    }
   ],
   "source": [
    "# Binarize labels for one-vs-rest (multiclass ROC-AUC)\n",
    "target_test_binarized = label_binarize(target_test, classes=[0, 1, 2])\n",
    "target_pred_prob = model_xgb.predict_proba(attributes_test) # predicted probabilities\n",
    "\n",
    "# Compute ROC-AUC for each class\n",
    "roc_auc_per_class = roc_auc_score(target_test_binarized, target_pred_prob, average=None)\n",
    "print(\"ROC-AUC per class [0, 1, 2]:\", roc_auc_per_class)"
   ]
  },
  {
   "cell_type": "code",
   "execution_count": 12,
   "id": "dde48013-f3fb-45f1-843c-72cd3f308a6d",
   "metadata": {},
   "outputs": [
    {
     "data": {
      "image/png": "[encoded data removed]",
      "text/plain": [
       "<Figure size 640x480 with 1 Axes>"
      ]
     },
     "metadata": {},
     "output_type": "display_data"
    }
   ],
   "source": [
    "# Binarize the labels for one-vs-rest classification\n",
    "classes = [0, 1, 2]\n",
    "target_test_binarized = label_binarize(target_test, classes=classes)\n",
    "\n",
    "# Compute ROC curve and ROC-AUC for each class\n",
    "fpr = {}\n",
    "tpr = {}\n",
    "roc_auc = {}\n",
    "\n",
    "for i in range(len(classes)):\n",
    "    fpr[i], tpr[i], _ = roc_curve(target_test_binarized[:, i], target_pred_prob[:, i])\n",
    "    roc_auc[i] = auc(fpr[i], tpr[i])\n",
    "\n",
    "# Plot ROC curves for each class\n",
    "plt.figure()\n",
    "for i in range(len(classes)):\n",
    "    plt.plot(fpr[i], tpr[i], label=f'Class {classes[i]} (AUC = {roc_auc[i]:.2f})')\n",
    "\n",
    "# Plot the diagonal\n",
    "plt.plot([0, 1], [0, 1], 'k--', label='Random Guess')\n",
    "\n",
    "# Configure the plot\n",
    "plt.title('ROC-AUC Curve')\n",
    "plt.xlabel('False Positive Rate')\n",
    "plt.ylabel('True Positive Rate')\n",
    "plt.legend(loc='lower right')\n",
    "plt.show()"
   ]
  },
  {
   "cell_type": "markdown",
   "id": "b4edba76-bda6-4684-855b-a1d0174d7530",
   "metadata": {},
   "source": [
    "##### Precision-Recall Curves"
   ]
  },
  {
   "cell_type": "markdown",
   "id": "e9028cc1-1ea5-462e-9dba-2ddd4662d27d",
   "metadata": {},
   "source": [
    "Precision-recall curves are often more informative for imbalanced datasets. They focus on the trade-off between precision and recall for each class."
   ]
  },
  {
   "cell_type": "code",
   "execution_count": 13,
   "id": "0256ea1a-8f28-4c16-8316-52786f26547f",
   "metadata": {},
   "outputs": [
    {
     "data": {
      "image/png": "[encoded data removed]",
      "text/plain": [
       "<Figure size 640x480 with 1 Axes>"
      ]
     },
     "metadata": {},
     "output_type": "display_data"
    }
   ],
   "source": [
    "# Plot precision-recall curves for each class\n",
    "for i in range(3):  # Assuming 3 classes (0, 1, 2)\n",
    "    precision, recall, _ = precision_recall_curve(target_test_binarized[:, i], target_pred_prob[:, i])\n",
    "    plt.plot(recall, precision, label=f'Class {i}')\n",
    "\n",
    "plt.xlabel('Recall')\n",
    "plt.ylabel('Precision')\n",
    "plt.title('Precision-Recall Curve')\n",
    "plt.legend()\n",
    "plt.show()\n"
   ]
  },
  {
   "cell_type": "markdown",
   "id": "1b64beff-d4ae-4ae1-840c-a6a5ab2d6cfb",
   "metadata": {},
   "source": [
    "## 6. Time Series Cross-Validation"
   ]
  },
  {
   "cell_type": "code",
   "execution_count": 14,
   "id": "d27ee3a5-52b0-458c-89e0-73709a6e5449",
   "metadata": {
    "scrolled": true
   },
   "outputs": [
    {
     "name": "stdout",
     "output_type": "stream",
     "text": [
      "[10:59:16] ======== Monitor (0): HostSketchContainer ========\n",
      "[10:59:16] AllReduce: 0.016119s, 1 calls @ 16119us\n",
      "\n",
      "[10:59:16] MakeCuts: 0.016285s, 1 calls @ 16285us\n",
      "\n",
      "[10:59:16] DEBUG: D:\\bld\\xgboost-split_1732150467793\\work\\src\\gbm\\gbtree.cc:130: Using tree method: 0\n"
     ]
    },
    {
     "name": "stderr",
     "output_type": "stream",
     "text": [
      "C:\\ProgramData\\anaconda3\\Lib\\site-packages\\xgboost\\core.py:158: UserWarning: [10:59:16] WARNING: D:\\bld\\xgboost-split_1732150467793\\work\\src\\learner.cc:740: \n",
      "Parameters: { \"scale_pos_weight\" } are not used.\n",
      "\n",
      "  warnings.warn(smsg, UserWarning)\n"
     ]
    },
    {
     "name": "stdout",
     "output_type": "stream",
     "text": [
      "[10:59:37] ======== Monitor (0): Learner ========\n",
      "[10:59:37] Configure: 0.00074s, 1 calls @ 740us\n",
      "\n",
      "[10:59:37] EvalOneIter: 0.003476s, 300 calls @ 3476us\n",
      "\n",
      "[10:59:37] GetGradient: 1.73539s, 300 calls @ 1735388us\n",
      "\n",
      "[10:59:37] PredictRaw: 0.001505s, 300 calls @ 1505us\n",
      "\n",
      "[10:59:37] UpdateOneIter: 20.4269s, 300 calls @ 20426930us\n",
      "\n",
      "[10:59:37] ======== Monitor (0): GBTree ========\n",
      "[10:59:37] BoostNewTrees: 18.6864s, 300 calls @ 18686397us\n",
      "\n",
      "[10:59:37] CommitModel: 0.000322s, 300 calls @ 322us\n",
      "\n",
      "[10:59:37] ======== Monitor (0): HistUpdater ========\n",
      "[10:59:37] BuildHistogram: 5.24339s, 4500 calls @ 5243389us\n",
      "\n",
      "[10:59:37] EvaluateSplits: 2.02389s, 5400 calls @ 2023891us\n",
      "\n",
      "[10:59:37] InitData: 0.876132s, 900 calls @ 876132us\n",
      "\n",
      "[10:59:37] InitRoot: 5.09693s, 900 calls @ 5096930us\n",
      "\n",
      "[10:59:37] LeafPartition: 0.000226s, 900 calls @ 226us\n",
      "\n",
      "[10:59:37] UpdatePosition: 1.40314s, 5400 calls @ 1403137us\n",
      "\n",
      "[10:59:37] UpdatePredictionCache: 0.286054s, 900 calls @ 286054us\n",
      "\n",
      "[10:59:37] UpdateTree: 14.6302s, 900 calls @ 14630179us\n",
      "\n",
      "[10:59:37] ======== Monitor (0): Learner ========\n",
      "[10:59:37] Configure: 0.000574s, 1 calls @ 574us\n",
      "\n",
      "[10:59:37] DEBUG: D:\\bld\\xgboost-split_1732150467793\\work\\src\\gbm\\gbtree.cc:130: Using tree method: 0\n",
      "Fold 1 Classification Report\n",
      "              precision    recall  f1-score   support\n",
      "\n",
      "           0       1.00      1.00      1.00     87639\n",
      "           1       0.33      0.07      0.12       209\n",
      "           2       0.15      0.03      0.05       247\n",
      "\n",
      "    accuracy                           0.99     88095\n",
      "   macro avg       0.49      0.37      0.39     88095\n",
      "weighted avg       0.99      0.99      0.99     88095\n",
      "\n",
      "[10:59:39] ======== Monitor (0): HostSketchContainer ========\n",
      "[10:59:39] AllReduce: 0.015026s, 1 calls @ 15026us\n",
      "\n",
      "[10:59:39] MakeCuts: 0.015276s, 1 calls @ 15276us\n",
      "\n",
      "[10:59:39] DEBUG: D:\\bld\\xgboost-split_1732150467793\\work\\src\\gbm\\gbtree.cc:130: Using tree method: 0\n"
     ]
    },
    {
     "name": "stderr",
     "output_type": "stream",
     "text": [
      "C:\\ProgramData\\anaconda3\\Lib\\site-packages\\xgboost\\core.py:158: UserWarning: [10:59:39] WARNING: D:\\bld\\xgboost-split_1732150467793\\work\\src\\learner.cc:740: \n",
      "Parameters: { \"scale_pos_weight\" } are not used.\n",
      "\n",
      "  warnings.warn(smsg, UserWarning)\n"
     ]
    },
    {
     "name": "stdout",
     "output_type": "stream",
     "text": [
      "[11:00:17] ======== Monitor (0): Learner ========\n",
      "[11:00:17] Configure: 0.000404s, 1 calls @ 404us\n",
      "\n",
      "[11:00:17] EvalOneIter: 0.003521s, 300 calls @ 3521us\n",
      "\n",
      "[11:00:17] GetGradient: 3.4779s, 300 calls @ 3477905us\n",
      "\n",
      "[11:00:17] PredictRaw: 0.001588s, 300 calls @ 1588us\n",
      "\n",
      "[11:00:17] UpdateOneIter: 38.2944s, 300 calls @ 38294386us\n",
      "\n",
      "[11:00:17] ======== Monitor (0): GBTree ========\n",
      "[11:00:17] BoostNewTrees: 34.8114s, 300 calls @ 34811405us\n",
      "\n",
      "[11:00:17] CommitModel: 0.000352s, 300 calls @ 352us\n",
      "\n",
      "[11:00:17] ======== Monitor (0): HistUpdater ========\n",
      "[11:00:17] BuildHistogram: 9.53684s, 4500 calls @ 9536838us\n",
      "\n",
      "[11:00:17] EvaluateSplits: 2.35579s, 5400 calls @ 2355790us\n",
      "\n",
      "[11:00:17] InitData: 1.69674s, 900 calls @ 1696744us\n",
      "\n",
      "[11:00:17] InitRoot: 9.91314s, 900 calls @ 9913136us\n",
      "\n",
      "[11:00:17] LeafPartition: 0.000289s, 900 calls @ 289us\n",
      "\n",
      "[11:00:17] UpdatePosition: 3.298s, 5400 calls @ 3297997us\n",
      "\n",
      "[11:00:17] UpdatePredictionCache: 0.625449s, 900 calls @ 625449us\n",
      "\n",
      "[11:00:17] UpdateTree: 26.7811s, 900 calls @ 26781136us\n",
      "\n",
      "[11:00:17] ======== Monitor (0): Learner ========\n",
      "[11:00:17] Configure: 0.000463s, 1 calls @ 463us\n",
      "\n",
      "[11:00:17] DEBUG: D:\\bld\\xgboost-split_1732150467793\\work\\src\\gbm\\gbtree.cc:130: Using tree method: 0\n",
      "Fold 2 Classification Report\n",
      "              precision    recall  f1-score   support\n",
      "\n",
      "           0       0.99      1.00      1.00     87564\n",
      "           1       0.28      0.06      0.10       248\n",
      "           2       0.26      0.16      0.20       283\n",
      "\n",
      "    accuracy                           0.99     88095\n",
      "   macro avg       0.51      0.41      0.43     88095\n",
      "weighted avg       0.99      0.99      0.99     88095\n",
      "\n",
      "[11:00:20] ======== Monitor (0): HostSketchContainer ========\n",
      "[11:00:20] AllReduce: 0.022943s, 1 calls @ 22943us\n",
      "\n",
      "[11:00:20] MakeCuts: 0.023179s, 1 calls @ 23179us\n",
      "\n",
      "[11:00:20] DEBUG: D:\\bld\\xgboost-split_1732150467793\\work\\src\\gbm\\gbtree.cc:130: Using tree method: 0\n"
     ]
    },
    {
     "name": "stderr",
     "output_type": "stream",
     "text": [
      "C:\\ProgramData\\anaconda3\\Lib\\site-packages\\xgboost\\core.py:158: UserWarning: [11:00:20] WARNING: D:\\bld\\xgboost-split_1732150467793\\work\\src\\learner.cc:740: \n",
      "Parameters: { \"scale_pos_weight\" } are not used.\n",
      "\n",
      "  warnings.warn(smsg, UserWarning)\n"
     ]
    },
    {
     "name": "stdout",
     "output_type": "stream",
     "text": [
      "[11:01:17] ======== Monitor (0): Learner ========\n",
      "[11:01:17] Configure: 0.000649s, 1 calls @ 649us\n",
      "\n",
      "[11:01:17] EvalOneIter: 0.003641s, 300 calls @ 3641us\n",
      "\n",
      "[11:01:17] GetGradient: 5.29443s, 300 calls @ 5294433us\n",
      "\n",
      "[11:01:17] PredictRaw: 0.003415s, 300 calls @ 3415us\n",
      "\n",
      "[11:01:17] UpdateOneIter: 57.2644s, 300 calls @ 57264365us\n",
      "\n",
      "[11:01:17] ======== Monitor (0): GBTree ========\n",
      "[11:01:17] BoostNewTrees: 51.9624s, 300 calls @ 51962407us\n",
      "\n",
      "[11:01:17] CommitModel: 0.000374s, 300 calls @ 374us\n",
      "\n",
      "[11:01:17] ======== Monitor (0): HistUpdater ========\n",
      "[11:01:17] BuildHistogram: 14.0353s, 4500 calls @ 14035267us\n",
      "\n",
      "[11:01:17] EvaluateSplits: 2.59425s, 5400 calls @ 2594251us\n",
      "\n",
      "[11:01:17] InitData: 2.5696s, 900 calls @ 2569600us\n",
      "\n",
      "[11:01:17] InitRoot: 14.8923s, 900 calls @ 14892328us\n",
      "\n",
      "[11:01:17] LeafPartition: 0.000234s, 900 calls @ 234us\n",
      "\n",
      "[11:01:17] UpdatePosition: 5.64527s, 5400 calls @ 5645275us\n",
      "\n",
      "[11:01:17] UpdatePredictionCache: 1.07125s, 900 calls @ 1071253us\n",
      "\n",
      "[11:01:17] UpdateTree: 39.7233s, 900 calls @ 39723270us\n",
      "\n",
      "[11:01:17] ======== Monitor (0): Learner ========\n",
      "[11:01:17] Configure: 0.000542s, 1 calls @ 542us\n",
      "\n",
      "[11:01:17] DEBUG: D:\\bld\\xgboost-split_1732150467793\\work\\src\\gbm\\gbtree.cc:130: Using tree method: 0\n",
      "Fold 3 Classification Report\n",
      "              precision    recall  f1-score   support\n",
      "\n",
      "           0       1.00      1.00      1.00     87656\n",
      "           1       0.41      0.12      0.19       215\n",
      "           2       0.29      0.15      0.20       224\n",
      "\n",
      "    accuracy                           0.99     88095\n",
      "   macro avg       0.56      0.42      0.46     88095\n",
      "weighted avg       0.99      0.99      0.99     88095\n",
      "\n",
      "[11:01:21] ======== Monitor (0): HostSketchContainer ========\n",
      "[11:01:21] AllReduce: 0.021069s, 1 calls @ 21069us\n",
      "\n",
      "[11:01:21] MakeCuts: 0.021297s, 1 calls @ 21297us\n",
      "\n",
      "[11:01:21] DEBUG: D:\\bld\\xgboost-split_1732150467793\\work\\src\\gbm\\gbtree.cc:130: Using tree method: 0\n"
     ]
    },
    {
     "name": "stderr",
     "output_type": "stream",
     "text": [
      "C:\\ProgramData\\anaconda3\\Lib\\site-packages\\xgboost\\core.py:158: UserWarning: [11:01:21] WARNING: D:\\bld\\xgboost-split_1732150467793\\work\\src\\learner.cc:740: \n",
      "Parameters: { \"scale_pos_weight\" } are not used.\n",
      "\n",
      "  warnings.warn(smsg, UserWarning)\n"
     ]
    },
    {
     "name": "stdout",
     "output_type": "stream",
     "text": [
      "[11:02:37] ======== Monitor (0): Learner ========\n",
      "[11:02:37] Configure: 0.000371s, 1 calls @ 371us\n",
      "\n",
      "[11:02:37] EvalOneIter: 0.003949s, 300 calls @ 3949us\n",
      "\n",
      "[11:02:37] GetGradient: 7.07934s, 300 calls @ 7079339us\n",
      "\n",
      "[11:02:37] PredictRaw: 0.002979s, 300 calls @ 2979us\n",
      "\n",
      "[11:02:37] UpdateOneIter: 75.8331s, 300 calls @ 75833118us\n",
      "\n",
      "[11:02:37] ======== Monitor (0): GBTree ========\n",
      "[11:02:37] BoostNewTrees: 68.7468s, 300 calls @ 68746791us\n",
      "\n",
      "[11:02:37] CommitModel: 0.000444s, 300 calls @ 444us\n",
      "\n",
      "[11:02:37] ======== Monitor (0): HistUpdater ========\n",
      "[11:02:37] BuildHistogram: 18.5232s, 4500 calls @ 18523205us\n",
      "\n",
      "[11:02:37] EvaluateSplits: 2.64137s, 5400 calls @ 2641367us\n",
      "\n",
      "[11:02:37] InitData: 3.43892s, 900 calls @ 3438923us\n",
      "\n",
      "[11:02:37] InitRoot: 19.9211s, 900 calls @ 19921129us\n",
      "\n",
      "[11:02:37] LeafPartition: 0.000273s, 900 calls @ 273us\n",
      "\n",
      "[11:02:37] UpdatePosition: 7.74531s, 5400 calls @ 7745310us\n",
      "\n",
      "[11:02:37] UpdatePredictionCache: 1.54973s, 900 calls @ 1549731us\n",
      "\n",
      "[11:02:37] UpdateTree: 52.2543s, 900 calls @ 52254272us\n",
      "\n",
      "[11:02:37] ======== Monitor (0): Learner ========\n",
      "[11:02:37] Configure: 0.000541s, 1 calls @ 541us\n",
      "\n",
      "[11:02:37] DEBUG: D:\\bld\\xgboost-split_1732150467793\\work\\src\\gbm\\gbtree.cc:130: Using tree method: 0\n",
      "Fold 4 Classification Report\n",
      "              precision    recall  f1-score   support\n",
      "\n",
      "           0       1.00      1.00      1.00     87620\n",
      "           1       0.43      0.13      0.20       231\n",
      "           2       0.43      0.14      0.22       244\n",
      "\n",
      "    accuracy                           0.99     88095\n",
      "   macro avg       0.62      0.42      0.47     88095\n",
      "weighted avg       0.99      0.99      0.99     88095\n",
      "\n",
      "[11:02:41] ======== Monitor (0): HostSketchContainer ========\n",
      "[11:02:41] AllReduce: 0.030447s, 1 calls @ 30447us\n",
      "\n",
      "[11:02:41] MakeCuts: 0.030714s, 1 calls @ 30714us\n",
      "\n",
      "[11:02:41] DEBUG: D:\\bld\\xgboost-split_1732150467793\\work\\src\\gbm\\gbtree.cc:130: Using tree method: 0\n"
     ]
    },
    {
     "name": "stderr",
     "output_type": "stream",
     "text": [
      "C:\\ProgramData\\anaconda3\\Lib\\site-packages\\xgboost\\core.py:158: UserWarning: [11:02:41] WARNING: D:\\bld\\xgboost-split_1732150467793\\work\\src\\learner.cc:740: \n",
      "Parameters: { \"scale_pos_weight\" } are not used.\n",
      "\n",
      "  warnings.warn(smsg, UserWarning)\n"
     ]
    },
    {
     "name": "stdout",
     "output_type": "stream",
     "text": [
      "[11:04:19] ======== Monitor (0): Learner ========\n",
      "[11:04:19] Configure: 0.000794s, 1 calls @ 794us\n",
      "\n",
      "[11:04:19] EvalOneIter: 0.004007s, 300 calls @ 4007us\n",
      "\n",
      "[11:04:19] GetGradient: 9.03462s, 300 calls @ 9034620us\n",
      "\n",
      "[11:04:19] PredictRaw: 0.005906s, 300 calls @ 5906us\n",
      "\n",
      "[11:04:19] UpdateOneIter: 97.4563s, 300 calls @ 97456265us\n",
      "\n",
      "[11:04:19] ======== Monitor (0): GBTree ========\n",
      "[11:04:19] BoostNewTrees: 88.4112s, 300 calls @ 88411190us\n",
      "\n",
      "[11:04:19] CommitModel: 0.000428s, 300 calls @ 428us\n",
      "\n",
      "[11:04:19] ======== Monitor (0): HistUpdater ========\n",
      "[11:04:19] BuildHistogram: 23.8409s, 4500 calls @ 23840906us\n",
      "\n",
      "[11:04:19] EvaluateSplits: 2.81981s, 5400 calls @ 2819806us\n",
      "\n",
      "[11:04:19] InitData: 4.67652s, 900 calls @ 4676517us\n",
      "\n",
      "[11:04:19] InitRoot: 25.4858s, 900 calls @ 25485819us\n",
      "\n",
      "[11:04:19] LeafPartition: 0.000273s, 900 calls @ 273us\n",
      "\n",
      "[11:04:19] UpdatePosition: 10.2432s, 5400 calls @ 10243157us\n",
      "\n",
      "[11:04:19] UpdatePredictionCache: 2.17258s, 900 calls @ 2172584us\n",
      "\n",
      "[11:04:19] UpdateTree: 67.0942s, 900 calls @ 67094229us\n",
      "\n",
      "[11:04:19] ======== Monitor (0): Learner ========\n",
      "[11:04:19] Configure: 0.000467s, 1 calls @ 467us\n",
      "\n",
      "[11:04:19] DEBUG: D:\\bld\\xgboost-split_1732150467793\\work\\src\\gbm\\gbtree.cc:130: Using tree method: 0\n",
      "Fold 5 Classification Report\n",
      "              precision    recall  f1-score   support\n",
      "\n",
      "           0       1.00      1.00      1.00     87649\n",
      "           1       0.32      0.07      0.11       225\n",
      "           2       0.30      0.10      0.14       221\n",
      "\n",
      "    accuracy                           0.99     88095\n",
      "   macro avg       0.54      0.39      0.42     88095\n",
      "weighted avg       0.99      0.99      0.99     88095\n",
      "\n"
     ]
    }
   ],
   "source": [
    "# Use TimeSeriesSplit for cross-validation\n",
    "tscv = TimeSeriesSplit(n_splits=5)\n",
    "for fold, (train_idx, val_idx) in enumerate(tscv.split(attributes)):\n",
    "    attributes_train_fold, attributes_val_fold = attributes.iloc[train_idx], attributes.iloc[val_idx]\n",
    "    target_train_fold, target_val_fold = target.iloc[train_idx], target.iloc[val_idx]\n",
    "\n",
    "    # Apply SMOTE to the training fold\n",
    "    attributes_train_fold_smote, target_train_fold_smote = smote.fit_resample(attributes_train_fold, target_train_fold)\n",
    "\n",
    "    # Train model\n",
    "    model_xgb.fit(attributes_train_fold_smote, target_train_fold_smote)\n",
    "\n",
    "    # Validate\n",
    "    target_val_pred = model_xgb.predict(attributes_val_fold)\n",
    "    print(f\"Fold {fold+1} Classification Report\")\n",
    "    print(classification_report(target_val_fold, target_val_pred))\n"
   ]
  },
  {
   "cell_type": "markdown",
   "id": "50d1d1c1-f764-4166-819e-a3f8302957eb",
   "metadata": {},
   "source": [
    "## 7. Hyperparameter Tuning"
   ]
  },
  {
   "cell_type": "markdown",
   "id": "a015fc27-c36e-4690-9b03-25e0a1db578a",
   "metadata": {},
   "source": [
    "We will use **GridSearchCV** and **Optuna** for tuning."
   ]
  },
  {
   "cell_type": "markdown",
   "id": "a11ba0f1-9c4a-4de4-89c1-e7d25ffdc020",
   "metadata": {},
   "source": [
    "##### Recommended Parameters to Tune:\n",
    "- `max_depth` (e.g., 3, 5, 7): Controls tree depth. Deeper trees can model complex patterns but risk overfitting.\n",
    "- `learning_rate` (e.g., 0.01, 0.05, 0.1): Smaller values improve convergence stability.\n",
    "- `n_estimators` (e.g., 100, 300, 500): More estimators improve performance but increase training time.\n",
    "- `subsample` (e.g., 0.6, 0.8, 1.0): Helps with overfitting by randomly sampling rows.\n",
    "- `colsample_bytree` (e.g., 0.6, 0.8, 1.0): Helps with overfitting by randomly sampling features.\n",
    "- `scale_pos_weight` (e.g., 1, 10, 50): Adjusts for class imbalance. Compute as `total_negative_samples / total_positive_samples`."
   ]
  },
  {
   "cell_type": "markdown",
   "id": "c420dd1d-34c9-4e17-b901-9823ca4cd9bd",
   "metadata": {},
   "source": [
    "### 7.1. Optuna"
   ]
  },
  {
   "cell_type": "markdown",
   "id": "72eab65c-21b2-4f1d-a08c-fba42f78fbaa",
   "metadata": {},
   "source": [
    "##### Key Notes:\n",
    "1. **SMOTE** is applied only to the training data within each fold to avoid data leakage.\n",
    "2. Use a meaningful evaluation metric for imbalanced datasets. Here, **weighted F1-score** is used.\n",
    "3. Adjust the `n_trials` parameter in `study.optimize()` based on computational resources.\n",
    "4. Optuna’s logging and visualization tools help understand hyperparameter impact."
   ]
  },
  {
   "cell_type": "markdown",
   "id": "497a5c53-47ad-4314-9bc0-855a267bda4f",
   "metadata": {},
   "source": [
    "#### 7.1.1. Define the Objective Function\n",
    "\n",
    "The objective function tests different hyperparameter combinations and evaluates their performance using cross-validation."
   ]
  },
  {
   "cell_type": "code",
   "execution_count": null,
   "id": "e9d33cda-28d2-49d0-986d-d25dee42ab2f",
   "metadata": {},
   "outputs": [],
   "source": [
    "# def objective(trial):\n",
    "#     optuna.logging.set_verbosity(optuna.logging.DEBUG)\n",
    "    \n",
    "#     # Define the hyperparameters to tune\n",
    "#     param = {\n",
    "#         'objective': 'multi:softmax',  # Multiclass classification\n",
    "#         'num_class': 3,               # Number of target classes\n",
    "#         'eval_metric': 'mlogloss',    # Evaluation metric\n",
    "#         'max_depth': trial.suggest_int('max_depth', 3, 10),  # Tree depth\n",
    "#         'learning_rate': trial.suggest_float('learning_rate', 0.01, 0.2, log=True),  # Step size\n",
    "#         'n_estimators': trial.suggest_int('n_estimators', 100, 500),  # Boosting rounds\n",
    "#         'subsample': trial.suggest_float('subsample', 0.6, 1.0),  # Row sampling\n",
    "#         'colsample_bytree': trial.suggest_float('colsample_bytree', 0.6, 1.0),  # Feature sampling\n",
    "#         # 'scale_pos_weight': trial.suggest_float('scale_pos_weight', 1, 50),  # Class imbalance - for  a multiclass classification  this parameter can't be applied.\n",
    "#         'random_state': 42\n",
    "#     }\n",
    "    \n",
    "#     # Use TimeSeriesSplit for time series cross-validation\n",
    "#     tscv = TimeSeriesSplit(n_splits=5)\n",
    "    \n",
    "#     f1_scores = []  # Store F1-scores for each fold\n",
    "    \n",
    "#     for train_idx, val_idx in tscv.split(attributes):\n",
    "#         attributes_train, attributes_val = attributes.iloc[train_idx], attributes.iloc[val_idx]\n",
    "#         target_train, target_val = target.iloc[train_idx], target.iloc[val_idx]\n",
    "\n",
    "#         # Apply SMOTE to handle class imbalance in training data\n",
    "#         smote = SMOTE(random_state=42)\n",
    "#         attributes_train_smote, target_train_smote = smote.fit_resample(attributes_train, target_train)\n",
    "\n",
    "#         # Train XGBoost model\n",
    "#         model = XGBClassifier(**param)\n",
    "#         model.fit(attributes_train_smote, target_train_smote)\n",
    "\n",
    "#         # Make predictions\n",
    "#         target_pred = model.predict(attributes_val)\n",
    "\n",
    "#         # Evaluate using F1-score (weighted)\n",
    "#         f1 = f1_score(target_val, target_pred, average='weighted')\n",
    "#         f1_scores.append(f1)\n",
    "    \n",
    "#     # Return the mean F1-score across all folds\n",
    "#     return np.mean(f1_scores)\n"
   ]
  },
  {
   "cell_type": "code",
   "execution_count": 91,
   "id": "b4c3dfa2-fd98-4cf2-a1ac-a27cf7a49871",
   "metadata": {},
   "outputs": [],
   "source": [
    "def objective(trial):\n",
    "    # Define the hyperparameters to tune\n",
    "    param = {\n",
    "        'objective': 'multi:softmax',  # Multiclass classification\n",
    "        'num_class': 3,               # Number of target classes\n",
    "        'eval_metric': 'mlogloss',    # Evaluation metric\n",
    "        'max_depth': trial.suggest_int('max_depth', 3, 10),  # Tree depth\n",
    "        'learning_rate': trial.suggest_float('learning_rate', 0.01, 0.2, log=True),  # Step size\n",
    "        'n_estimators': trial.suggest_int('n_estimators', 100, 500),  # Boosting rounds\n",
    "        'subsample': trial.suggest_float('subsample', 0.6, 1.0),  # Row sampling\n",
    "        'colsample_bytree': trial.suggest_float('colsample_bytree', 0.6, 1.0),  # Feature sampling\n",
    "        # 'scale_pos_weight': trial.suggest_float('scale_pos_weight', 1, 50),  # Class imbalance - for  a multiclass classification  this parameter can't be applied.\n",
    "        'random_state': 42\n",
    "    }\n",
    "    \n",
    "    # Use TimeSeriesSplit for time series cross-validation\n",
    "    tscv = TimeSeriesSplit(n_splits=5)\n",
    "    \n",
    "    f1_scores = []  # Store F1-scores for each fold\n",
    "    \n",
    "    for train_idx, val_idx in tscv.split(attributes):\n",
    "        attributes_train, attributes_val = attributes.iloc[train_idx], attributes.iloc[val_idx]\n",
    "        target_train, target_val = target.iloc[train_idx], target.iloc[val_idx]\n",
    "\n",
    "        # Apply SMOTE to handle class imbalance in training data\n",
    "        smote = SMOTE(random_state=42)\n",
    "        attributes_train_smote, target_train_smote = smote.fit_resample(attributes_train, target_train)\n",
    "\n",
    "        # Train XGBoost model\n",
    "        model = XGBClassifier(**param)\n",
    "        model.fit(attributes_train_smote, target_train_smote)\n",
    "\n",
    "        # Make predictions\n",
    "        target_pred = model.predict(attributes_val)\n",
    "\n",
    "        # Evaluate using F1-score (weighted)\n",
    "        f1 = f1_score(target_val, target_pred, average='weighted')\n",
    "        f1_scores.append(f1)\n",
    "    \n",
    "    # Return the mean F1-score across all folds\n",
    "    return np.mean(f1_scores)\n"
   ]
  },
  {
   "cell_type": "markdown",
   "id": "9f9cdb61-26bb-4cab-8ba3-fb3cee59393a",
   "metadata": {},
   "source": [
    "#### 7.1.2. Run the Optuna Study"
   ]
  },
  {
   "cell_type": "code",
   "execution_count": 52,
   "id": "8b4bbb3a-e42d-4537-8448-2698e5da3507",
   "metadata": {
    "scrolled": true
   },
   "outputs": [
    {
     "name": "stderr",
     "output_type": "stream",
     "text": [
      "[I 2024-11-26 17:54:31,061] A new study created in memory with name: no-name-a483ad25-8619-4539-b538-859a70e84e09\n"
     ]
    },
    {
     "ename": "ValueError",
     "evalue": "No trials are completed yet.",
     "output_type": "error",
     "traceback": [
      "\u001b[1;31m---------------------------------------------------------------------------\u001b[0m",
      "\u001b[1;31mValueError\u001b[0m                                Traceback (most recent call last)",
      "Cell \u001b[1;32mIn[52], line 6\u001b[0m\n\u001b[0;32m      2\u001b[0m study \u001b[38;5;241m=\u001b[39m optuna\u001b[38;5;241m.\u001b[39mcreate_study(direction\u001b[38;5;241m=\u001b[39m\u001b[38;5;124m'\u001b[39m\u001b[38;5;124mmaximize\u001b[39m\u001b[38;5;124m'\u001b[39m)\n\u001b[0;32m      3\u001b[0m \u001b[38;5;66;03m#study.optimize(objective, n_trials=1)  # Adjust the number of trials as needed\u001b[39;00m\n\u001b[0;32m      4\u001b[0m \n\u001b[0;32m      5\u001b[0m \u001b[38;5;66;03m# Output the best hyperparameters\u001b[39;00m\n\u001b[1;32m----> 6\u001b[0m \u001b[38;5;28mprint\u001b[39m(\u001b[38;5;124m\"\u001b[39m\u001b[38;5;124mBest Parameters:\u001b[39m\u001b[38;5;124m\"\u001b[39m, \u001b[43mstudy\u001b[49m\u001b[38;5;241;43m.\u001b[39;49m\u001b[43mbest_params\u001b[49m)\n\u001b[0;32m      7\u001b[0m \u001b[38;5;28mprint\u001b[39m(\u001b[38;5;124m\"\u001b[39m\u001b[38;5;124mBest F1-Score:\u001b[39m\u001b[38;5;124m\"\u001b[39m, study\u001b[38;5;241m.\u001b[39mbest_value)\n\u001b[0;32m      8\u001b[0m \u001b[38;5;28mprint\u001b[39m(\u001b[38;5;124m\"\u001b[39m\u001b[38;5;124mBest Trial:\u001b[39m\u001b[38;5;124m\"\u001b[39m, study\u001b[38;5;241m.\u001b[39mbest_trial)\n",
      "File \u001b[1;32mC:\\ProgramData\\anaconda3\\Lib\\site-packages\\optuna\\study\\study.py:119\u001b[0m, in \u001b[0;36mStudy.best_params\u001b[1;34m(self)\u001b[0m\n\u001b[0;32m    107\u001b[0m \u001b[38;5;129m@property\u001b[39m\n\u001b[0;32m    108\u001b[0m \u001b[38;5;28;01mdef\u001b[39;00m \u001b[38;5;21mbest_params\u001b[39m(\u001b[38;5;28mself\u001b[39m) \u001b[38;5;241m-\u001b[39m\u001b[38;5;241m>\u001b[39m \u001b[38;5;28mdict\u001b[39m[\u001b[38;5;28mstr\u001b[39m, Any]:\n\u001b[0;32m    109\u001b[0m \u001b[38;5;250m    \u001b[39m\u001b[38;5;124;03m\"\"\"Return parameters of the best trial in the study.\u001b[39;00m\n\u001b[0;32m    110\u001b[0m \n\u001b[0;32m    111\u001b[0m \u001b[38;5;124;03m    .. note::\u001b[39;00m\n\u001b[1;32m   (...)\u001b[0m\n\u001b[0;32m    116\u001b[0m \n\u001b[0;32m    117\u001b[0m \u001b[38;5;124;03m    \"\"\"\u001b[39;00m\n\u001b[1;32m--> 119\u001b[0m     \u001b[38;5;28;01mreturn\u001b[39;00m \u001b[38;5;28;43mself\u001b[39;49m\u001b[38;5;241;43m.\u001b[39;49m\u001b[43mbest_trial\u001b[49m\u001b[38;5;241m.\u001b[39mparams\n",
      "File \u001b[1;32mC:\\ProgramData\\anaconda3\\Lib\\site-packages\\optuna\\study\\study.py:162\u001b[0m, in \u001b[0;36mStudy.best_trial\u001b[1;34m(self)\u001b[0m\n\u001b[0;32m    156\u001b[0m \u001b[38;5;28;01mif\u001b[39;00m \u001b[38;5;28mself\u001b[39m\u001b[38;5;241m.\u001b[39m_is_multi_objective():\n\u001b[0;32m    157\u001b[0m     \u001b[38;5;28;01mraise\u001b[39;00m \u001b[38;5;167;01mRuntimeError\u001b[39;00m(\n\u001b[0;32m    158\u001b[0m         \u001b[38;5;124m\"\u001b[39m\u001b[38;5;124mA single best trial cannot be retrieved from a multi-objective study. Consider \u001b[39m\u001b[38;5;124m\"\u001b[39m\n\u001b[0;32m    159\u001b[0m         \u001b[38;5;124m\"\u001b[39m\u001b[38;5;124musing Study.best_trials to retrieve a list containing the best trials.\u001b[39m\u001b[38;5;124m\"\u001b[39m\n\u001b[0;32m    160\u001b[0m     )\n\u001b[1;32m--> 162\u001b[0m best_trial \u001b[38;5;241m=\u001b[39m \u001b[38;5;28;43mself\u001b[39;49m\u001b[38;5;241;43m.\u001b[39;49m\u001b[43m_storage\u001b[49m\u001b[38;5;241;43m.\u001b[39;49m\u001b[43mget_best_trial\u001b[49m\u001b[43m(\u001b[49m\u001b[38;5;28;43mself\u001b[39;49m\u001b[38;5;241;43m.\u001b[39;49m\u001b[43m_study_id\u001b[49m\u001b[43m)\u001b[49m\n\u001b[0;32m    164\u001b[0m \u001b[38;5;66;03m# If the trial with the best value is infeasible, select the best trial from all feasible\u001b[39;00m\n\u001b[0;32m    165\u001b[0m \u001b[38;5;66;03m# trials. Note that the behavior is undefined when constrained optimization without the\u001b[39;00m\n\u001b[0;32m    166\u001b[0m \u001b[38;5;66;03m# violation value in the best-valued trial.\u001b[39;00m\n\u001b[0;32m    167\u001b[0m constraints \u001b[38;5;241m=\u001b[39m best_trial\u001b[38;5;241m.\u001b[39msystem_attrs\u001b[38;5;241m.\u001b[39mget(_CONSTRAINTS_KEY)\n",
      "File \u001b[1;32mC:\\ProgramData\\anaconda3\\Lib\\site-packages\\optuna\\storages\\_in_memory.py:249\u001b[0m, in \u001b[0;36mInMemoryStorage.get_best_trial\u001b[1;34m(self, study_id)\u001b[0m\n\u001b[0;32m    246\u001b[0m best_trial_id \u001b[38;5;241m=\u001b[39m \u001b[38;5;28mself\u001b[39m\u001b[38;5;241m.\u001b[39m_studies[study_id]\u001b[38;5;241m.\u001b[39mbest_trial_id\n\u001b[0;32m    248\u001b[0m \u001b[38;5;28;01mif\u001b[39;00m best_trial_id \u001b[38;5;129;01mis\u001b[39;00m \u001b[38;5;28;01mNone\u001b[39;00m:\n\u001b[1;32m--> 249\u001b[0m     \u001b[38;5;28;01mraise\u001b[39;00m \u001b[38;5;167;01mValueError\u001b[39;00m(\u001b[38;5;124m\"\u001b[39m\u001b[38;5;124mNo trials are completed yet.\u001b[39m\u001b[38;5;124m\"\u001b[39m)\n\u001b[0;32m    250\u001b[0m \u001b[38;5;28;01melif\u001b[39;00m \u001b[38;5;28mlen\u001b[39m(\u001b[38;5;28mself\u001b[39m\u001b[38;5;241m.\u001b[39m_studies[study_id]\u001b[38;5;241m.\u001b[39mdirections) \u001b[38;5;241m>\u001b[39m \u001b[38;5;241m1\u001b[39m:\n\u001b[0;32m    251\u001b[0m     \u001b[38;5;28;01mraise\u001b[39;00m \u001b[38;5;167;01mRuntimeError\u001b[39;00m(\n\u001b[0;32m    252\u001b[0m         \u001b[38;5;124m\"\u001b[39m\u001b[38;5;124mBest trial can be obtained only for single-objective optimization.\u001b[39m\u001b[38;5;124m\"\u001b[39m\n\u001b[0;32m    253\u001b[0m     )\n",
      "\u001b[1;31mValueError\u001b[0m: No trials are completed yet."
     ]
    }
   ],
   "source": [
    "# Create a study and optimize\n",
    "study = optuna.create_study(direction='maximize')\n",
    "#study.optimize(objective, n_trials=1)  # Adjust the number of trials as needed\n",
    "\n",
    "# Output the best hyperparameters\n",
    "print(\"Best Parameters:\", study.best_params)\n",
    "print(\"Best F1-Score:\", study.best_value)\n",
    "print(\"Best Trial:\", study.best_trial)\n"
   ]
  },
  {
   "cell_type": "markdown",
   "id": "459bbfe6-a48f-4c25-b535-eced227d1671",
   "metadata": {},
   "source": [
    "### 7.1.2 MLFlow"
   ]
  },
  {
   "cell_type": "code",
   "execution_count": 88,
   "id": "5b9022d5-7ab2-49ed-b2f5-940d652f184d",
   "metadata": {},
   "outputs": [],
   "source": [
    "experiment_name = \"BTC_XGBoost_Optuna\"\n",
    "experiment = mlflow.get_experiment_by_name(experiment_name)\n",
    "if experiment is None: \n",
    "    mlflow.create_experiment(experiment_name)"
   ]
  },
  {
   "cell_type": "code",
   "execution_count": 89,
   "id": "62a73d0c-57dd-4635-8f9c-3697110b2dcd",
   "metadata": {},
   "outputs": [
    {
     "data": {
      "text/plain": [
       "<Experiment: artifact_location='file:///C:/Users/valch/OneDrive/Desktop/03.Machine%20Learning-September-2024/Exam/02.Exam-Project/01.Repo/Algorithmic-Trading-Bot/Notebook/mlruns/683265721719547756', creation_time=1732646850521, experiment_id='683265721719547756', last_update_time=1732646850521, lifecycle_stage='active', name='BTC_XGBoost_Optuna', tags={}>"
      ]
     },
     "execution_count": 89,
     "metadata": {},
     "output_type": "execute_result"
    }
   ],
   "source": [
    "mlflow.set_experiment(experiment_name)"
   ]
  },
  {
   "cell_type": "code",
   "execution_count": 90,
   "id": "681b5188-bc6a-48d7-a520-ff233fb2aaed",
   "metadata": {},
   "outputs": [
    {
     "name": "stderr",
     "output_type": "stream",
     "text": [
      "[I 2024-11-26 19:47:32,748] A new study created in memory with name: no-name-58c93ef2-b23f-469f-a9c6-09216e950f84\n",
      "[I 2024-11-26 19:48:06,884] Trial 0 finished with value: 0.9302441154321496 and parameters: {'max_depth': 4, 'learning_rate': 0.05526975923821381, 'n_estimators': 15, 'subsample': 0.7609950028254728, 'colsample_bytree': 0.8335032193487361}. Best is trial 0 with value: 0.9302441154321496.\n",
      "[I 2024-11-26 19:48:52,839] Trial 1 finished with value: 0.9517601823911453 and parameters: {'max_depth': 8, 'learning_rate': 0.03912624271735095, 'n_estimators': 18, 'subsample': 0.9291939609772408, 'colsample_bytree': 0.9445125030474352}. Best is trial 1 with value: 0.9517601823911453.\n",
      "[I 2024-11-26 19:49:35,997] Trial 2 finished with value: 0.9673932788850454 and parameters: {'max_depth': 8, 'learning_rate': 0.15048930513062858, 'n_estimators': 15, 'subsample': 0.9861631768372155, 'colsample_bytree': 0.7292935856355963}. Best is trial 2 with value: 0.9673932788850454.\n"
     ]
    },
    {
     "name": "stdout",
     "output_type": "stream",
     "text": [
      "Best Parameters: {'max_depth': 8, 'learning_rate': 0.15048930513062858, 'n_estimators': 15, 'subsample': 0.9861631768372155, 'colsample_bytree': 0.7292935856355963}\n",
      "Best F1-Score: 0.9673932788850454\n",
      "Best Trial: FrozenTrial(number=2, state=1, values=[0.9673932788850454], datetime_start=datetime.datetime(2024, 11, 26, 19, 48, 52, 840981), datetime_complete=datetime.datetime(2024, 11, 26, 19, 49, 35, 996902), params={'max_depth': 8, 'learning_rate': 0.15048930513062858, 'n_estimators': 15, 'subsample': 0.9861631768372155, 'colsample_bytree': 0.7292935856355963}, user_attrs={}, system_attrs={}, intermediate_values={}, distributions={'max_depth': IntDistribution(high=10, log=False, low=3, step=1), 'learning_rate': FloatDistribution(high=0.2, log=True, low=0.01, step=None), 'n_estimators': IntDistribution(high=20, log=False, low=10, step=1), 'subsample': FloatDistribution(high=1.0, log=False, low=0.6, step=None), 'colsample_bytree': FloatDistribution(high=1.0, log=False, low=0.6, step=None)}, trial_id=2, value=None)\n"
     ]
    },
    {
     "name": "stderr",
     "output_type": "stream",
     "text": [
      "C:\\ProgramData\\anaconda3\\Lib\\site-packages\\sklearn\\metrics\\_classification.py:1531: UndefinedMetricWarning:\n",
      "\n",
      "Precision is ill-defined and being set to 0.0 in labels with no predicted samples. Use `zero_division` parameter to control this behavior.\n",
      "\n",
      "C:\\ProgramData\\anaconda3\\Lib\\site-packages\\sklearn\\metrics\\_classification.py:1531: UndefinedMetricWarning:\n",
      "\n",
      "Precision is ill-defined and being set to 0.0 in labels with no predicted samples. Use `zero_division` parameter to control this behavior.\n",
      "\n",
      "C:\\ProgramData\\anaconda3\\Lib\\site-packages\\sklearn\\metrics\\_classification.py:1531: UndefinedMetricWarning:\n",
      "\n",
      "Precision is ill-defined and being set to 0.0 in labels with no predicted samples. Use `zero_division` parameter to control this behavior.\n",
      "\n",
      "C:\\ProgramData\\anaconda3\\Lib\\site-packages\\sklearn\\metrics\\_classification.py:1531: UndefinedMetricWarning:\n",
      "\n",
      "Precision is ill-defined and being set to 0.0 in labels with no predicted samples. Use `zero_division` parameter to control this behavior.\n",
      "\n",
      "C:\\ProgramData\\anaconda3\\Lib\\site-packages\\sklearn\\metrics\\_classification.py:1531: UndefinedMetricWarning:\n",
      "\n",
      "Precision is ill-defined and being set to 0.0 in labels with no predicted samples. Use `zero_division` parameter to control this behavior.\n",
      "\n",
      "C:\\ProgramData\\anaconda3\\Lib\\site-packages\\sklearn\\metrics\\_classification.py:1531: UndefinedMetricWarning:\n",
      "\n",
      "Precision is ill-defined and being set to 0.0 in labels with no predicted samples. Use `zero_division` parameter to control this behavior.\n",
      "\n"
     ]
    },
    {
     "name": "stdout",
     "output_type": "stream",
     "text": [
      "classification_train_report:                precision    recall  f1-score   support\n",
      "\n",
      "           0       0.99      1.00      1.00    420626\n",
      "           1       0.00      0.00      0.00      1040\n",
      "           2       0.00      0.00      0.00      1194\n",
      "\n",
      "    accuracy                           0.99    422860\n",
      "   macro avg       0.33      0.33      0.33    422860\n",
      "weighted avg       0.99      0.99      0.99    422860\n",
      "\n",
      "classification_test_report:                precision    recall  f1-score   support\n",
      "\n",
      "           0       0.99      1.00      1.00    105186\n",
      "           1       0.00      0.00      0.00       265\n",
      "           2       0.00      0.00      0.00       264\n",
      "\n",
      "    accuracy                           0.99    105715\n",
      "   macro avg       0.33      0.33      0.33    105715\n",
      "weighted avg       0.99      0.99      0.99    105715\n",
      "\n"
     ]
    }
   ],
   "source": [
    "with mlflow.start_run(run_name = \"BTC_XGBoost_Optuna_SMOTE - test flow\"):\n",
    "    mlflow.log_param(\"train size\", len(attributes_train))\n",
    "    mlflow.log_param(\"test size\", len(attributes_test))\n",
    "\n",
    "    # Create a Optuna study and optimize\n",
    "    study = optuna.create_study(direction='maximize')\n",
    "    study.optimize(objective, n_trials=3)  # Adjust the number of trials as needed\n",
    "\n",
    "    # Save Optuna visualizations as artifacts\n",
    "    optimization_history_plot = vis.plot_optimization_history(study)\n",
    "    param_importance_plot = vis.plot_param_importances(study)\n",
    "    \n",
    "    # Save visualizations to files\n",
    "    optimization_history_plot.write_html(\"optimization_history.html\")\n",
    "    param_importance_plot.write_html(\"param_importances.html\")\n",
    "\n",
    "    # Log visualization artifacts to MLflow\n",
    "    mlflow.log_artifact(\"optimization_history.html\")\n",
    "    mlflow.log_artifact(\"param_importances.html\")\n",
    "\n",
    "    mlflow.log_params(study.best_params)\n",
    "    mlflow.log_metric(\"best_F1-score\", study.best_value)\n",
    "\n",
    "    # Output the best hyperparameters\n",
    "    print(\"Best Parameters:\", study.best_params)\n",
    "    print(\"Best F1-Score:\", study.best_value)\n",
    "    print(\"Best Trial:\", study.best_trial)\n",
    "\n",
    "    # Train best model\n",
    "    model_xgb = XGBClassifier(**study.best_params)\n",
    "    model_xgb.fit(attributes_train, target_train)\n",
    "\n",
    "    # Validate\n",
    "    target_train_pred = model_xgb.predict(attributes_train)\n",
    "    classification_train_report = classification_report(target_train, target_train_pred)\n",
    "\n",
    "    target_test_pred = model_xgb.predict(attributes_test)\n",
    "    classification_test_report = classification_report(target_test, target_test_pred)\n",
    "   \n",
    "    print(\"classification_train_report: \", classification_train_report)\n",
    "    print(\"classification_test_report: \", classification_test_report)\n",
    "\n",
    "    # Log metrics\n",
    "    mlflow.log_metric(\"train_accuracy\", model_xgb.score(attributes_train, target_train))\n",
    "    mlflow.log_metric(\"test_accuracy\", model_xgb.score(attributes_test, target_test))\n",
    "\n",
    "    with open(\"train_report.txt\",  \"w\") as f:\n",
    "        f.write(classification_train_report)\n",
    "    with open(\"test_report.txt\",  \"w\") as f:\n",
    "        f.write(classification_test_report)\n",
    "        \n",
    "    pickle.dump(model_xgb, open(\"model_xgb.pkl\", \"wb\"))\n",
    "\n",
    "    # Log artifacts to MLflow\n",
    "    mlflow.log_artifact(\"model_xgb.pkl\")\n",
    "    mlflow.log_artifact(\"train_report.txt\")\n",
    "    mlflow.log_artifact(\"test_report.txt\")"
   ]
  },
  {
   "cell_type": "code",
   "execution_count": null,
   "id": "8a9f2cc2-0e37-4d56-97f2-f1778c7bf408",
   "metadata": {},
   "outputs": [],
   "source": []
  },
  {
   "cell_type": "markdown",
   "id": "7b3079bd-9cd3-4c92-b695-f15142a24b35",
   "metadata": {},
   "source": [
    "#### 7.1.3. Train the Final Model with Best Parameters"
   ]
  },
  {
   "cell_type": "markdown",
   "id": "d3046011-44b8-4866-92a3-6f8c4dac2f33",
   "metadata": {},
   "source": [
    "Once the study is complete, use the best parameters to train the model on the entire training dataset:"
   ]
  },
  {
   "cell_type": "code",
   "execution_count": null,
   "id": "56c3e5d0-e9b7-495f-809e-d5368beb2d4a",
   "metadata": {},
   "outputs": [],
   "source": [
    "# Retrieve the best hyperparameters\n",
    "best_params = study.best_params\n",
    "\n",
    "# Train the model on the full training set\n",
    "final_model = XGBClassifier(\n",
    "    objective='multi:softmax',\n",
    "    num_class=3,\n",
    "    eval_metric='mlogloss',\n",
    "    **best_params\n",
    ")\n",
    "\n",
    "# Apply SMOTE\n",
    "attributes_train_smote, target_train_smote = smote.fit_resample(attributes_train, target_train)\n",
    "\n",
    "# Train the final model\n",
    "final_model.fit(attributes_train_smote, target_train_smote)\n",
    "\n",
    "# Evaluate on the test set\n",
    "target_test_pred = final_model.predict(attributes_test)\n",
    "print(classification_report(target_test, target_test_pred))"
   ]
  },
  {
   "cell_type": "markdown",
   "id": "1f3990ca-03ac-4c7a-8b17-70b266229ab0",
   "metadata": {},
   "source": [
    "#### 7.1.4. Visualize the Study"
   ]
  },
  {
   "cell_type": "code",
   "execution_count": null,
   "id": "fed34dc8-5e98-4e7d-a448-32e32c1ca0d8",
   "metadata": {},
   "outputs": [],
   "source": [
    "# Visualize parameter importance\n",
    "optuna.visualization.plot_param_importances(study).show()\n",
    "\n",
    "# Visualize optimization history\n",
    "optuna.visualization.plot_optimization_history(study).show()\n",
    "\n",
    "# Visualize hyperparameter values\n",
    "optuna.visualization.plot_parallel_coordinate(study).show()\n"
   ]
  },
  {
   "cell_type": "markdown",
   "id": "69f878cf-ca46-478a-a002-0e762d812ffd",
   "metadata": {},
   "source": []
  },
  {
   "cell_type": "markdown",
   "id": "7347ad89-9cd4-46dc-bcfa-3aef8b3c9984",
   "metadata": {},
   "source": [
    "### 7.3. GridSearchCV"
   ]
  },
  {
   "cell_type": "markdown",
   "id": "c7790ea7-b791-4631-9137-6a668a5b268d",
   "metadata": {},
   "source": [
    "##### GridSearchCV"
   ]
  },
  {
   "cell_type": "code",
   "execution_count": null,
   "id": "bf97f057-97b3-4cd2-ab51-491d805cd72c",
   "metadata": {},
   "outputs": [],
   "source": [
    "param_grid = {\n",
    "    'max_depth': [3, 5, 7],\n",
    "    'learning_rate': [0.01, 0.05, 0.1],\n",
    "    'n_estimators': [100, 300],\n",
    "    # 'n_estimators': [100, 300, 500],\n",
    "    'subsample': [0.6, 0.8, 1.0],\n",
    "    'colsample_bytree': [0.6, 0.8, 1.0],\n",
    "    'scale_pos_weight': [1, 10, 50]\n",
    "}\n",
    "\n",
    "grid_search = GridSearchCV(\n",
    "    estimator=XGBClassifier(objective='multi:softmax', num_class=3, eval_metric='mlogloss', random_state=42),\n",
    "    param_grid=param_grid,\n",
    "    scoring='f1_weighted',  # Use an appropriate scoring metric\n",
    "    cv=tscv,                # Use TimeSeriesSplit\n",
    "    verbose=4,\n",
    "    n_jobs=9\n",
    ")\n",
    "\n",
    "# grid_search.fit(attributes_train_smote, target_train_smote)\n",
    "# print(\"Best Parameters:\", grid_search.best_params_)\n",
    "\n",
    "# Output best parameters and score\n",
    "print(\"Best parameters:\", grid_search.best_params_)\n",
    "print(\"Best accuracy:\", grid_search.best_score_)\n",
    "\n",
    "# Evaluate on test set\n",
    "best_model = grid_search.best_estimator_\n",
    "test_score = best_model.score(attributes_test, target_test)\n",
    "print(\"Test set accuracy:\", test_score)"
   ]
  }
 ],
 "metadata": {
  "kernelspec": {
   "display_name": "Python 3 (ipykernel)",
   "language": "python",
   "name": "python3"
  },
  "language_info": {
   "codemirror_mode": {
    "name": "ipython",
    "version": 3
   },
   "file_extension": ".py",
   "mimetype": "text/x-python",
   "name": "python",
   "nbconvert_exporter": "python",
   "pygments_lexer": "ipython3",
   "version": "3.11.9"
  }
 },
 "nbformat": 4,
 "nbformat_minor": 5
}
