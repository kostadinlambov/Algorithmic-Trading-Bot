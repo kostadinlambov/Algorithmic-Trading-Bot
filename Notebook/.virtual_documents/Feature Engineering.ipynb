import numpy as np
import pandas as pd
import matplotlib.pyplot as plt

from statsmodels.tsa.seasonal import STL, seasonal_decompose
from statsmodels.graphics.tsaplots import plot_acf, plot_pacf
from scipy.signal import periodogram





btc_price_data_1_year = pd.read_csv("data/bitcoin_historical_data_1_year.csv")
btc_price_data_1_year.timestamp = pd.to_datetime(btc_price_data_1_year.timestamp)
btc_price_data_1_year.date = pd.to_datetime(btc_price_data_1_year.date)
btc_price_data_1_year


btc_price_data_1_year.columns











STL(btc_price_data_1_year.close, period = 24).config


seasonal_decompose(btc_price_data_1_year.close, period = 24).plot()


seasonal_decompose(btc_price_data_1_year.close, period = 24).trend.head(20)


# 24h * 30 Days
seasonal_decompose(btc_price_data_1_year.close, period = 24 * 30).plot()


seasonal_decompose(btc_price_data_1_year.close, period = 24 * 30).trend.head(20)





frequencies, power = periodogram(btc_price_data_1_year.close, fs = len(btc_price_data_1_year))
# frequencies, power = periodogram(x, fs=1.0, window='boxcar', nfft=None, detrend='constant', return_onesided=True, scaling='density', axis=-1)



# plt.plot(frequencies, power)
# plt.plot(1/frequencies[1:10000], power[1:10000])
plt.plot(frequencies[:100], power[:100])
# plt.semilogy(frequencies, power)

plt.xlabel("Frequency [Hz]")
plt.ylabel("PSD [Power/Hz]")
plt.title("Power Spectral Density(PSD) of the 'close' column")
plt.show()





import numpy as np

# Convert frequency to periods in days
f, Pxx = frequencies[1:], power[1:]

periods = 1 * 24 / f
weekly_period = (periods > 6 * 24) & (periods < 8 * 24)  # Focus on weekly cycles

# Highlight weekly cycles
plt.semilogy(f, Pxx, label='Periodogram')
plt.semilogy(f[weekly_period], Pxx[weekly_period], 'r.', label='Weekly Cycles')
plt.title('BTC Price Periodogram with Weekly Peaks Highlighted')
plt.xlabel('Frequency (1/day)')
plt.ylabel('PSD (Power/Hz)')
plt.legend()
plt.show()



import numpy as np
from scipy.signal import periodogram
import matplotlib.pyplot as plt

# Example hourly BTC closing prices (replace with actual data)
# Assume `btc_hourly['close']` contains the closing prices.
# fs = 1  # Sampling frequency is 1/hour
fs = len(btc_price_data_1_year)  # Sampling frequency is 1/hour

# Compute periodogram
f, Pxx = periodogram(btc_price_data_1_year['close'], fs)

f, Pxx = f[1:], Pxx[1:]

# Convert frequency to periods (in hours and days)
period_hours = 1 / f
period_days = period_hours / 24

# Plot Periodogram
plt.figure(figsize=(10, 6))
plt.semilogy(period_hours, Pxx, label='Periodogram')
plt.axvline(x=24, color='r', linestyle='--', label='Daily Period (24 hours)')
plt.axvline(x=168, color='g', linestyle='--', label='Weekly Period (168 hours)')
plt.title('BTC Price Periodogram (Hourly Data)')
plt.xlabel('Period (Hours)')
plt.ylabel('Power Spectral Density (PSD)')
plt.legend()
plt.grid()
plt.show()



# Highlight daily and weekly periods
daily_period = (period_hours > 20) & (period_hours < 28)  # Around 24 hours
weekly_period = (period_hours > 160) & (period_hours < 176)  # Around 168 hours

plt.figure(figsize=(10, 6))
plt.semilogy(period_hours, Pxx, label='Periodogram')
plt.semilogy(period_hours[daily_period], Pxx[daily_period], 'r.', label='Daily Cycle')
# plt.semilogy(period_hours[weekly_period], Pxx[weekly_period], 'g.', label='Weekly Cycle')
plt.title('BTC Price Periodogram with Key Cycles Highlighted')
plt.xlabel('Period (Hours)')
plt.ylabel('Power Spectral Density (PSD)')
plt.legend()
plt.grid()
plt.show()



import numpy as np
from scipy.signal import periodogram
import matplotlib.pyplot as plt

# Example signal: sine wave + noise
fs = 1000  # Sampling frequency (Hz)
t = np.linspace(0, 1, fs, endpoint=False)
x = np.sin(2 * np.pi * 50 * t) + 0.5 * np.random.normal(size=t.shape)

# Compute periodogram
f, Pxx = periodogram(x, fs)

# Plot
plt.semilogy(f, Pxx)
plt.title('Periodogram')
plt.xlabel('Frequency (Hz)')
plt.ylabel('PSD (Power/Hz)')
plt.show()






# # ACF plot
# plot_acf(btc_price_data_1_year['close'], lags=4)
# plt.show()

# # PACF plot
# plot_pacf(btc_price_data_1_year['close'], lags=4)
# plt.show()


#btc_price_data_1_year.target.shift(1)


# Autocorrelation - correlation with the same (shifted) feature 
#btc_price_data_1_year.target.corr(btc_price_data_1_year.target.shift(1).fillna(0))


# Autocorrelation - correlation with the same (un-shifted) feature 
#btc_price_data_1_year.target.corr(btc_price_data_1_year.target.shift(0).fillna(0))


plot_acf(btc_price_data_1_year.close, lags = 40)


# Ако автокорелацията е много голяма изпозваме partial autocorrelation
# Коефициентите на корелация, които са в синята област са незначителни за модела. В тази област p-value е твърде малко/незначително. 
# Корелациите в тази област могат да бъдат и случайни
plot_pacf(btc_price_data_1_year.close, lags = 40)
plt.ylim(-0.010, 0.010)
plt.show()


import numpy as np
import matplotlib.pyplot as plt
from statsmodels.tsa.stattools import pacf

# Example data (replace with your time series)
#data = np.random.randn(100)
data = btc_price_data_1_year['close']

# Calculate PACF
pacf_values = pacf(data, nlags=80)  # Choose number of lags you want

# Calculate the confidence interval (for 95% confidence)
conf_int = 1.96 / np.sqrt(len(data))  # The 95% confidence interval

# Get significant lags (values outside the confidence interval)
significant_lags = np.where(np.abs(pacf_values) > conf_int)[0]

# Print the significant lags
print("Significant Lags:", significant_lags)

#Optional: Plot PACF with significant lags marked
plt.stem(pacf_values)
plt.axhline(y=conf_int, color='r', linestyle='--')
plt.axhline(y=-conf_int, color='r', linestyle='--')
plt.ylim(-0.010, 0.010)
plt.title("PACF with Significant Lags")
plt.show()









from statsmodels.graphics.tsaplots import plot_acf, plot_pacf
import matplotlib.pyplot as plt

# # ACF plot
# plot_acf(btc_price_data_1_year['close'], lags=3)
# plt.show()

# # PACF plot
# plot_pacf(btc_price_data_1_year['close'], lags=3)
# plt.show()



import pandas as pd

def generate_features(df, target_column, lag_features, rolling_windows, ema_spans):
    # Lag Features
    for lag in lag_features:
        df[f'lag_{lag}'] = df[target_column].shift(lag)
    
    # Rolling Features
    for window in rolling_windows:
        df[f'rolling_mean_{window}'] = df[target_column].rolling(window=window).mean()
        df[f'rolling_std_{window}'] = df[target_column].rolling(window=window).std()
    
    # EMA Features
    for span in ema_spans:
        df[f'ema_{span}'] = df[target_column].ewm(span=span, adjust=False).mean()
    
    # Drop NaNs
    df.dropna(inplace=True)
    return df



lag_features = [1, 7, 30]
rolling_windows = [7, 30]
ema_spans = [12, 26]

df = generate_features(btc_price_data_1_year, target_column='close', lag_features=lag_features, rolling_windows=rolling_windows, ema_spans=ema_spans)
df


# Calculate autocorrelation for specific lags
significant_lags = {}
for lag in range(1, 1000):  # Check lags 1 to 40
    autocorr = btc_price_data_1_year['close'].autocorr(lag=lag)
    significant_lags[lag] = autocorr

# Filter lags with significant autocorrelation
threshold = 1.96 / (len(df) ** 0.5)
important_lags = {lag: autocorr for lag, autocorr in significant_lags.items() if abs(autocorr) > threshold}

print("Significant Lags and Autocorrelations:", important_lags)



from statsmodels.graphics.tsaplots import plot_acf
import matplotlib.pyplot as plt

# Ensure 'close' column is treated as the target variable
target_column = 'close'

# Generate the ACF plot for 'close' prices
plt.figure(figsize=(10, 6))
plot_acf(df[target_column], lags=40)  # Analyze up to 40 lags
plt.title('Autocorrelation Function (ACF) for Close Prices')
plt.xlabel('Lag')
plt.ylabel('Autocorrelation')
plt.grid()
plt.show()



from statsmodels.graphics.tsaplots import plot_pacf
import matplotlib.pyplot as plt

# Ensure 'close' column is treated as the target variable
target_column = 'close'

# Generate the ACF plot for 'close' prices
plt.figure(figsize=(10, 6))
plot_acf(df[target_column], lags=40)  # Analyze up to 40 lags
plt.title('Autocorrelation Function (PACF) for Close Prices')
plt.xlabel('Lag')
plt.ylabel('Autocorrelation')
plt.grid()
plt.show()


# import pandas as pd
# import numpy as np
# #from statsmodels.stats.diagnostic import acf
# from statsmodels.tsa.stattools import acf
# import matplotlib.pyplot as plt
# from scipy import stats

# def analyze_autocorrelation(data, lags=40, alpha=0.05):
#     """
#     Analyze autocorrelation in time series data and identify significant lags.
    
#     Parameters:
#     -----------
#     data : pandas.Series or array-like
#         The time series data to analyze (Bitcoin closing prices)
#     lags : int, default=40
#         Number of lags to analyze
#     alpha : float, default=0.05
#         Significance level for confidence intervals
    
#     Returns:
#     --------
#     tuple: (significant_lags, acf_values, confidence_intervals)
#     """
#     # Calculate ACF values and confidence intervals
#     acf_values = acf(data, nlags=lags, fft=False)
    
#     # Calculate confidence intervals
#     # For 95% confidence interval, use 1.96 (assuming normal distribution)
#     conf_int = stats.norm.ppf(1 - alpha/2) / np.sqrt(len(data))
#     confidence_intervals = np.array([-conf_int, conf_int])
    
#     # Find significant lags (excluding lag 0)
#     significant_lags = []
#     for i in range(1, len(acf_values)):
#         if abs(acf_values[i]) > conf_int:
#             significant_lags.append({
#                 'lag': i,
#                 'correlation': acf_values[i],
#                 'significance': abs(acf_values[i]) / conf_int
#             })
    
#     # Sort significant lags by absolute correlation value
#     significant_lags = sorted(significant_lags, 
#                             key=lambda x: abs(x['correlation']), 
#                             reverse=True)
    
#     # Create visualization
#     plt.figure(figsize=(12, 6))
#     plt.bar(range(lags + 1), acf_values, alpha=0.5, color='blue')
#     plt.axhline(y=0, color='black', linestyle='-', alpha=0.3)
#     plt.axhline(y=conf_int, color='red', linestyle='--', alpha=0.5)
#     plt.axhline(y=-conf_int, color='red', linestyle='--', alpha=0.5)
#     plt.title('Autocorrelation Function with Confidence Intervals')
#     plt.xlabel('Lag')
#     plt.ylabel('Correlation')
#     plt.grid(True, alpha=0.3)
#     plt.tight_layout()
    
#     return significant_lags, acf_values, confidence_intervals

# def print_significant_lags(significant_lags):
#     """
#     Print a formatted summary of significant lags.
#     """
#     print("\nSignificant Lags Summary:")
#     print("-" * 60)
#     print(f"{'Lag':^10} {'Correlation':^15} {'Significance Level':^20}")
#     print("-" * 60)
    
#     for lag_info in significant_lags:
#         print(f"{lag_info['lag']:^10} {lag_info['correlation']:^15.3f} {lag_info['significance']:^20.2f}")


# analyze_autocorrelation(btc_price_data_1_year)


import numpy as np
import pandas as pd
#from statsmodels.stats.diagnostic import pacf
from statsmodels.tsa.stattools import pacf
import matplotlib.pyplot as plt
from scipy import stats

def analyze_significant_pacf_lags(data, lags=40, alpha=0.05):
    """
    Analyze partial autocorrelation and identify significant lags.
    
    Parameters:
    -----------
    data : pandas.Series or array-like
        The time series data to analyze
    lags : int, default=40
        Number of lags to analyze
    alpha : float, default=0.05
        Significance level for confidence intervals
    
    Returns:
    --------
    dict: Dictionary containing significant lags and their correlations
    """
    # Calculate PACF values
    pacf_values = pacf(data, nlags=lags, method='ols')
    
    # Calculate confidence intervals
    conf_int = stats.norm.ppf(1 - alpha/2) / np.sqrt(len(data))
    
    # Find significant lags (excluding lag 0)
    significant_lags = []
    for i in range(1, len(pacf_values)):
        if abs(pacf_values[i]) > conf_int:
            significant_lags.append({
                'lag': i,
                'correlation': pacf_values[i],
                'significance': abs(pacf_values[i]) / conf_int
            })
    
    # Sort by absolute correlation value
    significant_lags = sorted(significant_lags, 
                            key=lambda x: abs(x['correlation']), 
                            reverse=True)
    
    # Visualize PACF with confidence intervals
    plt.figure(figsize=(12, 6))
    plt.bar(range(lags + 1), pacf_values, alpha=0.5, color='blue')
    plt.axhline(y=0, color='black', linestyle='-', alpha=0.3)
    plt.axhline(y=conf_int, color='red', linestyle='--', alpha=0.5, 
                label=f'{(1-alpha)*100}% Confidence Interval')
    plt.axhline(y=-conf_int, color='red', linestyle='--', alpha=0.5)
    plt.title('Partial Autocorrelation Function with Confidence Intervals')
    plt.xlabel('Lag')
    plt.ylabel('Partial Correlation')
    plt.grid(True, alpha=0.3)
    plt.legend()
    plt.tight_layout()
    
    return {
        'significant_lags': significant_lags,
        'pacf_values': pacf_values,
        'confidence_interval': conf_int
    }

def print_significant_pacf_lags(results):
    """
    Print a formatted summary of significant PACF lags.
    
    Parameters:
    -----------
    results : dict
        Results dictionary from analyze_significant_pacf_lags
    """
    significant_lags = results['significant_lags']
    
    if not significant_lags:
        print("\nNo significant lags found.")
        return
        
    print("\nSignificant PACF Lags Summary:")
    print("-" * 60)
    print(f"{'Lag':^10} {'Correlation':^15} {'Significance Level':^20}")
    print("-" * 60)
    
    for lag_info in significant_lags:
        print(f"{lag_info['lag']:^10} {lag_info['correlation']:^15.3f} "
              f"{lag_info['significance']:^20.2f}")


# Assuming you have your data in a pandas Series called 'data'
#results = analyze_significant_pacf_lags(btc_price_data_1_year)
#print_significant_pacf_lags(results)


import numpy as np
import matplotlib.pyplot as plt
from statsmodels.tsa.stattools import pacf

# Example data (replace with your time series)
#data = np.random.randn(100)
data = btc_price_data_1_year['close']
# data = data['open', 'high', 'low', 'close', 'volume',
#        'lag_1', 'lag_7', 'lag_30', 'rolling_mean_7', 'rolling_std_7',
#        'rolling_mean_30', 'rolling_std_30', 'ema_12', 'ema_26']
# Calculate PACF
pacf_values = pacf(data, nlags=80)  # Choose number of lags you want

# Calculate the confidence interval (for 95% confidence)
conf_int = 1.96 / np.sqrt(len(data))  # The 95% confidence interval

# Get significant lags (values outside the confidence interval)
significant_lags = np.where(np.abs(pacf_values) > conf_int)[0]

# Print the significant lags
print("Significant Lags:", significant_lags)

# Optional: Plot PACF with significant lags marked
# plt.stem(pacf_values, use_line_collection=True)
# plt.axhline(y=conf_int, color='r', linestyle='--')
# plt.axhline(y=-conf_int, color='r', linestyle='--')
# plt.title("PACF with Significant Lags")
# plt.show()



lags = 40
# Calculate PACF
pacf_values = pacf(btc_price_data_1_year['close'], nlags=lags)

# Calculate the confidence interval
conf_int = 1.96 / np.sqrt(len(btc_price_data_1_year['close']))  # The 95% confidence interval

# Get significant lags (values outside the confidence interval)
significant_lags = np.where(np.abs(pacf_values) > conf_int)[0]

# Print the significant lags
print("Significant Lags:", significant_lags)

plot_pacf(btc_price_data_1_year.close, lags = lags)
plt.ylim(-0.010, 0.010)

plt.xlabel('Lag')
plt.ylabel('Partial autocorrelation coefficient')
plt.title('PACF with Significant Lags for \'close\' Price')
plt.show()



