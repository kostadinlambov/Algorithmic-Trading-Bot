import numpy as np
import pandas as pd

# install pandas_ta - https://github.com/twopirllc/pandas-ta
import pandas_ta as ta

import matplotlib.pyplot as plt

from sklearn.linear_model import LogisticRegression, SGDClassifier





























btc_price_data_1_year = pd.read_csv("data/bitcoin_historical_data_1_year.csv")
btc_price_data_1_year


btc_price_data_1_year.describe().T


btc_price_data_1_year.dtypes


btc_price_data_1_year.isnull().sum()











btc_price_data_1_year.timestamp = pd.to_datetime(btc_price_data_1_year.timestamp)
btc_price_data_1_year.date = pd.to_datetime(btc_price_data_1_year.date)
# btc_price_data_1_year.time = pd.to_datetime(btc_price_data_1_year.time, format='%H:%M:%S').dt.time

btc_price_data_1_year.dtypes


btc_price_data_1_year


btc_price_data_1_year.dtypes





def create_target_variable(data, threshold = 0.01):
    """
    Computes and sets the 'target' variable from the input 'data' and 'threshold'.
    Creates a 'target' column with the computed values in the 'data' DataFrame.

    Parameters
    ----------
    data: a DataFrame with the time series data. There must be a column named 'close'! 
          This column will be used by the user to calculate the 'target' variable.
    
    threshold: threshold for the price change to classify as 'buy' or 'sell'. For instance, if you want a 1% increase to be a 'buy' signal,
               the threshold will be 0.01. Adjust this threshold as per your strategy.
    """
    # Create a copy of the DataFrame
    data_copy = data.copy(deep=True)
    
    # Compute the percentage change between the current close price and the close price in the next period.
    # This will help define whether there’s a significant increase or decrease.
    data_copy['future_return'] = ((data_copy['close'].shift(-1) - data_copy['close']) / data_copy['close']) * 100

    # Define the target as 1 (buy) if the future return is above the threshold, and 0 (sell) if it is below or equal to the threshold.
    data_copy['target'] = (data_copy['future_return'] > threshold).astype(float)

    # The last row in your dataset will have a NaN value for 'future_return' due to the shift operation. Drop this row to clean up the dataset.
    data_copy = data_copy.dropna()

    # Check the balance of 1s and 0s in our target variable to understand how many “buy” and “sell” signals we have.
    print(data_copy['target'].value_counts())

    return data_copy


# Define the threshold for the price change to classify as 'buy' or 'sell'. For instance, if we want a 1% increase to be a 'buy' signal,
# the threshold will be 0.01.
threshold = 0.01

# Compute the 'target' variable
btc_price_data_1_year = create_target_variable(btc_price_data_1_year, threshold)


btc_price_data_1_year.head(10)








btc_price_data_1_year.columns








def calculate_macd(data, short_window=12, long_window=26, signal_window=9):
    data['EMA12'] = data['close'].ewm(span=short_window, adjust=False).mean()
    data['EMA26'] = data['close'].ewm(span=long_window, adjust=False).mean()
    
    # MACD Line
    data['MACD'] = data['EMA12'] - btc_price_data_1_year['EMA26']
    
    # Signal Line
    data['Signal_Line'] = data['MACD'].ewm(span=signal_window, adjust=False).mean()
    
    return data


# Assuming 'data' is a DataFrame with a 'Close' price column
btc_price_data_1_year = calculate_macd(btc_price_data_1_year)
btc_price_data_1_year[['close', 'MACD', 'Signal_Line']]


btc_price_data_1_year.head(10)





# Install pandas_ta if not already installed
# !pip install pandas_ta

import pandas as pd
import pandas_ta as ta

# Assuming 'data' is a DataFrame with a 'Close' price column
btc_price_data_1_year['RSI'] = ta.rsi(btc_price_data_1_year['close'], length=14)
# btc_price_data_1_year['MACD'], btc_price_data_1_year['Signal_Line'], _ = ta.macd(btc_price_data_1_year['close'], fast=12, slow=26, signal=9)
btc_price_data_1_year['SMA'] = ta.sma(btc_price_data_1_year['close'], length=20)
btc_price_data_1_year['EMA'] = ta.ema(btc_price_data_1_year['close'], length=20)

# print(btc_price_data_1_year[['close', 'RSI','SMA', 'EMA']])
print(btc_price_data_1_year[['close', 'RSI', 'MACD', 'Signal_Line', 'SMA', 'EMA']])



btc_price_data_1_year


btc_price_data_1_year.shape


btc_price_data_1_year.dtypes





btc_price_data_1_year.isnull().sum()















