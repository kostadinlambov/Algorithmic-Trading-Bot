import numpy as np
import pandas as pd
import matplotlib.pyplot as plt





def apply_trading_strategy(df, start_money):
    """
    Изчислява резултатите на база trading стратегия.
    
    Параметри:
        df (pd.DataFrame): DataFrame със следните колони: ['timestamp', 'close', 'target'].
        start_money (float): Начална сума.
    
    Резултат:
        pd.DataFrame: Оригиналният DataFrame с нова колона 'result'.
    """
    # Копираме стартовата сума в променлива
    current_money = start_money
    
    # Функция, която се прилага върху всеки ред
    def calculate_result(row):
        nonlocal current_money  # Позволява използване на променливата от външния обхват
        if row['target'] == 1:
            current_money *= row['close']
        elif row['target'] == -1:
            current_money /= row['close']
        return current_money

    # Прилагаме функцията върху всеки ред и създаваме нова колона 'result'
    df['result'] = df.apply(calculate_result, axis=1)
    return df

# Примерен DataFrame
data = {
    'timestamp': ['2024-11-01 12:00:00', '2024-11-01 12:01:00', '2024-11-01 12:02:00'],
    'close': [10, 20, 30],
    'target': [1, -1, 1]
}
df = pd.DataFrame(data)

# Начална стойност
start_money = 1000

# Приложение на функцията
df = apply_trading_strategy(df, start_money)

print(df)




