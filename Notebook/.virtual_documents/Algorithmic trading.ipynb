import numpy as np
import pandas as pd

# install pandas_ta - https://github.com/twopirllc/pandas-ta
import pandas_ta as ta

import matplotlib.pyplot as plt

from sklearn.linear_model import LogisticRegression, SGDClassifier





























btc_price_data_1_year = pd.read_csv("data/bitcoin_historical_data_1_year.csv")
btc_price_data_1_year


btc_price_data_1_year.describe().T


btc_price_data_1_year.dtypes


btc_price_data_1_year.isnull().sum()














btc_price_data_1_year.timestamp = pd.to_datetime(btc_price_data_1_year.timestamp)
btc_price_data_1_year.date = pd.to_datetime(btc_price_data_1_year.date)
# btc_price_data_1_year.time = pd.to_datetime(btc_price_data_1_year.time, format='%H:%M:%S').dt.time

btc_price_data_1_year.dtypes


btc_price_data_1_year


btc_price_data_1_year.dtypes





btc_price_data_1_year.columns








def calculate_macd(data, short_window=12, long_window=26, signal_window=9):
    btc_price_data_1_year['EMA12'] = btc_price_data_1_year['close'].ewm(span=short_window, adjust=False).mean()
    btc_price_data_1_year['EMA26'] = btc_price_data_1_year['close'].ewm(span=long_window, adjust=False).mean()
    
    # MACD Line
    btc_price_data_1_year['MACD'] = btc_price_data_1_year['EMA12'] - btc_price_data_1_year['EMA26']
    
    # Signal Line
    btc_price_data_1_year['Signal_Line'] = btc_price_data_1_year['MACD'].ewm(span=signal_window, adjust=False).mean()
    
    return data

# Assuming 'data' is a DataFrame with a 'Close' price column
data = calculate_macd(btc_price_data_1_year)
print(data[['close', 'MACD', 'Signal_Line']])



btc_price_data_1_year





# Install pandas_ta if not already installed
# !pip install pandas_ta

import pandas as pd
import pandas_ta as ta

# Assuming 'data' is a DataFrame with a 'Close' price column
btc_price_data_1_year['RSI'] = ta.rsi(btc_price_data_1_year['close'], length=14)
# btc_price_data_1_year['MACD'], btc_price_data_1_year['Signal_Line'], _ = ta.macd(btc_price_data_1_year['close'], fast=12, slow=26, signal=9)
btc_price_data_1_year['SMA'] = ta.sma(btc_price_data_1_year['close'], length=20)
btc_price_data_1_year['EMA'] = ta.ema(btc_price_data_1_year['close'], length=20)

# print(btc_price_data_1_year[['close', 'RSI','SMA', 'EMA']])
print(btc_price_data_1_year[['close', 'RSI', 'MACD', 'Signal_Line', 'SMA', 'EMA']])



btc_price_data_1_year












