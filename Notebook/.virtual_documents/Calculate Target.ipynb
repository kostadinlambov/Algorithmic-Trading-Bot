import numpy as np
import pandas as pd
import matplotlib.pyplot as plt





btc_price_data_1_year = pd.read_csv("data/bitcoin_historical_data_1_year.csv")
btc_price_data_1_year








def create_target_variable(data, threshold = 0.01):
    """
    Computes and sets the 'target' variable from the input 'data' and 'threshold'.
    Creates a 'target' column with the computed values in the 'data' DataFrame.

    Parameters
    ----------
    data: a DataFrame with the time series data. There must be a column named 'close'! 
          This column will be used by the user to calculate the 'target' variable.
    
    threshold: threshold for the price change to classify as 'buy' or 'sell'. For instance, if you want a 1% increase to be a 'buy' signal,
               the threshold will be 0.01. Adjust this threshold as per your strategy.
    """
    # Create a copy of the DataFrame
    data_copy = data.copy(deep=True)
    
    # Compute the percentage change between the current close price and the close price in the next period.
    # This will help define whether there’s a significant increase or decrease.
    data_copy['future_return'] = ((data_copy['close'].shift(-1) - data_copy['close']) / data_copy['close']) * 100

    # Define the target as 1 (buy) if the future return is above the threshold, and 0 (sell) if it is below or equal to the threshold.
    data_copy['target'] = (data_copy['future_return'] > threshold).astype(int)

    # The last row in your dataset will have a NaN value for 'future_return' due to the shift operation. Drop this row to clean up the dataset.
    data_copy = data_copy.dropna()

    # Check the balance of 1s and 0s in our target variable to understand how many “buy” and “sell” signals we have.
    print(data_copy['target'].value_counts())

    return data_copy


# Define the threshold for the price change to classify as 'buy' or 'sell'. For instance, if we want a 1% increase to be a 'buy' signal,
# the threshold will be 0.01.
threshold = 0.01

# Compute the 'target' variable
btc_price_data_1_year_target = create_target_variable(btc_price_data_1_year, threshold)


btc_price_data_1_year.head()


btc_price_data_1_year_target.head()











btc_price_data_1_year['future_return'] = ((btc_price_data_1_year['close'].shift(-1) - btc_price_data_1_year['close']) / btc_price_data_1_year['close']) * 100


btc_price_data_1_year





# For 1% increase to be a “buy” signal, the threshold will be 0.01
threshold = 0.01





btc_price_data_1_year['target'] = (btc_price_data_1_year['future_return'] > threshold).astype(int)
btc_price_data_1_year


btc_price_data_1_year[btc_price_data_1_year.target == 1].head(10)


print("Count buy signals:", len(btc_price_data_1_year[btc_price_data_1_year.target == 1]))
print("Count sell signals:", len(btc_price_data_1_year[btc_price_data_1_year.target == 0]))





btc_price_data_1_year = btc_price_data_1_year.dropna()
btc_price_data_1_year





btc_price_data_1_year['target'].value_counts()


btc_price_data_1_year.head()


btc_price_data_1_year_target.head()








def calculate_rsi(data, window=14):
    """
    RSI is a momentum oscillator that measures the speed and change of price movements, typically over a 14-period interval.
    Assuming 'data' is a DataFrame with a 'close' price column

    Parameters
    ----------
    data:   a DataFrame with the time series data. A column with the name 'close' must be present in the DataFrame! 
            This column is used to calculate the 'RSI' value.
    window: the time period that is taken into account when calculating the 'RSI'
    """
    delta = data['close'].diff(1)
    gain = delta.where(delta > 0, 0)
    loss = -delta.where(delta < 0, 0)
    
    avg_gain = gain.rolling(window=window, min_periods=1).mean()
    avg_loss = loss.rolling(window=window, min_periods=1).mean()

    rs = avg_gain / avg_loss
    rsi = 100 - (100 / (1 + rs))
    data['RSI'] = rsi
    
    return data


def calculate_macd(data, short_window=12, long_window=26, signal_window=9):
    """
    MACD is calculated using two exponential moving averages (EMA): the 12-day EMA and the 26-day EMA,
    with a 9-day EMA as the signal line.
    
    """
    data['EMA12'] = data['close'].ewm(span=short_window, adjust=False).mean()
    data['EMA26'] = data['close'].ewm(span=long_window, adjust=False).mean()
    
    # MACD Line
    data['MACD'] = data['EMA12'] - data['EMA26']
    
    # Signal Line
    data['Signal_Line'] = data['MACD'].ewm(span=signal_window, adjust=False).mean()
    
    return data


def calculate_moving_averages(data, sma_window=20, ema_window=20):
    """
    Simple Moving Average (SMA) is the average price over a specified number of periods, 
    while Exponential Moving Average (EMA) gives more weight to recent prices.
    
    """
    # Simple Moving Average
    data['SMA'] = data['close'].rolling(window=sma_window).mean()
    
    # Exponential Moving Average
    data['EMA'] = data['close'].ewm(span=ema_window, adjust=False).mean()
    
    return data


# Calculate RSI
btc_price_data_1_year = calculate_rsi(btc_price_data_1_year)
print(btc_price_data_1_year[['close', 'RSI']])

# Calculate MACD
btc_price_data_1_year = calculate_macd(btc_price_data_1_year)
print(btc_price_data_1_year[['close', 'MACD', 'Signal_Line']])

# Calculate moving averages
btc_price_data_1_year = calculate_moving_averages(btc_price_data_1_year)
print(btc_price_data_1_year[['close', 'SMA', 'EMA']])





def create_target_variable_tech_indicators(data, price_threshold = 0.01):
    """
    Computes and sets the 'target' variable from the input 'data' and 'threshold'.
    Creates a 'target' column with the computed values in the 'data' DataFrame.

    Parameters
    ----------
    data: a DataFrame with the time series data. There must be a column named 'close'! 
          This column will be used by the user to calculate the 'target' variable.
    
    threshold: threshold for the price change to classify as 'buy' or 'sell'. For instance, if you want a 1% increase to be a 'buy' signal,
               the threshold will be 0.01. Adjust this threshold as per your strategy.
    """
    # Create a copy of the DataFrame
    data_copy = data.copy(deep=True)
    
    # Compute the percentage change between the current close price and the close price in the next period.
    # This will help define whether there’s a significant increase or decrease.
    data_copy['future_return'] = ((data_copy['close'].shift(-1) - data_copy['close']) / data_copy['close']) * 100


    # Define Buy and Sell Signals 'MACD'
    # df['buy_signal'] = (df['MACD'] > df['Signal_Line']) & (df['MACD'].shift(1) <= df['Signal_Line'].shift(1))
    # df['sell_signal'] = (df['MACD'] < df['Signal_Line']) & (df['MACD'].shift(1) >= df['Signal_Line'].shift(1))

    # Define Buy and Sell Signals SMA
    # df['buy_signal'] = (data_copy['close'] > data_copy['SMA']) & (data_copy['close'].shift(1) <= data_copy['SMA'].shift(1))
    # df['sell_signal'] = (data_copy['close'] < data_copy['SMA']) & (data_copy['close'].shift(1) >= data_copy['SMA'].shift(1))
    
    # Use the technical indicators to add more conditions to the target:
    # - RSI: A Relative Strength Index (RSI) value below 30 often indicates an oversold condition, which might suggest a buying opportunity.
    # - MACD: A positive MACD value (i.e., MACD > Signal Line) can suggest an uptrend.
    # - SMA/EMA: If the current price is above the SMA or EMA, it may indicate an upward trend.
    data_copy['buy_signal'] = (
        (data_copy['future_return'] > price_threshold) &
        #(data_copy['RSI'] < 30) &                     # Example condition for RSI
        (data_copy['RSI'] < 40) &                     # Example condition for RSI
        
        #(data_copy['MACD'] > data_copy['Signal_Line']) &      # Example condition for MACD
        ((data_copy['MACD'] > data_copy['Signal_Line']) & (data_copy['MACD'].shift(1) <= data_copy['Signal_Line'].shift(1))) & # buy_signal for MACD
        
        #(data_copy['close'] > data_copy['SMA']) &             # Price Crossover Signal: SMA
        #(data_copy['close'] > data_copy['EMA']) &             # Price Crossover Signal: EMA
        #(data_copy['EMA12'] > data_copy['EMA26']) &             # Moving Average Crossover Signal
        
        #(data_copy['close'] > data_copy['SMA']) & (data_copy['EMA12'] > data_copy['EMA26']) & # Combined Price and Moving Average Signal
        #(data_copy['EMA'].diff() > 0)  &                       # Moving Average Slope Signal

        ((data_copy['close'] > data_copy['SMA']) & (data_copy['close'].shift(1) <= data_copy['SMA'].shift(1)))
    )

    data_copy['sell_signal'] = (
        (data_copy['future_return'] < - price_threshold) &
        #(data_copy['RSI'] < 30) &                     # Example condition for RSI
        (data_copy['RSI'] > 60) &                     # Example condition for RSI
        #(data_copy['MACD'] > data_copy['Signal_Line']) &      # Example condition for MACD
        
        #(data_copy['close'] > data_copy['SMA']) &             # Price Crossover Signal: SMA
        # (data_copy['close'] > data_copy['EMA'])             # Price Crossover Signal: EMA
        #(data_copy['EMA12'] > data_copy['EMA26']) &             # Moving Average Crossover Signal
        #(data_copy['close'] < data_copy['SMA']) & (data_copy['EMA12'] < data_copy['EMA26']) & # Combined Price and Moving Average Signal
        #(data_copy['EMA'].diff() < 0)                        # Moving Average Slope Signal

        (data_copy['MACD'] < data_copy['Signal_Line']) & (data_copy['MACD'].shift(1) >= data_copy['Signal_Line'].shift(1)) & # MACD sell signal
        
        (data_copy['close'] < data_copy['SMA']) & (data_copy['close'].shift(1) >= data_copy['SMA'].shift(1)) # SMA sell signal
    )

    # Define the target as 1 (buy) if all conditions are met, and 0 (sell) if they are not. 
    # Convert `buy_signal` to an integer for binary classification.
    data_copy['target'] = data_copy['buy_signal'].astype(int)

    # The last row in your dataset will have a NaN value for 'future_return' due to the shift operation. Drop this row to clean up the dataset.
    data_copy = data_copy.dropna()

    # Check the balance of 1s and 0s in our target variable to understand how many “buy” and “sell” signals we have.
    print(data_copy['target'].value_counts())
    print(data_copy['sell_signal'].value_counts())

    return data_copy


# Define the threshold for the price change to classify as 'buy' or 'sell'. For instance, if we want a 1% increase to be a 'buy' signal,
# the threshold will be 0.01.
threshold = 0.01

# Compute the 'target' variable
btc_price_data_1_year_target = create_target_variable_tech_indicators(btc_price_data_1_year, threshold)


btc_price_data_1_year_target[btc_price_data_1_year_target.target == 1]


btc_price_data_1_year_target[btc_price_data_1_year_target.sell_signal == 1]


btc_price_data_1_year_target.head()
























